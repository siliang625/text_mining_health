{
 "cells": [
  {
   "cell_type": "code",
   "execution_count": 253,
   "metadata": {
    "colab": {
     "base_uri": "https://localhost:8080/",
     "height": 51
    },
    "colab_type": "code",
    "id": "CO7waclD3H__",
    "outputId": "8bee57bd-6eea-4886-db0c-12ab5b2ce7d4"
   },
   "outputs": [
    {
     "name": "stdout",
     "output_type": "stream",
     "text": [
      "Requirement already satisfied: BeautifulSoup4 in /home/ec2-user/anaconda3/envs/python3/lib/python3.6/site-packages (4.6.0)\n",
      "Requirement already satisfied: lxml in /home/ec2-user/anaconda3/envs/python3/lib/python3.6/site-packages (4.2.1)\n",
      "Requirement already satisfied: fastprogress in /home/ec2-user/anaconda3/envs/python3/lib/python3.6/site-packages (0.2.3)\n"
     ]
    }
   ],
   "source": [
    "# !pip install BeautifulSoup4\n",
    "# !pip install lxml\n",
    "# !pip install fastprogress  #tqdm"
   ]
  },
  {
   "cell_type": "code",
   "execution_count": 261,
   "metadata": {
    "colab": {},
    "colab_type": "code",
    "id": "bM63Jrh_3IAJ"
   },
   "outputs": [],
   "source": [
    "%matplotlib inline\n",
    "import os\n",
    "import numpy as np\n",
    "import pandas as pd\n",
    "import matplotlib.pyplot as plt\n",
    "import sys\n",
    "np.set_printoptions(threshold=80, edgeitems=50)\n",
    "from bs4 import BeautifulSoup\n",
    "from collections import namedtuple\n",
    "import codecs\n",
    "import re\n",
    "import time\n",
    "import json\n",
    "import requests\n",
    "from urllib.request import urlopen\n",
    "import pandas as pd\n",
    "from fastprogress.fastprogress import master_bar, progress_bar"
   ]
  },
  {
   "cell_type": "code",
   "execution_count": 199,
   "metadata": {},
   "outputs": [],
   "source": [
    "import logging\n",
    "logger = logging.getLogger(\"Parsing_Data\")\n",
    "logger.setLevel(logging.DEBUG)\n"
   ]
  },
  {
   "cell_type": "code",
   "execution_count": 249,
   "metadata": {},
   "outputs": [],
   "source": [
    "# global variables\n",
    "base_url = \"https://eutils.ncbi.nlm.nih.gov/entrez/eutils/\"\n",
    "search_url = \"esearch.fcgi?db=pmc\"\n",
    "fetch_url = \"efetch.fcgi?db=pmc\"\n",
    "\n",
    "return_size = 10\n",
    "\n",
    "from collections import defaultdict\n",
    "term_ids_mapping = defaultdict(list)  # {key_term: [list of article ids]}\n",
    "id_paper_mapping = {}      # {id: {abstract: abstract_text, meta: authors; text: txt_file_name}}"
   ]
  },
  {
   "cell_type": "markdown",
   "metadata": {
    "colab_type": "text",
    "id": "K2rlXq6S-r5h"
   },
   "source": [
    "# key words:"
   ]
  },
  {
   "cell_type": "markdown",
   "metadata": {},
   "source": [
    "Loading in key words"
   ]
  },
  {
   "cell_type": "code",
   "execution_count": 12,
   "metadata": {},
   "outputs": [
    {
     "data": {
      "text/html": [
       "<div>\n",
       "<style scoped>\n",
       "    .dataframe tbody tr th:only-of-type {\n",
       "        vertical-align: middle;\n",
       "    }\n",
       "\n",
       "    .dataframe tbody tr th {\n",
       "        vertical-align: top;\n",
       "    }\n",
       "\n",
       "    .dataframe thead th {\n",
       "        text-align: right;\n",
       "    }\n",
       "</style>\n",
       "<table border=\"1\" class=\"dataframe\">\n",
       "  <thead>\n",
       "    <tr style=\"text-align: right;\">\n",
       "      <th></th>\n",
       "      <th>0</th>\n",
       "      <th>1</th>\n",
       "    </tr>\n",
       "  </thead>\n",
       "  <tbody>\n",
       "    <tr>\n",
       "      <th>0</th>\n",
       "      <td>mhealth or m-health</td>\n",
       "      <td>public health</td>\n",
       "    </tr>\n",
       "    <tr>\n",
       "      <th>1</th>\n",
       "      <td>ehealth or e-health</td>\n",
       "      <td>health promotion</td>\n",
       "    </tr>\n",
       "    <tr>\n",
       "      <th>2</th>\n",
       "      <td>virtual health</td>\n",
       "      <td>health prevention</td>\n",
       "    </tr>\n",
       "    <tr>\n",
       "      <th>3</th>\n",
       "      <td>mobile health</td>\n",
       "      <td>health protection</td>\n",
       "    </tr>\n",
       "    <tr>\n",
       "      <th>4</th>\n",
       "      <td>online health</td>\n",
       "      <td>health policy</td>\n",
       "    </tr>\n",
       "    <tr>\n",
       "      <th>5</th>\n",
       "      <td>internet-based health</td>\n",
       "      <td>health determinants</td>\n",
       "    </tr>\n",
       "    <tr>\n",
       "      <th>6</th>\n",
       "      <td>computer-based health</td>\n",
       "      <td>health evaluation</td>\n",
       "    </tr>\n",
       "    <tr>\n",
       "      <th>7</th>\n",
       "      <td>health informatics</td>\n",
       "      <td>health economics</td>\n",
       "    </tr>\n",
       "    <tr>\n",
       "      <th>8</th>\n",
       "      <td>social media</td>\n",
       "      <td>public health ethics</td>\n",
       "    </tr>\n",
       "    <tr>\n",
       "      <th>9</th>\n",
       "      <td>predictive algorithms</td>\n",
       "      <td>risk assessment</td>\n",
       "    </tr>\n",
       "    <tr>\n",
       "      <th>10</th>\n",
       "      <td>artificial intelligence</td>\n",
       "      <td>epidemiology</td>\n",
       "    </tr>\n",
       "    <tr>\n",
       "      <th>11</th>\n",
       "      <td>machine learning methods</td>\n",
       "      <td>community health</td>\n",
       "    </tr>\n",
       "    <tr>\n",
       "      <th>12</th>\n",
       "      <td>big data</td>\n",
       "      <td>emergency preparedness</td>\n",
       "    </tr>\n",
       "    <tr>\n",
       "      <th>13</th>\n",
       "      <td>electronic health</td>\n",
       "      <td>emergency response</td>\n",
       "    </tr>\n",
       "    <tr>\n",
       "      <th>14</th>\n",
       "      <td>web*</td>\n",
       "      <td>health equity</td>\n",
       "    </tr>\n",
       "    <tr>\n",
       "      <th>15</th>\n",
       "      <td>digit*</td>\n",
       "      <td>social justice</td>\n",
       "    </tr>\n",
       "    <tr>\n",
       "      <th>16</th>\n",
       "      <td>telemedicine</td>\n",
       "      <td>social determinants</td>\n",
       "    </tr>\n",
       "    <tr>\n",
       "      <th>17</th>\n",
       "      <td>NaN</td>\n",
       "      <td>surveillance</td>\n",
       "    </tr>\n",
       "  </tbody>\n",
       "</table>\n",
       "</div>"
      ],
      "text/plain": [
       "                           0                       1\n",
       "0        mhealth or m-health           public health\n",
       "1        ehealth or e-health        health promotion\n",
       "2            virtual health        health prevention\n",
       "3             mobile health        health protection\n",
       "4              online health           health policy\n",
       "5      internet-based health     health determinants\n",
       "6      computer-based health       health evaluation\n",
       "7         health informatics        health economics\n",
       "8               social media    public health ethics\n",
       "9      predictive algorithms         risk assessment\n",
       "10   artificial intelligence            epidemiology\n",
       "11  machine learning methods        community health\n",
       "12                  big data  emergency preparedness\n",
       "13         electronic health      emergency response\n",
       "14                      web*           health equity\n",
       "15                    digit*          social justice\n",
       "16              telemedicine     social determinants\n",
       "17                       NaN            surveillance"
      ]
     },
     "execution_count": 12,
     "metadata": {},
     "output_type": "execute_result"
    }
   ],
   "source": [
    "path = \"./search_term_1.csv\"\n",
    "search_terms_df = pd.read_csv(path, header=None)\n",
    "search_terms_df"
   ]
  },
  {
   "cell_type": "code",
   "execution_count": 15,
   "metadata": {},
   "outputs": [],
   "source": [
    "search_terms_c1 = search_terms_df.iloc[:,0]\n",
    "search_terms_c2 = search_terms_df.iloc[:,1]"
   ]
  },
  {
   "cell_type": "code",
   "execution_count": 37,
   "metadata": {},
   "outputs": [
    {
     "name": "stdout",
     "output_type": "stream",
     "text": [
      "mhealth or m-health\n",
      "ehealth or e-health\n",
      "virtual health \n",
      "mobile health \n",
      "online health\n",
      "internet-based health\n",
      "computer-based health\n",
      "health informatics\n",
      "social media\n",
      "predictive algorithms\n",
      "artificial intelligence\n",
      "machine learning methods\n",
      "big data\n",
      "electronic health\n",
      "web*\n",
      "digit*\n",
      "telemedicine\n",
      "nan\n"
     ]
    }
   ],
   "source": [
    "for each in search_terms_c1:\n",
    "    logger.debug(each)"
   ]
  },
  {
   "cell_type": "code",
   "execution_count": 209,
   "metadata": {},
   "outputs": [],
   "source": [
    "def extract_ids(term, return_size):\n",
    "    '''\n",
    "    TODO: signature \n",
    "    '''\n",
    "    logger.debug(\"current term is: {}\".format(term))\n",
    "    \n",
    "    query_term = \"&term=\" + term.replace(\" \", \"+\")\n",
    "    \n",
    "    ret_max_term = \"&RetMax=\" + str(return_size)\n",
    "    \n",
    "    base_url_key_word = base_url + search_url + query_term + ret_max_term\n",
    "    # base_url_key_word\n",
    "    \n",
    "    page_kw = urlopen(base_url_key_word)\n",
    "    soup_kw = BeautifulSoup(page_kw, \"xml\")\n",
    "    \n",
    "    # get text form of everything in the xml file\n",
    "    # soup_kw.get_text()\n",
    "    \n",
    "    total_id_amount = soup_kw.find('Count').text\n",
    "    #total_id_amount\n",
    "    \n",
    "    #TODO: might be duplicate ids \n",
    "    id_list = soup_kw.find_all('Id')\n",
    "    \n",
    "    return_ids = []\n",
    "    for each_id in id_list:\n",
    "        # print(each_id.text)\n",
    "        return_ids.append(each_id.text)\n",
    "        \n",
    "    return return_ids"
   ]
  },
  {
   "cell_type": "markdown",
   "metadata": {},
   "source": [
    "Lets extract all the related ids for each of the search term:"
   ]
  },
  {
   "cell_type": "code",
   "execution_count": 271,
   "metadata": {},
   "outputs": [
    {
     "data": {
      "text/html": [
       "\n",
       "    <div>\n",
       "        <style>\n",
       "            /* Turns off some styling */\n",
       "            progress {\n",
       "                /* gets rid of default border in Firefox and Opera. */\n",
       "                border: none;\n",
       "                /* Needs to be in here for Safari polyfill so background images work as expected. */\n",
       "                background-size: auto;\n",
       "            }\n",
       "            .progress-bar-interrupted, .progress-bar-interrupted::-webkit-progress-bar {\n",
       "                background: #F44336;\n",
       "            }\n",
       "        </style>\n",
       "      <progress value='18' class='' max='18' style='width:300px; height:20px; vertical-align: middle;'></progress>\n",
       "      100.00% [18/18 00:19<00:00]\n",
       "    </div>\n",
       "    "
      ],
      "text/plain": [
       "<IPython.core.display.HTML object>"
      ]
     },
     "metadata": {},
     "output_type": "display_data"
    },
    {
     "name": "stderr",
     "output_type": "stream",
     "text": [
      "DEBUG:Parsing_Data:current term is: public health\n",
      "DEBUG:Parsing_Data:current term is: health promotion\n",
      "DEBUG:Parsing_Data:current term is: health prevention\n",
      "DEBUG:Parsing_Data:current term is: health protection\n",
      "DEBUG:Parsing_Data:current term is: health policy\n",
      "DEBUG:Parsing_Data:current term is: health determinants\n",
      "DEBUG:Parsing_Data:current term is: health evaluation\n",
      "DEBUG:Parsing_Data:current term is: health economics\n",
      "DEBUG:Parsing_Data:current term is: public health ethics\n",
      "DEBUG:Parsing_Data:current term is: risk assessment\n",
      "DEBUG:Parsing_Data:current term is: epidemiology\n",
      "DEBUG:Parsing_Data:current term is: community health\n",
      "DEBUG:Parsing_Data:current term is: emergency preparedness\n",
      "DEBUG:Parsing_Data:current term is: emergency response\n",
      "DEBUG:Parsing_Data:current term is: health equity\n",
      "DEBUG:Parsing_Data:current term is: social justice\n",
      "DEBUG:Parsing_Data:current term is: social determinants\n",
      "DEBUG:Parsing_Data:current term is: surveillance\n",
      "DEBUG:Parsing_Data:term and corresponding ids are:\n",
      "DEBUG:Parsing_Data:defaultdict(<class 'list'>, {'virtual health ': ['7261605', '7253815', '7239681', '7237884', '7134530', '5983196', '5978955', '7260395', '7244556', '7244486', '7261605', '7253815', '7239681', '7237884', '7134530', '5983196', '5978955', '7260395', '7244556', '7244486', '7261605', '7253815', '7239681', '7237884', '7134530', '5983196', '5978955', '7260395', '7244556', '7244486'], 'mobile health ': ['7261474', '7261393', '7255016', '7255009', '7253131', '7237261', '7224515', '7156913', '5979819', '7261019', '7261474', '7261393', '7255016', '7255009', '7253131', '7237261', '7224515', '7156913', '5979819', '7261019', '7261474', '7261393', '7255016', '7255009', '7253131', '7237261', '7224515', '7156913', '5979819', '7261019'], 'online health': ['7261640', '7261491', '7261481', '7261409', '7261393', '7254989', '7254983', '7253815', '7253109', '7246331', '7261640', '7261491', '7261481', '7261409', '7261393', '7254989', '7254983', '7253815', '7253109', '7246331', '7261640', '7261491', '7261481', '7261409', '7261393', '7254989', '7254983', '7253815', '7253109', '7246331'], 'internet-based health': ['7261640', '7261393', '7244564', '7255994', '7255752', '7251770', '7251767', '7249268', '7233005', '7255160', '7261640', '7261393', '7244564', '7255994', '7255752', '7251770', '7251767', '7249268', '7233005', '7255160'], 'computer-based health': ['7257253', '7258840', '7256582', '7251770', '7251226', '7248676', '7243743', '7238574', '7237747', '7235424', '7257253', '7258840', '7256582', '7251770', '7251226', '7248676', '7243743', '7238574', '7237747', '7235424'], 'social media': ['7261593', '7257253', '7255001', '7253109', '7242915', '7237253', '7204445', '7191403', '5944882', '5944872', '7261593', '7257253', '7255001', '7253109', '7242915', '7237253', '7204445', '7191403', '5944882', '5944872'], 'artificial intelligence': ['7231614', '7261034', '7243575', '7242423', '7258604', '7258442', '7256608', '7256605', '7256597', '7256594', '7231614', '7261034', '7243575', '7242423', '7258604', '7258442', '7256608', '7256605', '7256597', '7256594'], 'machine learning methods': ['7261614', '7261610', '7255044', '7221346', '7134530', '7244726', '7244564', '7243831', '7243575', '7242472', '7261614', '7261610', '7255044', '7221346', '7134530', '7244726', '7244564', '7243831', '7243575', '7242472'], 'big data': ['7255027', '7254997', '7254996', '7254989', '7253817', '7246331', '7246192', '7242915', '7241060', '7244726', '7255027', '7254997', '7254996', '7254989', '7253817', '7246331', '7246192', '7242915', '7241060', '7244726'], 'electronic health': ['7261636', '7261499', '7261481', '7261474', '7261410', '7261406', '7256016', '7255487', '7255485', '7255086', '7261636', '7261499', '7261481', '7261474', '7261410', '7261406', '7256016', '7255487', '7255485', '7255086'], 'telemedicine': ['7258853', '7257356', '7256608', '7256529', '7256517', '7256486', '7256479', '7256347', '7256336', '7256333', '7258853', '7257356', '7256608', '7256529', '7256517', '7256486', '7256479', '7256347', '7256336', '7256333'], 'public health': ['7261640', '7261636', '7261601', '7261593', '7261491', '7261420', '7261410', '7261406', '7261395', '7261393', '7261640', '7261636', '7261601', '7261593', '7261491', '7261420', '7261410', '7261406', '7261395', '7261393'], 'health promotion': ['7261601', '7261420', '7255487', '7255464', '7255454', '7255042', '7254992', '7254989', '7253138', '7253131', '7261601', '7261420', '7255487', '7255464', '7255454', '7255042', '7254992', '7254989', '7253138', '7253131'], 'health prevention': ['7261640', '7261636', '7261611', '7261605', '7261603', '7261512', '7261499', '7261491', '7261420', '7261410', '7261640', '7261636', '7261611', '7261605', '7261603', '7261512', '7261499', '7261491', '7261420', '7261410'], 'health protection': ['7261636', '7257248', '7255487', '7255485', '7255455', '7255454', '7255451', '7255035', '7255029', '7255022', '7261636', '7257248', '7255487', '7255485', '7255455', '7255454', '7255451', '7255035', '7255029', '7255022'], 'health policy': ['7261640', '7261595', '7261395', '7255081', '7253143', '7253138', '7253129', '7246190', '7242915', '7233140', '7261640', '7261595', '7261395', '7255081', '7253143', '7253138', '7253129', '7246190', '7242915', '7233140'], 'health determinants': ['7261593', '7261474', '7255042', '7254992', '7254989', '7253124', '7166076', '5983196', '5983192', '5983157', '7261593', '7261474', '7255042', '7254992', '7254989', '7253124', '7166076', '5983196', '5983192', '5983157'], 'health evaluation': ['7261640', '7261636', '7261614', '7261611', '7261605', '7261603', '7261601', '7261593', '7261491', '7261481'], 'health economics': ['7261395', '7242915', '7242906', '7241060', '5944897', '5944872', '7243836', '7242457', '7258604', '7257813'], 'public health ethics': ['7256016', '7255042', '7254989', '7254983', '7253131', '7253129', '7246192', '7237258', '7204440', '7260995'], 'risk assessment': ['7261636', '7261593', '7261512', '7261491', '7261474', '7261410', '7261369', '7257253', '7257248', '7256016'], 'epidemiology': ['7261640', '7261636', '7261474', '7261395', '7261389', '7255463', '7255455', '7255451', '7255086', '7255085'], 'community health': ['7261640', '7261636', '7261601', '7261593', '7261512', '7261491', '7261420', '7261410', '7261406', '7261395'], 'emergency preparedness': ['7253094', '7258758', '7258754', '7258604', '7256496', '7256488', '7256487', '7256347', '7255988', '7255732'], 'emergency response': ['7261420', '7257253', '7255083', '7255072', '7255064', '7253124', '7253109', '7253105', '7253094', '7246184'], 'health equity': ['7253143', '7253101', '7166076', '5944899', '5944897', '7260040', '7259820', '7258800', '7258604', '7255635'], 'social justice': ['7242906', '7204440', '5944897', '5944882', '5944872', '7261143', '7259434', '7258604', '7255635', '7251767'], 'social determinants': ['7261593', '7253124', '7224519', '7166076', '5944899', '7259940', '7258800', '7257353', '7256553', '7256368'], 'surveillance': ['7261640', '7261636', '7261474', '7261410', '7261395', '7261389', '7255463', '7255455', '7255451', '7255086']})\n"
     ]
    }
   ],
   "source": [
    "from collections import defaultdict\n",
    "for cur_term in progress_bar(search_terms_c1):\n",
    "    # TODO: mhealth or m-health\n",
    "    # TODO: how to deal with regex&*\n",
    "    if cur_term is not None and not pd.isna(cur_term) and \"or\" not in cur_term and \"*\" not in cur_term:\n",
    "        id_list = extract_ids(cur_term, return_size)\n",
    "        term_ids_mapping[cur_term].extend(id_list)\n",
    "        time.sleep(1)\n",
    "        \n",
    "        \n",
    "for cur_term in progress_bar(search_terms_c2):\n",
    "    if cur_term is not None and not pd.isna(cur_term) and \"or\" not in cur_term and \"*\" not in cur_term:\n",
    "        id_list = extract_ids(cur_term, return_size)\n",
    "        term_ids_mapping[cur_term].extend(id_list)\n",
    "        time.sleep(1)\n",
    "        \n",
    "logger.debug(\"term and corresponding ids are:\")\n",
    "logger.debug(term_ids_mapping)"
   ]
  },
  {
   "cell_type": "markdown",
   "metadata": {},
   "source": [
    "Looks like there are overlap of related articles from some search terms"
   ]
  },
  {
   "cell_type": "markdown",
   "metadata": {
    "colab_type": "text",
    "id": "ZrfXBBNeMWnT"
   },
   "source": [
    "# article full information"
   ]
  },
  {
   "cell_type": "code",
   "execution_count": 117,
   "metadata": {},
   "outputs": [],
   "source": [
    "def get_title(soup):\n",
    "    title = soup.find('title-group')\n",
    "    article_title = title.find('article-title')\n",
    "    return article_title.text"
   ]
  },
  {
   "cell_type": "code",
   "execution_count": 263,
   "metadata": {},
   "outputs": [],
   "source": [
    "def get_authors(soup):\n",
    "    author_list = []\n",
    "    \n",
    "    contrib = soup.find('contrib-group')\n",
    "    if contrib is None:\n",
    "        return author_list\n",
    "    \n",
    "    authors = contrib.find_all('contrib', **{'contrib-type':\"author\"})\n",
    "    for author in authors:\n",
    "        name = author.find('name')\n",
    "        if name is not None:\n",
    "            author_list.append(' '.join([author.find('surname').text, author.find('given-names').text]))\n",
    "\n",
    "    return author_list\n"
   ]
  },
  {
   "cell_type": "code",
   "execution_count": 119,
   "metadata": {},
   "outputs": [],
   "source": [
    "def get_abstract(soup):\n",
    "    if soup.find(\"abstract\") is None:\n",
    "        return \"NaN\"\n",
    "    \n",
    "    return soup.find('abstract').text"
   ]
  },
  {
   "cell_type": "code",
   "execution_count": 216,
   "metadata": {},
   "outputs": [],
   "source": [
    "def get_content(paper_id, soup):\n",
    "    '''\n",
    "    write paper content to a txt file name as id.txt\n",
    "    '''\n",
    "    if soup.find(\"body\") is not None:\n",
    "        contrib = soup.find('body')\n",
    "        paragraphs = contrib.find_all('p')\n",
    "    else:\n",
    "        paragraphs = []\n",
    "\n",
    "    #save to a txt file\n",
    "    f = open(\"./full_content/{}_paper.txt\".format(paper_id), \"w+\") \n",
    "    for p in paragraphs:\n",
    "        #print(p.text)\n",
    "        f.write(p.text)\n",
    "    f.close()"
   ]
  },
  {
   "cell_type": "code",
   "execution_count": 62,
   "metadata": {},
   "outputs": [],
   "source": [
    "#!mkdir full_content"
   ]
  },
  {
   "cell_type": "code",
   "execution_count": 244,
   "metadata": {},
   "outputs": [],
   "source": [
    "def extract_rich_info(paper_id):\n",
    "    \n",
    "    query_id = \"&id=\" + str(paper_id)\n",
    "    base_url_content = base_url + fetch_url + query_id\n",
    "\n",
    "    page = urlopen(base_url_content)\n",
    "    logger.debug(base_url_content)\n",
    "    soup = BeautifulSoup(page, \"xml\")\n",
    "\n",
    "    # get text form of everything in the xml file\n",
    "    #soup.get_text()\n",
    "    \n",
    "    ## extract paper title\n",
    "    title = get_title(soup)\n",
    "    id_paper_mapping[paper_id] = dict()\n",
    "    id_paper_mapping[paper_id][\"title\"] = title\n",
    "    \n",
    "\n",
    "    ## extract paper author\n",
    "    authors = get_authors(soup)\n",
    "    id_paper_mapping[paper_id][\"authors\"] = authors\n",
    "    \n",
    "    \n",
    "    ## extract paper abstract\n",
    "    abstract = get_abstract(soup)\n",
    "    id_paper_mapping[paper_id][\"abstract\"] = abstract\n",
    "    \n",
    "    \n",
    "    ## extract paper content \n",
    "    get_content(paper_id, soup)\n",
    "\n",
    "    time.sleep(1)"
   ]
  },
  {
   "cell_type": "markdown",
   "metadata": {},
   "source": [
    "Let's extract the full information of all articles"
   ]
  },
  {
   "cell_type": "code",
   "execution_count": 272,
   "metadata": {
    "scrolled": true
   },
   "outputs": [
    {
     "data": {
      "text/html": [],
      "text/plain": [
       "<IPython.core.display.HTML object>"
      ]
     },
     "metadata": {},
     "output_type": "display_data"
    },
    {
     "name": "stderr",
     "output_type": "stream",
     "text": [
      "DEBUG:Parsing_Data:########7261601\n",
      "DEBUG:Parsing_Data:https://eutils.ncbi.nlm.nih.gov/entrez/eutils/efetch.fcgi?db=pmc&id=7261601\n",
      "DEBUG:Parsing_Data:########7261420\n",
      "DEBUG:Parsing_Data:https://eutils.ncbi.nlm.nih.gov/entrez/eutils/efetch.fcgi?db=pmc&id=7261420\n",
      "DEBUG:Parsing_Data:########7261395\n",
      "DEBUG:Parsing_Data:https://eutils.ncbi.nlm.nih.gov/entrez/eutils/efetch.fcgi?db=pmc&id=7261395\n",
      "DEBUG:Parsing_Data:########7255464\n",
      "DEBUG:Parsing_Data:https://eutils.ncbi.nlm.nih.gov/entrez/eutils/efetch.fcgi?db=pmc&id=7255464\n",
      "DEBUG:Parsing_Data:########7255454\n",
      "DEBUG:Parsing_Data:https://eutils.ncbi.nlm.nih.gov/entrez/eutils/efetch.fcgi?db=pmc&id=7255454\n",
      "DEBUG:Parsing_Data:########7255042\n",
      "DEBUG:Parsing_Data:https://eutils.ncbi.nlm.nih.gov/entrez/eutils/efetch.fcgi?db=pmc&id=7255042\n",
      "DEBUG:Parsing_Data:########7254992\n",
      "DEBUG:Parsing_Data:https://eutils.ncbi.nlm.nih.gov/entrez/eutils/efetch.fcgi?db=pmc&id=7254992\n",
      "DEBUG:Parsing_Data:########7253138\n",
      "DEBUG:Parsing_Data:https://eutils.ncbi.nlm.nih.gov/entrez/eutils/efetch.fcgi?db=pmc&id=7253138\n",
      "DEBUG:Parsing_Data:########7261611\n",
      "DEBUG:Parsing_Data:https://eutils.ncbi.nlm.nih.gov/entrez/eutils/efetch.fcgi?db=pmc&id=7261611\n",
      "DEBUG:Parsing_Data:########7261603\n",
      "DEBUG:Parsing_Data:https://eutils.ncbi.nlm.nih.gov/entrez/eutils/efetch.fcgi?db=pmc&id=7261603\n",
      "DEBUG:Parsing_Data:########7261512\n",
      "DEBUG:Parsing_Data:https://eutils.ncbi.nlm.nih.gov/entrez/eutils/efetch.fcgi?db=pmc&id=7261512\n",
      "DEBUG:Parsing_Data:########7257248\n",
      "DEBUG:Parsing_Data:https://eutils.ncbi.nlm.nih.gov/entrez/eutils/efetch.fcgi?db=pmc&id=7257248\n",
      "DEBUG:Parsing_Data:########7255455\n",
      "DEBUG:Parsing_Data:https://eutils.ncbi.nlm.nih.gov/entrez/eutils/efetch.fcgi?db=pmc&id=7255455\n",
      "DEBUG:Parsing_Data:########7255451\n",
      "DEBUG:Parsing_Data:https://eutils.ncbi.nlm.nih.gov/entrez/eutils/efetch.fcgi?db=pmc&id=7255451\n",
      "DEBUG:Parsing_Data:########7255035\n",
      "DEBUG:Parsing_Data:https://eutils.ncbi.nlm.nih.gov/entrez/eutils/efetch.fcgi?db=pmc&id=7255035\n",
      "DEBUG:Parsing_Data:########7255029\n",
      "DEBUG:Parsing_Data:https://eutils.ncbi.nlm.nih.gov/entrez/eutils/efetch.fcgi?db=pmc&id=7255029\n",
      "DEBUG:Parsing_Data:########7255022\n",
      "DEBUG:Parsing_Data:https://eutils.ncbi.nlm.nih.gov/entrez/eutils/efetch.fcgi?db=pmc&id=7255022\n",
      "DEBUG:Parsing_Data:########7261595\n",
      "DEBUG:Parsing_Data:https://eutils.ncbi.nlm.nih.gov/entrez/eutils/efetch.fcgi?db=pmc&id=7261595\n",
      "DEBUG:Parsing_Data:########7255081\n",
      "DEBUG:Parsing_Data:https://eutils.ncbi.nlm.nih.gov/entrez/eutils/efetch.fcgi?db=pmc&id=7255081\n",
      "DEBUG:Parsing_Data:########7253143\n",
      "DEBUG:Parsing_Data:https://eutils.ncbi.nlm.nih.gov/entrez/eutils/efetch.fcgi?db=pmc&id=7253143\n",
      "DEBUG:Parsing_Data:########7253129\n",
      "DEBUG:Parsing_Data:https://eutils.ncbi.nlm.nih.gov/entrez/eutils/efetch.fcgi?db=pmc&id=7253129\n",
      "DEBUG:Parsing_Data:########7246190\n",
      "DEBUG:Parsing_Data:https://eutils.ncbi.nlm.nih.gov/entrez/eutils/efetch.fcgi?db=pmc&id=7246190\n",
      "DEBUG:Parsing_Data:########7233140\n",
      "DEBUG:Parsing_Data:https://eutils.ncbi.nlm.nih.gov/entrez/eutils/efetch.fcgi?db=pmc&id=7233140\n",
      "DEBUG:Parsing_Data:########7253124\n",
      "DEBUG:Parsing_Data:https://eutils.ncbi.nlm.nih.gov/entrez/eutils/efetch.fcgi?db=pmc&id=7253124\n",
      "DEBUG:Parsing_Data:########7166076\n",
      "DEBUG:Parsing_Data:https://eutils.ncbi.nlm.nih.gov/entrez/eutils/efetch.fcgi?db=pmc&id=7166076\n",
      "DEBUG:Parsing_Data:########5983192\n",
      "DEBUG:Parsing_Data:https://eutils.ncbi.nlm.nih.gov/entrez/eutils/efetch.fcgi?db=pmc&id=5983192\n",
      "DEBUG:Parsing_Data:########5983157\n",
      "DEBUG:Parsing_Data:https://eutils.ncbi.nlm.nih.gov/entrez/eutils/efetch.fcgi?db=pmc&id=5983157\n",
      "DEBUG:Parsing_Data:########7242906\n",
      "DEBUG:Parsing_Data:https://eutils.ncbi.nlm.nih.gov/entrez/eutils/efetch.fcgi?db=pmc&id=7242906\n",
      "DEBUG:Parsing_Data:########5944897\n",
      "DEBUG:Parsing_Data:https://eutils.ncbi.nlm.nih.gov/entrez/eutils/efetch.fcgi?db=pmc&id=5944897\n",
      "DEBUG:Parsing_Data:########7243836\n",
      "DEBUG:Parsing_Data:https://eutils.ncbi.nlm.nih.gov/entrez/eutils/efetch.fcgi?db=pmc&id=7243836\n",
      "DEBUG:Parsing_Data:########7242457\n",
      "DEBUG:Parsing_Data:https://eutils.ncbi.nlm.nih.gov/entrez/eutils/efetch.fcgi?db=pmc&id=7242457\n",
      "DEBUG:Parsing_Data:########7257813\n",
      "DEBUG:Parsing_Data:https://eutils.ncbi.nlm.nih.gov/entrez/eutils/efetch.fcgi?db=pmc&id=7257813\n",
      "DEBUG:Parsing_Data:########7237258\n",
      "DEBUG:Parsing_Data:https://eutils.ncbi.nlm.nih.gov/entrez/eutils/efetch.fcgi?db=pmc&id=7237258\n",
      "DEBUG:Parsing_Data:########7204440\n",
      "DEBUG:Parsing_Data:https://eutils.ncbi.nlm.nih.gov/entrez/eutils/efetch.fcgi?db=pmc&id=7204440\n",
      "DEBUG:Parsing_Data:########7260995\n",
      "DEBUG:Parsing_Data:https://eutils.ncbi.nlm.nih.gov/entrez/eutils/efetch.fcgi?db=pmc&id=7260995\n",
      "DEBUG:Parsing_Data:########7261369\n",
      "DEBUG:Parsing_Data:https://eutils.ncbi.nlm.nih.gov/entrez/eutils/efetch.fcgi?db=pmc&id=7261369\n",
      "DEBUG:Parsing_Data:########7261389\n",
      "DEBUG:Parsing_Data:https://eutils.ncbi.nlm.nih.gov/entrez/eutils/efetch.fcgi?db=pmc&id=7261389\n",
      "DEBUG:Parsing_Data:########7255463\n",
      "DEBUG:Parsing_Data:https://eutils.ncbi.nlm.nih.gov/entrez/eutils/efetch.fcgi?db=pmc&id=7255463\n",
      "DEBUG:Parsing_Data:########7255085\n",
      "DEBUG:Parsing_Data:https://eutils.ncbi.nlm.nih.gov/entrez/eutils/efetch.fcgi?db=pmc&id=7255085\n",
      "DEBUG:Parsing_Data:########7253094\n",
      "DEBUG:Parsing_Data:https://eutils.ncbi.nlm.nih.gov/entrez/eutils/efetch.fcgi?db=pmc&id=7253094\n",
      "DEBUG:Parsing_Data:########7258758\n",
      "DEBUG:Parsing_Data:https://eutils.ncbi.nlm.nih.gov/entrez/eutils/efetch.fcgi?db=pmc&id=7258758\n",
      "DEBUG:Parsing_Data:########7258754\n",
      "DEBUG:Parsing_Data:https://eutils.ncbi.nlm.nih.gov/entrez/eutils/efetch.fcgi?db=pmc&id=7258754\n",
      "DEBUG:Parsing_Data:########7256496\n",
      "DEBUG:Parsing_Data:https://eutils.ncbi.nlm.nih.gov/entrez/eutils/efetch.fcgi?db=pmc&id=7256496\n",
      "DEBUG:Parsing_Data:########7256488\n",
      "DEBUG:Parsing_Data:https://eutils.ncbi.nlm.nih.gov/entrez/eutils/efetch.fcgi?db=pmc&id=7256488\n",
      "DEBUG:Parsing_Data:########7256487\n",
      "DEBUG:Parsing_Data:https://eutils.ncbi.nlm.nih.gov/entrez/eutils/efetch.fcgi?db=pmc&id=7256487\n",
      "DEBUG:Parsing_Data:########7255988\n",
      "DEBUG:Parsing_Data:https://eutils.ncbi.nlm.nih.gov/entrez/eutils/efetch.fcgi?db=pmc&id=7255988\n",
      "DEBUG:Parsing_Data:########7255732\n",
      "DEBUG:Parsing_Data:https://eutils.ncbi.nlm.nih.gov/entrez/eutils/efetch.fcgi?db=pmc&id=7255732\n",
      "DEBUG:Parsing_Data:########7255083\n",
      "DEBUG:Parsing_Data:https://eutils.ncbi.nlm.nih.gov/entrez/eutils/efetch.fcgi?db=pmc&id=7255083\n",
      "DEBUG:Parsing_Data:########7255072\n",
      "DEBUG:Parsing_Data:https://eutils.ncbi.nlm.nih.gov/entrez/eutils/efetch.fcgi?db=pmc&id=7255072\n",
      "DEBUG:Parsing_Data:########7255064\n",
      "DEBUG:Parsing_Data:https://eutils.ncbi.nlm.nih.gov/entrez/eutils/efetch.fcgi?db=pmc&id=7255064\n",
      "DEBUG:Parsing_Data:########7253105\n",
      "DEBUG:Parsing_Data:https://eutils.ncbi.nlm.nih.gov/entrez/eutils/efetch.fcgi?db=pmc&id=7253105\n",
      "DEBUG:Parsing_Data:########7246184\n",
      "DEBUG:Parsing_Data:https://eutils.ncbi.nlm.nih.gov/entrez/eutils/efetch.fcgi?db=pmc&id=7246184\n",
      "DEBUG:Parsing_Data:########7253101\n",
      "DEBUG:Parsing_Data:https://eutils.ncbi.nlm.nih.gov/entrez/eutils/efetch.fcgi?db=pmc&id=7253101\n",
      "DEBUG:Parsing_Data:########5944899\n",
      "DEBUG:Parsing_Data:https://eutils.ncbi.nlm.nih.gov/entrez/eutils/efetch.fcgi?db=pmc&id=5944899\n",
      "DEBUG:Parsing_Data:########7260040\n",
      "DEBUG:Parsing_Data:https://eutils.ncbi.nlm.nih.gov/entrez/eutils/efetch.fcgi?db=pmc&id=7260040\n",
      "DEBUG:Parsing_Data:########7259820\n",
      "DEBUG:Parsing_Data:https://eutils.ncbi.nlm.nih.gov/entrez/eutils/efetch.fcgi?db=pmc&id=7259820\n",
      "DEBUG:Parsing_Data:########7258800\n",
      "DEBUG:Parsing_Data:https://eutils.ncbi.nlm.nih.gov/entrez/eutils/efetch.fcgi?db=pmc&id=7258800\n",
      "DEBUG:Parsing_Data:########7255635\n",
      "DEBUG:Parsing_Data:https://eutils.ncbi.nlm.nih.gov/entrez/eutils/efetch.fcgi?db=pmc&id=7255635\n",
      "DEBUG:Parsing_Data:########7261143\n",
      "DEBUG:Parsing_Data:https://eutils.ncbi.nlm.nih.gov/entrez/eutils/efetch.fcgi?db=pmc&id=7261143\n",
      "DEBUG:Parsing_Data:########7259434\n",
      "DEBUG:Parsing_Data:https://eutils.ncbi.nlm.nih.gov/entrez/eutils/efetch.fcgi?db=pmc&id=7259434\n",
      "DEBUG:Parsing_Data:########7224519\n",
      "DEBUG:Parsing_Data:https://eutils.ncbi.nlm.nih.gov/entrez/eutils/efetch.fcgi?db=pmc&id=7224519\n",
      "DEBUG:Parsing_Data:########7259940\n",
      "DEBUG:Parsing_Data:https://eutils.ncbi.nlm.nih.gov/entrez/eutils/efetch.fcgi?db=pmc&id=7259940\n",
      "DEBUG:Parsing_Data:########7257353\n",
      "DEBUG:Parsing_Data:https://eutils.ncbi.nlm.nih.gov/entrez/eutils/efetch.fcgi?db=pmc&id=7257353\n",
      "DEBUG:Parsing_Data:########7256553\n",
      "DEBUG:Parsing_Data:https://eutils.ncbi.nlm.nih.gov/entrez/eutils/efetch.fcgi?db=pmc&id=7256553\n",
      "DEBUG:Parsing_Data:########7256368\n",
      "DEBUG:Parsing_Data:https://eutils.ncbi.nlm.nih.gov/entrez/eutils/efetch.fcgi?db=pmc&id=7256368\n"
     ]
    }
   ],
   "source": [
    "# term_ids_mapping  {key_term: [ids]}\n",
    "# for each search term, \n",
    "    # for each_id of related_ids: \n",
    "        # extrac_rich_info()\n",
    "\n",
    "mb = master_bar(term_ids_mapping.items())\n",
    "for key,value in mb:\n",
    "    for each_id in progress_bar(value, parent=mb):\n",
    "        if each_id in id_paper_mapping:\n",
    "            continue\n",
    "        logger.debug(\"########\" + each_id)\n",
    "        extract_rich_info(each_id)\n",
    "    \n",
    "#logger.debug(id_paper_mapping)\n"
   ]
  },
  {
   "cell_type": "code",
   "execution_count": 275,
   "metadata": {},
   "outputs": [
    {
     "data": {
      "text/plain": [
       "['Zhao Shengzhe', 'Yu Xujiang', 'Qian Yuna', 'Chen Wei', 'Shen Jianliang']"
      ]
     },
     "execution_count": 275,
     "metadata": {},
     "output_type": "execute_result"
    }
   ],
   "source": [
    "# test test\n",
    "id_paper_mapping[\"7255022\"][\"authors\"]"
   ]
  },
  {
   "cell_type": "markdown",
   "metadata": {
    "colab_type": "text",
    "id": "BKjzAIDyPyKb"
   },
   "source": [
    "# Conclusion\n",
    "\n",
    "- currently returnning 10 related related article_ids\n",
    "- how to treat sesarch terms, such as :\"mhealth or m-health\" and \"web*\"\n",
    "- script could be optimized to check overlap article ids from different search terms\n",
    "- the xml are not defined well by standard, eg:\n",
    "    -xml has no 'body' tag, xml only providing abstract, currently, this script put empty text to txt file\n",
    "        - https://eutils.ncbi.nlm.nih.gov/entrez/eutils/efetch.fcgi?db=pmc&id=6494757\n",
    "        - certain publisher (eg: American Public Health Association) <!--The publisher of this article does not allow downloading of the full text in XML form.-->\n",
    "    -xml has no 'author' tag, but it place the anthors under the 'body' tag...\n",
    "        - https://eutils.ncbi.nlm.nih.gov/entrez/eutils/efetch.fcgi?db=pmc&id=7256479\n",
    "        \n",
    "- adding applicaiton name and email as query search term, just in case...\n",
    "   "
   ]
  },
  {
   "cell_type": "markdown",
   "metadata": {
    "colab": {},
    "colab_type": "code",
    "id": "mkPmZy17Bsgc"
   },
   "source": [
    "## "
   ]
  }
 ],
 "metadata": {
  "colab": {
   "collapsed_sections": [],
   "name": "digital_public_health_v2.ipynb",
   "provenance": [],
   "toc_visible": true
  },
  "kernelspec": {
   "display_name": "conda_python3",
   "language": "python",
   "name": "conda_python3"
  },
  "language_info": {
   "codemirror_mode": {
    "name": "ipython",
    "version": 3
   },
   "file_extension": ".py",
   "mimetype": "text/x-python",
   "name": "python",
   "nbconvert_exporter": "python",
   "pygments_lexer": "ipython3",
   "version": "3.6.5"
  }
 },
 "nbformat": 4,
 "nbformat_minor": 1
}
