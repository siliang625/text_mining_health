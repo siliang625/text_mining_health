{
  "cells": [
    {
      "cell_type": "markdown",
      "source": [
        "---\n",
        "\n",
        "_You are currently looking at **version 1.0** of this notebook. To download notebooks and datafiles, as well as get help on Jupyter notebooks in the Coursera platform, visit the [Jupyter Notebook FAQ](https://www.coursera.org/learn/python-text-mining/resources/d9pwm) course resource._\n",
        "\n",
        "---"
      ],
      "metadata": {}
    },
    {
      "cell_type": "markdown",
      "source": [
        "# Working with Text Data in pandas"
      ],
      "metadata": {}
    },
    {
      "cell_type": "code",
      "source": [
        "import pandas as pd\n",
        "\n",
        "time_sentences = [\"Monday: The doctor's appointment is at 2:45pm.\", \n",
        "                  \"Tuesday: The dentist's appointment is at 11:30 am.\",\n",
        "                  \"Wednesday: At 7:00pm, there is a basketball game!\",\n",
        "                  \"Thursday: Be back home by 11:15 pm at the latest.\",\n",
        "                  \"Friday: Take the train at 08:10 am, arrive at 09:00am.\"]\n",
        "\n",
        "df = pd.DataFrame(time_sentences, columns=['text'])\n",
        "df"
      ],
      "outputs": [
        {
          "output_type": "execute_result",
          "execution_count": 8,
          "data": {
            "text/html": [
              "<div>\n",
              "<style>\n",
              "    .dataframe thead tr:only-child th {\n",
              "        text-align: right;\n",
              "    }\n",
              "\n",
              "    .dataframe thead th {\n",
              "        text-align: left;\n",
              "    }\n",
              "\n",
              "    .dataframe tbody tr th {\n",
              "        vertical-align: top;\n",
              "    }\n",
              "</style>\n",
              "<table border=\"1\" class=\"dataframe\">\n",
              "  <thead>\n",
              "    <tr style=\"text-align: right;\">\n",
              "      <th></th>\n",
              "      <th>text</th>\n",
              "    </tr>\n",
              "  </thead>\n",
              "  <tbody>\n",
              "    <tr>\n",
              "      <th>0</th>\n",
              "      <td>Monday: The doctor's appointment is at 2:45pm.</td>\n",
              "    </tr>\n",
              "    <tr>\n",
              "      <th>1</th>\n",
              "      <td>Tuesday: The dentist's appointment is at 11:30...</td>\n",
              "    </tr>\n",
              "    <tr>\n",
              "      <th>2</th>\n",
              "      <td>Wednesday: At 7:00pm, there is a basketball game!</td>\n",
              "    </tr>\n",
              "    <tr>\n",
              "      <th>3</th>\n",
              "      <td>Thursday: Be back home by 11:15 pm at the latest.</td>\n",
              "    </tr>\n",
              "    <tr>\n",
              "      <th>4</th>\n",
              "      <td>Friday: Take the train at 08:10 am, arrive at ...</td>\n",
              "    </tr>\n",
              "  </tbody>\n",
              "</table>\n",
              "</div>"
            ],
            "text/plain": [
              "                                                text\n",
              "0     Monday: The doctor's appointment is at 2:45pm.\n",
              "1  Tuesday: The dentist's appointment is at 11:30...\n",
              "2  Wednesday: At 7:00pm, there is a basketball game!\n",
              "3  Thursday: Be back home by 11:15 pm at the latest.\n",
              "4  Friday: Take the train at 08:10 am, arrive at ..."
            ]
          },
          "metadata": {}
        }
      ],
      "execution_count": 8,
      "metadata": {
        "scrolled": true
      }
    },
    {
      "cell_type": "code",
      "source": [
        "sample = \"thisxyziii\"\n",
        "import re\n",
        "m = re.match(r\"(^xyz)\",sample)\n",
        "print(m)\n"
      ],
      "outputs": [
        {
          "output_type": "stream",
          "name": "stdout",
          "text": [
            "None\n"
          ]
        }
      ],
      "execution_count": 48,
      "metadata": {}
    },
    {
      "cell_type": "code",
      "source": [
        "# find the number of characters for each string in df['text']\n",
        "df['text'].str.len()"
      ],
      "outputs": [
        {
          "output_type": "execute_result",
          "execution_count": 9,
          "data": {
            "text/plain": [
              "0    46\n",
              "1    50\n",
              "2    49\n",
              "3    49\n",
              "4    54\n",
              "Name: text, dtype: int64"
            ]
          },
          "metadata": {}
        }
      ],
      "execution_count": 9,
      "metadata": {}
    },
    {
      "cell_type": "code",
      "source": [
        "df['text']"
      ],
      "outputs": [
        {
          "output_type": "execute_result",
          "execution_count": 16,
          "data": {
            "text/plain": [
              "0       Monday: The doctor's appointment is at 2:45pm.\n",
              "1    Tuesday: The dentist's appointment is at 11:30...\n",
              "2    Wednesday: At 7:00pm, there is a basketball game!\n",
              "3    Thursday: Be back home by 11:15 pm at the latest.\n",
              "4    Friday: Take the train at 08:10 am, arrive at ...\n",
              "Name: text, dtype: object"
            ]
          },
          "metadata": {}
        }
      ],
      "execution_count": 16,
      "metadata": {}
    },
    {
      "cell_type": "code",
      "source": [
        "df['text'].str   # Vectorized string functions for Series and Index."
      ],
      "outputs": [
        {
          "output_type": "execute_result",
          "execution_count": 13,
          "data": {
            "text/plain": [
              "<pandas.core.strings.StringMethods at 0x7f0a5538c710>"
            ]
          },
          "metadata": {}
        }
      ],
      "execution_count": 13,
      "metadata": {}
    },
    {
      "cell_type": "code",
      "source": [
        "df['text'].str.split()"
      ],
      "outputs": [
        {
          "output_type": "execute_result",
          "execution_count": 15,
          "data": {
            "text/plain": [
              "0    [Monday:, The, doctor's, appointment, is, at, ...\n",
              "1    [Tuesday:, The, dentist's, appointment, is, at...\n",
              "2    [Wednesday:, At, 7:00pm,, there, is, a, basket...\n",
              "3    [Thursday:, Be, back, home, by, 11:15, pm, at,...\n",
              "4    [Friday:, Take, the, train, at, 08:10, am,, ar...\n",
              "Name: text, dtype: object"
            ]
          },
          "metadata": {}
        }
      ],
      "execution_count": 15,
      "metadata": {}
    },
    {
      "cell_type": "code",
      "source": [
        "df['text'].str.split().str  # ??????????"
      ],
      "outputs": [
        {
          "output_type": "execute_result",
          "execution_count": 19,
          "data": {
            "text/plain": [
              "<pandas.core.strings.StringMethods at 0x7f0a55dc36d8>"
            ]
          },
          "metadata": {}
        }
      ],
      "execution_count": 19,
      "metadata": {}
    },
    {
      "cell_type": "code",
      "source": [
        "# find the number of tokens for each string in df['text']\n",
        "df['text'].str.split().str.len()"
      ],
      "outputs": [
        {
          "output_type": "execute_result",
          "execution_count": 21,
          "data": {
            "text/plain": [
              "0     7\n",
              "1     8\n",
              "2     8\n",
              "3    10\n",
              "4    10\n",
              "Name: text, dtype: int64"
            ]
          },
          "metadata": {}
        }
      ],
      "execution_count": 21,
      "metadata": {}
    },
    {
      "cell_type": "code",
      "source": [
        "# find which entries contain the word 'appointment'\n",
        "df['text'].str.contains('appointment')"
      ],
      "outputs": [
        {
          "output_type": "execute_result",
          "execution_count": 22,
          "data": {
            "text/plain": [
              "0     True\n",
              "1     True\n",
              "2    False\n",
              "3    False\n",
              "4    False\n",
              "Name: text, dtype: bool"
            ]
          },
          "metadata": {}
        }
      ],
      "execution_count": 22,
      "metadata": {}
    },
    {
      "cell_type": "code",
      "source": [
        "# find how many times a digit occurs in each string\n",
        "df['text'].str.count(r'\\d')"
      ],
      "outputs": [
        {
          "output_type": "execute_result",
          "execution_count": 23,
          "data": {
            "text/plain": [
              "0    3\n",
              "1    4\n",
              "2    3\n",
              "3    4\n",
              "4    8\n",
              "Name: text, dtype: int64"
            ]
          },
          "metadata": {}
        }
      ],
      "execution_count": 23,
      "metadata": {}
    },
    {
      "cell_type": "code",
      "source": [
        "# find all occurances of the digits\n",
        "df['text'].str.findall(r'\\d')"
      ],
      "outputs": [
        {
          "output_type": "execute_result",
          "execution_count": 24,
          "data": {
            "text/plain": [
              "0                   [2, 4, 5]\n",
              "1                [1, 1, 3, 0]\n",
              "2                   [7, 0, 0]\n",
              "3                [1, 1, 1, 5]\n",
              "4    [0, 8, 1, 0, 0, 9, 0, 0]\n",
              "Name: text, dtype: object"
            ]
          },
          "metadata": {}
        }
      ],
      "execution_count": 24,
      "metadata": {}
    },
    {
      "cell_type": "code",
      "source": [
        "# group and find the hours and minutes\n",
        "df['text'].str.findall(r'(\\d?\\d):(\\d\\d)')"
      ],
      "outputs": [
        {
          "output_type": "execute_result",
          "execution_count": 26,
          "data": {
            "text/plain": [
              "0               [(2, 45)]\n",
              "1              [(11, 30)]\n",
              "2               [(7, 00)]\n",
              "3              [(11, 15)]\n",
              "4    [(08, 10), (09, 00)]\n",
              "Name: text, dtype: object"
            ]
          },
          "metadata": {}
        }
      ],
      "execution_count": 26,
      "metadata": {}
    },
    {
      "cell_type": "code",
      "source": [
        "# replace weekdays with '???'\n",
        "df['text'].str.replace(r'\\w+day\\b', '???')"
      ],
      "outputs": [
        {
          "output_type": "execute_result",
          "execution_count": 27,
          "data": {
            "text/plain": [
              "0          ???: The doctor's appointment is at 2:45pm.\n",
              "1       ???: The dentist's appointment is at 11:30 am.\n",
              "2          ???: At 7:00pm, there is a basketball game!\n",
              "3         ???: Be back home by 11:15 pm at the latest.\n",
              "4    ???: Take the train at 08:10 am, arrive at 09:...\n",
              "Name: text, dtype: object"
            ]
          },
          "metadata": {}
        }
      ],
      "execution_count": 27,
      "metadata": {}
    },
    {
      "cell_type": "code",
      "source": [
        "# replace weekdays with 3 letter abbrevations\n",
        "df['text'].str.replace(r'(\\w+day\\b)', lambda x: x.groups()[0][:3])"
      ],
      "outputs": [
        {
          "output_type": "execute_result",
          "execution_count": 28,
          "data": {
            "text/plain": [
              "0          Mon: The doctor's appointment is at 2:45pm.\n",
              "1       Tue: The dentist's appointment is at 11:30 am.\n",
              "2          Wed: At 7:00pm, there is a basketball game!\n",
              "3         Thu: Be back home by 11:15 pm at the latest.\n",
              "4    Fri: Take the train at 08:10 am, arrive at 09:...\n",
              "Name: text, dtype: object"
            ]
          },
          "metadata": {}
        }
      ],
      "execution_count": 28,
      "metadata": {}
    },
    {
      "cell_type": "code",
      "source": [
        "## This method returns a tuple containing all the subgroups of the match, \n",
        "import re\n",
        "m = re.match(r\"(\\d+)\\.(\\d+)\", \"27.1835\")\n",
        "m.groups()\n"
      ],
      "outputs": [
        {
          "output_type": "execute_result",
          "execution_count": 30,
          "data": {
            "text/plain": [
              "('27', '1835')"
            ]
          },
          "metadata": {}
        }
      ],
      "execution_count": 30,
      "metadata": {}
    },
    {
      "cell_type": "code",
      "source": [
        "# create new columns from first match of extracted groups\n",
        "df['text'].str.extract(r'(\\d?\\d):(\\d\\d)')"
      ],
      "outputs": [
        {
          "output_type": "stream",
          "name": "stderr",
          "text": [
            "/opt/conda/lib/python3.6/site-packages/ipykernel_launcher.py:2: FutureWarning: currently extract(expand=None) means expand=False (return Index/Series/DataFrame) but in a future version of pandas this will be changed to expand=True (return DataFrame)\n",
            "  \n"
          ]
        },
        {
          "output_type": "execute_result",
          "execution_count": 31,
          "data": {
            "text/html": [
              "<div>\n",
              "<style>\n",
              "    .dataframe thead tr:only-child th {\n",
              "        text-align: right;\n",
              "    }\n",
              "\n",
              "    .dataframe thead th {\n",
              "        text-align: left;\n",
              "    }\n",
              "\n",
              "    .dataframe tbody tr th {\n",
              "        vertical-align: top;\n",
              "    }\n",
              "</style>\n",
              "<table border=\"1\" class=\"dataframe\">\n",
              "  <thead>\n",
              "    <tr style=\"text-align: right;\">\n",
              "      <th></th>\n",
              "      <th>0</th>\n",
              "      <th>1</th>\n",
              "    </tr>\n",
              "  </thead>\n",
              "  <tbody>\n",
              "    <tr>\n",
              "      <th>0</th>\n",
              "      <td>2</td>\n",
              "      <td>45</td>\n",
              "    </tr>\n",
              "    <tr>\n",
              "      <th>1</th>\n",
              "      <td>11</td>\n",
              "      <td>30</td>\n",
              "    </tr>\n",
              "    <tr>\n",
              "      <th>2</th>\n",
              "      <td>7</td>\n",
              "      <td>00</td>\n",
              "    </tr>\n",
              "    <tr>\n",
              "      <th>3</th>\n",
              "      <td>11</td>\n",
              "      <td>15</td>\n",
              "    </tr>\n",
              "    <tr>\n",
              "      <th>4</th>\n",
              "      <td>08</td>\n",
              "      <td>10</td>\n",
              "    </tr>\n",
              "  </tbody>\n",
              "</table>\n",
              "</div>"
            ],
            "text/plain": [
              "    0   1\n",
              "0   2  45\n",
              "1  11  30\n",
              "2   7  00\n",
              "3  11  15\n",
              "4  08  10"
            ]
          },
          "metadata": {}
        }
      ],
      "execution_count": 31,
      "metadata": {}
    },
    {
      "cell_type": "code",
      "source": [
        "df['text'].str.extractall(r'((\\d?\\d):(\\d\\d) ?([ap]m))')"
      ],
      "outputs": [
        {
          "output_type": "execute_result",
          "execution_count": 35,
          "data": {
            "text/html": [
              "<div>\n",
              "<style>\n",
              "    .dataframe thead tr:only-child th {\n",
              "        text-align: right;\n",
              "    }\n",
              "\n",
              "    .dataframe thead th {\n",
              "        text-align: left;\n",
              "    }\n",
              "\n",
              "    .dataframe tbody tr th {\n",
              "        vertical-align: top;\n",
              "    }\n",
              "</style>\n",
              "<table border=\"1\" class=\"dataframe\">\n",
              "  <thead>\n",
              "    <tr style=\"text-align: right;\">\n",
              "      <th></th>\n",
              "      <th></th>\n",
              "      <th>0</th>\n",
              "      <th>1</th>\n",
              "      <th>2</th>\n",
              "      <th>3</th>\n",
              "    </tr>\n",
              "    <tr>\n",
              "      <th></th>\n",
              "      <th>match</th>\n",
              "      <th></th>\n",
              "      <th></th>\n",
              "      <th></th>\n",
              "      <th></th>\n",
              "    </tr>\n",
              "  </thead>\n",
              "  <tbody>\n",
              "    <tr>\n",
              "      <th>0</th>\n",
              "      <th>0</th>\n",
              "      <td>2:45pm</td>\n",
              "      <td>2</td>\n",
              "      <td>45</td>\n",
              "      <td>pm</td>\n",
              "    </tr>\n",
              "    <tr>\n",
              "      <th>1</th>\n",
              "      <th>0</th>\n",
              "      <td>11:30 am</td>\n",
              "      <td>11</td>\n",
              "      <td>30</td>\n",
              "      <td>am</td>\n",
              "    </tr>\n",
              "    <tr>\n",
              "      <th>2</th>\n",
              "      <th>0</th>\n",
              "      <td>7:00pm</td>\n",
              "      <td>7</td>\n",
              "      <td>00</td>\n",
              "      <td>pm</td>\n",
              "    </tr>\n",
              "    <tr>\n",
              "      <th>3</th>\n",
              "      <th>0</th>\n",
              "      <td>11:15 pm</td>\n",
              "      <td>11</td>\n",
              "      <td>15</td>\n",
              "      <td>pm</td>\n",
              "    </tr>\n",
              "    <tr>\n",
              "      <th rowspan=\"2\" valign=\"top\">4</th>\n",
              "      <th>0</th>\n",
              "      <td>08:10 am</td>\n",
              "      <td>08</td>\n",
              "      <td>10</td>\n",
              "      <td>am</td>\n",
              "    </tr>\n",
              "    <tr>\n",
              "      <th>1</th>\n",
              "      <td>09:00am</td>\n",
              "      <td>09</td>\n",
              "      <td>00</td>\n",
              "      <td>am</td>\n",
              "    </tr>\n",
              "  </tbody>\n",
              "</table>\n",
              "</div>"
            ],
            "text/plain": [
              "                0   1   2   3\n",
              "  match                      \n",
              "0 0        2:45pm   2  45  pm\n",
              "1 0      11:30 am  11  30  am\n",
              "2 0        7:00pm   7  00  pm\n",
              "3 0      11:15 pm  11  15  pm\n",
              "4 0      08:10 am  08  10  am\n",
              "  1       09:00am  09  00  am"
            ]
          },
          "metadata": {}
        }
      ],
      "execution_count": 35,
      "metadata": {}
    },
    {
      "cell_type": "code",
      "source": [
        "# extract the entire time, the hours, the minutes, and the period\n",
        "df['text'].str.extract(r'((\\d?\\d):(\\d\\d) ?([ap]m))')"
      ],
      "outputs": [
        {
          "output_type": "stream",
          "name": "stderr",
          "text": [
            "/opt/conda/lib/python3.6/site-packages/ipykernel_launcher.py:2: FutureWarning: currently extract(expand=None) means expand=False (return Index/Series/DataFrame) but in a future version of pandas this will be changed to expand=True (return DataFrame)\n",
            "  \n"
          ]
        },
        {
          "output_type": "execute_result",
          "execution_count": 34,
          "data": {
            "text/html": [
              "<div>\n",
              "<style>\n",
              "    .dataframe thead tr:only-child th {\n",
              "        text-align: right;\n",
              "    }\n",
              "\n",
              "    .dataframe thead th {\n",
              "        text-align: left;\n",
              "    }\n",
              "\n",
              "    .dataframe tbody tr th {\n",
              "        vertical-align: top;\n",
              "    }\n",
              "</style>\n",
              "<table border=\"1\" class=\"dataframe\">\n",
              "  <thead>\n",
              "    <tr style=\"text-align: right;\">\n",
              "      <th></th>\n",
              "      <th>0</th>\n",
              "      <th>1</th>\n",
              "      <th>2</th>\n",
              "      <th>3</th>\n",
              "    </tr>\n",
              "  </thead>\n",
              "  <tbody>\n",
              "    <tr>\n",
              "      <th>0</th>\n",
              "      <td>2:45pm</td>\n",
              "      <td>2</td>\n",
              "      <td>45</td>\n",
              "      <td>pm</td>\n",
              "    </tr>\n",
              "    <tr>\n",
              "      <th>1</th>\n",
              "      <td>11:30 am</td>\n",
              "      <td>11</td>\n",
              "      <td>30</td>\n",
              "      <td>am</td>\n",
              "    </tr>\n",
              "    <tr>\n",
              "      <th>2</th>\n",
              "      <td>7:00pm</td>\n",
              "      <td>7</td>\n",
              "      <td>00</td>\n",
              "      <td>pm</td>\n",
              "    </tr>\n",
              "    <tr>\n",
              "      <th>3</th>\n",
              "      <td>11:15 pm</td>\n",
              "      <td>11</td>\n",
              "      <td>15</td>\n",
              "      <td>pm</td>\n",
              "    </tr>\n",
              "    <tr>\n",
              "      <th>4</th>\n",
              "      <td>08:10 am</td>\n",
              "      <td>08</td>\n",
              "      <td>10</td>\n",
              "      <td>am</td>\n",
              "    </tr>\n",
              "  </tbody>\n",
              "</table>\n",
              "</div>"
            ],
            "text/plain": [
              "          0   1   2   3\n",
              "0    2:45pm   2  45  pm\n",
              "1  11:30 am  11  30  am\n",
              "2    7:00pm   7  00  pm\n",
              "3  11:15 pm  11  15  pm\n",
              "4  08:10 am  08  10  am"
            ]
          },
          "metadata": {}
        }
      ],
      "execution_count": 34,
      "metadata": {}
    },
    {
      "cell_type": "code",
      "source": [
        "# extract the entire time, the hours, the minutes, and the period with group names\n",
        "df['text'].str.extractall(r'(?P<time>(?P<hour>\\d?\\d):(?P<minute>\\d\\d) ?(?P<period>[ap]m))')"
      ],
      "outputs": [
        {
          "output_type": "execute_result",
          "execution_count": 39,
          "data": {
            "text/html": [
              "<div>\n",
              "<style>\n",
              "    .dataframe thead tr:only-child th {\n",
              "        text-align: right;\n",
              "    }\n",
              "\n",
              "    .dataframe thead th {\n",
              "        text-align: left;\n",
              "    }\n",
              "\n",
              "    .dataframe tbody tr th {\n",
              "        vertical-align: top;\n",
              "    }\n",
              "</style>\n",
              "<table border=\"1\" class=\"dataframe\">\n",
              "  <thead>\n",
              "    <tr style=\"text-align: right;\">\n",
              "      <th></th>\n",
              "      <th></th>\n",
              "      <th>time</th>\n",
              "      <th>hour</th>\n",
              "      <th>minute</th>\n",
              "      <th>period</th>\n",
              "    </tr>\n",
              "    <tr>\n",
              "      <th></th>\n",
              "      <th>match</th>\n",
              "      <th></th>\n",
              "      <th></th>\n",
              "      <th></th>\n",
              "      <th></th>\n",
              "    </tr>\n",
              "  </thead>\n",
              "  <tbody>\n",
              "    <tr>\n",
              "      <th>0</th>\n",
              "      <th>0</th>\n",
              "      <td>2:45pm</td>\n",
              "      <td>2</td>\n",
              "      <td>45</td>\n",
              "      <td>pm</td>\n",
              "    </tr>\n",
              "    <tr>\n",
              "      <th>1</th>\n",
              "      <th>0</th>\n",
              "      <td>11:30 am</td>\n",
              "      <td>11</td>\n",
              "      <td>30</td>\n",
              "      <td>am</td>\n",
              "    </tr>\n",
              "    <tr>\n",
              "      <th>2</th>\n",
              "      <th>0</th>\n",
              "      <td>7:00pm</td>\n",
              "      <td>7</td>\n",
              "      <td>00</td>\n",
              "      <td>pm</td>\n",
              "    </tr>\n",
              "    <tr>\n",
              "      <th>3</th>\n",
              "      <th>0</th>\n",
              "      <td>11:15 pm</td>\n",
              "      <td>11</td>\n",
              "      <td>15</td>\n",
              "      <td>pm</td>\n",
              "    </tr>\n",
              "    <tr>\n",
              "      <th rowspan=\"2\" valign=\"top\">4</th>\n",
              "      <th>0</th>\n",
              "      <td>08:10 am</td>\n",
              "      <td>08</td>\n",
              "      <td>10</td>\n",
              "      <td>am</td>\n",
              "    </tr>\n",
              "    <tr>\n",
              "      <th>1</th>\n",
              "      <td>09:00am</td>\n",
              "      <td>09</td>\n",
              "      <td>00</td>\n",
              "      <td>am</td>\n",
              "    </tr>\n",
              "  </tbody>\n",
              "</table>\n",
              "</div>"
            ],
            "text/plain": [
              "             time hour minute period\n",
              "  match                             \n",
              "0 0        2:45pm    2     45     pm\n",
              "1 0      11:30 am   11     30     am\n",
              "2 0        7:00pm    7     00     pm\n",
              "3 0      11:15 pm   11     15     pm\n",
              "4 0      08:10 am   08     10     am\n",
              "  1       09:00am   09     00     am"
            ]
          },
          "metadata": {}
        }
      ],
      "execution_count": 39,
      "metadata": {}
    },
    {
      "cell_type": "code",
      "source": [],
      "outputs": [],
      "execution_count": null,
      "metadata": {
        "collapsed": true
      }
    }
  ],
  "metadata": {
    "kernelspec": {
      "display_name": "Python 3",
      "language": "python",
      "name": "python3"
    },
    "language_info": {
      "name": "python",
      "version": "3.7.4",
      "mimetype": "text/x-python",
      "codemirror_mode": {
        "name": "ipython",
        "version": 3
      },
      "pygments_lexer": "ipython3",
      "nbconvert_exporter": "python",
      "file_extension": ".py"
    },
    "nteract": {
      "version": "0.22.4"
    }
  },
  "nbformat": 4,
  "nbformat_minor": 2
}