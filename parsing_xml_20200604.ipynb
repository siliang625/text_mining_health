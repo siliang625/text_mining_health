{
  "nbformat": 4,
  "nbformat_minor": 0,
  "metadata": {
    "colab": {
      "name": "parsing_xml_20200604.ipynb",
      "provenance": [],
      "collapsed_sections": [],
      "include_colab_link": true
    },
    "kernelspec": {
      "display_name": "conda_python3",
      "language": "python",
      "name": "conda_python3"
    },
    "language_info": {
      "codemirror_mode": {
        "name": "ipython",
        "version": 3
      },
      "file_extension": ".py",
      "mimetype": "text/x-python",
      "name": "python",
      "nbconvert_exporter": "python",
      "pygments_lexer": "ipython3",
      "version": "3.6.5"
    }
  },
  "cells": [
    {
      "cell_type": "markdown",
      "metadata": {
        "id": "view-in-github",
        "colab_type": "text"
      },
      "source": [
        "<a href=\"https://colab.research.google.com/github/siliang625/text_mining_health/blob/master/parsing_xml_20200604.ipynb\" target=\"_parent\"><img src=\"https://colab.research.google.com/assets/colab-badge.svg\" alt=\"Open In Colab\"/></a>"
      ]
    },
    {
      "cell_type": "code",
      "metadata": {
        "colab_type": "code",
        "id": "CO7waclD3H__",
        "outputId": "c6d4eb17-1170-4ff7-b34f-efa8b0afbc7c",
        "colab": {
          "base_uri": "https://localhost:8080/",
          "height": 51
        }
      },
      "source": [
        "# !pip install BeautifulSoup4\n",
        "# !pip install fastprogress  #tqdm"
      ],
      "execution_count": 5,
      "outputs": [
        {
          "output_type": "stream",
          "text": [
            "Requirement already satisfied: BeautifulSoup4 in /usr/local/lib/python3.6/dist-packages (4.6.3)\n",
            "Requirement already satisfied: fastprogress in /usr/local/lib/python3.6/dist-packages (0.2.3)\n"
          ],
          "name": "stdout"
        }
      ]
    },
    {
      "cell_type": "code",
      "metadata": {
        "colab_type": "code",
        "id": "bM63Jrh_3IAJ",
        "colab": {}
      },
      "source": [
        "%matplotlib inline\n",
        "import pandas as pd\n",
        "import requests\n",
        "from urllib.request import urlopen\n",
        "from fastprogress.fastprogress import master_bar, progress_bar\n",
        "from urllib.parse import quote\n",
        "from bs4 import BeautifulSoup\n",
        "import os\n",
        "import time"
      ],
      "execution_count": 0,
      "outputs": []
    },
    {
      "cell_type": "code",
      "metadata": {
        "id": "pmXfhv7ceqTK",
        "colab_type": "code",
        "colab": {}
      },
      "source": [
        "from importlib import reload  # Not needed in Python 2\n",
        "import logging\n",
        "reload(logging)\n",
        "#logging.basicConfig(format='%(asctime)s %(levelname)s:%(message)s', level=logging.DEBUG, datefmt='%I:%M:%S')\n",
        "logging.basicConfig(level=logging.DEBUG, datefmt='%I:%M:%S')\n",
        "logger = logging.getLogger(\"Parsing_Data\")\n",
        "# logger = logging.getLogger(\"Parsing_Data\")\n",
        "# logger.setLevel(logging.DEBUG)"
      ],
      "execution_count": 0,
      "outputs": []
    },
    {
      "cell_type": "code",
      "metadata": {
        "id": "3KMkzQPceqTP",
        "colab_type": "code",
        "colab": {}
      },
      "source": [
        "# global variables\n",
        "base_url = \"https://eutils.ncbi.nlm.nih.gov/entrez/eutils/\"\n",
        "search_url = \"esearch.fcgi?db=pmc&term=\"\n",
        "fetch_url = \"efetch.fcgi?db=pmc\"\n",
        "application = \"&tool=digital_public_health\"\n",
        "email = \"&email=siliang.liu@alumni.ubc.ca\""
      ],
      "execution_count": 0,
      "outputs": []
    },
    {
      "cell_type": "markdown",
      "metadata": {
        "colab_type": "text",
        "id": "K2rlXq6S-r5h"
      },
      "source": [
        "# key words:"
      ]
    },
    {
      "cell_type": "markdown",
      "metadata": {
        "id": "3iNb3TPQeqTT",
        "colab_type": "text"
      },
      "source": [
        "Loading in key words and taking a look:"
      ]
    },
    {
      "cell_type": "code",
      "metadata": {
        "id": "K6HY6sW4eqTU",
        "colab_type": "code",
        "colab": {
          "base_uri": "https://localhost:8080/",
          "height": 607
        },
        "outputId": "3f7e4a21-4a26-41b9-fe6a-1c02d5a7c26e"
      },
      "source": [
        "path = \"./search_term_1.csv\"\n",
        "search_terms_df = pd.read_csv(path, header=None, keep_default_na=False)\n",
        "search_terms_df"
      ],
      "execution_count": 9,
      "outputs": [
        {
          "output_type": "execute_result",
          "data": {
            "text/html": [
              "<div>\n",
              "<style scoped>\n",
              "    .dataframe tbody tr th:only-of-type {\n",
              "        vertical-align: middle;\n",
              "    }\n",
              "\n",
              "    .dataframe tbody tr th {\n",
              "        vertical-align: top;\n",
              "    }\n",
              "\n",
              "    .dataframe thead th {\n",
              "        text-align: right;\n",
              "    }\n",
              "</style>\n",
              "<table border=\"1\" class=\"dataframe\">\n",
              "  <thead>\n",
              "    <tr style=\"text-align: right;\">\n",
              "      <th></th>\n",
              "      <th>0</th>\n",
              "      <th>1</th>\n",
              "    </tr>\n",
              "  </thead>\n",
              "  <tbody>\n",
              "    <tr>\n",
              "      <th>0</th>\n",
              "      <td>mhealth or m-health</td>\n",
              "      <td>public health</td>\n",
              "    </tr>\n",
              "    <tr>\n",
              "      <th>1</th>\n",
              "      <td>ehealth or e-health</td>\n",
              "      <td>health promotion</td>\n",
              "    </tr>\n",
              "    <tr>\n",
              "      <th>2</th>\n",
              "      <td>virtual health</td>\n",
              "      <td>health prevention</td>\n",
              "    </tr>\n",
              "    <tr>\n",
              "      <th>3</th>\n",
              "      <td>mobile health</td>\n",
              "      <td>health protection</td>\n",
              "    </tr>\n",
              "    <tr>\n",
              "      <th>4</th>\n",
              "      <td>online health</td>\n",
              "      <td>health policy</td>\n",
              "    </tr>\n",
              "    <tr>\n",
              "      <th>5</th>\n",
              "      <td>internet-based health</td>\n",
              "      <td>health determinants</td>\n",
              "    </tr>\n",
              "    <tr>\n",
              "      <th>6</th>\n",
              "      <td>computer-based health</td>\n",
              "      <td>health evaluation</td>\n",
              "    </tr>\n",
              "    <tr>\n",
              "      <th>7</th>\n",
              "      <td>health informatics</td>\n",
              "      <td>health economics</td>\n",
              "    </tr>\n",
              "    <tr>\n",
              "      <th>8</th>\n",
              "      <td>social media</td>\n",
              "      <td>public health ethics</td>\n",
              "    </tr>\n",
              "    <tr>\n",
              "      <th>9</th>\n",
              "      <td>predictive algorithms</td>\n",
              "      <td>risk assessment</td>\n",
              "    </tr>\n",
              "    <tr>\n",
              "      <th>10</th>\n",
              "      <td>artificial intelligence</td>\n",
              "      <td>epidemiology</td>\n",
              "    </tr>\n",
              "    <tr>\n",
              "      <th>11</th>\n",
              "      <td>machine learning methods</td>\n",
              "      <td>community health</td>\n",
              "    </tr>\n",
              "    <tr>\n",
              "      <th>12</th>\n",
              "      <td>big data</td>\n",
              "      <td>emergency preparedness</td>\n",
              "    </tr>\n",
              "    <tr>\n",
              "      <th>13</th>\n",
              "      <td>electronic health</td>\n",
              "      <td>emergency response</td>\n",
              "    </tr>\n",
              "    <tr>\n",
              "      <th>14</th>\n",
              "      <td>web*</td>\n",
              "      <td>health equity</td>\n",
              "    </tr>\n",
              "    <tr>\n",
              "      <th>15</th>\n",
              "      <td>digit*</td>\n",
              "      <td>social justice</td>\n",
              "    </tr>\n",
              "    <tr>\n",
              "      <th>16</th>\n",
              "      <td>telemedicine</td>\n",
              "      <td>social determinants</td>\n",
              "    </tr>\n",
              "    <tr>\n",
              "      <th>17</th>\n",
              "      <td></td>\n",
              "      <td>surveillance</td>\n",
              "    </tr>\n",
              "  </tbody>\n",
              "</table>\n",
              "</div>"
            ],
            "text/plain": [
              "                           0                       1\n",
              "0        mhealth or m-health           public health\n",
              "1        ehealth or e-health        health promotion\n",
              "2            virtual health        health prevention\n",
              "3             mobile health        health protection\n",
              "4              online health           health policy\n",
              "5      internet-based health     health determinants\n",
              "6      computer-based health       health evaluation\n",
              "7         health informatics        health economics\n",
              "8               social media    public health ethics\n",
              "9      predictive algorithms         risk assessment\n",
              "10   artificial intelligence            epidemiology\n",
              "11  machine learning methods        community health\n",
              "12                  big data  emergency preparedness\n",
              "13         electronic health      emergency response\n",
              "14                      web*           health equity\n",
              "15                    digit*          social justice\n",
              "16              telemedicine     social determinants\n",
              "17                                      surveillance"
            ]
          },
          "metadata": {
            "tags": []
          },
          "execution_count": 9
        }
      ]
    },
    {
      "cell_type": "code",
      "metadata": {
        "id": "F3qRi-qweqTW",
        "colab_type": "code",
        "colab": {}
      },
      "source": [
        "search_terms_c1 = search_terms_df.iloc[:,0]\n",
        "search_terms_c2 = search_terms_df.iloc[:,1]"
      ],
      "execution_count": 0,
      "outputs": []
    },
    {
      "cell_type": "markdown",
      "metadata": {
        "id": "IaUxmgvReqTa",
        "colab_type": "text"
      },
      "source": [
        "# Define search query\n",
        "\n",
        "Let's define the query: we will use OR operator to connect all terms in column 0, as well as column 1, and use AND operator to connect subquery of column 0 and column 1. \n",
        "\n",
        "For instance, if we want to search (\"virtual health\" OR \"mobile health\") AND (\"public health\" OR \"health promotion\"), we would use query: \"virtual+health[tw] OR mobile+health[tw]) AND (public+health[tw] OR health+promotion[tw]\". \n",
        "\n",
        "Note: [tw] is a \"Field Tag\" helping to search specific fields of the PubMed, it refers to \"text words\"[1]."
      ]
    },
    {
      "cell_type": "markdown",
      "metadata": {
        "id": "SHGgueJ_eqTa",
        "colab_type": "text"
      },
      "source": [
        "First, let's build the query"
      ]
    },
    {
      "cell_type": "code",
      "metadata": {
        "scrolled": true,
        "id": "x5N9irx6eqTb",
        "colab_type": "code",
        "colab": {}
      },
      "source": [
        "def form_query_term(df):\n",
        "    '''\n",
        "    arg: df: dataframe containing a list of terms1 in single column\n",
        "    return:\n",
        "        array: containing processed search terms, eg: \"mhealth[tw] OR m-health[tw] OR ehealth[tw]\"\n",
        "    '''\n",
        "    query_arr = []\n",
        "    tag = \"[tw]\"\n",
        "\n",
        "    for term in df:\n",
        "        if term == \"\" or \"*\" in term:\n",
        "            continue\n",
        "            \n",
        "        # eg: mhealth or m-health\n",
        "        if \" or \" in term:\n",
        "            or_terms = term.split(\" or \")\n",
        "            for each in or_terms:\n",
        "               # query_string += each.rstrip().lstrip()\n",
        "                query_arr.append(each.rstrip().lstrip().replace(\" \", \"+\") + tag)\n",
        "                \n",
        "        else:\n",
        "            query_arr.append(term.rstrip().lstrip().replace(\" \", \"+\") + tag)\n",
        "            \n",
        "    return query_arr\n"
      ],
      "execution_count": 0,
      "outputs": []
    },
    {
      "cell_type": "code",
      "metadata": {
        "id": "xG7csk8GeqTe",
        "colab_type": "code",
        "colab": {
          "base_uri": "https://localhost:8080/",
          "height": 54
        },
        "outputId": "88ddc95b-89b4-4a2d-8d37-f8bb747c18e0"
      },
      "source": [
        "query_string = \"\"\n",
        "connector = \" \" + \"OR\" + \" \"\n",
        "query_arr_a = form_query_term(search_terms_c1)     \n",
        "query_arr_b = form_query_term(search_terms_c2) \n",
        "query_string = \"(\" + connector.join(query_arr_a) + \")\" + \" AND \" + \"(\" + connector.join(query_arr_b) + \")\"\n",
        "logger.debug(query_string)\n",
        "    "
      ],
      "execution_count": 12,
      "outputs": [
        {
          "output_type": "stream",
          "text": [
            "DEBUG:Parsing_Data:(mhealth[tw] OR m-health[tw] OR ehealth[tw] OR e-health[tw] OR virtual+health[tw] OR mobile+health[tw] OR online+health[tw] OR internet-based+health[tw] OR computer-based+health[tw] OR health+informatics[tw] OR social+media[tw] OR predictive+algorithms[tw] OR artificial+intelligence[tw] OR machine+learning+methods[tw] OR big+data[tw] OR electronic+health[tw] OR telemedicine[tw]) AND (public+health[tw] OR health+promotion[tw] OR health+prevention[tw] OR health+protection[tw] OR health+policy[tw] OR health+determinants[tw] OR health+evaluation[tw] OR health+economics[tw] OR public+health+ethics[tw] OR risk+assessment[tw] OR epidemiology[tw] OR community+health[tw] OR emergency+preparedness[tw] OR emergency+response[tw] OR health+equity[tw] OR social+justice[tw] OR social+determinants[tw] OR surveillance[tw])\n"
          ],
          "name": "stderr"
        }
      ]
    },
    {
      "cell_type": "markdown",
      "metadata": {
        "id": "9jAaLxVyeqTi",
        "colab_type": "text"
      },
      "source": [
        "Secondly, Lets extract all the related ids givne the query"
      ]
    },
    {
      "cell_type": "code",
      "metadata": {
        "id": "MgpQY_1aeqTi",
        "colab_type": "code",
        "colab": {}
      },
      "source": [
        "def extract_ids(query_term, return_size=10):\n",
        "    '''\n",
        "    args: query_string \n",
        "    return: find and set max_return_size \n",
        "            return list of related ids\n",
        "    '''\n",
        "\n",
        "    ret_max_term = \"&RetMax=\" + str(return_size)\n",
        "    \n",
        "    base_url_key_word = base_url + search_url + quote(query_term) + ret_max_term #+ application + email\n",
        "    #print(base_url_key_word)\n",
        "    \n",
        "    page_kw = urlopen(base_url_key_word)\n",
        "    soup_kw = BeautifulSoup(page_kw, \"xml\")\n",
        "    \n",
        "    # get text form of everything in the xml file\n",
        "    # soup_kw.get_text()\n",
        "    \n",
        "    return_size = soup_kw.find('Count').text    \n",
        "    id_list = soup_kw.find_all('Id')\n",
        "    \n",
        "    return_ids = []\n",
        "    for each_id in id_list:\n",
        "        # print(each_id.text)\n",
        "        return_ids.append(each_id.text)\n",
        "    \n",
        "    return return_size, return_ids"
      ],
      "execution_count": 0,
      "outputs": []
    },
    {
      "cell_type": "code",
      "metadata": {
        "id": "1Y2JC7tbeqTm",
        "colab_type": "code",
        "colab": {
          "base_uri": "https://localhost:8080/",
          "height": 34
        },
        "outputId": "39c4d3d6-0cef-4a8e-ebcd-425414be66e1"
      },
      "source": [
        "return_size = extract_ids(query_string)[0]\n",
        "logger.debug(\"there are {} related papers\".format(return_size))\n",
        "return_ids = extract_ids(query_string, return_size)[1]"
      ],
      "execution_count": 14,
      "outputs": [
        {
          "output_type": "stream",
          "text": [
            "DEBUG:Parsing_Data:there are 78390 related papers\n"
          ],
          "name": "stderr"
        }
      ]
    },
    {
      "cell_type": "markdown",
      "metadata": {
        "colab_type": "text",
        "id": "ZrfXBBNeMWnT"
      },
      "source": [
        "# Extract article information in xml"
      ]
    },
    {
      "cell_type": "code",
      "metadata": {
        "id": "wZsGv9e9eqTs",
        "colab_type": "code",
        "colab": {}
      },
      "source": [
        "!mkdir full_content"
      ],
      "execution_count": 0,
      "outputs": []
    },
    {
      "cell_type": "code",
      "metadata": {
        "id": "YduNw07PeqTw",
        "colab_type": "code",
        "colab": {}
      },
      "source": [
        "def extract_xml(paper_id):\n",
        "    \n",
        "    query_id = \"&id=\" + str(paper_id)\n",
        "    base_url_content = base_url + fetch_url + query_id\n",
        "\n",
        "    response = requests.get(base_url_content)\n",
        "    with open('./full_content/{}_paper.xml'.format(paper_id), 'wb') as file:\n",
        "        file.write(response.content)\n",
        "    file.close()\n",
        "\n",
        "    # get text form of everything in the xml file\n",
        "    #soup.get_text()\n",
        "    \n",
        "    time.sleep(1)"
      ],
      "execution_count": 0,
      "outputs": []
    },
    {
      "cell_type": "code",
      "metadata": {
        "id": "BlzlZRTIeqUU",
        "colab_type": "code",
        "colab": {
          "base_uri": "https://localhost:8080/",
          "height": 1000
        },
        "outputId": "3d3c511e-f6ca-4439-8a99-3b0448e77a6b"
      },
      "source": [
        "for each_id in progress_bar(return_ids):\n",
        "    logger.debug(\"########\" + each_id)\n",
        "    extract_xml(each_id)\n",
        "    "
      ],
      "execution_count": 0,
      "outputs": [
        {
          "output_type": "display_data",
          "data": {
            "text/html": [
              "\n",
              "    <div>\n",
              "        <style>\n",
              "            /* Turns off some styling */\n",
              "            progress {\n",
              "                /* gets rid of default border in Firefox and Opera. */\n",
              "                border: none;\n",
              "                /* Needs to be in here for Safari polyfill so background images work as expected. */\n",
              "                background-size: auto;\n",
              "            }\n",
              "            .progress-bar-interrupted, .progress-bar-interrupted::-webkit-progress-bar {\n",
              "                background: #F44336;\n",
              "            }\n",
              "        </style>\n",
              "      <progress value='166' class='' max='78390' style='width:300px; height:20px; vertical-align: middle;'></progress>\n",
              "      0.21% [166/78390 03:34<28:01:47]\n",
              "    </div>\n",
              "    "
            ],
            "text/plain": [
              "<IPython.core.display.HTML object>"
            ]
          },
          "metadata": {
            "tags": []
          }
        },
        {
          "output_type": "stream",
          "text": [
            "DEBUG:Parsing_Data:########7269166\n",
            "DEBUG:Parsing_Data:########7269107\n",
            "DEBUG:Parsing_Data:########7268900\n",
            "DEBUG:Parsing_Data:########7268189\n",
            "DEBUG:Parsing_Data:########7268184\n",
            "DEBUG:Parsing_Data:########7268180\n",
            "DEBUG:Parsing_Data:########7267760\n",
            "DEBUG:Parsing_Data:########7267758\n",
            "DEBUG:Parsing_Data:########7267748\n",
            "DEBUG:Parsing_Data:########7267744\n",
            "DEBUG:Parsing_Data:########7267671\n",
            "DEBUG:Parsing_Data:########7267659\n",
            "DEBUG:Parsing_Data:########7267631\n",
            "DEBUG:Parsing_Data:########7267625\n",
            "DEBUG:Parsing_Data:########7267610\n",
            "DEBUG:Parsing_Data:########7267603\n",
            "DEBUG:Parsing_Data:########7267600\n",
            "DEBUG:Parsing_Data:########7267583\n",
            "DEBUG:Parsing_Data:########7267579\n",
            "DEBUG:Parsing_Data:########7267576\n",
            "DEBUG:Parsing_Data:########7267574\n",
            "DEBUG:Parsing_Data:########7267542\n",
            "DEBUG:Parsing_Data:########7267534\n",
            "DEBUG:Parsing_Data:########7267529\n",
            "DEBUG:Parsing_Data:########7267513\n",
            "DEBUG:Parsing_Data:########7267493\n",
            "DEBUG:Parsing_Data:########7267488\n",
            "DEBUG:Parsing_Data:########7267458\n",
            "DEBUG:Parsing_Data:########7267447\n",
            "DEBUG:Parsing_Data:########7267407\n",
            "DEBUG:Parsing_Data:########7267365\n",
            "DEBUG:Parsing_Data:########7267358\n",
            "DEBUG:Parsing_Data:########7267355\n",
            "DEBUG:Parsing_Data:########7267348\n",
            "DEBUG:Parsing_Data:########7267336\n",
            "DEBUG:Parsing_Data:########7267309\n",
            "DEBUG:Parsing_Data:########7267285\n",
            "DEBUG:Parsing_Data:########7267282\n",
            "DEBUG:Parsing_Data:########7267263\n",
            "DEBUG:Parsing_Data:########7267180\n",
            "DEBUG:Parsing_Data:########7267173\n",
            "DEBUG:Parsing_Data:########7267153\n",
            "DEBUG:Parsing_Data:########7267135\n",
            "DEBUG:Parsing_Data:########7267134\n",
            "DEBUG:Parsing_Data:########7267132\n",
            "DEBUG:Parsing_Data:########7267121\n",
            "DEBUG:Parsing_Data:########7267118\n",
            "DEBUG:Parsing_Data:########7267115\n",
            "DEBUG:Parsing_Data:########7267101\n",
            "DEBUG:Parsing_Data:########7267049\n",
            "DEBUG:Parsing_Data:########7267047\n",
            "DEBUG:Parsing_Data:########7266776\n",
            "DEBUG:Parsing_Data:########7266774\n",
            "DEBUG:Parsing_Data:########7266732\n",
            "DEBUG:Parsing_Data:########7266651\n",
            "DEBUG:Parsing_Data:########7266648\n",
            "DEBUG:Parsing_Data:########7266609\n",
            "DEBUG:Parsing_Data:########7266599\n",
            "DEBUG:Parsing_Data:########7266597\n",
            "DEBUG:Parsing_Data:########7266452\n",
            "DEBUG:Parsing_Data:########7266446\n",
            "DEBUG:Parsing_Data:########7266444\n",
            "DEBUG:Parsing_Data:########7266439\n",
            "DEBUG:Parsing_Data:########7266420\n",
            "DEBUG:Parsing_Data:########7266415\n",
            "DEBUG:Parsing_Data:########7266413\n",
            "DEBUG:Parsing_Data:########7266387\n",
            "DEBUG:Parsing_Data:########7264897\n",
            "DEBUG:Parsing_Data:########7263299\n",
            "DEBUG:Parsing_Data:########7263238\n",
            "DEBUG:Parsing_Data:########7263214\n",
            "DEBUG:Parsing_Data:########7263180\n",
            "DEBUG:Parsing_Data:########7259521\n",
            "DEBUG:Parsing_Data:########7257933\n",
            "DEBUG:Parsing_Data:########7257744\n",
            "DEBUG:Parsing_Data:########7254925\n",
            "DEBUG:Parsing_Data:########7254293\n",
            "DEBUG:Parsing_Data:########7254289\n",
            "DEBUG:Parsing_Data:########7254286\n",
            "DEBUG:Parsing_Data:########7254284\n",
            "DEBUG:Parsing_Data:########7254278\n",
            "DEBUG:Parsing_Data:########7253222\n",
            "DEBUG:Parsing_Data:########7252939\n",
            "DEBUG:Parsing_Data:########7252822\n",
            "DEBUG:Parsing_Data:########7252614\n",
            "DEBUG:Parsing_Data:########7252285\n",
            "DEBUG:Parsing_Data:########7251480\n",
            "DEBUG:Parsing_Data:########7250064\n",
            "DEBUG:Parsing_Data:########7249246\n",
            "DEBUG:Parsing_Data:########7248803\n",
            "DEBUG:Parsing_Data:########7248799\n",
            "DEBUG:Parsing_Data:########7248797\n",
            "DEBUG:Parsing_Data:########7247401\n",
            "DEBUG:Parsing_Data:########7247387\n",
            "DEBUG:Parsing_Data:########7247380\n",
            "DEBUG:Parsing_Data:########7246950\n",
            "DEBUG:Parsing_Data:########7246897\n",
            "DEBUG:Parsing_Data:########7246896\n",
            "DEBUG:Parsing_Data:########7246891\n",
            "DEBUG:Parsing_Data:########7246845\n",
            "DEBUG:Parsing_Data:########7246843\n",
            "DEBUG:Parsing_Data:########7245585\n",
            "DEBUG:Parsing_Data:########7245417\n",
            "DEBUG:Parsing_Data:########7245401\n",
            "DEBUG:Parsing_Data:########7245400\n",
            "DEBUG:Parsing_Data:########7245397\n",
            "DEBUG:Parsing_Data:########7245376\n",
            "DEBUG:Parsing_Data:########7243801\n",
            "DEBUG:Parsing_Data:########7243475\n",
            "DEBUG:Parsing_Data:########7243123\n",
            "DEBUG:Parsing_Data:########7242761\n",
            "DEBUG:Parsing_Data:########7242719\n",
            "DEBUG:Parsing_Data:########7241782\n",
            "DEBUG:Parsing_Data:########7241763\n",
            "DEBUG:Parsing_Data:########7241753\n",
            "DEBUG:Parsing_Data:########7241741\n",
            "DEBUG:Parsing_Data:########7241083\n",
            "DEBUG:Parsing_Data:########7239519\n",
            "DEBUG:Parsing_Data:########7239388\n",
            "DEBUG:Parsing_Data:########7238951\n",
            "DEBUG:Parsing_Data:########7237165\n",
            "DEBUG:Parsing_Data:########7236986\n",
            "DEBUG:Parsing_Data:########7236584\n",
            "DEBUG:Parsing_Data:########7233483\n",
            "DEBUG:Parsing_Data:########7233473\n",
            "DEBUG:Parsing_Data:########7231783\n",
            "DEBUG:Parsing_Data:########7219560\n",
            "DEBUG:Parsing_Data:########7217660\n",
            "DEBUG:Parsing_Data:########7193780\n",
            "DEBUG:Parsing_Data:########7266485\n",
            "DEBUG:Parsing_Data:########7266146\n",
            "DEBUG:Parsing_Data:########7266135\n",
            "DEBUG:Parsing_Data:########7266131\n",
            "DEBUG:Parsing_Data:########7265867\n",
            "DEBUG:Parsing_Data:########7265851\n",
            "DEBUG:Parsing_Data:########7265847\n",
            "DEBUG:Parsing_Data:########7265845\n",
            "DEBUG:Parsing_Data:########7265837\n",
            "DEBUG:Parsing_Data:########7265833\n",
            "DEBUG:Parsing_Data:########7265793\n",
            "DEBUG:Parsing_Data:########7265564\n",
            "DEBUG:Parsing_Data:########7265234\n",
            "DEBUG:Parsing_Data:########7265156\n",
            "DEBUG:Parsing_Data:########7264971\n",
            "DEBUG:Parsing_Data:########7264938\n",
            "DEBUG:Parsing_Data:########7264930\n",
            "DEBUG:Parsing_Data:########7264800\n",
            "DEBUG:Parsing_Data:########7264795\n",
            "DEBUG:Parsing_Data:########7264783\n",
            "DEBUG:Parsing_Data:########7264779\n",
            "DEBUG:Parsing_Data:########7264771\n",
            "DEBUG:Parsing_Data:########7264722\n",
            "DEBUG:Parsing_Data:########7264627\n",
            "DEBUG:Parsing_Data:########7264613\n",
            "DEBUG:Parsing_Data:########7264612\n",
            "DEBUG:Parsing_Data:########7264607\n",
            "DEBUG:Parsing_Data:########7264600\n",
            "DEBUG:Parsing_Data:########7264599\n",
            "DEBUG:Parsing_Data:########7264595\n",
            "DEBUG:Parsing_Data:########7264570\n",
            "DEBUG:Parsing_Data:########7264559\n",
            "DEBUG:Parsing_Data:########7264534\n",
            "DEBUG:Parsing_Data:########7264522\n",
            "DEBUG:Parsing_Data:########7264494\n",
            "DEBUG:Parsing_Data:########7264456\n",
            "DEBUG:Parsing_Data:########7264453\n",
            "DEBUG:Parsing_Data:########7264452\n"
          ],
          "name": "stderr"
        }
      ]
    },
    {
      "cell_type": "markdown",
      "metadata": {
        "colab_type": "text",
        "id": "BKjzAIDyPyKb"
      },
      "source": [
        "# TODO\n",
        "\n",
        "- how to treat sesarch terms, such as :\"mhealth or m-health\" and \"web*\""
      ]
    },
    {
      "cell_type": "markdown",
      "metadata": {
        "id": "LGuZ8SuKeqUc",
        "colab_type": "text"
      },
      "source": [
        "# Reference\n",
        "\n",
        "[1]Search Field Tags:  https://www.nlm.nih.gov/bsd/disted/pubmedtutorial/020_710.html"
      ]
    }
  ]
}
