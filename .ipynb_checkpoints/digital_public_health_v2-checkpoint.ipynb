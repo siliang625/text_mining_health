{
 "cells": [
  {
   "cell_type": "markdown",
   "metadata": {
    "colab_type": "text",
    "id": "view-in-github"
   },
   "source": [
    "<a href=\"https://colab.research.google.com/github/siliang625/text_mining_health/blob/master/digital_public_health_v2.ipynb\" target=\"_parent\"><img src=\"https://colab.research.google.com/assets/colab-badge.svg\" alt=\"Open In Colab\"/></a>"
   ]
  },
  {
   "cell_type": "markdown",
   "metadata": {
    "colab_type": "text",
    "id": "AqmfF1L8JjNw"
   },
   "source": [
    "# Problem Statement\n",
    "\n",
    "Example using esearch to extract a list of related articles given search term provided by Alice, then using efetch to extract metadata for those articles (from Extract_metadata notebook)\n"
   ]
  },
  {
   "cell_type": "code",
   "execution_count": 0,
   "metadata": {
    "colab": {
     "base_uri": "https://localhost:8080/",
     "height": 51
    },
    "colab_type": "code",
    "id": "CO7waclD3H__",
    "outputId": "8bee57bd-6eea-4886-db0c-12ab5b2ce7d4"
   },
   "outputs": [
    {
     "name": "stdout",
     "output_type": "stream",
     "text": [
      "Requirement already satisfied: BeautifulSoup4 in /usr/local/lib/python3.6/dist-packages (4.6.3)\n",
      "Requirement already satisfied: lxml in /usr/local/lib/python3.6/dist-packages (4.2.6)\n"
     ]
    }
   ],
   "source": [
    "#!pip install BeautifulSoup4"
   ]
  },
  {
   "cell_type": "code",
   "execution_count": 5,
   "metadata": {
    "colab": {},
    "colab_type": "code",
    "id": "bM63Jrh_3IAJ"
   },
   "outputs": [],
   "source": [
    "%matplotlib inline\n",
    "import os\n",
    "import numpy as np\n",
    "import pandas as pd\n",
    "import matplotlib.pyplot as plt\n",
    "import sys\n",
    "np.set_printoptions(threshold=80, edgeitems=50)\n",
    "from bs4 import BeautifulSoup\n",
    "from collections import namedtuple\n",
    "import codecs\n",
    "import re\n",
    "import time\n",
    "import json\n",
    "import requests\n",
    "from urllib.request import urlopen"
   ]
  },
  {
   "cell_type": "markdown",
   "metadata": {
    "colab_type": "text",
    "id": "K2rlXq6S-r5h"
   },
   "source": [
    "# key word search\n",
    "we will use 'public health' as a sample search term. Sample query: https://eutils.ncbi.nlm.nih.gov/entrez/eutils/esearch.fcgi?db=pmc&term=public%20health\n",
    "\n"
   ]
  },
  {
   "cell_type": "code",
   "execution_count": 0,
   "metadata": {
    "colab": {},
    "colab_type": "code",
    "id": "iff6zF6M-nad"
   },
   "outputs": [],
   "source": [
    "base_url_key_word = \"https://eutils.ncbi.nlm.nih.gov/entrez/eutils/esearch.fcgi?db=pmc&term=public%20health\""
   ]
  },
  {
   "cell_type": "code",
   "execution_count": 0,
   "metadata": {
    "colab": {},
    "colab_type": "code",
    "id": "Sltr7sNa-nRm"
   },
   "outputs": [],
   "source": [
    "page_kw = urlopen(base_url_key_word)\n",
    "soup_kw = BeautifulSoup(page_kw, \"xml\")"
   ]
  },
  {
   "cell_type": "code",
   "execution_count": 0,
   "metadata": {
    "colab": {
     "base_uri": "https://localhost:8080/",
     "height": 54
    },
    "colab_type": "code",
    "id": "RsA-f-KQ_ud0",
    "outputId": "83e0cc07-4f57-4b82-e3dd-d9b081bbbef0"
   },
   "outputs": [
    {
     "data": {
      "text/plain": [
       "'1960797200\\n7227790\\n7227436\\n7227427\\n7227414\\n7227382\\n7227373\\n7226536\\n7226223\\n7226038\\n7225773\\n7225723\\n7225607\\n7225559\\n7225364\\n7225352\\n7225339\\n7225331\\n7225315\\n7225311\\n7225297\\n public health \"public health\"[MeSH Terms] OR (\"public\"[All Fields] AND \"health\"[All Fields]) OR \"public health\"[All Fields]   \"public health\"[MeSH Terms] MeSH Terms 1186646 Y   \"public\"[All Fields] All Fields 1397349 N   \"health\"[All Fields] All Fields 3262233 N  AND GROUP OR  \"public health\"[All Fields] All Fields 969981 N  OR GROUP \"public health\"[MeSH Terms] OR (\"public\"[All Fields] AND \"health\"[All Fields]) OR \"public health\"[All Fields]'"
      ]
     },
     "execution_count": 34,
     "metadata": {
      "tags": []
     },
     "output_type": "execute_result"
    }
   ],
   "source": [
    "# get text form of everything in the xml file\n",
    "soup_kw.get_text()"
   ]
  },
  {
   "cell_type": "markdown",
   "metadata": {
    "colab_type": "text",
    "id": "LhL8FxiwFB1u"
   },
   "source": [
    "The query can only return 20 related article ids as a upper limit, the actural amount of related articles is way bigger (eg: 1960797)"
   ]
  },
  {
   "cell_type": "code",
   "execution_count": 0,
   "metadata": {
    "colab": {
     "base_uri": "https://localhost:8080/",
     "height": 34
    },
    "colab_type": "code",
    "id": "RYwRkCKe_ubi",
    "outputId": "d3782da7-c36d-40b0-c730-fee763bdca0e"
   },
   "outputs": [
    {
     "data": {
      "text/plain": [
       "'1960797'"
      ]
     },
     "execution_count": 29,
     "metadata": {
      "tags": []
     },
     "output_type": "execute_result"
    }
   ],
   "source": [
    "# total ids in the database\n",
    "soup_kw.find('Count').text"
   ]
  },
  {
   "cell_type": "markdown",
   "metadata": {
    "colab_type": "text",
    "id": "13_fgCDILDrL"
   },
   "source": [
    "Let's get a list of related article ids return by the query:"
   ]
  },
  {
   "cell_type": "code",
   "execution_count": 0,
   "metadata": {
    "colab": {
     "base_uri": "https://localhost:8080/",
     "height": 357
    },
    "colab_type": "code",
    "id": "L9f0z0Mt_uYp",
    "outputId": "83209ffb-d989-4696-bbe6-de0879209803"
   },
   "outputs": [
    {
     "name": "stdout",
     "output_type": "stream",
     "text": [
      "7227790\n",
      "7227436\n",
      "7227427\n",
      "7227414\n",
      "7227382\n",
      "7227373\n",
      "7226536\n",
      "7226223\n",
      "7226038\n",
      "7225773\n",
      "7225723\n",
      "7225607\n",
      "7225559\n",
      "7225364\n",
      "7225352\n",
      "7225339\n",
      "7225331\n",
      "7225315\n",
      "7225311\n",
      "7225297\n"
     ]
    }
   ],
   "source": [
    "id_list = soup_kw.find_all('Id')\n",
    "return_ids = []\n",
    "for each_id in id_list:\n",
    "    print(each_id.text)\n",
    "    return_ids.append(each_id.text)"
   ]
  },
  {
   "cell_type": "markdown",
   "metadata": {
    "colab_type": "text",
    "id": "OkjiRpA5OI6L"
   },
   "source": [
    "How 'public health' is queried in the databse? Based on the query results below, it uses 3 terms ('public', 'health', 'public health') and combine the search result.\n",
    "```\n",
    "# This is formatted as code\n",
    "<TranslationStack>\n",
    "<TermSet>\n",
    "<Term>\"public health\"[MeSH Terms]</Term>\n",
    "<Field>MeSH Terms</Field>\n",
    "<Count>1186646</Count>\n",
    "<Explode>Y</Explode>\n",
    "</TermSet>\n",
    "<TermSet>\n",
    "<Term>\"public\"[All Fields]</Term>\n",
    "<Field>All Fields</Field>\n",
    "<Count>1397349</Count>\n",
    "<Explode>N</Explode>\n",
    "</TermSet>\n",
    "<TermSet>\n",
    "<Term>\"health\"[All Fields]</Term>\n",
    "<Field>All Fields</Field>\n",
    "<Count>3262233</Count>\n",
    "<Explode>N</Explode>\n",
    "</TermSet>\n",
    "<OP>AND</OP>\n",
    "<OP>GROUP</OP>\n",
    "<OP>OR</OP>\n",
    "<TermSet>\n",
    "<Term>\"public health\"[All Fields]</Term>\n",
    "<Field>All Fields</Field>\n",
    "<Count>969981</Count>\n",
    "<Explode>N</Explode>\n",
    "</TermSet>\n",
    "<OP>OR</OP>\n",
    "<OP>GROUP</OP>\n",
    "</TranslationStack>\n",
    "<QueryTranslation>\n",
    "\"public health\"[MeSH Terms] OR (\"public\"[All Fields] AND \"health\"[All Fields]) OR \"public health\"[All Fields]\n",
    "</QueryTranslation>\n",
    "```\n",
    "\n"
   ]
  },
  {
   "cell_type": "markdown",
   "metadata": {
    "colab_type": "text",
    "id": "-F3DCCuJ3IAR"
   },
   "source": [
    "# full text search\n",
    "The sample query provided below aloows as to extract the full text of the articles, as well as some of the metadata (eg: author, abstract, reference, etc.)\n",
    "\n",
    "Sample query: https://eutils.ncbi.nlm.nih.gov/entrez/eutils/efetch.fcgi?db=pmc&id=7225297"
   ]
  },
  {
   "cell_type": "markdown",
   "metadata": {
    "colab_type": "text",
    "id": "ZrfXBBNeMWnT"
   },
   "source": [
    "Let's extract the full content of the sample xml form"
   ]
  },
  {
   "cell_type": "code",
   "execution_count": 0,
   "metadata": {
    "colab": {},
    "colab_type": "code",
    "id": "usdhGg6h3IAS"
   },
   "outputs": [],
   "source": [
    "base_url = \"https://eutils.ncbi.nlm.nih.gov/entrez/eutils/efetch.fcgi?db=pmc&id=\""
   ]
  },
  {
   "cell_type": "code",
   "execution_count": 0,
   "metadata": {
    "colab": {},
    "colab_type": "code",
    "id": "H4nG6Kt-3IAa"
   },
   "outputs": [],
   "source": [
    "pmc_id = \"7225297\""
   ]
  },
  {
   "cell_type": "code",
   "execution_count": 0,
   "metadata": {
    "colab": {},
    "colab_type": "code",
    "id": "Q5EQMR2o3IAd"
   },
   "outputs": [],
   "source": [
    "target_url = base_url + pmc_id"
   ]
  },
  {
   "cell_type": "code",
   "execution_count": 0,
   "metadata": {
    "colab": {},
    "colab_type": "code",
    "id": "RpwpDhro3IAk"
   },
   "outputs": [],
   "source": [
    "page = urlopen(target_url)\n",
    "soup = BeautifulSoup(page, \"xml\")"
   ]
  },
  {
   "cell_type": "code",
   "execution_count": 0,
   "metadata": {
    "colab": {
     "base_uri": "https://localhost:8080/",
     "height": 54
    },
    "colab_type": "code",
    "id": "vP7Z97aD3IAp",
    "outputId": "4c4eac06-a3f0-44fb-a370-fe381706b3f2"
   },
   "outputs": [
    {
     "data": {
      "text/plain": [
       "\"\\n\\n\\n\\nFront Pediatr\\nFront Pediatr\\nFront. Pediatr.\\n\\nFrontiers in Pediatrics\\n\\n2296-2360\\n\\nFrontiers Media S.A.\\n\\n\\n\\n7225297\\n10.3389/fped.2020.00207\\n\\n\\nPediatrics\\n\\nPerspective\\n\\n\\n\\n\\nA Perspective on Management of Limb Fractures in Obese Children: Is It Time for Dedicated Guidelines?\\n\\n\\n\\n\\nDonati\\nFabrizio\\n\\n\\n1\\n\\n\\n\\n\\n\\nCostici\\nPier Francesco\\n\\n\\n1\\n\\n\\n\\n\\nDe Salvatore\\nSergio\\n\\n\\n2\\n\\n\\n\\n\\n\\nBurrofato\\nAaron\\n\\n\\n1\\n\\n\\n\\n\\nMicciulli\\nEnrico\\n\\n\\n1\\n\\n\\n\\n\\nMaiese\\nAniello\\n\\n\\n3\\n\\n\\n*\\n\\n\\n\\n\\n\\nSantoro\\nPaola\\n\\n\\n3\\n\\n\\n\\n\\n\\nLa Russa\\nRaffaele\\n\\n\\n3\\n\\n\\n\\n\\n1Department of General Surgery, Orthopedic Institute, Bambino Gesù Children Hospital, Rome, Italy\\n2Department of Orthopaedic and Trauma Surgery, Campus Bio-Medico University of Rome, Rome, Italy\\n3Department of Anatomical, Histological, Forensic and Orthopaedic Sciences, Sapienza University of Rome, Rome, Italy\\n\\n\\nEdited by: Marzia Duse, Sapienza University of Rome, Italy\\n\\n\\nReviewed by: Mariano Cingolani, University of Macerata, Italy; Isabella Aquila, University of Catanzaro, Italy\\n\\n*Correspondence: Aniello Maiese aniello.maiese@uniroma1.it\\n\\nThis article was submitted to General Pediatrics and Pediatric Emergency Care, a section of the journal Frontiers in Pediatrics\\n\\n\\n\\n08\\n5\\n2020\\n\\n\\n2020\\n\\n8\\n207\\n\\n\\n15\\n11\\n2019\\n\\n\\n07\\n4\\n2020\\n\\n\\n\\nCopyright © 2020 Donati, Costici, De Salvatore, Burrofato, Micciulli, Maiese, Santoro and La Russa.\\n2020\\nDonati, Costici, De Salvatore, Burrofato, Micciulli, Maiese, Santoro and La Russa\\n\\nThis is an open-access article distributed under the terms of the Creative Commons Attribution License (CC BY). The use, distribution or reproduction in other forums is permitted, provided the original author(s) and the copyright owner(s) are credited and that the original publication in this journal is cited, in accordance with accepted academic practice. No use, distribution or reproduction is permitted which does not comply with these terms.\\n\\n\\n\\nLimb fractures are the most common injuries in pediatric orthopedics. Early and late complications are often not preventable, even when providing the best treatment; furthermore, these injuries are largely implicated in medico-legal claims. The development of evidence-based guidelines is one of the main goals of medical research. Approved guidelines for diagnosis, treatment, and follow up are fundamental to obtain the best results in medical practice. Guidelines in pediatric traumatology have been developed, even though specific conditions, like obesity, could influence their drafting. The cast and fixation systems usually applied in pediatric fractures provide a growth plate sparing, a satisfying reduction, and good stress resistance, mostly because of a lower bodyweight compared to adults. Several studies suggest that obesity influences the bone quality, the management, and the outcomes in cases of fracture. High body weight increases the risk of trauma, modifies fracture characteristics, and increases the risk of incomplete reduction. Fractures in obese children have a higher rate of complications, regardless of conservative or surgical treatment. In obese children, surgical treatment is often used more frequently than with non-obese children. Such considerations are valid both for lower and upper limb fractures. The aim of this paper is to discuss recent scientific literature and provide a perspective on the benefits of a dedicated approach in the management of obese children. Guideline updates could improve healthcare quality in a pediatric setting, and also reduce medico-legal implications.\\n\\n\\nchildhood obesity\\northopedic\\nlimb fractures\\ntrauma surgery\\nclinical practice guidelines\\n\\n\\n\\n\\n\\n\\n\\n\\n\\n\\n\\n\\n\\nIntroduction\\nLimb fractures are the most common injuries in pediatric orthopedics. Early and late complications are often not preventable, even when providing the best treatment; furthermore, these illnesses are often implicated in medico-legal claims. The development of evidence-based guidelines (EBG) is one of the main goals of medical research. Approved guidelines are fundamental to improve medical practice, especially in the management of specific diseases. The quality of guidelines strictly relies on the strength of its scientific evidence, which is often insufficient in pediatric orthopedic publications (1). A wide standardization of treatment is not always possible in medicine since specific conditions often require adjustments to the normal standard of care. One of these conditions is pediatric obesity (defined as a Body Mass Index, BMI, at or above the 95th percentile for children and teens of the same age and sex). Both obesity and polytrauma are major health problems. Despite rate of trauma admissions seemingly similar between obese and healthy patients (2), several studies found conflicting results regarding possible differences in injury patterns, severity, and outcomes (3, 4). Obese patients have different bone features (5) than healthy patients, and it could lead to different problems. Polytrauma is associated with systemic responses, and these may be modified in obese patients (6). Furthermore, obesity is associated with increases in the relative risk of deep venous thrombosis (DTV), pulmonary embolism (4), rate of decubitus ulcers (7), and other complications. It has been demonstrated that a higher rate of failure of non-surgical management of severe bone fractures is found with obese patients compared with normal-weighted children's fractures (8).\\nThe aim of this paper is to highlight differences between fractured obese and non-obese pediatric patients and to provide a perspective on the benefits of a dedicated approach. All these differences between obese and non-obese pediatric patients emphasize the difficulty involved in creating dedicated EBG in pediatric trauma surgery, focused on both age and weight.\\n\\n\\nPerspectives on Obese Children's Fractures\\nSeveral studies suggest that obesity could influence the natural history of pediatric limb fractures, modifying the standard treatment management (9, 10). A high body weight contributes to increasing the fracture risk and modifying bone proprieties, thus resulting in a less strong bone and consequently a higher risk of fracture. Obesity affects the bone quality and, consequently, the pattern of fractures. Dimitri et al. (11) have demonstrated that, despite an increased fracture risk, obese children have a higher bone mass; otherwise they have a lower total body and regional bone mass relative to their body size (12). Moreover, with the use of peripheral quantitative computed tomography in skeletal imaging, Cheung et al. (13) have shifted the focus in evaluating the changes in the architecture of trabeculae that result in a change in bone quality and strength. The results show that an increased body size is not related to increased bone strength. Trabecular bone in obese children appears to undergo a trabecular reorganization. In fact, the increasing of trabecula with a reduction in trabecular spacing confers a theorical structural advantage (14, 15). In addition to altered mechanical proprieties, there are differences in the onset of puberty due to the vitamin D deficiency and the direct effects of adipokines, such as leptin (16).\\nA specific correlation between BMI and site of fracture has been demonstrated. A recent study (17) conducted on 449 young patients showed an increased rate of upper and lower limb fractures in obese girls and a higher rate of lower limb fractures in obese boys compared to the normal weighted group. Ryan et al. (18) reported a higher rate of forearm fractures from ground-level falls in children with increased weight status. Greater body mass index is associated with increased odds of lower extremity fractures and pain issues, such as musculoskeletal pain complaints, sprains, and dislocation (19). Kessler et al. (20) examined the association between body weight and lower extremity fracture site and found that obesity was associated with increased odds of fracture of the foot, ankle, leg, and knee, particularly in patients between 6 and 11 years old. This study also showed there were no associations between obesity and fracture risk for the femur or hip.\\nObesity causes several complications in the management of fractures. Hirsch et al. (21) examined the rates of oxygen desaturation during procedural sedation for manipulative reduction of long bone fractures. They found obese patients had greater desaturation rates (9.9% vs. 5.4%) than the healthy population. Pediatric obesity is also associated with an increased death rate following severe fractures (22).\\n\\nUpper Extremity Fractures\\nPediatric forearm fractures commonly involve the radius and ulna. They are the most frequent pediatric fractures and several studies (7) have demonstrated a higher incidence of extremity fractures in obese patients (55% vs. 40%). The same study also noted a greater rate of surgical treatment in obese pediatric patients than in non-obese ones. The study of Pomerantz et al. (23) found no differences in the incidences of upper extremity fractures in obese and healthy patients (36.3 vs. 36.3%); however, they found a difference regarding the lower extremity (obese patients had a greater rate at 42% vs. 30%). Auer et al. (24) reviewed 157 distal radius fractures and highlighted that obese patients were more likely to require a second reduction (28% vs. 12%). Regarding the conservative treatment, studies by Okoroafor et al. (8) and DeFrancesco et al. (25) showed that obese patients with diaphyseal forearm fractures (both ulna and radius) were more likely to have an incomplete reduction after cast treatment (Figure 1).\\n\\nFigure 1\\n\\nLeft forearm fracture in 11-year-old obese patient, treated conservatively (A). A 1-month X-ray follow-up shows a significant loss of reduction was evident, with improved angulation of the fragments (B).\\n\\n\\n\\nConcerning elbow fractures, in a study of 992 patients, Fornari et al. (26) found that lateral condyle fractures were more common in obese patients than non-obese patients (37% vs. 19%). In the same study, they found that the percentage of obese patients affected by a supracondylar humerus fracture was similar to normal weighted ones.\\nThe loss of reduction is also a problem that affects elbow fractures. Chang et al. (27) showed, in a study of 107 patients affected by type 3 supracondylar humerus fractures, a correlation between obesity and a higher risk to develop postoperative loss of reduction and varus alignment. Sangkomkamhang et al. (28) studied 256 patients with supracondylar humerus fractures treated with open and closed reduction and found loss of reduction in 14.8%. Even though the result of the study was influenced by poor surgical technique, they found an association between BMI > 25 kg/m2 and increased risk of loss of reduction. Li et al. (29) described a correlation between age, obesity, and need of open reduction in patients affected by supracondylar humerus fractures. In fact, they found that obese patients between 8 and 12 years old were over four times more likely to require open reduction compared with healthy patients. There were no differences in patients between 2 and 7 years old (Figure 1).\\n\\n\\nLower Extremity Fractures\\nBeing overweight increases the odds of sustaining injury to lower extremities (30); a review on 3,232 cases of children involved in motor vehicle collisions found that the obese population had an increased risk of fractures compared to a healthy one. Furthermore, the prognostic study conducted by Gilbert et al. (31) reported that obese patients were twice as likely to have fractures involving the physis compared to non-obese patients in obese patients (with a relative risk of RR 2.2, 95% confidence interval, 1.25–3.89). Authors analyzed patients of 2–14 years of age who had been admitted following high-energy trauma alerts. Three hundred and ninety seven patients with femur and/or tibia fractures were identified. Typical causes of the trauma included motor vehicle crashes, falls from a height, and being struck by a vehicle. Weight, height (when available), age, and fracture location and method of treatment were recorded. Results showed that obese patients had a higher proportion of epiphyseal fractures at all locations, and the differences reached statistical significance for the proximal femur. The increased propensity for physeal fracture in obese patients is likely to be multi-factorial including physiologic and mechanical influences. Fat may have endocrine effects on bone through obesity-related pathways; obesity may also place chronic excessive stress on the bones and cartilage as well as the supporting ligaments and tendons. Kessler et al. (20) performed a huge cohort study (almost 1 million patients), dividing patients by age and weight, and found a linear correlation between a patient's weight and risk of fracture in the lower limbs. Extremely obese children (BMI > 35 kg/m2) had 1.4 odds of fracture, while moderately obese (BMI 30–35 kg/m2) had 1.23 odds of sustaining a fracture compared to the healthy population. Leet et al. (9) demonstrated that obese children with lower limb fractures have an increased rate of postoperative complications compared with non-obese ones. They performed an epidemiologic study of 356 patients and reported that obese patients with femur and tibia fractures have more severe injuries, predisposing them to greater morbidity and mortality.\\nConcerning the risk of loss of reduction when treating femur fractures with elastic nails, there are conflicting results. Several studies found a correlation between obese patients and an increased risk of loss of reduction and malunion (32, 33). Conversely, a study made by Nielsen et al. (34) reported no association between BMI and malunion. Such results could be influenced by the choice of different surgical treatment in patients with a weight higher than 45 kilograms where other more stable and invasive fixation systems are indicated.\\nTibia fractures have not demonstrated strict weight limitations when using elastic nails. Goodbody et al. (35) reviewed 95 adolescents with tibia fractures without finding a significant difference in the rate of malunion or healing time between obese and non-obese patients.\\nNo correlations between obesity and complications relating to external fixation of lower extremities were found in the study by Fedorak et al. (36).\\nKessler et al. (20) found the strongest correlation between obesity and fractures of the foot and ankle, even though few studies have been published about these fractures in overweight children.\\n\\n\\n\\nDiscussion\\nThe prevalence of childhood obesity increases every year; in the US the prevalence between 2011 and 2014 was 17.0% (37) and extreme obesity was 5.8%, hence it is necessary to consider the obese population in the guidelines making process because they represent a wide population.\\nIn 1990, Field and Lohr (38) described clinical practice guidelines as “systematically developed statements to assist practitioners and patient decisions about appropriate health care for specific circumstances.” Guidelines are intended to offer a brief instruction on how to provide healthcare services which are up-to-date and in accordance with the latest progress, assisting the clinicians in the decision-making process. An appropriate interpretation and application of guidelines can generate better clinical care and a safer medicolegal strategy. Clinical practice guidelines are considered as one of the most effective tools for the promotion of evidence-based medicine (EBM).\\nEvidence-based medicine (EBM) has been quoted as “the integration of best research evidence with our clinical expertise and our patient's unique values and circumstances.” (39). The application of evidence-based medicine in clinical practice is an approach to patient care that emphasizes knowledge of the best clinical evidence available for making the correct diagnosis and treatments. There are three fundamental principles of EBM. The first is that the optimal clinical decision requires awareness of the best and last available evidences. The second is that the EBM provides guidance to decide whether evidence is reliable. The last is that the evidence alone is never sufficient to make clinical decisions. These reasons make the developing of EBM guidelines a difficult and time-consuming process (40).\\nThe World Health Organization has stated that governments must take responsibility for their healthcare systems and has proposed an active involvement in the quality of services provided (41).\\nIn the Italian perspective, the government agenda for healthcare included the enactment of a law (law n° 24, 2017) containing provisions relating to the institution of a National Guidelines System. This law encourages healthcare providers to use clinical practice guidelines included in the official lists, to ensure uniformity and consistency of healthcare throughout the country. The Italian Ministry of Health promotes healthcare safety as a relevant part of the “right to health.”\\nIn pediatric orthopedics there are few high-quality level publications, making the guidelines creation process difficult. In fact, the majority of studies available are levels III or IV of evidence (42). Moreover, the pediatric population needs a very long time follow up to asses a good long-term result. It is important to create dedicated committees to produce pediatric guidelines. In fact, the American Academy of Orthopedic Surgeons (AAOS) has a dedicated committee that produces clinical practice guidelines on a variety of pediatric issues (43) and it should be one of the most important goals of all the national scientific societies. However, few studies are focused on other aspects of patients rather than age and fracture site or type. Weight should be considered as a separate criterion in pediatric fracture guidelines, and not only in lower limb fractures.\\nIt is mandatory to create a standard classification of pediatric fractures to make specific guidelines and to elaborate on the decision algorithm when choosing the fixation system. Various authors and scientific societies tried to do it, but probably the most accurate classification was provided by AO society (44). Another important classification was made by Salter-Harris and is focused on growth plate injuries (45). The cast and fixation systems usually applied in pediatric fractures provide a growth plate sparing, a satisfying reduction, and good stress resistance, mostly because of a lower bodyweight compared to adults. Fractures in obese children have a higher rate of complications independently from conservative or surgical treatment. Surgical indications are more common than in normal weighted children and are generally more invasive. Such considerations are valid both for lower and upper limb fractures.\\nThe rising rate of obesity is one of the most urgent challenges to public health; the number of obese children (aged 0 to 5 years) increased to 41 million globally in 2016. Childhood obesity is associated with a range of serious health complications and an increased risk of premature onset of illnesses such as diabetes and heart diseases. Obesity increases the risk of malpractice litigation, and obesity-related claims have dangerously increased in the last decade.\\nObese children have genetic, hormonal, and clinical differences compared to healthy patients. Obesity is associated with altered metabolic patterns and changes in bone composition (5, 10, 13). The altered bone structure and bone mass accrual are related to higher fracture rates, and these altered bones are more likely to sustain growth plate fractures in the limbs. A correlation between a high BMI (>30 kg/m2) and increased risk in limb fractures has been proven. It has also been proven that obese patients have a site-specific weakness of bone forearms exposing them to high risk of re-fractures (5). Moreover, they have an increased risk for complications (6), respiratory diseases that force prolonged ventilation (46), and an increased rate of mortality (9). Obese children have a higher risk of loss of reduction of forearm fractures treated both by casting and open reduction (3). Obesity is also related to an increased rate of open reduction and internal fixation of limb fractures (10).\\n\\n\\nConclusion\\nAccording to our perspective, standard guidelines are not always applicable in obese children, who often require specific care strategies. As a consequence, we highlight the necessity of periodic guideline updating based on literature review, allowing a patient-specific medical approach. In particular, the development of dedicated guidelines for the management of limb fractures in obese children could avoid several legal implications.\\n\\n\\nAuthor Contributions\\nFD, PC, AB, and EM designed the study and wrote the manuscript. SD and PS provided data from literature. RL and AM revised the manuscript.\\n\\n\\nConflict of Interest\\nThe authors declare that the research was conducted in the absence of any commercial or financial relationships that could be construed as a potential conflict of interest. The handling Editor declared a shared affiliation, though no other collaboration, with several of the authors [AM, PS, RL].\\n\\n\\n\\n\\nReferences\\n\\n1.\\nSandersJOBozicKJGlassmanSDJevsevarDSWeberKL. Clinical practice guidelines: their use, misuse, and future directions. J Am Acad Orthop Surg. (2014) 22:135–44. 10.5435/JAAOS-22-03-13524603823\\n\\n\\n2.\\nBrownCVRNevilleALSalimARheePCologneKDemetriadesD. The impact of obesity on severely injured children and adolescents. J Pediatr Surg. (2006) 41:88–91. 10.1016/j.jpedsurg.2005.10.01216410114\\n\\n\\n3.\\nAshleyPGilbertSR\\nObesity in pediatric trauma. Orthop. Clin North Am. (2018) 49:335–43. 10.1016/j.ocl.2018.02.007\\n\\n\\n4.\\nWittCEArbabiSNathensABVavilalaMSRivaraFP. Obesity in pediatric trauma. J Pediatr Surg. (2017) 52:628–32. 10.1016/j.jpedsurg.2016.11.03727914588\\n\\n\\n5.\\nGouldingAGrantAMWilliamsSM. Bone and body composition of children and adolescents with repeated forearm fractures. J Bone Miner Res. (2005). 20:2090–6. 10.1359/JBMR.05082016294262\\n\\n\\n6.\\nBackstromICMacLennanPASawyerJRCreekATRueLWGilbertSR. Pediatric obesity and traumatic lower-extremity long-bone fracture outcomes. J Trauma Acute Care Surg. (2012) 73:966–71. 10.1097/TA.0b013e31825a78fa22902734\\n\\n\\n7.\\nRanaARMichalskyMPTeichSGronerJICanianoDASchusterDP. Childhood obesity: a risk factor for injuries observed at a level-1 trauma center. J Pediatr Surg. (2009) 44:1601–5. 10.1016/j.jpedsurg.2008.11.06019635312\\n\\n\\n8.\\nOkoroaforUCCannadaLKMcGintyJL. Obesity and failure of nonsurgical management of pediatric both-bone forearm fractures. J Hand Surg. (2017) 42:711–16. 10.1016/j.jhsa.2017.06.00628733098\\n\\n\\n9.\\nLeetAIPichardCPAinMC. Surgical treatment of femoral fractures in obese children: does excessive body weight increase the rate of complications?\\nJ Bone Joint Surg. (2005) 87:2609–13. 10.2106/JBJS.D.0201916322608\\n\\n\\n10.\\nLiNYKalagaraSHerseyAEltoraiAEMDanielsAHCruzAIJr\\nImpact of obesity on operative treatment and inpatient outcomes of paediatric limb fractures. Bone Joint J. (2019) 101B:491–6. 10.1302/0301-620X.101B4.BJJ-2018-0740.R2\\n\\n\\n11.\\nDimitriP. The impact of childhood obesity on skeletal health and development. J Obes Metab Syndr. (2019) 28:4–17. 10.7570/jomes.2019.28.1.431089575\\n\\n\\n12.\\nWetzsteonRJ\\nPetit MA, Macdonald HM, Hughes JM, Beck TJ, McKay HA. Bone structure and volumetric BMD in overweight children: a longitudinal study. J Bone Miner Res. (2008) 23:1946–53. 10.1359/jbmr.08081018684083\\n\\n\\n13.\\nCheungAMAdachiJDHanleyDAKendlerDLDavisonKSJosseR. High-resolution peripheral quantitative computed tomography for the assessment of bone strength and structure: a review by the Canadian Bone Strength Working Group. Curr Osteoporos Rep. (2013). 11:136–46. 10.1007/s11914-013-0140-923525967\\n\\n\\n14.\\nDimitriPJacquesRMPaggiosiMKingDWalshJTaylorZA. Leptin may play a role in bone microstructural alterations in obese children. J Clin Endocrinol Metab. (2015) 100:594–602. 10.1210/jc.2014-319925412414\\n\\n\\n15.\\nFarrJNAminSLeBrasseurNKAtkinsonEJAchenbachSJMcCreadyLK. Body composition during childhood and adolescence: relations to bone strength and microstructure. J Clin Endocrinol Metab. (2014) 99:4641–8. 10.1210/jc.2014-111325243571\\n\\n\\n16.\\nDimitriPBishopNWalshJSEastellR. Obesity is a risk factor for fracture in children but is protective against fracture in adults: a paradox. Bone. (2012) 50:457–66. 10.1016/j.bone.2011.05.01121619952\\n\\n\\n17.\\nValerioGGallèFMancusiCDi OnofrioVGuidaPTramontanoA. Prevalence of overweight in children with bone fractures: a case control study. BMC Pediatr. (2012) 12:166. 10.1186/1471-2431-12-16623088687\\n\\n\\n18.\\nRyanLMTeachSJSearcyKSingerSAWoodRWrightJL\\nThe association between weight status and pediatric forearm fractures resulting from ground-level falls. Pediatr Emerg Care. (2015) 31:835–8. 10.1097/PEC.000000000000062826583933\\n\\n\\n19.\\nAdamsALKesslerJIDeramerianKSmithNBlackMHPorterAH. Associations between childhood obesity and upper and lower extremity injuries. Inj Prev. (2013) 19:191–7. 10.1136/injuryprev-2012-04034122789612\\n\\n\\n20.\\nKesslerJKoebnickCSmithNAdamsA. Childhood obesity is associated with increased risk of most lower extremity fractures. Clin Orthop Relat Res. (2013) 471:1199–207. 10.1007/s11999-012-2621-z23054515\\n\\n\\n21.\\nHirschDGTyoJWrotniakBH. Desaturation in procedural sedation for children with long bone fractures: does weight status matter?\\nAm J Emerg Med. (2017) 35:1060–3. 10.1016/j.ajem.2017.02.03628245939\\n\\n\\n22.\\nKimSJAhnJKimHKKimJH. Obese children experience more extremity fractures than nonobese children and are significantly more likely to die from traumatic injuries. Acta Paediatr. (2016) 105:1152–7. 10.1111/apa.1334327634684\\n\\n\\n23.\\nPomerantzWJTimmNLGittelmanMA. Injury patterns in obese versus nonobese children presenting to a pediatric emergency department. Pediatrics. (2010) 125:681–5. 10.1542/peds.2009-236720194280\\n\\n\\n24.\\nAuerRMazzonePRobinsonLNylandJChanG. Childhood obesity increases the risk of failure in the treatment of distal forearm fractures. J Pediatr Orthop. (2016) 36:e86–8. 10.1097/BPO.000000000000064926398434\\n\\n\\n25.\\nDeFrancescoCRogersBShahA. Obesity increases risk of loss of reduction after casting for diaphyseal fractures of the radius and ulna in children: an observational cohort study. J Orthop Trauma. (2018) 32:e46–51. 10.1097/BOT.000000000000101028902088\\n\\n\\n26.\\nFornariEDSuszterMRoocroftJBastromTEdmondsEWSchlechterJ. Childhood obesity as a risk factor for lateral condyle fractures over supracondylar humerus fractures. Clin Orthop Relat Res. (2013) 471:1193–8. 10.1007/s11999-012-2566-222965259\\n\\n\\n27.\\nChangCHKaoHKLeeWCYangWE. Influence of obesity on surgical outcomes in type III paediatric supracondylar humeral fractures. Injury. (2015) 46:2181–4. 10.1016/j.injury.2015.09.00426429104\\n\\n\\n28.\\nSangkomkamhangTSingjamULeeprakobboonD. Risk factors for loss of fixation in pediatric supracondylar humeral fractures. J Med Assoc. (2014) 97(Suppl. 9):S23–8.25365885\\n\\n\\n29.\\nLiNBruceWJoyceCDeckerNCappelloT. Obesity's influence on operative management of pediatric supracondylar humerus fractures. J Pediatr Orthop. (2018) 38:e118–21. 10.1097/BPO.000000000000112629319660\\n\\n\\n30.\\nPollackKMXieDArbogastKBDurbinDR. Body mass index and injury risk among US children 9–15 years old in motor vehicle crashes. Inj Prev. (2008)14:366–71. 10.1136/ip.2008.01920819074241\\n\\n\\n31.\\nGilbertSMacLennanPBackstromICreekASawyerJ. Altered lower extremity fracture characteristics in obese pediatric trauma patients. J Orthop Trauma. (2015) 29:e12–7. 10.1097/BOT.000000000000013224740109\\n\\n\\n32.\\nLiYStabileKJShiltJS. Biomechanical analysis of titanium elastic nail fixation in a pediatric femur fracture model. J Pediatr Orthop. (2008) 28:874–8. 10.1097/BPO.0b013e31818f113619034181\\n\\n\\n33.\\nWeissJMChoiPGhatanCSkaggsDLKayRM. Complications with flexible nailing of femur fractures more than double with child obesity and weight >50 kg. J Child Orthop. (2009) 3:53–8. 10.1007/s11832-008-0149-219308613\\n\\n\\n34.\\nNielsenEAndrasLMBonsuNGoldsteinRY. The effects of body mass index on treatment of paediatric femur fractures managed with flexible intramedullary nails. J Child Orthop. (2017). 11:393–7. 10.1302/1863-2548.11.17008429081855\\n\\n\\n35.\\nGoodbodyCLeeRFlynnJSankarW. Titanium elastic nailing for pediatric tibia fractures: do older, heavier kids do worse?\\nJ Pediatr Orthop. (2016) 36:472–7. 10.1097/BPO.000000000000048325887826\\n\\n\\n36.\\nFedorakGTCuomoAVOtsukaNY. Does pediatric body mass index affect surgical outcomes of lower-extremity external fixation?\\nJ Pediatr Orthop. (2015) 35:391–4. 10.1097/BPO.000000000000027325075899\\n\\n\\n37.\\nOgdenCLCarrollMDLawmanHGFryarCDKruszon-MoranDKitBK. Trends in obesity prevalence among children and adolescents in the United States, 1988-1994 through 2013-2014. JAMA. (2016) 315:2292–9. 10.1001/jama.2016.636127272581\\n\\n\\n38.\\nFieldMJLohrKN\\nClinical Practice Guidelines: Directions for a New Program. Washington, DC: National Academy Press, Institute of Medicine (1990).\\n\\n\\n39.\\nSackettDRichardsonWRosenbergWHaynesMD\\nEvidence-Based Medicine. How to Practice and Teach EBM. Evidence-Based Medicine. Livingstone: Churchill Livingston (2005).\\n\\n\\n40.\\nGandhiJSSheaKGSponsellerPDBrightonBKGanleyTJ. Evidence-based medicine in pediatric orthopaedics: evidence-based practice committee summary of levels of evidence, clinical practice guidelines, appropriate use criteria, and best practice guidelines. J Pediatr Orthop. (2018) 38:e349–53. 10.1097/BPO.000000000000118529727412\\n\\n\\n41.\\nSaltmanRBFerrousier-DavisO. The concept of stewardship in health policy. Bull WHO. (2000) 78:732–9.10916910\\n\\n\\n42.\\nMulpuriKBrightonBK. Evidence-based medicine and clinical trials in pediatric orthopaedics. J Pediatr Orthop. (2014) 34:S71–3. 10.1097/BPO.000000000000029225207742\\n\\n\\n43.\\nOetgenMEBlatzAMMatthewsA. Impact of clinical practice guideline on the treatment of pediatric femoral fractures in a pediatric hospital. J Bone Joint Surg Am. (2015) 97:1641–6. 10.2106/JBJS.O.0016126491127\\n\\n\\n44.\\nVaughanNTweedJGreenwellCNotricaDMLanglaisCSPeterSD. The impact of morbid obesity on solid organ injury in children using the ATOMAC protocol at a pediatric level I trauma center. J Pediatr Surg. (2017) 52:345–8. 10.1016/j.jpedsurg.2016.09.00227707653\\n\\n\\n45.\\nJoerisALutzNBlumenthalASlongoTAudigéL\\nThe AO pediatric comprehensive classification of long bone fractures (PCCF). Acta Orthop. (2017) 88:129–32. 10.1080/17453674.2016.125853327882811\\n\\n\\n46.\\nBrownJHDeLucaSA. Growth plate injuries: salter-Harris classification. Am Fam Physic. (1992) 46:1180–4.1414883\\n\\n\\n\\n\\n\""
      ]
     },
     "execution_count": 36,
     "metadata": {
      "tags": []
     },
     "output_type": "execute_result"
    }
   ],
   "source": [
    "# get text form of everything in the xml file\n",
    "soup.get_text()"
   ]
  },
  {
   "cell_type": "markdown",
   "metadata": {
    "colab_type": "text",
    "id": "z0eFO4N0MqeC"
   },
   "source": [
    "Now, let's extract some metadata form the xml"
   ]
  },
  {
   "cell_type": "markdown",
   "metadata": {
    "colab_type": "text",
    "id": "miJWGg8R3IAv"
   },
   "source": [
    "### article content"
   ]
  },
  {
   "cell_type": "code",
   "execution_count": 0,
   "metadata": {
    "colab": {
     "base_uri": "https://localhost:8080/",
     "height": 479
    },
    "colab_type": "code",
    "id": "lYY3M8VH3IAw",
    "outputId": "a1f7c5b2-88eb-4b79-c27e-9a51fdeb4978"
   },
   "outputs": [
    {
     "name": "stdout",
     "output_type": "stream",
     "text": [
      "Limb fractures are the most common injuries in pediatric orthopedics. Early and late complications are often not preventable, even when providing the best treatment; furthermore, these illnesses are often implicated in medico-legal claims. The development of evidence-based guidelines (EBG) is one of the main goals of medical research. Approved guidelines are fundamental to improve medical practice, especially in the management of specific diseases. The quality of guidelines strictly relies on the strength of its scientific evidence, which is often insufficient in pediatric orthopedic publications (1). A wide standardization of treatment is not always possible in medicine since specific conditions often require adjustments to the normal standard of care. One of these conditions is pediatric obesity (defined as a Body Mass Index, BMI, at or above the 95th percentile for children and teens of the same age and sex). Both obesity and polytrauma are major health problems. Despite rate of trauma admissions seemingly similar between obese and healthy patients (2), several studies found conflicting results regarding possible differences in injury patterns, severity, and outcomes (3, 4). Obese patients have different bone features (5) than healthy patients, and it could lead to different problems. Polytrauma is associated with systemic responses, and these may be modified in obese patients (6). Furthermore, obesity is associated with increases in the relative risk of deep venous thrombosis (DTV), pulmonary embolism (4), rate of decubitus ulcers (7), and other complications. It has been demonstrated that a higher rate of failure of non-surgical management of severe bone fractures is found with obese patients compared with normal-weighted children's fractures (8).\n",
      "The aim of this paper is to highlight differences between fractured obese and non-obese pediatric patients and to provide a perspective on the benefits of a dedicated approach. All these differences between obese and non-obese pediatric patients emphasize the difficulty involved in creating dedicated EBG in pediatric trauma surgery, focused on both age and weight.\n",
      "Several studies suggest that obesity could influence the natural history of pediatric limb fractures, modifying the standard treatment management (9, 10). A high body weight contributes to increasing the fracture risk and modifying bone proprieties, thus resulting in a less strong bone and consequently a higher risk of fracture. Obesity affects the bone quality and, consequently, the pattern of fractures. Dimitri et al. (11) have demonstrated that, despite an increased fracture risk, obese children have a higher bone mass; otherwise they have a lower total body and regional bone mass relative to their body size (12). Moreover, with the use of peripheral quantitative computed tomography in skeletal imaging, Cheung et al. (13) have shifted the focus in evaluating the changes in the architecture of trabeculae that result in a change in bone quality and strength. The results show that an increased body size is not related to increased bone strength. Trabecular bone in obese children appears to undergo a trabecular reorganization. In fact, the increasing of trabecula with a reduction in trabecular spacing confers a theorical structural advantage (14, 15). In addition to altered mechanical proprieties, there are differences in the onset of puberty due to the vitamin D deficiency and the direct effects of adipokines, such as leptin (16).\n",
      "A specific correlation between BMI and site of fracture has been demonstrated. A recent study (17) conducted on 449 young patients showed an increased rate of upper and lower limb fractures in obese girls and a higher rate of lower limb fractures in obese boys compared to the normal weighted group. Ryan et al. (18) reported a higher rate of forearm fractures from ground-level falls in children with increased weight status. Greater body mass index is associated with increased odds of lower extremity fractures and pain issues, such as musculoskeletal pain complaints, sprains, and dislocation (19). Kessler et al. (20) examined the association between body weight and lower extremity fracture site and found that obesity was associated with increased odds of fracture of the foot, ankle, leg, and knee, particularly in patients between 6 and 11 years old. This study also showed there were no associations between obesity and fracture risk for the femur or hip.\n",
      "Obesity causes several complications in the management of fractures. Hirsch et al. (21) examined the rates of oxygen desaturation during procedural sedation for manipulative reduction of long bone fractures. They found obese patients had greater desaturation rates (9.9% vs. 5.4%) than the healthy population. Pediatric obesity is also associated with an increased death rate following severe fractures (22).\n",
      "Pediatric forearm fractures commonly involve the radius and ulna. They are the most frequent pediatric fractures and several studies (7) have demonstrated a higher incidence of extremity fractures in obese patients (55% vs. 40%). The same study also noted a greater rate of surgical treatment in obese pediatric patients than in non-obese ones. The study of Pomerantz et al. (23) found no differences in the incidences of upper extremity fractures in obese and healthy patients (36.3 vs. 36.3%); however, they found a difference regarding the lower extremity (obese patients had a greater rate at 42% vs. 30%). Auer et al. (24) reviewed 157 distal radius fractures and highlighted that obese patients were more likely to require a second reduction (28% vs. 12%). Regarding the conservative treatment, studies by Okoroafor et al. (8) and DeFrancesco et al. (25) showed that obese patients with diaphyseal forearm fractures (both ulna and radius) were more likely to have an incomplete reduction after cast treatment (Figure 1).\n",
      "Left forearm fracture in 11-year-old obese patient, treated conservatively (A). A 1-month X-ray follow-up shows a significant loss of reduction was evident, with improved angulation of the fragments (B).\n",
      "Concerning elbow fractures, in a study of 992 patients, Fornari et al. (26) found that lateral condyle fractures were more common in obese patients than non-obese patients (37% vs. 19%). In the same study, they found that the percentage of obese patients affected by a supracondylar humerus fracture was similar to normal weighted ones.\n",
      "The loss of reduction is also a problem that affects elbow fractures. Chang et al. (27) showed, in a study of 107 patients affected by type 3 supracondylar humerus fractures, a correlation between obesity and a higher risk to develop postoperative loss of reduction and varus alignment. Sangkomkamhang et al. (28) studied 256 patients with supracondylar humerus fractures treated with open and closed reduction and found loss of reduction in 14.8%. Even though the result of the study was influenced by poor surgical technique, they found an association between BMI > 25 kg/m2 and increased risk of loss of reduction. Li et al. (29) described a correlation between age, obesity, and need of open reduction in patients affected by supracondylar humerus fractures. In fact, they found that obese patients between 8 and 12 years old were over four times more likely to require open reduction compared with healthy patients. There were no differences in patients between 2 and 7 years old (Figure 1).\n",
      "Being overweight increases the odds of sustaining injury to lower extremities (30); a review on 3,232 cases of children involved in motor vehicle collisions found that the obese population had an increased risk of fractures compared to a healthy one. Furthermore, the prognostic study conducted by Gilbert et al. (31) reported that obese patients were twice as likely to have fractures involving the physis compared to non-obese patients in obese patients (with a relative risk of RR 2.2, 95% confidence interval, 1.25–3.89). Authors analyzed patients of 2–14 years of age who had been admitted following high-energy trauma alerts. Three hundred and ninety seven patients with femur and/or tibia fractures were identified. Typical causes of the trauma included motor vehicle crashes, falls from a height, and being struck by a vehicle. Weight, height (when available), age, and fracture location and method of treatment were recorded. Results showed that obese patients had a higher proportion of epiphyseal fractures at all locations, and the differences reached statistical significance for the proximal femur. The increased propensity for physeal fracture in obese patients is likely to be multi-factorial including physiologic and mechanical influences. Fat may have endocrine effects on bone through obesity-related pathways; obesity may also place chronic excessive stress on the bones and cartilage as well as the supporting ligaments and tendons. Kessler et al. (20) performed a huge cohort study (almost 1 million patients), dividing patients by age and weight, and found a linear correlation between a patient's weight and risk of fracture in the lower limbs. Extremely obese children (BMI > 35 kg/m2) had 1.4 odds of fracture, while moderately obese (BMI 30–35 kg/m2) had 1.23 odds of sustaining a fracture compared to the healthy population. Leet et al. (9) demonstrated that obese children with lower limb fractures have an increased rate of postoperative complications compared with non-obese ones. They performed an epidemiologic study of 356 patients and reported that obese patients with femur and tibia fractures have more severe injuries, predisposing them to greater morbidity and mortality.\n",
      "Concerning the risk of loss of reduction when treating femur fractures with elastic nails, there are conflicting results. Several studies found a correlation between obese patients and an increased risk of loss of reduction and malunion (32, 33). Conversely, a study made by Nielsen et al. (34) reported no association between BMI and malunion. Such results could be influenced by the choice of different surgical treatment in patients with a weight higher than 45 kilograms where other more stable and invasive fixation systems are indicated.\n",
      "Tibia fractures have not demonstrated strict weight limitations when using elastic nails. Goodbody et al. (35) reviewed 95 adolescents with tibia fractures without finding a significant difference in the rate of malunion or healing time between obese and non-obese patients.\n",
      "No correlations between obesity and complications relating to external fixation of lower extremities were found in the study by Fedorak et al. (36).\n",
      "Kessler et al. (20) found the strongest correlation between obesity and fractures of the foot and ankle, even though few studies have been published about these fractures in overweight children.\n",
      "The prevalence of childhood obesity increases every year; in the US the prevalence between 2011 and 2014 was 17.0% (37) and extreme obesity was 5.8%, hence it is necessary to consider the obese population in the guidelines making process because they represent a wide population.\n",
      "In 1990, Field and Lohr (38) described clinical practice guidelines as “systematically developed statements to assist practitioners and patient decisions about appropriate health care for specific circumstances.” Guidelines are intended to offer a brief instruction on how to provide healthcare services which are up-to-date and in accordance with the latest progress, assisting the clinicians in the decision-making process. An appropriate interpretation and application of guidelines can generate better clinical care and a safer medicolegal strategy. Clinical practice guidelines are considered as one of the most effective tools for the promotion of evidence-based medicine (EBM).\n",
      "Evidence-based medicine (EBM) has been quoted as “the integration of best research evidence with our clinical expertise and our patient's unique values and circumstances.” (39). The application of evidence-based medicine in clinical practice is an approach to patient care that emphasizes knowledge of the best clinical evidence available for making the correct diagnosis and treatments. There are three fundamental principles of EBM. The first is that the optimal clinical decision requires awareness of the best and last available evidences. The second is that the EBM provides guidance to decide whether evidence is reliable. The last is that the evidence alone is never sufficient to make clinical decisions. These reasons make the developing of EBM guidelines a difficult and time-consuming process (40).\n",
      "The World Health Organization has stated that governments must take responsibility for their healthcare systems and has proposed an active involvement in the quality of services provided (41).\n",
      "In the Italian perspective, the government agenda for healthcare included the enactment of a law (law n° 24, 2017) containing provisions relating to the institution of a National Guidelines System. This law encourages healthcare providers to use clinical practice guidelines included in the official lists, to ensure uniformity and consistency of healthcare throughout the country. The Italian Ministry of Health promotes healthcare safety as a relevant part of the “right to health.”\n",
      "In pediatric orthopedics there are few high-quality level publications, making the guidelines creation process difficult. In fact, the majority of studies available are levels III or IV of evidence (42). Moreover, the pediatric population needs a very long time follow up to asses a good long-term result. It is important to create dedicated committees to produce pediatric guidelines. In fact, the American Academy of Orthopedic Surgeons (AAOS) has a dedicated committee that produces clinical practice guidelines on a variety of pediatric issues (43) and it should be one of the most important goals of all the national scientific societies. However, few studies are focused on other aspects of patients rather than age and fracture site or type. Weight should be considered as a separate criterion in pediatric fracture guidelines, and not only in lower limb fractures.\n",
      "It is mandatory to create a standard classification of pediatric fractures to make specific guidelines and to elaborate on the decision algorithm when choosing the fixation system. Various authors and scientific societies tried to do it, but probably the most accurate classification was provided by AO society (44). Another important classification was made by Salter-Harris and is focused on growth plate injuries (45). The cast and fixation systems usually applied in pediatric fractures provide a growth plate sparing, a satisfying reduction, and good stress resistance, mostly because of a lower bodyweight compared to adults. Fractures in obese children have a higher rate of complications independently from conservative or surgical treatment. Surgical indications are more common than in normal weighted children and are generally more invasive. Such considerations are valid both for lower and upper limb fractures.\n",
      "The rising rate of obesity is one of the most urgent challenges to public health; the number of obese children (aged 0 to 5 years) increased to 41 million globally in 2016. Childhood obesity is associated with a range of serious health complications and an increased risk of premature onset of illnesses such as diabetes and heart diseases. Obesity increases the risk of malpractice litigation, and obesity-related claims have dangerously increased in the last decade.\n",
      "Obese children have genetic, hormonal, and clinical differences compared to healthy patients. Obesity is associated with altered metabolic patterns and changes in bone composition (5, 10, 13). The altered bone structure and bone mass accrual are related to higher fracture rates, and these altered bones are more likely to sustain growth plate fractures in the limbs. A correlation between a high BMI (>30 kg/m2) and increased risk in limb fractures has been proven. It has also been proven that obese patients have a site-specific weakness of bone forearms exposing them to high risk of re-fractures (5). Moreover, they have an increased risk for complications (6), respiratory diseases that force prolonged ventilation (46), and an increased rate of mortality (9). Obese children have a higher risk of loss of reduction of forearm fractures treated both by casting and open reduction (3). Obesity is also related to an increased rate of open reduction and internal fixation of limb fractures (10).\n",
      "According to our perspective, standard guidelines are not always applicable in obese children, who often require specific care strategies. As a consequence, we highlight the necessity of periodic guideline updating based on literature review, allowing a patient-specific medical approach. In particular, the development of dedicated guidelines for the management of limb fractures in obese children could avoid several legal implications.\n",
      "FD, PC, AB, and EM designed the study and wrote the manuscript. SD and PS provided data from literature. RL and AM revised the manuscript.\n",
      "The authors declare that the research was conducted in the absence of any commercial or financial relationships that could be construed as a potential conflict of interest. The handling Editor declared a shared affiliation, though no other collaboration, with several of the authors [AM, PS, RL].\n"
     ]
    }
   ],
   "source": [
    "contrib = soup.find('body')\n",
    "paragraphs = contrib.find_all('p')\n",
    "for p in paragraphs:\n",
    "    print(p.text)"
   ]
  },
  {
   "cell_type": "markdown",
   "metadata": {
    "colab_type": "text",
    "id": "9MAfACWm3IBS"
   },
   "source": [
    "### Title"
   ]
  },
  {
   "cell_type": "code",
   "execution_count": 0,
   "metadata": {
    "colab": {
     "base_uri": "https://localhost:8080/",
     "height": 34
    },
    "colab_type": "code",
    "id": "K6UyVMWJ3IBT",
    "outputId": "9e3b0059-5419-4a3d-e51e-e5d140dbf764"
   },
   "outputs": [
    {
     "name": "stdout",
     "output_type": "stream",
     "text": [
      "A Perspective on Management of Limb Fractures in Obese Children: Is It Time for Dedicated Guidelines?\n"
     ]
    }
   ],
   "source": [
    "title = soup.find('title-group')\n",
    "article_title = title.find('article-title')\n",
    "print(article_title.text)"
   ]
  },
  {
   "cell_type": "markdown",
   "metadata": {
    "colab_type": "text",
    "id": "LBCet2vB3IBW"
   },
   "source": [
    "### Abstract"
   ]
  },
  {
   "cell_type": "code",
   "execution_count": 0,
   "metadata": {
    "colab": {
     "base_uri": "https://localhost:8080/",
     "height": 54
    },
    "colab_type": "code",
    "id": "tELRduRN3IBX",
    "outputId": "b8fbaebe-647a-41e3-fba3-e3d5dec7fc7d"
   },
   "outputs": [
    {
     "data": {
      "text/plain": [
       "'\\nLimb fractures are the most common injuries in pediatric orthopedics. Early and late complications are often not preventable, even when providing the best treatment; furthermore, these injuries are largely implicated in medico-legal claims. The development of evidence-based guidelines is one of the main goals of medical research. Approved guidelines for diagnosis, treatment, and follow up are fundamental to obtain the best results in medical practice. Guidelines in pediatric traumatology have been developed, even though specific conditions, like obesity, could influence their drafting. The cast and fixation systems usually applied in pediatric fractures provide a growth plate sparing, a satisfying reduction, and good stress resistance, mostly because of a lower bodyweight compared to adults. Several studies suggest that obesity influences the bone quality, the management, and the outcomes in cases of fracture. High body weight increases the risk of trauma, modifies fracture characteristics, and increases the risk of incomplete reduction. Fractures in obese children have a higher rate of complications, regardless of conservative or surgical treatment. In obese children, surgical treatment is often used more frequently than with non-obese children. Such considerations are valid both for lower and upper limb fractures. The aim of this paper is to discuss recent scientific literature and provide a perspective on the benefits of a dedicated approach in the management of obese children. Guideline updates could improve healthcare quality in a pediatric setting, and also reduce medico-legal implications.\\n'"
      ]
     },
     "execution_count": 12,
     "metadata": {
      "tags": []
     },
     "output_type": "execute_result"
    }
   ],
   "source": [
    "soup.find('abstract').text"
   ]
  },
  {
   "cell_type": "markdown",
   "metadata": {
    "colab_type": "text",
    "id": "_6ben2ok3IBf"
   },
   "source": [
    "### Author"
   ]
  },
  {
   "cell_type": "code",
   "execution_count": 0,
   "metadata": {
    "colab": {
     "base_uri": "https://localhost:8080/",
     "height": 153
    },
    "colab_type": "code",
    "id": "4uH637Bt3IBg",
    "outputId": "9c4114ac-da51-4da5-afd3-66ddb04520ea",
    "scrolled": true
   },
   "outputs": [
    {
     "name": "stdout",
     "output_type": "stream",
     "text": [
      "Donati Fabrizio\n",
      "Costici Pier Francesco\n",
      "De Salvatore Sergio\n",
      "Burrofato Aaron\n",
      "Micciulli Enrico\n",
      "Maiese Aniello\n",
      "Santoro Paola\n",
      "La Russa Raffaele\n"
     ]
    }
   ],
   "source": [
    "contrib = soup.find('contrib-group')\n",
    "authors = contrib.find_all('contrib', **{'contrib-type':\"author\"})\n",
    "for author in authors:\n",
    "    name = author.find('name')\n",
    "    print(' '.join([author.find('surname').text, author.find('given-names').text]))"
   ]
  },
  {
   "cell_type": "markdown",
   "metadata": {
    "colab_type": "text",
    "id": "hj1mf0T5PSoc"
   },
   "source": [
    "Now, let's say we want to have the name of all articles related to term 'public health':"
   ]
  },
  {
   "cell_type": "code",
   "execution_count": 0,
   "metadata": {
    "colab": {
     "base_uri": "https://localhost:8080/",
     "height": 377
    },
    "colab_type": "code",
    "id": "t-RqjF1zPRoO",
    "outputId": "e1b2d5f3-35e0-4baa-e9df-c750f9fe7c8d"
   },
   "outputs": [
    {
     "data": {
      "text/plain": [
       "{'7225297': 'A Perspective on Management of Limb Fractures in Obese Children: Is It Time for Dedicated Guidelines?',\n",
       " '7225311': 'β-Elemene Reverses the Resistance of p53-Deficient Colorectal Cancer Cells to 5-Fluorouracil by Inducing Pro-death Autophagy and Cyclin D3-Dependent Cycle Arrest',\n",
       " '7225315': 'Assessing the Preferences for Criteria in Multi-Criteria Decision Analysis in Treatments for Rare Diseases',\n",
       " '7225331': 'Peer Support in Coordination of Physical Health and Mental Health Services for People With Lived Experience of a Serious Mental Illness',\n",
       " '7225339': 'Hyperphosphatemic Tumoral Calcinosis: Pathogenesis, Clinical Presentation, and Challenges in Management',\n",
       " '7225352': 'Application of the Chinese Version of the BIS/BAS Scales in Participants With a Substance Use Disorder: An Analysis of Psychometric Properties and Comparison With Community Residents',\n",
       " '7225364': 'Pangolins Lack IFIH1/MDA5, a Cytoplasmic RNA Sensor That Initiates Innate Immune Defense Upon Coronavirus Infection',\n",
       " '7225559': 'Genes and Proteomes Associated With Increased Mutation Frequency and Multidrug Resistance of Naturally Occurring Mismatch Repair-Deficient Salmonella Hypermutators',\n",
       " '7225607': 'Clinical Time Features and Chest Imaging of 85 Patients With COVID-19 in Zhuhai, China',\n",
       " '7225723': 'HOTTIP Predicts Poor Survival in Gastric Cancer Patients and Contributes to Cisplatin Resistance by Sponging miR-216a-5p',\n",
       " '7225773': 'Precision Health for Chagas Disease: Integrating Parasite and Host Factors to Predict Outcome of Infection and Response to Therapy',\n",
       " '7226038': 'The Effects of Technological Developments on Work and Their Implications for Continuous Vocational Education and Training: A Systematic Review',\n",
       " '7226223': 'Impact of Symbiosis Between Trichomonas vaginalis and Mycoplasma hominis on Vaginal Dysbiosis: A Mini Review',\n",
       " '7226536': 'Identification of Prognostic miRNA Signature and Lymph Node Metastasis-Related Key Genes in Cervical Cancer',\n",
       " '7227373': 'How Does Entrepreneurial Self-Efficacy Influence Innovation Behavior? Exploring the Mechanism of Job Satisfaction and Zhongyong Thinking',\n",
       " '7227382': 'Could BCG Vaccination Induce Protective Trained Immunity for SARS-CoV-2?',\n",
       " '7227414': 'How the Italian NHS Is Fighting Against the COVID-19 Emergency',\n",
       " '7227427': 'Intravital Multiphoton Microscopy of the Ocular Surface: Alterations in Conventional Dendritic Cell Morphology and Kinetics in Dry Eye Disease',\n",
       " '7227436': 'Detecting Ethambutol Resistance in Mycobacterium tuberculosis Isolates in China: A Comparison Between Phenotypic Drug Susceptibility Testing Methods and DNA Sequencing of embAB',\n",
       " '7227790': 'Development and Potential Usefulness of the COVID-19 Ag Respi-Strip Diagnostic Assay in a Pandemic Context'}"
      ]
     },
     "execution_count": 38,
     "metadata": {
      "tags": []
     },
     "output_type": "execute_result"
    }
   ],
   "source": [
    "mapping = {}\n",
    "base_url = \"https://eutils.ncbi.nlm.nih.gov/entrez/eutils/efetch.fcgi?db=pmc&id=\"\n",
    "for each in return_ids:\n",
    "    target_url = base_url + each\n",
    "    page = urlopen(target_url)\n",
    "    soup = BeautifulSoup(page, \"xml\")\n",
    "    title = soup.find('title-group')\n",
    "    article_title = title.find('article-title')\n",
    "    #print(article_title.text)\n",
    "    mapping[each] = article_title.text\n",
    "    time.sleep(1)\n",
    "    \n",
    "mapping"
   ]
  },
  {
   "cell_type": "markdown",
   "metadata": {
    "colab_type": "text",
    "id": "7cOajwNA-1Sd"
   },
   "source": [
    "# ID converter api \n",
    "\n",
    "One academic article might have several ids: \n",
    "\n",
    "1. PMID: use simple numbers, e.g., 23193287.\n",
    "2. PMCID: include the ‘PMC’ prefix, e.g., PMC3531190. You may drop the prefix if you select the checkbox for ‘Process as PMCIDs’.\n",
    "3. Manuscript ID: include the relevant prefix, e.g., NIHMS236863 or EMS48932.\n",
    "4. DOI: enter the complete string, e.g., 10.1093/nar/gks1195.\n",
    "\n",
    "Fortunately, ncbi provided a service to convert ids between them. Let's try it out\n",
    "\n",
    "\n"
   ]
  },
  {
   "cell_type": "code",
   "execution_count": 1,
   "metadata": {
    "colab": {},
    "colab_type": "code",
    "id": "WThGoLNu-1HH"
   },
   "outputs": [],
   "source": [
    "base_url_converter = \"https://www.ncbi.nlm.nih.gov/pmc/utils/idconv/v1.0/\""
   ]
  },
  {
   "cell_type": "code",
   "execution_count": 7,
   "metadata": {
    "colab": {},
    "colab_type": "code",
    "id": "WkdZK-Xn-1Ce"
   },
   "outputs": [],
   "source": [
    "sample_pmid = \"32622273\""
   ]
  },
  {
   "cell_type": "code",
   "execution_count": 10,
   "metadata": {
    "colab": {
     "base_uri": "https://localhost:8080/",
     "height": 51
    },
    "colab_type": "code",
    "id": "48VE5axq-09E",
    "outputId": "1a26f235-62e6-4cf9-f9d2-b8320f36f73d"
   },
   "outputs": [
    {
     "name": "stdout",
     "output_type": "stream",
     "text": [
      "ok not valid \n"
     ]
    }
   ],
   "source": [
    "def id_convert(pmid):\n",
    "    \n",
    "    base_url_converter = \"https://www.ncbi.nlm.nih.gov/pmc/utils/idconv/v1.0/\"\n",
    "    api_url = base_url_converter + \"?ids=\" + sample_pmid + \"&format=json\"\n",
    "    #print(api_url)\n",
    "    response = requests.get(api_url)\n",
    "\n",
    "    if response.status_code == 200:\n",
    "        res = json.loads(response.content.decode('utf-8'))\n",
    "  #print(res)\n",
    "        if 'pmcid' not in res['records'][0]:\n",
    "            print(\"this pm_id is not valid in pmc\")\n",
    "            return None\n",
    "            \n",
    "        else:\n",
    "            pmc_id = res['records'][0]['pmcid']\n",
    "            print(\"Corresponding pmcid is: {}\".format(pmc_id)\n",
    "            return pmc_id\n"
   ]
  },
  {
   "cell_type": "markdown",
   "metadata": {
    "colab_type": "text",
    "id": "BKjzAIDyPyKb"
   },
   "source": [
    "# Conclusion:\n",
    "- Looks like are able to use key word search to find all detailed information of the related articles(content, metadata, etc.)\n",
    "- We need to set a sleeping time between each http call, even for 20 conecutive calls :c\n",
    "\n",
    "\n",
    "### TODO\n",
    "- how to solve the amount of ids return by the key word search?\n",
    "- encapsulating and refactoring code\n",
    "- future article content processing"
   ]
  },
  {
   "cell_type": "markdown",
   "metadata": {
    "colab_type": "text",
    "id": "9PhuB9PIBrEG"
   },
   "source": [
    "# Reference\n",
    "\n",
    "[1] doc of beautiful soup library: https://beautiful-soup-4.readthedocs.io/en/latest/index.html?highlight=find#find\n",
    "\n",
    "[2] ID converver: https://www.ncbi.nlm.nih.gov/pmc/tools/id-converter-api/\n",
    "\n",
    "[3] another way to extract metadata in json form: https://eutils.ncbi.nlm.nih.gov/entrez/eutils/efetch.fcgi?db=pubmed&id=32448042"
   ]
  },
  {
   "cell_type": "code",
   "execution_count": 0,
   "metadata": {
    "colab": {},
    "colab_type": "code",
    "id": "mkPmZy17Bsgc"
   },
   "outputs": [],
   "source": []
  }
 ],
 "metadata": {
  "colab": {
   "collapsed_sections": [],
   "include_colab_link": true,
   "name": "digital_public_health_v2.ipynb",
   "provenance": [],
   "toc_visible": true
  },
  "kernelspec": {
   "display_name": "Python 3",
   "language": "python",
   "name": "python3"
  },
  "language_info": {
   "codemirror_mode": {
    "name": "ipython",
    "version": 3
   },
   "file_extension": ".py",
   "mimetype": "text/x-python",
   "name": "python",
   "nbconvert_exporter": "python",
   "pygments_lexer": "ipython3",
   "version": "3.7.4"
  }
 },
 "nbformat": 4,
 "nbformat_minor": 1
}
