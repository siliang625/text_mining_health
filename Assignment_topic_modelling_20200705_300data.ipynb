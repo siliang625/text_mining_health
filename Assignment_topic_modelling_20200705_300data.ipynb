{
  "nbformat": 4,
  "nbformat_minor": 0,
  "metadata": {
    "kernelspec": {
      "display_name": "Python 3",
      "language": "python",
      "name": "python3"
    },
    "language_info": {
      "codemirror_mode": {
        "name": "ipython",
        "version": 3
      },
      "file_extension": ".py",
      "mimetype": "text/x-python",
      "name": "python",
      "nbconvert_exporter": "python",
      "pygments_lexer": "ipython3",
      "version": "3.7.4"
    },
    "colab": {
      "name": "Assignment_topic_modelling_20200705_300data.ipynb",
      "provenance": [],
      "collapsed_sections": [
        "jFwbmdaBjZyj",
        "bJm7IKLWjZzj"
      ],
      "toc_visible": true,
      "include_colab_link": true
    }
  },
  "cells": [
    {
      "cell_type": "markdown",
      "metadata": {
        "id": "view-in-github",
        "colab_type": "text"
      },
      "source": [
        "<a href=\"https://colab.research.google.com/github/siliang625/text_mining_health/blob/master/Assignment_topic_modelling_20200705_300data.ipynb\" target=\"_parent\"><img src=\"https://colab.research.google.com/assets/colab-badge.svg\" alt=\"Open In Colab\"/></a>"
      ]
    },
    {
      "cell_type": "code",
      "metadata": {
        "id": "IFErLzITgBQV",
        "colab_type": "code",
        "colab": {}
      },
      "source": [
        "# !pip list | grep gensim\n",
        "# !pip install --upgrade gensim\n",
        "# !pip install nltk\n",
        "# !pip install spacy\n",
        "# !pip install gensim\n",
        "# !pip install pyLDAvis"
      ],
      "execution_count": null,
      "outputs": []
    },
    {
      "cell_type": "code",
      "metadata": {
        "id": "fFLI-pplkVXb",
        "colab_type": "code",
        "colab": {
          "base_uri": "https://localhost:8080/",
          "height": 122
        },
        "outputId": "b54b8ad1-2ff7-4efd-f711-a4149384cb2d"
      },
      "source": [
        "from google.colab import drive\n",
        "drive.mount('/content/drive')"
      ],
      "execution_count": 1,
      "outputs": [
        {
          "output_type": "stream",
          "text": [
            "Go to this URL in a browser: https://accounts.google.com/o/oauth2/auth?client_id=947318989803-6bn6qk8qdgf4n4g3pfee6491hc0brc4i.apps.googleusercontent.com&redirect_uri=urn%3aietf%3awg%3aoauth%3a2.0%3aoob&response_type=code&scope=email%20https%3a%2f%2fwww.googleapis.com%2fauth%2fdocs.test%20https%3a%2f%2fwww.googleapis.com%2fauth%2fdrive%20https%3a%2f%2fwww.googleapis.com%2fauth%2fdrive.photos.readonly%20https%3a%2f%2fwww.googleapis.com%2fauth%2fpeopleapi.readonly\n",
            "\n",
            "Enter your authorization code:\n",
            "··········\n",
            "Mounted at /content/drive\n"
          ],
          "name": "stdout"
        }
      ]
    },
    {
      "cell_type": "code",
      "metadata": {
        "id": "BqqKlGNgpk7a",
        "colab_type": "code",
        "colab": {}
      },
      "source": [
        "root_path = '/content/drive/My Drive/[JOB] RA'"
      ],
      "execution_count": 2,
      "outputs": []
    },
    {
      "cell_type": "markdown",
      "metadata": {
        "id": "UtBvpUxwjZx_",
        "colab_type": "text"
      },
      "source": [
        "# Assignment"
      ]
    },
    {
      "cell_type": "markdown",
      "metadata": {
        "id": "ER06LwyhjZyA",
        "colab_type": "text"
      },
      "source": [
        "0: find colocation of words\n",
        "- another thought: https://medium.com/@manjunathhiremath.mh/identifying-bigrams-trigrams-and-four-grams-using-word2vec-dea346130eb\n",
        "\n",
        "1: doc-topic distribution\n",
        "\n",
        "2: how to pick the best # of topics\n"
      ]
    },
    {
      "cell_type": "code",
      "metadata": {
        "id": "OTy2pR53jZyF",
        "colab_type": "code",
        "colab": {}
      },
      "source": [
        "import pandas as pd\n",
        "import numpy as np\n",
        "import os\n",
        "import sklearn\n",
        "import sys\n",
        "np.set_printoptions(threshold=sys.maxsize)\n",
        "from sklearn.model_selection import train_test_split\n",
        "import re\n",
        "from pprint import pprint\n",
        "from glob import glob\n",
        "import nltk\n",
        "from nltk.corpus import stopwords \n",
        "from nltk.tokenize import word_tokenize \n",
        "\n",
        "# Gensim\n",
        "import gensim\n",
        "import gensim.corpora as corpora\n",
        "from gensim.utils import simple_preprocess\n",
        "from gensim.models import CoherenceModel\n",
        "from gensim.models.nmf import Nmf\n",
        "# spacy for lemmatization\n",
        "import spacy\n",
        "\n",
        "# Plotting tools\n",
        "import pyLDAvis\n",
        "import pyLDAvis.gensim  # don't skip this\n",
        "import matplotlib.pyplot as plt\n",
        "%matplotlib inline\n",
        "\n",
        "# Enable logging for gensim - optional\n",
        "import logging\n",
        "logging.basicConfig(format='%(asctime)s : %(levelname)s : %(message)s', level=logging.ERROR)\n",
        "\n",
        "import warnings\n",
        "warnings.filterwarnings(\"ignore\",category=DeprecationWarning)\n",
        "\n",
        "from pathlib import Path\n",
        "import glob\n",
        "from bs4 import BeautifulSoup\n",
        "import operator"
      ],
      "execution_count": 5,
      "outputs": []
    },
    {
      "cell_type": "code",
      "metadata": {
        "id": "qfA8dhPejZyO",
        "colab_type": "code",
        "colab": {
          "base_uri": "https://localhost:8080/",
          "height": 34
        },
        "outputId": "49d4fd4f-aab9-4f2b-d39e-306e5e32f088"
      },
      "source": [
        "path = root_path + \"/sample_300/\"\n",
        "print(path)"
      ],
      "execution_count": 8,
      "outputs": [
        {
          "output_type": "stream",
          "text": [
            "/content/drive/My Drive/[JOB] RA/sample_300/\n"
          ],
          "name": "stdout"
        }
      ]
    },
    {
      "cell_type": "code",
      "metadata": {
        "id": "OrtjSxYAjZyR",
        "colab_type": "code",
        "colab": {}
      },
      "source": [
        "def get_abstract(soup):\n",
        "    if soup.find(\"abstract\") is None:\n",
        "        return \"NaN\"\n",
        "    \n",
        "    return soup.find('abstract').text"
      ],
      "execution_count": 7,
      "outputs": []
    },
    {
      "cell_type": "code",
      "metadata": {
        "id": "6OYfChxIjZya",
        "colab_type": "code",
        "colab": {}
      },
      "source": [
        "def get_sample_data(path):\n",
        "    pathlist = Path(path).glob('**/*.xml')\n",
        "    # import pdb; pdb.set_trace()\n",
        "    abstracts = []\n",
        "    for path in pathlist:\n",
        "        # because path is object not string\n",
        "        path_in_str = str(path)\n",
        "        soup = BeautifulSoup(open(path_in_str, 'r'))\n",
        "        abstracts.append(get_abstract(soup))\n",
        "        # todo: get full articles?\n",
        "\n",
        "    return np.array(abstracts)\n"
      ],
      "execution_count": 9,
      "outputs": []
    },
    {
      "cell_type": "code",
      "metadata": {
        "id": "AtiJnaGrjZyh",
        "colab_type": "code",
        "colab": {
          "base_uri": "https://localhost:8080/",
          "height": 34
        },
        "outputId": "398172d3-5c77-417d-91da-8133d85fbd51"
      },
      "source": [
        "X = get_sample_data(path)\n",
        "X.shape"
      ],
      "execution_count": 10,
      "outputs": [
        {
          "output_type": "execute_result",
          "data": {
            "text/plain": [
              "(378,)"
            ]
          },
          "metadata": {
            "tags": []
          },
          "execution_count": 10
        }
      ]
    },
    {
      "cell_type": "code",
      "metadata": {
        "id": "XdMNz2RDq771",
        "colab_type": "code",
        "colab": {
          "base_uri": "https://localhost:8080/",
          "height": 34
        },
        "outputId": "e0819afe-ffee-442b-85c7-e36f41140f30"
      },
      "source": [
        "type(X)"
      ],
      "execution_count": 11,
      "outputs": [
        {
          "output_type": "execute_result",
          "data": {
            "text/plain": [
              "numpy.ndarray"
            ]
          },
          "metadata": {
            "tags": []
          },
          "execution_count": 11
        }
      ]
    },
    {
      "cell_type": "markdown",
      "metadata": {
        "id": "v3-qR9T1jZyj",
        "colab_type": "text"
      },
      "source": [
        "# Assignment0: co-location"
      ]
    },
    {
      "cell_type": "code",
      "metadata": {
        "colab_type": "code",
        "id": "iFmJE4t53yKv",
        "colab": {
          "base_uri": "https://localhost:8080/",
          "height": 85
        },
        "outputId": "a2e24881-29bb-48d1-b651-84bc7976fb69"
      },
      "source": [
        "nltk.download('stopwords')\n",
        "nltk.download('punkt')\n",
        "stop_words = stopwords.words('english')\n",
        "stop_words.extend(['from', 'subject', 're', 'edu', 'use'])"
      ],
      "execution_count": 12,
      "outputs": [
        {
          "output_type": "stream",
          "text": [
            "[nltk_data] Downloading package stopwords to /root/nltk_data...\n",
            "[nltk_data]   Unzipping corpora/stopwords.zip.\n",
            "[nltk_data] Downloading package punkt to /root/nltk_data...\n",
            "[nltk_data]   Unzipping tokenizers/punkt.zip.\n"
          ],
          "name": "stdout"
        }
      ]
    },
    {
      "cell_type": "code",
      "metadata": {
        "colab_type": "code",
        "id": "zR-TXnK83yK2",
        "colab": {}
      },
      "source": [
        "# data cleaning \n",
        "\n",
        "# Remove Emails\n",
        "# data = [re.sub('\\S*@\\S*\\s?', '', sent) for each in data]\n",
        "\n",
        "# Remove new line characters\n",
        "data = [re.sub('\\s+', ' ', each) for each in X]\n",
        "\n",
        "# # Remove distracting single quotes\n",
        "# data = [re.sub(\"\\'\", \"\", sent) for each in data]"
      ],
      "execution_count": 13,
      "outputs": []
    },
    {
      "cell_type": "markdown",
      "metadata": {
        "id": "jFwbmdaBjZyj",
        "colab_type": "text"
      },
      "source": [
        "## Using Sklearn\n",
        "\n",
        "Preprocessing include:\n",
        "\n",
        "- tokenization\n",
        "  - remove stop words"
      ]
    },
    {
      "cell_type": "markdown",
      "metadata": {
        "id": "E2voNTiDjZyk",
        "colab_type": "text"
      },
      "source": [
        "Tokenize the words"
      ]
    },
    {
      "cell_type": "code",
      "metadata": {
        "id": "LHpCwNG0jZyl",
        "colab_type": "code",
        "colab": {}
      },
      "source": [
        "from sklearn.feature_extraction.text import CountVectorizer, TfidfTransformer\n",
        "cv = CountVectorizer(max_df = 0.95, min_df = 2, stop_words = 'english')\n",
        "df = cv.fit_transform(data)"
      ],
      "execution_count": null,
      "outputs": []
    },
    {
      "cell_type": "markdown",
      "metadata": {
        "id": "NKLsn3rWjZyo",
        "colab_type": "text"
      },
      "source": [
        "Apply LDA"
      ]
    },
    {
      "cell_type": "code",
      "metadata": {
        "id": "dGAiUESAjZyp",
        "colab_type": "code",
        "colab": {
          "base_uri": "https://localhost:8080/",
          "height": 136
        },
        "outputId": "193183bf-86cb-446a-d077-bd542e2f8f23"
      },
      "source": [
        "from sklearn.decomposition import LatentDirichletAllocation\n",
        "lda_model1 = LatentDirichletAllocation(n_components = 15, random_state = 42) # n_components = topics\n",
        "lda_model1.fit(df)"
      ],
      "execution_count": null,
      "outputs": [
        {
          "output_type": "execute_result",
          "data": {
            "text/plain": [
              "LatentDirichletAllocation(batch_size=128, doc_topic_prior=None,\n",
              "                          evaluate_every=-1, learning_decay=0.7,\n",
              "                          learning_method='batch', learning_offset=10.0,\n",
              "                          max_doc_update_iter=100, max_iter=10,\n",
              "                          mean_change_tol=0.001, n_components=15, n_jobs=None,\n",
              "                          perp_tol=0.1, random_state=42, topic_word_prior=None,\n",
              "                          total_samples=1000000.0, verbose=0)"
            ]
          },
          "metadata": {
            "tags": []
          },
          "execution_count": 58
        }
      ]
    },
    {
      "cell_type": "code",
      "metadata": {
        "id": "2AO4LlJHWWn-",
        "colab_type": "code",
        "colab": {}
      },
      "source": [
        "# def get_lda_topics(model, num_topics):\n",
        "#     word_dict = {};\n",
        "#     for i in range(num_topics):\n",
        "#         words = model.show_topic(i, topn = 20)\n",
        "#         word_dict['Topic #' + '{:02d}'.format(i+1)] = [i[0] for i in words]\n",
        "#     return pd.DataFrame(word_dict)\n",
        "\n",
        "# get_lda_topics(lda_model1, 15)"
      ],
      "execution_count": null,
      "outputs": []
    },
    {
      "cell_type": "code",
      "metadata": {
        "id": "gsRncIyBjZys",
        "colab_type": "code",
        "colab": {
          "base_uri": "https://localhost:8080/",
          "height": 1000
        },
        "outputId": "f069812d-67d3-4d5f-dd34-3c1709497286"
      },
      "source": [
        "for index, topic in enumerate(lda_model1.components_):\n",
        "    print(f'Top 15 words for Topic #{index}')\n",
        "    print([cv.get_feature_names()[i] for i in topic.argsort()[-15:]])\n",
        "    print('\\n')"
      ],
      "execution_count": null,
      "outputs": [
        {
          "output_type": "stream",
          "text": [
            "Top 15 words for Topic #0\n",
            "['estimated', 'smokers', '10', 'total', 'reported', 'follow', 'information', 'results', 'patients', 'events', 'adults', 'risk', 'treatment', 'scores', 'acute']\n",
            "\n",
            "\n",
            "Top 15 words for Topic #1\n",
            "['patient', 'application', 'hypertension', 'patients', 'study', 'health', 'phone', 'randomized', 'mobile', 'paper', 'primary', 'care', 'time', 'pain', 'intervention']\n",
            "\n",
            "\n",
            "Top 15 words for Topic #2\n",
            "['follow', 'community', 'phone', 'intervention', 'using', 'care', 'visits', 'children', 'clinic', 'chws', '95', 'ci', 'mobile', 'depression', 'health']\n",
            "\n",
            "\n",
            "Top 15 words for Topic #3\n",
            "['using', 'factors', 'phones', 'chws', 'phone', 'learning', 'trial', 'outcomes', 'community', 'study', 'services', 'mobile', 'support', 'based', 'health']\n",
            "\n",
            "\n",
            "Top 15 words for Topic #4\n",
            "['findings', 'incidence', 'disease', 'tools', 'symptoms', 'respiratory', 'results', 'using', 'daily', 'based', 'treatment', 'alcohol', 'patients', 'use', 'risk']\n",
            "\n",
            "\n",
            "Top 15 words for Topic #5\n",
            "['months', 'score', 'data', 'risk', 'using', 'use', 'methods', 'set', 'validation', 'patients', 'moderate', 'coronary', 'method', 'features', 'analysis']\n",
            "\n",
            "\n",
            "Top 15 words for Topic #6\n",
            "['hospitals', 'scientific', 'cases', 'relevant', 'activity', 'patients', 'general', 'social', 'use', 'platform', 'project', 'hospital', 'clinical', 'information', 'medical']\n",
            "\n",
            "\n",
            "Top 15 words for Topic #7\n",
            "['process', 'identification', 'recent', 'new', 'public', 'potential', 'sequence', 'benefit', 'approach', 'genetic', 'approaches', 'participants', 'risk', 'data', 'privacy']\n",
            "\n",
            "\n",
            "Top 15 words for Topic #8\n",
            "['social', 'results', 'health', 'population', 'effect', 'women', 'media', 'data', 'analysis', 'number', 'diabetes', 'patients', 'participants', 'tweets', 'care']\n",
            "\n",
            "\n",
            "Top 15 words for Topic #9\n",
            "['treatment', 'patients', 'set', 'communications', 'risks', 'results', 'interventions', 'data', 'symptoms', 'patient', 'cancer', 'research', 'media', 'trials', 'clinical']\n",
            "\n",
            "\n",
            "Top 15 words for Topic #10\n",
            "['history', 'factors', 'related', 'visits', 'smoking', 'used', 'non', 'associated', 'data', 'testing', 'tobacco', 'age', 'alcohol', 'hiv', 'use']\n",
            "\n",
            "\n",
            "Top 15 words for Topic #11\n",
            "['ct', 'drugs', 'medication', 'results', 'adherence', 'used', 'systems', 'use', 'data', 'self', 'countries', 'knowledge', 'research', 'national', 'health']\n",
            "\n",
            "\n",
            "Top 15 words for Topic #12\n",
            "['disease', 'care', 'period', 'initiated', 'variables', 'drugs', 'cholesterol', 'defined', 'new', 'intervention', 'primary', 'lowering', 'study', 'cardiovascular', 'nan']\n",
            "\n",
            "\n",
            "Top 15 words for Topic #13\n",
            "['rate', 'bias', 'facilities', 'treatment', '95', 'primary', 'studies', 'pressure', 'anxiety', 'internet', 'intervention', 'based', 'depression', 'care', 'face']\n",
            "\n",
            "\n",
            "Top 15 words for Topic #14\n",
            "['pre', 'results', 'study', 'baseline', 'years', 'treatment', 'use', 'examinations', 'preventive', '95', 'prevalence', 'factors', 'measures', 'risk', 'patients']\n",
            "\n",
            "\n"
          ],
          "name": "stdout"
        }
      ]
    },
    {
      "cell_type": "markdown",
      "metadata": {
        "id": "zsAW-WZvjZy9",
        "colab_type": "text"
      },
      "source": [
        "## Using Gensim\n",
        "\n",
        "Preprocessing include:\n",
        "- tokenization (remove punctuations, unecessary characters)\n",
        "- remove stop words\n",
        "- colocation: bigram -> trigram -> Quadgram data\n",
        "- lemmatization\n"
      ]
    },
    {
      "cell_type": "markdown",
      "metadata": {
        "id": "wMfFMxrkjZzD",
        "colab_type": "text"
      },
      "source": [
        "Tokenization: tokenize each sentence into a list of words, removing punctuations and unnecessary characters altogether.     "
      ]
    },
    {
      "cell_type": "code",
      "metadata": {
        "scrolled": true,
        "id": "6Oh88LEnjZzF",
        "colab_type": "code",
        "colab": {
          "base_uri": "https://localhost:8080/",
          "height": 289
        },
        "outputId": "a020fb1a-e27b-43b6-84b7-98090b47b636"
      },
      "source": [
        "def tokenize_to_words(sentences):\n",
        "    for sentence in sentences:\n",
        "        yield(gensim.utils.simple_preprocess(str(sentence), deacc=True))  # deacc=True removes punctuations\n",
        "\n",
        "data_words = list(tokenize_to_words(data))\n",
        "#data_words\n",
        "data_words[:1]"
      ],
      "execution_count": 14,
      "outputs": [
        {
          "output_type": "execute_result",
          "data": {
            "text/plain": [
              "[['graphical',\n",
              "  'abstract',\n",
              "  'cloud',\n",
              "  'computing',\n",
              "  'patient',\n",
              "  'diagnosis',\n",
              "  'video',\n",
              "  'surveillance',\n",
              "  'mobile',\n",
              "  'computing',\n",
              "  'microorganisms',\n",
              "  'patient',\n",
              "  'monitoring',\n",
              "  'wireless',\n",
              "  'sensor',\n",
              "  'networks']]"
            ]
          },
          "metadata": {
            "tags": []
          },
          "execution_count": 14
        }
      ]
    },
    {
      "cell_type": "markdown",
      "metadata": {
        "id": "eioUcTlRjZzL",
        "colab_type": "text"
      },
      "source": [
        "Creating quadgram model"
      ]
    },
    {
      "cell_type": "code",
      "metadata": {
        "id": "tAdjKF32jZzL",
        "colab_type": "code",
        "colab": {
          "base_uri": "https://localhost:8080/",
          "height": 122
        },
        "outputId": "4ad66496-f5fe-431d-9003-80a6b556b039"
      },
      "source": [
        "# Build the bigram and trigram models\n",
        "bigram = gensim.models.Phrases(data_words, min_count=5, threshold=100) # higher threshold, fewer phrases to form\n",
        "trigram = gensim.models.Phrases(bigram[data_words], threshold=100)  \n",
        "quadgram= gensim.models.Phrases(trigram[bigram[data_words]], threshold=100)  \n",
        "\n",
        "# Faster way to get a sentence clubbed as a trigram/bigram\n",
        "bigram_mod = gensim.models.phrases.Phraser(bigram)\n",
        "trigram_mod = gensim.models.phrases.Phraser(trigram)\n",
        "quad_mod = gensim.models.phrases.Phraser(quadgram)\n",
        "\n",
        "# See example\n",
        "print(bigram_mod[data_words[10]])\n",
        "print(trigram_mod[bigram_mod[data_words[10]]])\n",
        "print(quad_mod[trigram_mod[bigram_mod[data_words[10]]]])\n"
      ],
      "execution_count": 15,
      "outputs": [
        {
          "output_type": "stream",
          "text": [
            "/usr/local/lib/python3.6/dist-packages/gensim/models/phrases.py:598: UserWarning: For a faster implementation, use the gensim.models.phrases.Phraser class\n",
            "  Phrases detected in `sentences`. Return type depends on the `as_tuples` parameter.\n"
          ],
          "name": "stderr"
        },
        {
          "output_type": "stream",
          "text": [
            "['background', 'hepatitis', 'virus', 'hcv', 'is', 'growing', 'public', 'health', 'problem', 'with', 'large', 'disease', 'burden', 'worldwide', 'in', 'china', 'many', 'people', 'living', 'with', 'hcv', 'are', 'unaware', 'of', 'their', 'hepatitis', 'status', 'and', 'not', 'connected', 'to', 'care', 'and', 'treatment', 'crowdsourcing', 'is', 'technique', 'that', 'invites', 'the', 'public', 'to', 'create', 'health', 'promotion', 'materials', 'and', 'has_been', 'found', 'to', 'increase', 'hiv', 'testing', 'uptake', 'including', 'in', 'china', 'this', 'trial', 'aims', 'to', 'evaluate', 'crowdsourcing', 'as', 'strategy', 'to', 'improve', 'hcv', 'awareness', 'testing', 'and', 'linkage', 'to', 'care', 'in', 'china', 'methods', 'randomized_controlled', 'two', 'armed', 'trial', 'rct', 'is', 'being', 'conducted', 'in', 'shenzhen', 'with', 'participants', 'recruited', 'from', 'primary', 'care', 'sectors', 'of', 'the', 'university', 'of', 'hong', 'kong', 'shenzhen', 'hospital', 'eligible', 'participants', 'are', 'years', 'old', 'resident', 'in', 'shenzhen', 'for', 'at_least', 'one', 'month', 'after', 'recruitment', 'no', 'screening', 'for', 'hcv', 'within', 'the', 'past', 'months', 'and', 'not', 'known', 'to', 'have', 'chronic', 'hcv', 'and', 'having', 'wechat', 'social_media', 'account', 'allocation', 'is', 'both', 'groups', 'will', 'be', 'administered', 'baseline', 'and', 'follow_up', 'survey', 'week', 'post', 'enrollment', 'the', 'intervention', 'group', 'will', 'receive', 'crowdsourcing', 'materials', 'to', 'promote', 'hcv', 'testing', 'once', 'week', 'for', 'two', 'weeks', 'and', 'feedback', 'will', 'be', 'collected', 'thereafter', 'while', 'the', 'control', 'group', 'will', 'receive', 'no', 'promotional', 'materials', 'feedback', 'collected', 'will', 'be', 'judged', 'by', 'panel', 'and', 'selected', 'to', 'be', 'implemented', 'to', 'improve', 'the', 'intervention', 'continuously', 'those', 'identified', 'positive', 'for', 'hcv', 'antibodies', 'will', 'be', 'referred', 'to', 'for', 'confirmation', 'and', 'treatment', 'the', 'primary_outcome', 'will', 'be', 'confirmed', 'hcv', 'testing', 'uptake', 'and', 'secondary_outcomes', 'include', 'hcv', 'confirmatory', 'testing', 'and', 'initiation', 'of', 'hcv', 'treatment', 'with', 'follow', 'ups', 'with', 'specialist', 'providers', 'data', 'will', 'be', 'collected', 'on', 'survey', 'star', 'via', 'mobile', 'devices', 'discussion', 'this', 'will', 'be', 'the', 'first', 'study', 'to', 'evaluate', 'the', 'impact', 'of', 'crowdsourcing', 'to', 'improve', 'viral', 'hepatitis', 'testing', 'and', 'linkage', 'to', 'care', 'in', 'the', 'health', 'facilities', 'this', 'rct', 'will', 'contribute', 'to', 'the', 'existing', 'literature', 'on', 'interventions', 'to', 'improve', 'viral', 'hepatitis', 'testing', 'in', 'primary', 'care', 'setting', 'and', 'inform', 'future', 'strategies', 'to', 'improve', 'hcv', 'care', 'training', 'for', 'primary', 'care', 'providers', 'in', 'china', 'trial_registration', 'chinese', 'clinical', 'trial', 'registry', 'chictr', 'registered', 'september', 'th', 'http', 'www', 'chictr', 'org', 'cn', 'showprojen', 'aspx', 'proj']\n",
            "['background', 'hepatitis', 'virus', 'hcv', 'is', 'growing', 'public', 'health', 'problem', 'with', 'large', 'disease', 'burden', 'worldwide', 'in', 'china', 'many', 'people', 'living', 'with', 'hcv', 'are', 'unaware', 'of', 'their', 'hepatitis', 'status', 'and', 'not', 'connected', 'to', 'care', 'and', 'treatment', 'crowdsourcing', 'is', 'technique', 'that', 'invites', 'the', 'public', 'to', 'create', 'health', 'promotion', 'materials', 'and', 'has_been', 'found', 'to', 'increase', 'hiv', 'testing', 'uptake', 'including', 'in', 'china', 'this', 'trial', 'aims', 'to', 'evaluate', 'crowdsourcing', 'as', 'strategy', 'to', 'improve', 'hcv', 'awareness', 'testing', 'and', 'linkage', 'to', 'care', 'in', 'china', 'methods', 'randomized_controlled', 'two', 'armed', 'trial', 'rct', 'is', 'being', 'conducted', 'in', 'shenzhen', 'with', 'participants', 'recruited', 'from', 'primary', 'care', 'sectors', 'of', 'the', 'university', 'of', 'hong', 'kong', 'shenzhen', 'hospital', 'eligible', 'participants', 'are', 'years', 'old', 'resident', 'in', 'shenzhen', 'for', 'at_least', 'one', 'month', 'after', 'recruitment', 'no', 'screening', 'for', 'hcv', 'within', 'the', 'past', 'months', 'and', 'not', 'known', 'to', 'have', 'chronic', 'hcv', 'and', 'having', 'wechat', 'social_media', 'account', 'allocation', 'is', 'both', 'groups', 'will', 'be', 'administered', 'baseline', 'and', 'follow_up', 'survey', 'week', 'post', 'enrollment', 'the', 'intervention', 'group', 'will', 'receive', 'crowdsourcing', 'materials', 'to', 'promote', 'hcv', 'testing', 'once', 'week', 'for', 'two', 'weeks', 'and', 'feedback', 'will', 'be', 'collected', 'thereafter', 'while', 'the', 'control', 'group', 'will', 'receive', 'no', 'promotional', 'materials', 'feedback', 'collected', 'will', 'be', 'judged', 'by', 'panel', 'and', 'selected', 'to', 'be', 'implemented', 'to', 'improve', 'the', 'intervention', 'continuously', 'those', 'identified', 'positive', 'for', 'hcv', 'antibodies', 'will', 'be', 'referred', 'to', 'for', 'confirmation', 'and', 'treatment', 'the', 'primary_outcome', 'will', 'be', 'confirmed', 'hcv', 'testing', 'uptake', 'and', 'secondary_outcomes', 'include', 'hcv', 'confirmatory', 'testing', 'and', 'initiation', 'of', 'hcv', 'treatment', 'with', 'follow', 'ups', 'with', 'specialist', 'providers', 'data', 'will', 'be', 'collected', 'on', 'survey', 'star', 'via', 'mobile', 'devices', 'discussion', 'this', 'will', 'be', 'the', 'first', 'study', 'to', 'evaluate', 'the', 'impact', 'of', 'crowdsourcing', 'to', 'improve', 'viral', 'hepatitis', 'testing', 'and', 'linkage', 'to', 'care', 'in', 'the', 'health', 'facilities', 'this', 'rct', 'will', 'contribute', 'to', 'the', 'existing', 'literature', 'on', 'interventions', 'to', 'improve', 'viral', 'hepatitis', 'testing', 'in', 'primary', 'care', 'setting', 'and', 'inform', 'future', 'strategies', 'to', 'improve', 'hcv', 'care', 'training', 'for', 'primary', 'care', 'providers', 'in', 'china', 'trial_registration', 'chinese', 'clinical', 'trial', 'registry', 'chictr', 'registered', 'september', 'th', 'http', 'www', 'chictr', 'org', 'cn', 'showprojen', 'aspx', 'proj']\n",
            "['background', 'hepatitis', 'virus', 'hcv', 'is', 'growing', 'public', 'health', 'problem', 'with', 'large', 'disease', 'burden', 'worldwide', 'in', 'china', 'many', 'people', 'living', 'with', 'hcv', 'are', 'unaware', 'of', 'their', 'hepatitis', 'status', 'and', 'not', 'connected', 'to', 'care', 'and', 'treatment', 'crowdsourcing', 'is', 'technique', 'that', 'invites', 'the', 'public', 'to', 'create', 'health', 'promotion', 'materials', 'and', 'has_been', 'found', 'to', 'increase', 'hiv', 'testing', 'uptake', 'including', 'in', 'china', 'this', 'trial', 'aims', 'to', 'evaluate', 'crowdsourcing', 'as', 'strategy', 'to', 'improve', 'hcv', 'awareness', 'testing', 'and', 'linkage', 'to', 'care', 'in', 'china', 'methods', 'randomized_controlled', 'two', 'armed', 'trial', 'rct', 'is', 'being', 'conducted', 'in', 'shenzhen', 'with', 'participants', 'recruited', 'from', 'primary', 'care', 'sectors', 'of', 'the', 'university', 'of', 'hong', 'kong', 'shenzhen', 'hospital', 'eligible', 'participants', 'are', 'years', 'old', 'resident', 'in', 'shenzhen', 'for', 'at_least', 'one', 'month', 'after', 'recruitment', 'no', 'screening', 'for', 'hcv', 'within', 'the', 'past', 'months', 'and', 'not', 'known', 'to', 'have', 'chronic', 'hcv', 'and', 'having', 'wechat', 'social_media', 'account', 'allocation', 'is', 'both', 'groups', 'will', 'be', 'administered', 'baseline', 'and', 'follow_up', 'survey', 'week', 'post', 'enrollment', 'the', 'intervention', 'group', 'will', 'receive', 'crowdsourcing', 'materials', 'to', 'promote', 'hcv', 'testing', 'once', 'week', 'for', 'two', 'weeks', 'and', 'feedback', 'will', 'be', 'collected', 'thereafter', 'while', 'the', 'control', 'group', 'will', 'receive', 'no', 'promotional', 'materials', 'feedback', 'collected', 'will', 'be', 'judged', 'by', 'panel', 'and', 'selected', 'to', 'be', 'implemented', 'to', 'improve', 'the', 'intervention', 'continuously', 'those', 'identified', 'positive', 'for', 'hcv', 'antibodies', 'will', 'be', 'referred', 'to', 'for', 'confirmation', 'and', 'treatment', 'the', 'primary_outcome', 'will', 'be', 'confirmed', 'hcv', 'testing', 'uptake', 'and', 'secondary_outcomes', 'include', 'hcv', 'confirmatory', 'testing', 'and', 'initiation', 'of', 'hcv', 'treatment', 'with', 'follow', 'ups', 'with', 'specialist', 'providers', 'data', 'will', 'be', 'collected', 'on', 'survey', 'star', 'via', 'mobile', 'devices', 'discussion', 'this', 'will', 'be', 'the', 'first', 'study', 'to', 'evaluate', 'the', 'impact', 'of', 'crowdsourcing', 'to', 'improve', 'viral', 'hepatitis', 'testing', 'and', 'linkage', 'to', 'care', 'in', 'the', 'health', 'facilities', 'this', 'rct', 'will', 'contribute', 'to', 'the', 'existing', 'literature', 'on', 'interventions', 'to', 'improve', 'viral', 'hepatitis', 'testing', 'in', 'primary', 'care', 'setting', 'and', 'inform', 'future', 'strategies', 'to', 'improve', 'hcv', 'care', 'training', 'for', 'primary', 'care', 'providers', 'in', 'china', 'trial_registration', 'chinese', 'clinical', 'trial', 'registry', 'chictr', 'registered', 'september', 'th', 'http', 'www', 'chictr', 'org', 'cn', 'showprojen', 'aspx', 'proj']\n"
          ],
          "name": "stdout"
        }
      ]
    },
    {
      "cell_type": "markdown",
      "metadata": {
        "id": "4bXOlUzKjZzO",
        "colab_type": "text"
      },
      "source": [
        "Remove Stopwords, Make quadgram and Lemmatize\n"
      ]
    },
    {
      "cell_type": "code",
      "metadata": {
        "id": "gyR1A0iiL5fA",
        "colab_type": "code",
        "colab": {}
      },
      "source": [
        "# Initialize spacy 'en' model, keeping only tagger component (for efficiency)\n",
        "# !python3 -m spacy download en\n",
        "nlp = spacy.load('en', disable=['parser', 'ner'])"
      ],
      "execution_count": 16,
      "outputs": []
    },
    {
      "cell_type": "code",
      "metadata": {
        "id": "OCfRkl-FjZzO",
        "colab_type": "code",
        "colab": {}
      },
      "source": [
        "# Define functions for stopwords, bigrams and lemmatization\n",
        "def remove_stopwords(texts):\n",
        "    return [[word for word in simple_preprocess(str(doc)) if word not in stop_words] for doc in texts]\n",
        "\n",
        "def make_bigrams(texts):\n",
        "    return [bigram_mod[doc] for doc in texts]\n",
        "\n",
        "def make_trigrams(texts):\n",
        "    return [trigram_mod[bigram_mod[doc]] for doc in texts]\n",
        "\n",
        "def make_quadgrams(texts):\n",
        "    return [quad_mod[trigram_mod[bigram_mod[doc]]] for doc in texts]\n",
        "\n",
        "def lemmatization(texts, allowed_postags=['NOUN', 'ADJ', 'VERB', 'ADV']):\n",
        "    \"\"\"https://spacy.io/api/annotation\"\"\"\n",
        "    texts_out = []\n",
        "    for sent in texts:\n",
        "        doc = nlp(\" \".join(sent)) \n",
        "        texts_out.append([token.lemma_ for token in doc if token.pos_ in allowed_postags])\n",
        "    return texts_out"
      ],
      "execution_count": 17,
      "outputs": []
    },
    {
      "cell_type": "code",
      "metadata": {
        "id": "30w9JWqojZzW",
        "colab_type": "code",
        "colab": {
          "base_uri": "https://localhost:8080/",
          "height": 34
        },
        "outputId": "0dba726d-3f52-450f-f82c-fa491b9d446a"
      },
      "source": [
        "# Remove Stop Words\n",
        "data_words_nostops = remove_stopwords(data_words)\n",
        "\n",
        "# Form Bigrams\n",
        "data_words_bigrams = make_quadgrams(data_words_nostops)\n",
        "\n",
        "# Do lemmatization keeping only noun, adj, vb, adv\n",
        "data_lemmatized = lemmatization(data_words_bigrams, allowed_postags=['NOUN', 'ADJ', 'VERB', 'ADV'])\n",
        "\n",
        "print(data_lemmatized[:1])"
      ],
      "execution_count": 18,
      "outputs": [
        {
          "output_type": "stream",
          "text": [
            "[['graphical', 'compute', 'video', 'surveillance', 'mobile', 'computing', 'microorganism', 'patient', 'monitor', 'wireless', 'sensor', 'network']]\n"
          ],
          "name": "stdout"
        }
      ]
    },
    {
      "cell_type": "markdown",
      "metadata": {
        "id": "QsGIEKyojZzY",
        "colab_type": "text"
      },
      "source": [
        "Create the Dictionary and Corpus needed for Topic Modeling\n",
        "\n",
        "two main inputs to the LDA topic model using GenSim library are the dictionary(id2word) and the corpus.\n",
        "\n",
        "eg: for the single doc, produce: a mapping of (word_id, word_frequency), (0,1) 1st word in the doc appear once"
      ]
    },
    {
      "cell_type": "code",
      "metadata": {
        "id": "N49wuHEQjZzZ",
        "colab_type": "code",
        "colab": {
          "base_uri": "https://localhost:8080/",
          "height": 71
        },
        "outputId": "9c2854af-c3af-49de-813d-0b027236c98f"
      },
      "source": [
        "# Create Dictionary\n",
        "id2word = corpora.Dictionary(data_lemmatized)\n",
        "\n",
        "# Create Corpus\n",
        "texts = data_lemmatized\n",
        "\n",
        "# Term Document Frequency\n",
        "corpus = [id2word.doc2bow(text) for text in texts]\n",
        "\n",
        "# View\n",
        "print(corpus[:1])\n",
        "print(corpus[1:2])\n"
      ],
      "execution_count": 19,
      "outputs": [
        {
          "output_type": "stream",
          "text": [
            "[[(0, 1), (1, 1), (2, 1), (3, 1), (4, 1), (5, 1), (6, 1), (7, 1), (8, 1), (9, 1), (10, 1), (11, 1)]]\n",
            "[[(7, 1), (12, 1), (13, 1), (14, 1), (15, 1), (16, 1), (17, 1), (18, 1), (19, 1), (20, 1), (21, 2), (22, 1), (23, 1), (24, 1), (25, 2), (26, 2), (27, 1), (28, 1), (29, 1), (30, 1), (31, 2), (32, 5), (33, 1), (34, 1), (35, 1), (36, 3), (37, 1), (38, 1), (39, 1), (40, 1), (41, 2), (42, 1), (43, 1), (44, 1), (45, 3), (46, 1), (47, 1), (48, 1), (49, 2), (50, 1), (51, 1), (52, 1), (53, 5), (54, 1), (55, 5), (56, 1), (57, 1), (58, 2), (59, 2), (60, 1), (61, 2), (62, 2), (63, 1), (64, 1), (65, 2), (66, 1), (67, 4), (68, 1), (69, 1), (70, 1), (71, 1), (72, 1), (73, 1), (74, 5), (75, 1), (76, 1), (77, 1), (78, 1), (79, 3), (80, 1), (81, 4), (82, 1), (83, 1)]]\n"
          ],
          "name": "stdout"
        }
      ]
    },
    {
      "cell_type": "markdown",
      "metadata": {
        "id": "8nOjUu5cjZzb",
        "colab_type": "text"
      },
      "source": [
        "##### id-word mapping:"
      ]
    },
    {
      "cell_type": "code",
      "metadata": {
        "id": "JJjTur1WjZzb",
        "colab_type": "code",
        "colab": {
          "base_uri": "https://localhost:8080/",
          "height": 35
        },
        "outputId": "06bb5966-889a-4692-b88d-0b1dcef8e8a5"
      },
      "source": [
        "id2word[0]"
      ],
      "execution_count": 20,
      "outputs": [
        {
          "output_type": "execute_result",
          "data": {
            "application/vnd.google.colaboratory.intrinsic": {
              "type": "string"
            },
            "text/plain": [
              "'compute'"
            ]
          },
          "metadata": {
            "tags": []
          },
          "execution_count": 20
        }
      ]
    },
    {
      "cell_type": "markdown",
      "metadata": {
        "id": "wi_bkMnFjZzf",
        "colab_type": "text"
      },
      "source": [
        "##### Item-frequency"
      ]
    },
    {
      "cell_type": "code",
      "metadata": {
        "id": "RzJjowW6jZzg",
        "colab_type": "code",
        "colab": {
          "base_uri": "https://localhost:8080/",
          "height": 221
        },
        "outputId": "7b58787c-726a-4380-9af7-73dfbd437ce7"
      },
      "source": [
        "[[(id2word[id], freq) for id, freq in cp] for cp in corpus[:1]][:10]"
      ],
      "execution_count": 21,
      "outputs": [
        {
          "output_type": "execute_result",
          "data": {
            "text/plain": [
              "[[('compute', 1),\n",
              "  ('computing', 1),\n",
              "  ('graphical', 1),\n",
              "  ('microorganism', 1),\n",
              "  ('mobile', 1),\n",
              "  ('monitor', 1),\n",
              "  ('network', 1),\n",
              "  ('patient', 1),\n",
              "  ('sensor', 1),\n",
              "  ('surveillance', 1),\n",
              "  ('video', 1),\n",
              "  ('wireless', 1)]]"
            ]
          },
          "metadata": {
            "tags": []
          },
          "execution_count": 21
        }
      ]
    },
    {
      "cell_type": "markdown",
      "metadata": {
        "id": "bJm7IKLWjZzj",
        "colab_type": "text"
      },
      "source": [
        "### Building the Topic Model"
      ]
    },
    {
      "cell_type": "code",
      "metadata": {
        "id": "1MQr-wu9jZzj",
        "colab_type": "code",
        "colab": {}
      },
      "source": [
        "lda_model2 = gensim.models.ldamodel.LdaModel(corpus=corpus,\n",
        "                                           id2word=id2word,\n",
        "                                           num_topics=15, \n",
        "                                           random_state=100,\n",
        "                                           update_every=1,\n",
        "                                           chunksize=100,\n",
        "                                           passes=10,\n",
        "                                           alpha='auto',\n",
        "                                           per_word_topics=True)"
      ],
      "execution_count": 22,
      "outputs": []
    },
    {
      "cell_type": "code",
      "metadata": {
        "id": "CxDUOhpBphbX",
        "colab_type": "code",
        "colab": {
          "base_uri": "https://localhost:8080/",
          "height": 706
        },
        "outputId": "36df1854-1523-43fb-c458-404fbe9041d6"
      },
      "source": [
        "def get_lda_topics(model, num_topics):\n",
        "    word_dict = {};\n",
        "    for i in range(num_topics):\n",
        "        words = model.show_topic(i, topn = 20)\n",
        "        word_dict['Topic #' + '{:02d}'.format(i+1)] = [i[0] for i in words]\n",
        "    return pd.DataFrame(word_dict)\n",
        "\n",
        "# Print the Keyword in the 15 topics\n",
        "get_lda_topics(lda_model2, 15)"
      ],
      "execution_count": 23,
      "outputs": [
        {
          "output_type": "execute_result",
          "data": {
            "text/html": [
              "<div>\n",
              "<style scoped>\n",
              "    .dataframe tbody tr th:only-of-type {\n",
              "        vertical-align: middle;\n",
              "    }\n",
              "\n",
              "    .dataframe tbody tr th {\n",
              "        vertical-align: top;\n",
              "    }\n",
              "\n",
              "    .dataframe thead th {\n",
              "        text-align: right;\n",
              "    }\n",
              "</style>\n",
              "<table border=\"1\" class=\"dataframe\">\n",
              "  <thead>\n",
              "    <tr style=\"text-align: right;\">\n",
              "      <th></th>\n",
              "      <th>Topic #01</th>\n",
              "      <th>Topic #02</th>\n",
              "      <th>Topic #03</th>\n",
              "      <th>Topic #04</th>\n",
              "      <th>Topic #05</th>\n",
              "      <th>Topic #06</th>\n",
              "      <th>Topic #07</th>\n",
              "      <th>Topic #08</th>\n",
              "      <th>Topic #09</th>\n",
              "      <th>Topic #10</th>\n",
              "      <th>Topic #11</th>\n",
              "      <th>Topic #12</th>\n",
              "      <th>Topic #13</th>\n",
              "      <th>Topic #14</th>\n",
              "      <th>Topic #15</th>\n",
              "    </tr>\n",
              "  </thead>\n",
              "  <tbody>\n",
              "    <tr>\n",
              "      <th>0</th>\n",
              "      <td>high</td>\n",
              "      <td>health</td>\n",
              "      <td>information</td>\n",
              "      <td>disaster</td>\n",
              "      <td>image</td>\n",
              "      <td>food</td>\n",
              "      <td>resistance</td>\n",
              "      <td>care</td>\n",
              "      <td>care</td>\n",
              "      <td>trial</td>\n",
              "      <td>risk</td>\n",
              "      <td>study</td>\n",
              "      <td>patient</td>\n",
              "      <td>death</td>\n",
              "      <td>health</td>\n",
              "    </tr>\n",
              "    <tr>\n",
              "      <th>1</th>\n",
              "      <td>questionnaire</td>\n",
              "      <td>intervention</td>\n",
              "      <td>health</td>\n",
              "      <td>mutation</td>\n",
              "      <td>vaccination</td>\n",
              "      <td>belief</td>\n",
              "      <td>degree</td>\n",
              "      <td>patient</td>\n",
              "      <td>health</td>\n",
              "      <td>study</td>\n",
              "      <td>use</td>\n",
              "      <td>include</td>\n",
              "      <td>covid</td>\n",
              "      <td>gene</td>\n",
              "      <td>datum</td>\n",
              "    </tr>\n",
              "    <tr>\n",
              "      <th>2</th>\n",
              "      <td>response</td>\n",
              "      <td>social</td>\n",
              "      <td>student</td>\n",
              "      <td>gamification</td>\n",
              "      <td>hospital</td>\n",
              "      <td>hypertension</td>\n",
              "      <td>spatial</td>\n",
              "      <td>pandemic</td>\n",
              "      <td>patient</td>\n",
              "      <td>participant</td>\n",
              "      <td>patient</td>\n",
              "      <td>search</td>\n",
              "      <td>case</td>\n",
              "      <td>cancer</td>\n",
              "      <td>public</td>\n",
              "    </tr>\n",
              "    <tr>\n",
              "      <th>3</th>\n",
              "      <td>survey</td>\n",
              "      <td>community</td>\n",
              "      <td>knowledge</td>\n",
              "      <td>trigger</td>\n",
              "      <td>antibiotic</td>\n",
              "      <td>telehealth</td>\n",
              "      <td>nutrition</td>\n",
              "      <td>covid</td>\n",
              "      <td>system</td>\n",
              "      <td>effect</td>\n",
              "      <td>study</td>\n",
              "      <td>use</td>\n",
              "      <td>infection</td>\n",
              "      <td>cell</td>\n",
              "      <td>use</td>\n",
              "    </tr>\n",
              "    <tr>\n",
              "      <th>4</th>\n",
              "      <td>covid</td>\n",
              "      <td>relate</td>\n",
              "      <td>internet</td>\n",
              "      <td>phq</td>\n",
              "      <td>rabie</td>\n",
              "      <td>urban</td>\n",
              "      <td>sexual</td>\n",
              "      <td>visit</td>\n",
              "      <td>need</td>\n",
              "      <td>include</td>\n",
              "      <td>result</td>\n",
              "      <td>evidence</td>\n",
              "      <td>treatment</td>\n",
              "      <td>cause</td>\n",
              "      <td>system</td>\n",
              "    </tr>\n",
              "    <tr>\n",
              "      <th>5</th>\n",
              "      <td>face</td>\n",
              "      <td>mental</td>\n",
              "      <td>online</td>\n",
              "      <td>comprehension</td>\n",
              "      <td>consultation</td>\n",
              "      <td>prep</td>\n",
              "      <td>intervention</td>\n",
              "      <td>virtual</td>\n",
              "      <td>improve</td>\n",
              "      <td>intervention</td>\n",
              "      <td>model</td>\n",
              "      <td>database</td>\n",
              "      <td>clinical</td>\n",
              "      <td>feasibility</td>\n",
              "      <td>base</td>\n",
              "    </tr>\n",
              "    <tr>\n",
              "      <th>6</th>\n",
              "      <td>online</td>\n",
              "      <td>support</td>\n",
              "      <td>incidence</td>\n",
              "      <td>telehealth_user</td>\n",
              "      <td>staff</td>\n",
              "      <td>urological</td>\n",
              "      <td>skill</td>\n",
              "      <td>surgical</td>\n",
              "      <td>base</td>\n",
              "      <td>clinical</td>\n",
              "      <td>datum</td>\n",
              "      <td>review</td>\n",
              "      <td>virus</td>\n",
              "      <td>retention</td>\n",
              "      <td>analysis</td>\n",
              "    </tr>\n",
              "    <tr>\n",
              "      <th>7</th>\n",
              "      <td>infect</td>\n",
              "      <td>diabetes</td>\n",
              "      <td>high</td>\n",
              "      <td>category</td>\n",
              "      <td>emergency</td>\n",
              "      <td>stress</td>\n",
              "      <td>woman</td>\n",
              "      <td>cancer</td>\n",
              "      <td>practice</td>\n",
              "      <td>quality</td>\n",
              "      <td>method</td>\n",
              "      <td>science</td>\n",
              "      <td>hospital</td>\n",
              "      <td>pathogen</td>\n",
              "      <td>method</td>\n",
              "    </tr>\n",
              "    <tr>\n",
              "      <th>8</th>\n",
              "      <td>low</td>\n",
              "      <td>study</td>\n",
              "      <td>behavior</td>\n",
              "      <td>resident</td>\n",
              "      <td>testing</td>\n",
              "      <td>major</td>\n",
              "      <td>literacy</td>\n",
              "      <td>management</td>\n",
              "      <td>service</td>\n",
              "      <td>incivility</td>\n",
              "      <td>high</td>\n",
              "      <td>report</td>\n",
              "      <td>symptom</td>\n",
              "      <td>genome</td>\n",
              "      <td>framework</td>\n",
              "    </tr>\n",
              "    <tr>\n",
              "      <th>9</th>\n",
              "      <td>increase</td>\n",
              "      <td>concern</td>\n",
              "      <td>cancer</td>\n",
              "      <td>store</td>\n",
              "      <td>phone</td>\n",
              "      <td>conspiracy</td>\n",
              "      <td>source</td>\n",
              "      <td>treatment</td>\n",
              "      <td>technology</td>\n",
              "      <td>tool</td>\n",
              "      <td>associate</td>\n",
              "      <td>result</td>\n",
              "      <td>survival</td>\n",
              "      <td>site</td>\n",
              "      <td>tool</td>\n",
              "    </tr>\n",
              "    <tr>\n",
              "      <th>10</th>\n",
              "      <td>report</td>\n",
              "      <td>research</td>\n",
              "      <td>source</td>\n",
              "      <td>spend</td>\n",
              "      <td>iccm</td>\n",
              "      <td>pathology</td>\n",
              "      <td>change</td>\n",
              "      <td>outpatient</td>\n",
              "      <td>support</td>\n",
              "      <td>result</td>\n",
              "      <td>year</td>\n",
              "      <td>article</td>\n",
              "      <td>transmission</td>\n",
              "      <td>recruitment</td>\n",
              "      <td>approach</td>\n",
              "    </tr>\n",
              "    <tr>\n",
              "      <th>11</th>\n",
              "      <td>infant</td>\n",
              "      <td>report</td>\n",
              "      <td>study</td>\n",
              "      <td>score</td>\n",
              "      <td>use</td>\n",
              "      <td>appointment</td>\n",
              "      <td>identify</td>\n",
              "      <td>telemedicine</td>\n",
              "      <td>clinical</td>\n",
              "      <td>therapy</td>\n",
              "      <td>health</td>\n",
              "      <td>conduct</td>\n",
              "      <td>may</td>\n",
              "      <td>neonatal</td>\n",
              "      <td>result</td>\n",
              "    </tr>\n",
              "    <tr>\n",
              "      <th>12</th>\n",
              "      <td>risk</td>\n",
              "      <td>physical</td>\n",
              "      <td>weight</td>\n",
              "      <td>sleep</td>\n",
              "      <td>blood</td>\n",
              "      <td>investigation</td>\n",
              "      <td>cell</td>\n",
              "      <td>provider</td>\n",
              "      <td>use</td>\n",
              "      <td>control</td>\n",
              "      <td>factor</td>\n",
              "      <td>method</td>\n",
              "      <td>indicator</td>\n",
              "      <td>molecular</td>\n",
              "      <td>paper</td>\n",
              "    </tr>\n",
              "    <tr>\n",
              "      <th>13</th>\n",
              "      <td>question</td>\n",
              "      <td>impact</td>\n",
              "      <td>website</td>\n",
              "      <td>on</td>\n",
              "      <td>treatment</td>\n",
              "      <td>expose</td>\n",
              "      <td>supportive</td>\n",
              "      <td>work</td>\n",
              "      <td>cost</td>\n",
              "      <td>change</td>\n",
              "      <td>individual</td>\n",
              "      <td>research</td>\n",
              "      <td>outbreak</td>\n",
              "      <td>infodemic</td>\n",
              "      <td>information</td>\n",
              "    </tr>\n",
              "    <tr>\n",
              "      <th>14</th>\n",
              "      <td>group</td>\n",
              "      <td>focus</td>\n",
              "      <td>seek</td>\n",
              "      <td>eheal</td>\n",
              "      <td>mixed</td>\n",
              "      <td>element</td>\n",
              "      <td>aspirin</td>\n",
              "      <td>change</td>\n",
              "      <td>application</td>\n",
              "      <td>function</td>\n",
              "      <td>conclusion</td>\n",
              "      <td>high</td>\n",
              "      <td>severe</td>\n",
              "      <td>function</td>\n",
              "      <td>policy</td>\n",
              "    </tr>\n",
              "    <tr>\n",
              "      <th>15</th>\n",
              "      <td>gambling</td>\n",
              "      <td>promote</td>\n",
              "      <td>relate</td>\n",
              "      <td>nontelehealth</td>\n",
              "      <td>time</td>\n",
              "      <td>lbp</td>\n",
              "      <td>driver</td>\n",
              "      <td>provide</td>\n",
              "      <td>provide</td>\n",
              "      <td>adult</td>\n",
              "      <td>compare</td>\n",
              "      <td>literature</td>\n",
              "      <td>day</td>\n",
              "      <td>fact</td>\n",
              "      <td>review</td>\n",
              "    </tr>\n",
              "    <tr>\n",
              "      <th>16</th>\n",
              "      <td>related</td>\n",
              "      <td>emotion</td>\n",
              "      <td>use</td>\n",
              "      <td>enjoy</td>\n",
              "      <td>reason</td>\n",
              "      <td>report</td>\n",
              "      <td>respiratory</td>\n",
              "      <td>worker</td>\n",
              "      <td>intervention</td>\n",
              "      <td>adolescent</td>\n",
              "      <td>age</td>\n",
              "      <td>identify</td>\n",
              "      <td>negative</td>\n",
              "      <td>email</td>\n",
              "      <td>digital</td>\n",
              "    </tr>\n",
              "    <tr>\n",
              "      <th>17</th>\n",
              "      <td>pandemic</td>\n",
              "      <td>therapeutic</td>\n",
              "      <td>literacy</td>\n",
              "      <td>avoid</td>\n",
              "      <td>supply</td>\n",
              "      <td>vaccine</td>\n",
              "      <td>programme</td>\n",
              "      <td>impact</td>\n",
              "      <td>program</td>\n",
              "      <td>register</td>\n",
              "      <td>include</td>\n",
              "      <td>analysis</td>\n",
              "      <td>contact</td>\n",
              "      <td>polymorphism</td>\n",
              "      <td>identify</td>\n",
              "    </tr>\n",
              "    <tr>\n",
              "      <th>18</th>\n",
              "      <td>change</td>\n",
              "      <td>people</td>\n",
              "      <td>scientific</td>\n",
              "      <td>sil</td>\n",
              "      <td>base</td>\n",
              "      <td>diagnostic</td>\n",
              "      <td>tumor</td>\n",
              "      <td>training</td>\n",
              "      <td>well</td>\n",
              "      <td>obesity</td>\n",
              "      <td>self</td>\n",
              "      <td>web</td>\n",
              "      <td>time</td>\n",
              "      <td>iron</td>\n",
              "      <td>study</td>\n",
              "    </tr>\n",
              "    <tr>\n",
              "      <th>19</th>\n",
              "      <td>cart</td>\n",
              "      <td>tweet</td>\n",
              "      <td>perceive</td>\n",
              "      <td>ppf</td>\n",
              "      <td>chain</td>\n",
              "      <td>prevalence</td>\n",
              "      <td>sexual_initiation</td>\n",
              "      <td>response</td>\n",
              "      <td>implementation</td>\n",
              "      <td>effectiveness</td>\n",
              "      <td>rate</td>\n",
              "      <td>disease</td>\n",
              "      <td>episode</td>\n",
              "      <td>firm</td>\n",
              "      <td>feature</td>\n",
              "    </tr>\n",
              "  </tbody>\n",
              "</table>\n",
              "</div>"
            ],
            "text/plain": [
              "        Topic #01     Topic #02  ...     Topic #14    Topic #15\n",
              "0            high        health  ...         death       health\n",
              "1   questionnaire  intervention  ...          gene        datum\n",
              "2        response        social  ...        cancer       public\n",
              "3          survey     community  ...          cell          use\n",
              "4           covid        relate  ...         cause       system\n",
              "5            face        mental  ...   feasibility         base\n",
              "6          online       support  ...     retention     analysis\n",
              "7          infect      diabetes  ...      pathogen       method\n",
              "8             low         study  ...        genome    framework\n",
              "9        increase       concern  ...          site         tool\n",
              "10         report      research  ...   recruitment     approach\n",
              "11         infant        report  ...      neonatal       result\n",
              "12           risk      physical  ...     molecular        paper\n",
              "13       question        impact  ...     infodemic  information\n",
              "14          group         focus  ...      function       policy\n",
              "15       gambling       promote  ...          fact       review\n",
              "16        related       emotion  ...         email      digital\n",
              "17       pandemic   therapeutic  ...  polymorphism     identify\n",
              "18         change        people  ...          iron        study\n",
              "19           cart         tweet  ...          firm      feature\n",
              "\n",
              "[20 rows x 15 columns]"
            ]
          },
          "metadata": {
            "tags": []
          },
          "execution_count": 23
        }
      ]
    },
    {
      "cell_type": "markdown",
      "metadata": {
        "id": "pD1w1vZpjZzp",
        "colab_type": "text"
      },
      "source": [
        "Evaluation Metric: Compute Model Perplexity and Coherence Score\n"
      ]
    },
    {
      "cell_type": "code",
      "metadata": {
        "id": "975tGUnljZzp",
        "colab_type": "code",
        "colab": {
          "base_uri": "https://localhost:8080/",
          "height": 85
        },
        "outputId": "aadb706b-125d-42a7-c44e-be2d6ce67bb4"
      },
      "source": [
        "# Compute Perplexity\n",
        "print('\\nPerplexity: ', lda_model2.log_perplexity(corpus))  # a measure of how good the model is. lower the better.\n",
        "\n",
        "# Compute Coherence Score\n",
        "coherence_model_lda = CoherenceModel(model=lda_model2, texts=data_lemmatized, dictionary=id2word, coherence='c_v')\n",
        "coherence_lda = coherence_model_lda.get_coherence()\n",
        "print('\\nCoherence Score: ', coherence_lda)"
      ],
      "execution_count": 24,
      "outputs": [
        {
          "output_type": "stream",
          "text": [
            "\n",
            "Perplexity:  -7.545191180069414\n",
            "\n",
            "Coherence Score:  0.41662289542886016\n"
          ],
          "name": "stdout"
        }
      ]
    },
    {
      "cell_type": "markdown",
      "metadata": {
        "id": "b_ETABaijZzt",
        "colab_type": "text"
      },
      "source": [
        "Visualize the topics-keywords"
      ]
    },
    {
      "cell_type": "code",
      "metadata": {
        "id": "ROVk8Xf5jZzt",
        "colab_type": "code",
        "colab": {
          "base_uri": "https://localhost:8080/",
          "height": 861
        },
        "outputId": "5d950e0d-ff20-4cdb-caec-30cf51e67080"
      },
      "source": [
        "pyLDAvis.enable_notebook()\n",
        "vis = pyLDAvis.gensim.prepare(lda_model2, corpus, id2word)\n",
        "vis"
      ],
      "execution_count": 25,
      "outputs": [
        {
          "output_type": "execute_result",
          "data": {
            "text/html": [
              "\n",
              "<link rel=\"stylesheet\" type=\"text/css\" href=\"https://cdn.rawgit.com/bmabey/pyLDAvis/files/ldavis.v1.0.0.css\">\n",
              "\n",
              "\n",
              "<div id=\"ldavis_el1201403869772752404538797921\"></div>\n",
              "<script type=\"text/javascript\">\n",
              "\n",
              "var ldavis_el1201403869772752404538797921_data = {\"mdsDat\": {\"x\": [0.21031637116116159, 0.18323096584270115, 0.19108345084270292, 0.1584665225880294, 0.04867063787913941, 0.07264783076930523, -0.05392594772890069, -0.0012872615054548774, -0.013639013344178028, -0.09117430643818292, -0.07979403376074769, -0.07005999340889542, -0.16329711061282787, -0.1948013432022209, -0.1964367690816315], \"y\": [0.011906495063494664, 0.07951773494874637, -0.08059291563485455, -0.08865382116675097, 0.214407964571026, -0.08133684599724324, 0.23590572842068266, -0.0951037870666617, -0.0559090547447057, 0.05724930807422453, -0.003028677693580017, -0.1016385248481712, -0.01867355577042137, -0.03292754317567735, -0.041122504980107645], \"topics\": [1, 2, 3, 4, 5, 6, 7, 8, 9, 10, 11, 12, 13, 14, 15], \"cluster\": [1, 1, 1, 1, 1, 1, 1, 1, 1, 1, 1, 1, 1, 1, 1], \"Freq\": [23.74376678466797, 17.304630279541016, 14.52065658569336, 8.374679565429688, 7.516237258911133, 5.011367321014404, 4.574621200561523, 3.758303165435791, 2.7428317070007324, 2.588230848312378, 2.407749652862549, 2.354865074157715, 1.953591227531433, 1.885175108909607, 1.263296365737915]}, \"tinfo\": {\"Term\": [\"patient\", \"health\", \"study\", \"care\", \"intervention\", \"risk\", \"high\", \"information\", \"datum\", \"covid\", \"cancer\", \"trial\", \"include\", \"participant\", \"use\", \"search\", \"system\", \"death\", \"report\", \"clinical\", \"increase\", \"hospital\", \"low\", \"pandemic\", \"effect\", \"treatment\", \"source\", \"relate\", \"public\", \"survey\", \"app\", \"mean\", \"prescription\", \"old\", \"accuracy\", \"sex\", \"depression\", \"attack\", \"long\", \"opioid\", \"analgesic\", \"suicide\", \"cardiovascular\", \"asthma\", \"injury\", \"campaign\", \"person\", \"random\", \"period\", \"psychological\", \"index\", \"history\", \"regression\", \"physical_activity\", \"prescribe\", \"algorithm\", \"pain\", \"bct\", \"curve\", \"cluster\", \"year\", \"associate\", \"risk\", \"self\", \"behaviour\", \"measure\", \"medication\", \"model\", \"individual\", \"compare\", \"age\", \"significantly\", \"relationship\", \"factor\", \"examine\", \"difference\", \"use\", \"rate\", \"help\", \"result\", \"high\", \"method\", \"level\", \"patient\", \"conclusion\", \"datum\", \"study\", \"objective\", \"may\", \"include\", \"health\", \"participant\", \"base\", \"intervention\", \"population\", \"group\", \"cost\", \"evaluation\", \"rural\", \"pathway\", \"practitioner\", \"specialist\", \"viral\", \"security\", \"household\", \"empirical\", \"communication\", \"text\", \"deep\", \"intention\", \"create\", \"maternal\", \"respondent\", \"readiness\", \"mhealth\", \"assign\", \"innovation\", \"nature\", \"centre\", \"parallel\", \"psychosocial\", \"fit\", \"rely\", \"compliance\", \"particularly\", \"usual\", \"drug\", \"application\", \"new\", \"technology\", \"home\", \"care\", \"program\", \"rating\", \"general\", \"practice\", \"local\", \"achieve\", \"need\", \"system\", \"service\", \"improve\", \"support\", \"implement\", \"mobile\", \"challenge\", \"link\", \"implementation\", \"health\", \"screening\", \"patient\", \"analyze\", \"medical\", \"base\", \"assessment\", \"well\", \"clinical\", \"process\", \"provide\", \"design\", \"group\", \"intervention\", \"use\", \"full\", \"synthesis\", \"mother\", \"reference\", \"dietary\", \"protective\", \"coverage\", \"thesis\", \"restriction\", \"specie\", \"publication\", \"crop\", \"park\", \"portal\", \"ethic\", \"volume\", \"forward\", \"cervical\", \"met\", \"inception\", \"approval\", \"utis\", \"fatigue\", \"quantify\", \"growth\", \"better\", \"urinary\", \"multimorbidity\", \"chemotherapy\", \"biodiversity\", \"search\", \"pool\", \"guideline\", \"conference\", \"database\", \"dissemination\", \"article\", \"publish\", \"science\", \"literature\", \"evidence\", \"prevalence\", \"study\", \"review\", \"heterogeneity\", \"include\", \"variation\", \"conduct\", \"quantitative\", \"estimate\", \"research\", \"report\", \"web\", \"number\", \"child\", \"population\", \"disease\", \"quality\", \"analysis\", \"assess\", \"use\", \"increase\", \"result\", \"method\", \"identify\", \"high\", \"conclusion\", \"twitter\", \"gain\", \"frequent\", \"si\", \"immunity\", \"reviewer\", \"misinformation\", \"fall\", \"smt\", \"sensitivity\", \"laboratory\", \"disagreement\", \"landscape\", \"propagation\", \"title\", \"preference\", \"learn\", \"documentation\", \"social_media_platform\", \"older_adult\", \"syrian\", \"explicitly\", \"tackle\", \"technological\", \"meaningful\", \"problem_list\", \"yet\", \"preoperative\", \"neural\", \"canadian\", \"domain\", \"framework\", \"twitt\", \"dose\", \"concept\", \"shift\", \"feature\", \"useful\", \"public\", \"stakeholder\", \"paper\", \"datum\", \"inpatient\", \"open\", \"health\", \"policy\", \"digital\", \"system\", \"data\", \"tool\", \"understand\", \"analysis\", \"approach\", \"interest\", \"map\", \"base\", \"way\", \"use\", \"method\", \"review\", \"develop\", \"information\", \"result\", \"identify\", \"web\", \"research\", \"relevant\", \"study\", \"report\", \"area\", \"virtual\", \"outpatient\", \"telemedicine\", \"liver\", \"visit\", \"oncologist\", \"line\", \"regular\", \"identification\", \"surgical\", \"ehr\", \"palliative\", \"consistency\", \"organizational\", \"delay\", \"tobacco\", \"immunotherapy\", \"schedule\", \"prefer\", \"depend\", \"examination\", \"safe\", \"occupational\", \"administration\", \"amputation\", \"selection\", \"transition\", \"variety\", \"swing\", \"flexibility\", \"center\", \"unit\", \"pandemic\", \"worker\", \"personal\", \"continue\", \"clinic\", \"care\", \"training\", \"covid\", \"management\", \"cancer\", \"provider\", \"patient\", \"contain\", \"change\", \"treatment\", \"work\", \"response\", \"impact\", \"provide\", \"key\", \"medical\", \"implementation\", \"electronic\", \"approach\", \"diabetes\", \"emotion\", \"therapeutic\", \"miss\", \"acceptability\", \"instruction\", \"utilization\", \"usability\", \"course\", \"word\", \"dementia\", \"arise\", \"transfusion\", \"sadness\", \"adapt\", \"implication\", \"survivor\", \"deprivation\", \"psychotherapy\", \"recognize\", \"special\", \"rare\", \"behavior_change\", \"appraisal\", \"anger\", \"elimination\", \"terrorist\", \"emotional\", \"concentration\", \"markedly\", \"preventive\", \"mental\", \"insulin\", \"basis\", \"phase\", \"social\", \"physical\", \"intervention\", \"community\", \"tweet\", \"structure\", \"promote\", \"health\", \"concern\", \"relate\", \"support\", \"focus\", \"education\", \"people\", \"research\", \"impact\", \"complete\", \"access\", \"report\", \"strategy\", \"study\", \"development\", \"identify\", \"improve\", \"datum\", \"survival\", \"indicator\", \"episode\", \"die\", \"virus\", \"fear\", \"dot\", \"prognostic\", \"co\", \"segmentation\", \"normal\", \"distress\", \"isolate\", \"fever\", \"trace\", \"pregnant\", \"display\", \"temperature\", \"chest\", \"pm\", \"srcc\", \"automatic\", \"protein\", \"inflammatory\", \"deploy\", \"discharge\", \"ard\", \"lung\", \"filter\", \"immune\", \"contact\", \"transmission\", \"threat\", \"infection\", \"patient\", \"severe\", \"stay\", \"symptom\", \"covid\", \"spread\", \"case\", \"outbreak\", \"hospital\", \"treatment\", \"clinical\", \"negative\", \"day\", \"may\", \"novel\", \"time\", \"show\", \"disease\", \"could\", \"result\", \"incivility\", \"rct\", \"wrist\", \"central\", \"smoke\", \"inconsistent\", \"blind\", \"motion\", \"joint\", \"smoking_cessation\", \"crag\", \"depressive\", \"quit\", \"poorly\", \"walk\", \"capitalization\", \"excerpt\", \"specialty\", \"file\", \"antifungal\", \"neurosurgical\", \"vitamin\", \"submit\", \"leadership\", \"mobility\", \"regardless\", \"thylakoid\", \"trustworthiness\", \"improvejob\", \"one\", \"trial\", \"adolescent\", \"additionally\", \"obesity\", \"head\", \"function\", \"effect\", \"leader\", \"participant\", \"therapy\", \"register\", \"study\", \"clinical\", \"include\", \"intervention\", \"quality\", \"tool\", \"control\", \"change\", \"adult\", \"effectiveness\", \"result\", \"role\", \"accord\", \"web\", \"however\", \"show\", \"student\", \"answer\", \"strain\", \"agreement\", \"university\", \"elderly\", \"asymptomatic\", \"threaten\", \"quartile\", \"binary\", \"stroke\", \"news\", \"frame\", \"glucose\", \"baseline\", \"quarantine\", \"business\", \"corticosteroid\", \"entry\", \"move\", \"correct\", \"sars_cov\", \"healthful\", \"endpoint\", \"injection\", \"seem\", \"internet\", \"weight\", \"engine\", \"methamphetamine\", \"incidence\", \"knowledge\", \"consist\", \"scientific\", \"website\", \"online\", \"information\", \"healthy\", \"literacy\", \"seek\", \"behavior\", \"availability\", \"perceive\", \"cancer\", \"production\", \"source\", \"health\", \"high\", \"question\", \"show\", \"relate\", \"number\", \"regard\", \"study\", \"cohort\", \"use\", \"measure\", \"treatment\", \"infant\", \"gambling\", \"cart\", \"helmet\", \"wear\", \"organ\", \"viraemia\", \"cure\", \"urology\", \"intensive\", \"believe\", \"fentanyl\", \"reminder\", \"density\", \"bet\", \"suppression\", \"gc\", \"endoscopic\", \"prolong\", \"bring\", \"broadcast\", \"adequate\", \"stratification\", \"cryptomarket\", \"italian\", \"load\", \"competition\", \"plasma\", \"undetectable\", \"virological\", \"respond\", \"minority\", \"infect\", \"mask\", \"geographical\", \"questionnaire\", \"face\", \"scenario\", \"response\", \"related\", \"online\", \"survey\", \"agent\", \"question\", \"cut\", \"covid\", \"high\", \"low\", \"increase\", \"medium\", \"pandemic\", \"report\", \"change\", \"order\", \"group\", \"rate\", \"risk\", \"relationship\", \"collect\", \"vaccination\", \"rabie\", \"consultation\", \"phone\", \"iccm\", \"mixed\", \"supply\", \"chain\", \"video\", \"ownership\", \"scd\", \"commodity\", \"antibiotic\", \"product\", \"dental\", \"monthly\", \"label\", \"paediatric\", \"dog\", \"sickle\", \"automation\", \"cphm_app\", \"sms\", \"image\", \"youtube\", \"requirement\", \"acquire\", \"imaging\", \"equip\", \"effectively\", \"supervision\", \"smear\", \"reason\", \"accessibility\", \"blood\", \"staff\", \"testing\", \"emergency\", \"travel\", \"hospital\", \"facility\", \"percentage\", \"resistant\", \"treatment\", \"time\", \"receive\", \"use\", \"base\", \"community\", \"self\", \"resistance\", \"degree\", \"spatial\", \"skill\", \"supportive\", \"aspirin\", \"driver\", \"tumor\", \"sexual_initiation\", \"sexual\", \"racial\", \"unimprove\", \"hotspot\", \"crc\", \"reproductive\", \"nutrition\", \"liberal\", \"checklist\", \"australian\", \"satscan\", \"intercourse\", \"drinking_water\", \"wealth\", \"fix\", \"semistructure\", \"peer_reviewe\", \"enter\", \"exploratory\", \"inadequate\", \"alteration\", \"programme\", \"investment\", \"smoking\", \"literacy\", \"respiratory\", \"cell\", \"woman\", \"source\", \"change\", \"secondary\", \"intervention\", \"map\", \"identify\", \"outbreak\", \"participation\", \"integrate\", \"study\", \"focus\", \"food\", \"urban\", \"urological\", \"conspiracy\", \"pathology\", \"lbp\", \"abnormal\", \"musculoskeletal\", \"hpv\", \"ophthalmology\", \"specimen\", \"slide\", \"stress\", \"migraine\", \"microscope\", \"mos\", \"prep\", \"hypertension\", \"belief\", \"forum\", \"multivariate\", \"workload\", \"twice\", \"benign\", \"ill\", \"telehealth\", \"element\", \"radiology\", \"pathologist\", \"disseminator\", \"univariate\", \"iranian\", \"appointment\", \"investigation\", \"expose\", \"vaccine\", \"class\", \"connection\", \"diabetic\", \"major\", \"diagnostic\", \"referral\", \"due\", \"infect\", \"remote\", \"nurse\", \"prevalence\", \"report\", \"covid\", \"concern\", \"gene\", \"retention\", \"pathogen\", \"genome\", \"neonatal\", \"molecular\", \"infodemic\", \"email\", \"polymorphism\", \"firm\", \"malaria\", \"pancreatitis\", \"snps\", \"advertising\", \"pancreatic\", \"gamble\", \"stillbirth\", \"specificity\", \"lynch_syndrome\", \"congenital\", \"recruitment\", \"retain\", \"season\", \"hasp\", \"minimize\", \"variant\", \"trustworthy\", \"chd\", \"spatially\", \"necrotize\", \"iron\", \"fact\", \"cell\", \"death\", \"contrast\", \"feasibility\", \"genetic\", \"cancer\", \"cause\", \"site\", \"function\", \"action\", \"type\", \"case\", \"disaster\", \"mutation\", \"gamification\", \"trigger\", \"phq\", \"comprehension\", \"telehealth_user\", \"category\", \"store\", \"spend\", \"sleep\", \"on\", \"nontelehealth\", \"enjoy\", \"avoid\", \"ppf\", \"sil\", \"rhythm\", \"electrical_cardioversion\", \"informed\", \"machine_learning\", \"mosquito\", \"aede\", \"cash\", \"habitante\", \"night\", \"correctly\", \"tube\", \"sls\", \"auto\", \"numeracy\", \"omic\", \"eheal\", \"resident\", \"subjective\", \"score\", \"successful\", \"operate\", \"possible\", \"adult\"], \"Freq\": [536.0, 561.0, 677.0, 283.0, 223.0, 319.0, 239.0, 159.0, 317.0, 137.0, 90.0, 72.0, 290.0, 128.0, 463.0, 125.0, 166.0, 51.0, 178.0, 149.0, 143.0, 80.0, 122.0, 77.0, 81.0, 135.0, 80.0, 123.0, 137.0, 70.0, 46.900611877441406, 48.14137649536133, 44.426002502441406, 44.529605865478516, 38.93520736694336, 37.14864730834961, 27.46433448791504, 25.890504837036133, 21.846708297729492, 21.056062698364258, 19.935237884521484, 19.75541877746582, 19.334562301635742, 18.53034019470215, 18.08258056640625, 18.279638290405273, 31.236560821533203, 17.619035720825195, 36.652706146240234, 19.446035385131836, 29.900177001953125, 15.795184135437012, 21.37091827392578, 14.285941123962402, 13.188636779785156, 13.126235961914062, 13.06423282623291, 12.886506080627441, 12.12819766998291, 68.3832015991211, 101.7286605834961, 107.50691223144531, 272.81768798828125, 72.86309814453125, 20.196090698242188, 65.80121612548828, 35.53807830810547, 135.75506591796875, 89.76005554199219, 86.885009765625, 83.84733581542969, 42.295570373535156, 45.20844650268555, 95.44424438476562, 50.869998931884766, 44.9116096496582, 238.67132568359375, 70.2705078125, 54.38966751098633, 137.23521423339844, 117.78511047363281, 119.19677734375, 67.22771453857422, 172.49729919433594, 88.9417953491211, 120.80509185791016, 165.17483520507812, 59.28080368041992, 63.790687561035156, 79.93736267089844, 96.88641357421875, 60.122737884521484, 67.65876770019531, 64.72198486328125, 54.807167053222656, 54.413509368896484, 48.11008834838867, 33.35940933227539, 30.159578323364258, 21.043027877807617, 19.18924903869629, 18.545381546020508, 16.336835861206055, 15.741714477539062, 15.042470932006836, 14.758852005004883, 27.362897872924805, 13.210861206054688, 12.757161140441895, 12.681632995605469, 28.592653274536133, 12.337240219116211, 36.386383056640625, 11.455846786499023, 11.382349967956543, 11.10081958770752, 11.063060760498047, 10.285380363464355, 10.115428924560547, 10.037042617797852, 9.81161117553711, 10.88619327545166, 9.009998321533203, 8.930205345153809, 32.12153625488281, 8.876420974731445, 39.93355178833008, 47.55171203613281, 35.05393600463867, 55.36190414428711, 23.572860717773438, 203.6260986328125, 44.08209228515625, 18.139650344848633, 34.60502624511719, 57.40558624267578, 19.175743103027344, 17.82553482055664, 81.48603057861328, 96.44526672363281, 57.32868957519531, 74.9723129272461, 54.53473663330078, 28.307554244995117, 30.404245376586914, 39.162113189697266, 23.159021377563477, 41.98868942260742, 172.88275146484375, 32.08212661743164, 134.563232421875, 32.03620147705078, 41.158851623535156, 72.83707427978516, 36.08192443847656, 43.553367614746094, 51.49082565307617, 33.77043151855469, 44.89861297607422, 38.607574462890625, 39.70372772216797, 44.19991683959961, 49.341548919677734, 20.873319625854492, 19.070537567138672, 16.126873016357422, 16.080562591552734, 14.868361473083496, 12.798705101013184, 12.525816917419434, 12.15137767791748, 11.308553695678711, 10.859232902526855, 44.419517517089844, 10.627289772033691, 10.627047538757324, 10.564748764038086, 18.692028045654297, 10.313393592834473, 10.11788272857666, 10.060053825378418, 9.018828392028809, 8.80649185180664, 8.767897605895996, 8.685523986816406, 8.630156517028809, 8.591557502746582, 8.390758514404297, 8.312577247619629, 7.977721691131592, 7.949344158172607, 7.61086893081665, 7.106210708618164, 112.94754028320312, 33.210121154785156, 40.614376068115234, 17.505638122558594, 73.84098052978516, 26.25322151184082, 64.82389068603516, 43.12398910522461, 72.56961822509766, 55.46955490112305, 77.6182632446289, 49.59964370727539, 382.3619384765625, 73.7889404296875, 19.26892852783203, 133.73928833007812, 18.901506423950195, 62.78765869140625, 19.94808006286621, 40.13243103027344, 58.591400146484375, 71.77774810791016, 51.7141227722168, 43.922630310058594, 43.873634338378906, 48.014862060546875, 51.249786376953125, 43.80195999145508, 52.11776351928711, 43.7507209777832, 86.23468017578125, 47.91487503051758, 64.91944885253906, 61.683624267578125, 52.23952865600586, 55.98882293701172, 41.710323333740234, 19.099422454833984, 12.916301727294922, 10.500247955322266, 10.309701919555664, 9.744379997253418, 9.589398384094238, 9.27076530456543, 9.05971622467041, 8.776145935058594, 8.529948234558105, 8.513556480407715, 8.44509220123291, 7.8827409744262695, 7.866411209106445, 7.771721839904785, 7.636634349822998, 7.54302453994751, 7.088170528411865, 7.085783004760742, 6.436175346374512, 6.392122745513916, 6.347369194030762, 6.309905052185059, 6.082479000091553, 5.927577972412109, 5.871435642242432, 5.552031517028809, 5.3416643142700195, 5.189054489135742, 5.186761856079102, 19.030078887939453, 36.449623107910156, 13.915688514709473, 8.82404613494873, 12.54434585571289, 18.16745948791504, 23.829980850219727, 8.491064071655273, 66.1464614868164, 17.622379302978516, 30.605016708374023, 123.86476135253906, 11.207472801208496, 17.309444427490234, 145.94625854492188, 26.44228744506836, 25.97245979309082, 54.76865768432617, 23.40827178955078, 33.50297546386719, 21.711057662963867, 45.523494720458984, 32.4776725769043, 15.607995986938477, 13.15695858001709, 47.23609161376953, 16.56319808959961, 55.38481140136719, 41.71803665161133, 26.355125427246094, 23.694137573242188, 28.48830795288086, 32.330726623535156, 25.720788955688477, 22.73885154724121, 22.424701690673828, 17.699365615844727, 25.269264221191406, 21.031274795532227, 18.270536422729492, 35.15129852294922, 29.713109970092773, 27.74614143371582, 16.046865463256836, 39.08892059326172, 14.826773643493652, 14.34689712524414, 13.768913269042969, 13.022107124328613, 34.37527084350586, 10.084437370300293, 10.056120872497559, 9.683717727661133, 9.591550827026367, 9.294020652770996, 9.17418098449707, 8.938782691955566, 8.90054988861084, 16.89388656616211, 8.894427299499512, 8.533487319946289, 8.270269393920898, 8.058536529541016, 7.552253723144531, 11.10593032836914, 11.032633781433105, 14.612319946289062, 5.927139759063721, 5.911223888397217, 5.875551223754883, 16.792724609375, 10.418827056884766, 51.26116943359375, 23.26902198791504, 14.958484649658203, 18.633455276489258, 17.89398765563965, 76.86959838867188, 21.02351188659668, 43.75459671020508, 31.77952003479004, 33.13554382324219, 25.882102966308594, 68.13237762451172, 14.295161247253418, 23.99367904663086, 31.032474517822266, 25.25482749938965, 20.272632598876953, 22.935752868652344, 23.309621810913086, 17.669109344482422, 19.118541717529297, 17.360177993774414, 16.399362564086914, 16.101238250732422, 20.816003799438477, 16.028200149536133, 15.478961944580078, 13.78251838684082, 12.706605911254883, 9.237448692321777, 9.2002592086792, 7.938887596130371, 7.7714643478393555, 7.734279155731201, 7.30629825592041, 7.054631233215332, 6.8524169921875, 6.847528457641602, 6.545020580291748, 8.10595703125, 6.095028400421143, 6.216937065124512, 5.963289737701416, 5.900182723999023, 6.0526123046875, 5.658267498016357, 5.565356731414795, 5.339494705200195, 5.151034355163574, 5.148653030395508, 5.149460315704346, 8.332006454467773, 5.076651573181152, 4.9228997230529785, 14.874421119689941, 21.847171783447266, 9.082164764404297, 7.936240196228027, 13.326668739318848, 36.20151901245117, 17.84048843383789, 73.535888671875, 33.21518325805664, 14.904875755310059, 9.356767654418945, 16.337373733520508, 91.63054656982422, 19.312559127807617, 31.042726516723633, 21.219324111938477, 16.662883758544922, 13.303940773010254, 15.223434448242188, 19.114669799804688, 17.107019424438477, 11.960094451904297, 13.323949813842773, 17.962902069091797, 13.460179328918457, 19.641738891601562, 12.182833671569824, 14.416463851928711, 13.054490089416504, 13.427215576171875, 21.16095542907715, 17.317781448364258, 14.511452674865723, 13.989949226379395, 26.27065086364746, 10.677129745483398, 9.941239356994629, 9.196537017822266, 9.1099271774292, 8.278509140014648, 7.929497241973877, 7.414148330688477, 7.084631443023682, 6.865626811981201, 6.834672927856445, 6.706620216369629, 6.615682601928711, 6.11577033996582, 6.034233570098877, 5.702729225158691, 5.702509880065918, 5.532980918884277, 5.262778282165527, 5.161638259887695, 4.8713202476501465, 13.683686256408691, 4.702508449554443, 4.621365547180176, 7.231675148010254, 4.580047130584717, 15.32028579711914, 18.458852767944336, 7.8178253173828125, 31.574180603027344, 142.56002807617188, 16.233278274536133, 10.097070693969727, 21.366744995117188, 40.53695297241211, 14.276518821716309, 33.40401077270508, 16.567974090576172, 23.973379135131836, 30.72597885131836, 28.598196029663086, 15.829776763916016, 16.224884033203125, 17.65532112121582, 9.615833282470703, 15.207582473754883, 12.708456039428711, 12.619185447692871, 10.24660587310791, 10.861445426940918, 17.289936065673828, 9.78768253326416, 9.344021797180176, 9.225217819213867, 8.874696731567383, 8.653854370117188, 7.810795307159424, 7.796046733856201, 7.522193908691406, 7.120724678039551, 7.072035312652588, 6.666680812835693, 6.657893657684326, 6.643040657043457, 6.24807071685791, 6.195038795471191, 6.195038795471191, 6.005981922149658, 5.543151378631592, 5.3180694580078125, 5.267016410827637, 5.152641773223877, 5.128990650177002, 5.11207914352417, 4.700093746185303, 4.666162967681885, 4.51558256149292, 4.441079139709473, 4.441059112548828, 4.251998424530029, 56.46080780029297, 11.367317199707031, 6.232513904571533, 10.258779525756836, 7.53364896774292, 12.043923377990723, 29.620235443115234, 7.903021812438965, 32.552490234375, 15.374856948852539, 10.621317863464355, 47.38204574584961, 21.535905838012695, 27.4019718170166, 23.76999855041504, 17.904863357543945, 15.885642051696777, 14.126094818115234, 13.104097366333008, 11.529212951660156, 10.124663352966309, 15.732892990112305, 9.836156845092773, 8.925796508789062, 9.640727996826172, 9.384015083312988, 8.904250144958496, 26.039505004882812, 8.090361595153809, 7.285887718200684, 6.942879676818848, 6.92302131652832, 5.967299938201904, 5.837364196777344, 5.718992710113525, 5.705179214477539, 5.024586200714111, 4.829020977020264, 4.776288986206055, 4.648703098297119, 4.16971492767334, 4.1346049308776855, 3.9214251041412354, 3.9191763401031494, 3.8732681274414062, 3.7411136627197266, 3.7059991359710693, 3.6380081176757812, 3.4576988220214844, 3.2621209621429443, 3.259880781173706, 2.8816511631011963, 2.798403739929199, 24.662273406982422, 11.434957504272461, 4.280172824859619, 2.4530417919158936, 21.261804580688477, 25.37755012512207, 9.413315773010254, 9.939302444458008, 11.394634246826172, 21.7333984375, 45.166114807128906, 5.824023723602295, 10.168766021728516, 11.02222728729248, 16.68910789489746, 6.571953773498535, 9.487175941467285, 16.5445613861084, 6.5874834060668945, 13.389155387878418, 26.787717819213867, 17.99469757080078, 8.491414070129395, 9.373818397521973, 10.31429672241211, 9.38038444519043, 7.995720863342285, 11.865863800048828, 7.536229133605957, 10.178289413452148, 7.0670599937438965, 6.987369537353516, 13.971904754638672, 12.595318794250488, 11.201456069946289, 9.807592391967773, 6.138495445251465, 5.706433296203613, 5.626013278961182, 5.6259942054748535, 5.625793933868408, 5.595455169677734, 5.37746524810791, 5.213188648223877, 4.805768013000488, 4.482756614685059, 4.232152462005615, 4.232152462005615, 4.232130527496338, 4.232130527496338, 4.014155387878418, 3.8286750316619873, 3.6279618740081787, 6.299383163452148, 3.566790819168091, 3.4923365116119385, 8.739622116088867, 2.9678244590759277, 2.918731451034546, 2.8382911682128906, 2.8382911682128906, 2.8382911682128906, 6.804107666015625, 6.759704113006592, 16.231510162353516, 7.591508388519287, 7.545910835266113, 22.59530258178711, 17.25301170349121, 4.825778484344482, 19.738677978515625, 12.374320030212402, 16.424453735351562, 18.918716430664062, 6.881039619445801, 12.975138664245605, 6.3166985511779785, 18.707427978515625, 23.706071853637695, 16.207223892211914, 15.705757141113281, 7.948076248168945, 12.192946434020996, 15.316728591918945, 11.239518165588379, 8.512304306030273, 12.754633903503418, 10.952366828918457, 13.5816068649292, 8.20760726928711, 6.878046035766602, 24.01067352294922, 13.313158988952637, 11.81032657623291, 10.793010711669922, 10.660146713256836, 9.27363395690918, 8.714998245239258, 7.876246929168701, 7.604861736297607, 6.680643558502197, 6.680634498596191, 5.900055885314941, 14.193502426147461, 4.76270055770874, 4.760751724243164, 4.424242973327637, 4.395169734954834, 4.338808536529541, 4.027636528015137, 4.027633190155029, 4.02763032913208, 4.027617931365967, 5.750741481781006, 25.52902603149414, 3.529188394546509, 6.827637195587158, 3.4652764797210693, 3.4235379695892334, 3.3235998153686523, 3.2742605209350586, 6.680638313293457, 5.981410980224609, 8.787904739379883, 4.8060808181762695, 10.348832130432129, 11.485753059387207, 10.98399543762207, 11.016997337341309, 5.034749507904053, 14.759598731994629, 7.095581531524658, 6.672761917114258, 5.6528520584106445, 9.749855041503906, 9.159148216247559, 7.346179962158203, 10.453110694885254, 8.206658363342285, 7.299787521362305, 7.307085990905762, 23.826107025146484, 14.802611351013184, 14.329304695129395, 11.059324264526367, 8.904874801635742, 8.825927734375, 7.76129674911499, 7.073906421661377, 6.893759250640869, 12.450628280639648, 5.845952033996582, 5.52493143081665, 5.52493143081665, 5.404922008514404, 5.0401458740234375, 13.169551849365234, 4.477292060852051, 4.47537088394165, 4.308269500732422, 4.15612268447876, 4.156121730804443, 4.156115531921387, 4.156001091003418, 3.972055435180664, 3.9720475673675537, 3.9420478343963623, 3.350548505783081, 3.196564197540283, 3.166562557220459, 3.1665618419647217, 7.07729959487915, 5.908371925354004, 6.785612106323242, 10.137097358703613, 7.292571067810059, 9.125892639160156, 11.048979759216309, 9.87706470489502, 9.494361877441406, 6.182162284851074, 12.315469741821289, 5.982981204986572, 9.47298526763916, 6.52785062789917, 5.761096000671387, 5.69556188583374, 6.172847747802734, 5.7987494468688965, 15.3676176071167, 12.241207122802734, 11.830728530883789, 9.190338134765625, 9.10793685913086, 6.747710227966309, 5.705740451812744, 5.586191654205322, 5.361998558044434, 5.248194217681885, 5.170852184295654, 5.011160850524902, 11.356828689575195, 5.013458728790283, 4.6194682121276855, 4.602943420410156, 12.049518585205078, 13.800283432006836, 14.476810455322266, 3.428567409515381, 3.2796478271484375, 3.279644727706909, 3.2502758502960205, 3.128727674484253, 3.0425899028778076, 13.765937805175781, 7.130063056945801, 2.87717342376709, 2.805582046508789, 2.7282512187957764, 2.7282512187957764, 3.979959011077881, 7.957033634185791, 7.488648414611816, 7.359582901000977, 6.332662582397461, 4.100822448730469, 4.9417619705200195, 4.5803327560424805, 10.433908462524414, 6.22509241104126, 5.075967311859131, 6.0317277908325195, 5.6313958168029785, 5.445802211761475, 5.378236293792725, 6.044255256652832, 6.404244422912598, 5.938594341278076, 5.263345718383789, 25.111230850219727, 9.084064483642578, 8.883920669555664, 8.097558975219727, 6.521207332611084, 6.5032854080200195, 6.373970031738281, 5.984171390533447, 5.95405387878418, 5.598086357116699, 5.555671215057373, 5.211238384246826, 4.824110984802246, 4.822299003601074, 4.7551116943359375, 4.652266502380371, 4.298214912414551, 4.064240455627441, 3.7046432495117188, 3.6922690868377686, 6.719760417938232, 3.360985040664673, 2.973092794418335, 2.973085403442383, 2.9588921070098877, 2.9040935039520264, 2.77295184135437, 2.6294260025024414, 2.629373788833618, 2.6292245388031006, 5.777433395385742, 6.0887370109558105, 20.723434448242188, 31.398197174072266, 5.04925537109375, 9.613119125366211, 5.329020977020264, 23.957731246948242, 9.756485939025879, 7.712752819061279, 6.1108808517456055, 4.873944282531738, 5.252221584320068, 5.426041603088379, 15.557291984558105, 8.547568321228027, 7.844417095184326, 6.938746452331543, 6.9280524253845215, 5.893674373626709, 5.780313491821289, 5.5253376960754395, 4.592940330505371, 4.37920618057251, 4.016828536987305, 3.9430360794067383, 3.4848456382751465, 3.459686040878296, 3.3305015563964844, 3.2928035259246826, 3.2928037643432617, 3.281796932220459, 2.87569522857666, 2.7842910289764404, 2.655111789703369, 2.642570972442627, 2.642570972442627, 2.6425256729125977, 2.3371124267578125, 2.3369479179382324, 2.182769298553467, 2.1340577602386475, 1.9923381805419922, 1.9923382997512817, 1.9923381805419922, 3.268016815185547, 3.7945573329925537, 4.700043678283691, 2.5839953422546387, 4.335729598999023, 2.871242046356201, 2.721034288406372, 3.0040535926818848, 2.652754068374634], \"Total\": [536.0, 561.0, 677.0, 283.0, 223.0, 319.0, 239.0, 159.0, 317.0, 137.0, 90.0, 72.0, 290.0, 128.0, 463.0, 125.0, 166.0, 51.0, 178.0, 149.0, 143.0, 80.0, 122.0, 77.0, 81.0, 135.0, 80.0, 123.0, 137.0, 70.0, 47.666107177734375, 48.940650939941406, 45.190948486328125, 45.311988830566406, 39.71963882446289, 37.929508209228516, 28.22928237915039, 26.65549659729004, 22.61603355407715, 21.82243537902832, 20.70093536376953, 20.520519256591797, 20.116254806518555, 19.295286178588867, 18.847551345825195, 19.056182861328125, 32.57451248168945, 18.383991241455078, 38.27825164794922, 20.338773727416992, 31.29106330871582, 16.56023406982422, 22.479568481445312, 15.05105209350586, 13.953582763671875, 13.89156436920166, 13.829449653625488, 13.651450157165527, 12.893206596374512, 72.7784423828125, 110.73641204833984, 121.08110809326172, 319.8561096191406, 82.16645050048828, 21.702880859375, 75.14060974121094, 39.4375114440918, 168.22943115234375, 110.73600769042969, 106.87628173828125, 103.83238220214844, 49.224082946777344, 54.14179992675781, 129.5330352783203, 62.47429275512695, 54.96297073364258, 463.10028076171875, 106.18267822265625, 77.29056549072266, 295.6340026855469, 239.3397979736328, 264.9811096191406, 111.62248992919922, 536.8900756835938, 183.15048217773438, 317.3241271972656, 677.9334716796875, 94.91153717041016, 127.78475952148438, 290.5647277832031, 561.6019287109375, 128.07998657226562, 229.17674255371094, 223.00961303710938, 120.5418930053711, 119.91744232177734, 48.87504577636719, 34.1683349609375, 30.923065185546875, 21.807052612304688, 19.952741622924805, 19.308908462524414, 17.100324630737305, 16.505258560180664, 15.805963516235352, 15.522342681884766, 28.8455810546875, 13.974353790283203, 13.520657539367676, 13.445130348205566, 30.31658172607422, 13.100728988647461, 38.727325439453125, 12.219332695007324, 12.155369758605957, 11.864306449890137, 11.826547622680664, 11.048873901367188, 10.878926277160645, 10.800549507141113, 10.575127601623535, 11.767961502075195, 9.774559020996094, 9.693732261657715, 34.86951446533203, 9.639911651611328, 43.50334548950195, 53.05434036254883, 39.05097579956055, 63.297794342041016, 27.04172134399414, 283.04901123046875, 55.167823791503906, 20.65904426574707, 42.78559494018555, 76.49166107177734, 22.252042770385742, 20.546085357666016, 127.39891052246094, 166.7412109375, 87.15771484375, 122.49948120117188, 85.63926696777344, 37.2164421081543, 41.19677734375, 59.541683197021484, 29.00652313232422, 68.41166687011719, 561.6019287109375, 47.91651916503906, 536.8900756835938, 48.09012985229492, 77.38884735107422, 229.17674255371094, 60.386409759521484, 91.91282653808594, 149.62445068359375, 54.894649505615234, 129.73907470703125, 86.59868621826172, 119.91744232177734, 223.00961303710938, 463.10028076171875, 21.641403198242188, 19.839502334594727, 16.89348030090332, 16.847225189208984, 15.634973526000977, 13.565360069274902, 13.292479515075684, 12.917986869812012, 12.07516098022461, 11.628341674804688, 47.574684143066406, 11.394074440002441, 11.3941068649292, 11.331357955932617, 20.075971603393555, 11.080179214477539, 10.884493827819824, 10.826661109924316, 9.785436630249023, 9.573099136352539, 9.534504890441895, 9.452129364013672, 9.39676570892334, 9.35816764831543, 9.157418251037598, 9.082009315490723, 8.7443265914917, 8.715978622436523, 8.377488136291504, 7.872889041900635, 125.90714263916016, 36.8923454284668, 45.452598571777344, 19.447755813598633, 86.73249053955078, 29.855342864990234, 77.69343566894531, 50.82758712768555, 89.27648162841797, 70.54843139648438, 108.21617889404297, 65.54806518554688, 677.9334716796875, 107.52540588378906, 23.04014778137207, 290.5647277832031, 23.74894905090332, 121.6960678100586, 26.401443481445312, 75.33487701416016, 131.9701690673828, 178.78334045410156, 115.09660339355469, 95.47090911865234, 95.91695404052734, 120.5418930053711, 141.19215393066406, 108.30903625488281, 153.12379455566406, 113.93195343017578, 463.10028076171875, 143.23184204101562, 295.6340026855469, 264.9811096191406, 183.81007385253906, 239.3397979736328, 183.15048217773438, 20.036422729492188, 13.684779167175293, 11.274394035339355, 11.085189819335938, 10.512885093688965, 10.35787582397461, 10.039243698120117, 9.82820987701416, 9.544644355773926, 9.29842758178711, 9.282034873962402, 9.263664245605469, 8.651220321655273, 8.634930610656738, 8.541301727294922, 8.40511703491211, 8.311511039733887, 7.856659412384033, 7.8542609214782715, 7.204653739929199, 7.160619735717773, 7.115846157073975, 7.078380584716797, 6.850955009460449, 6.696060657501221, 6.639923095703125, 6.321226119995117, 6.110140323638916, 5.957633972167969, 5.9552459716796875, 21.8699951171875, 43.83912658691406, 16.48723030090332, 10.29332447052002, 15.07517147064209, 22.95816421508789, 33.29867935180664, 10.190447807312012, 137.15354919433594, 25.849287033081055, 52.65471267700195, 317.3241271972656, 14.596068382263184, 26.515430450439453, 561.6019287109375, 49.71272277832031, 48.93199157714844, 166.7412109375, 47.764808654785156, 86.30216979980469, 43.711368560791016, 153.12379455566406, 90.10932159423828, 26.604433059692383, 19.859474182128906, 229.17674255371094, 30.919452667236328, 463.10028076171875, 264.9811096191406, 107.52540588378906, 95.31866455078125, 159.4655303955078, 295.6340026855469, 183.81007385253906, 115.09660339355469, 131.9701690673828, 49.643009185791016, 677.9334716796875, 178.78334045410156, 70.47874450683594, 35.92359924316406, 30.48687744140625, 28.517093658447266, 16.817819595336914, 41.082740783691406, 15.597733497619629, 15.11804485321045, 14.53991413116455, 13.795258522033691, 36.417484283447266, 10.855390548706055, 10.82783031463623, 10.454673767089844, 10.362504005432129, 10.064972877502441, 9.94522476196289, 9.709765434265137, 9.671503067016602, 18.367040634155273, 9.689387321472168, 9.304449081420898, 9.048665046691895, 8.829490661621094, 8.323265075683594, 12.287891387939453, 12.212273597717285, 16.45764923095703, 6.698098182678223, 6.682432174682617, 6.6465044021606445, 21.05766487121582, 12.642340660095215, 77.9102554321289, 31.950759887695312, 19.622865676879883, 26.71651840209961, 27.587263107299805, 283.04901123046875, 37.89670944213867, 137.09417724609375, 83.21577453613281, 90.83242797851562, 62.34581756591797, 536.8900756835938, 23.150503158569336, 73.24470520019531, 135.29483032226562, 89.03466033935547, 61.223567962646484, 95.50209045410156, 129.73907470703125, 47.249542236328125, 77.38884735107422, 68.41166687011719, 56.438724517822266, 90.10932159423828, 21.61564826965332, 16.797138214111328, 16.24793815612793, 14.55145263671875, 13.476012229919434, 10.00638484954834, 9.969196319580078, 8.707819938659668, 8.540403366088867, 8.503213882446289, 8.075239181518555, 7.823568820953369, 7.621347427368164, 7.616466522216797, 7.313952445983887, 9.113741874694824, 6.8639655113220215, 7.013596057891846, 6.7322211265563965, 6.669117450714111, 6.842659950256348, 6.4272050857543945, 6.334290027618408, 6.108526706695557, 5.91996955871582, 5.91758918762207, 5.919707775115967, 9.579976081848145, 5.845589637756348, 5.691834926605225, 17.351991653442383, 26.976837158203125, 10.715682983398438, 9.514817237854004, 18.223834991455078, 60.508358001708984, 30.8753604888916, 223.00961303710938, 78.2933349609375, 25.503225326538086, 13.489801406860352, 33.34128189086914, 561.6019287109375, 51.11909103393555, 123.26087188720703, 85.63926696777344, 55.44021987915039, 39.19505310058594, 65.40095520019531, 131.9701690673828, 95.50209045410156, 35.96945571899414, 55.953895568847656, 178.78334045410156, 73.49956512451172, 677.9334716796875, 57.39656066894531, 183.81007385253906, 122.49948120117188, 317.3241271972656, 21.94019317626953, 18.097007751464844, 15.29067611694336, 14.769180297851562, 27.946369171142578, 11.458921432495117, 10.720559120178223, 9.976086616516113, 9.889152526855469, 9.057740211486816, 8.708721160888672, 8.193370819091797, 7.863853454589844, 7.644874572753906, 7.613897323608398, 7.485848426818848, 7.394913196563721, 6.894999027252197, 6.813456058502197, 6.481956958770752, 6.4820051193237305, 6.313812732696533, 6.0420050621032715, 5.940865993499756, 5.650543212890625, 15.937728881835938, 5.4821248054504395, 5.40058708190918, 8.452221870422363, 5.359442234039307, 20.80849266052246, 26.914981842041016, 10.012130737304688, 66.0663833618164, 536.8900756835938, 31.958032608032227, 15.807772636413574, 50.22243881225586, 137.09417724609375, 27.007678985595703, 103.40156555175781, 39.72393798828125, 80.3035659790039, 135.29483032226562, 149.62445068359375, 43.69989776611328, 59.340091705322266, 127.78475952148438, 20.381649017333984, 116.49164581298828, 74.6915054321289, 141.19215393066406, 71.07945251464844, 295.6340026855469, 18.064258575439453, 10.562002182006836, 10.118363380432129, 9.999540328979492, 9.649016380310059, 9.42817497253418, 8.585124015808105, 8.570383071899414, 8.296523094177246, 7.89504337310791, 7.846368312835693, 7.441010475158691, 7.4322123527526855, 7.41736364364624, 7.022401809692383, 6.969378471374512, 6.969378471374512, 6.780303955078125, 6.317472457885742, 6.0923967361450195, 6.041335105895996, 5.9269633293151855, 5.903316974639893, 5.886404514312744, 5.474420070648193, 5.440486907958984, 5.289902210235596, 5.2154083251953125, 5.215410232543945, 5.026331424713135, 72.0268783569336, 14.293479919433594, 7.535147190093994, 13.995025634765625, 10.119017601013184, 19.267507553100586, 81.55543518066406, 11.548032760620117, 128.07998657226562, 40.079586029052734, 20.728750228881836, 677.9334716796875, 149.62445068359375, 290.5647277832031, 223.00961303710938, 108.30903625488281, 86.30216979980469, 83.16587829589844, 73.24470520019531, 49.840816497802734, 34.67625427246094, 295.6340026855469, 40.14373016357422, 31.129032135009766, 115.09660339355469, 100.22097778320312, 74.6915054321289, 26.811866760253906, 8.862735748291016, 8.058247566223145, 7.715242385864258, 7.695380687713623, 6.739660263061523, 6.609724521636963, 6.491359710693359, 6.477540493011475, 5.796947002410889, 5.601380825042725, 5.548648834228516, 5.4210710525512695, 4.942085266113281, 4.9069671630859375, 4.69378662109375, 4.691539287567139, 4.66018009185791, 4.513476848602295, 4.478358268737793, 4.410368919372559, 4.230059623718262, 4.034494400024414, 4.032243251800537, 3.65401029586792, 3.5707643032073975, 31.686708450317383, 14.86597728729248, 5.594327926635742, 3.22540020942688, 28.679014205932617, 36.34539794921875, 14.054088592529297, 15.678081512451172, 19.061717987060547, 53.473480224609375, 159.4655303955078, 8.909341812133789, 21.322738647460938, 24.187580108642578, 47.422264099121094, 12.589629173278809, 27.14161491394043, 90.83242797851562, 13.682100296020508, 80.80484008789062, 561.6019287109375, 239.3397979736328, 45.171844482421875, 74.6915054321289, 123.26087188720703, 95.47090911865234, 46.31565475463867, 677.9334716796875, 35.889339447021484, 463.10028076171875, 75.14060974121094, 135.29483032226562, 14.751814842224121, 13.37523365020752, 11.98137378692627, 10.587512969970703, 6.918441295623779, 6.486380100250244, 6.405925750732422, 6.40592622756958, 6.405954360961914, 6.375371932983398, 6.157376289367676, 5.993183612823486, 5.585700035095215, 5.262667655944824, 5.012063503265381, 5.012064456939697, 5.012063503265381, 5.012063503265381, 4.794070720672607, 4.608587741851807, 4.407875061035156, 7.672086715698242, 4.346765041351318, 4.272282123565674, 10.764566421508789, 3.7477352619171143, 3.698650598526001, 3.6182024478912354, 3.6182024478912354, 3.6182024478912354, 8.692148208618164, 8.908771514892578, 22.603593826293945, 10.305837631225586, 10.829988479614258, 39.440765380859375, 33.76103973388672, 6.591271877288818, 61.223567962646484, 30.057640075683594, 53.473480224609375, 70.36880493164062, 12.589569091796875, 45.171844482421875, 11.394704818725586, 137.09417724609375, 239.3397979736328, 122.45393371582031, 143.23184204101562, 20.365638732910156, 77.9102554321289, 178.78334045410156, 73.24470520019531, 27.32561683654785, 119.91744232177734, 106.18267822265625, 319.8561096191406, 54.14179992675781, 49.206295013427734, 24.7932186126709, 14.095524787902832, 12.592682838439941, 11.575369834899902, 11.44251823425293, 10.055991172790527, 9.497352600097656, 8.658604621887207, 8.387343406677246, 7.463001728057861, 7.463001728057861, 6.682409763336182, 16.48639488220215, 5.545058250427246, 5.543105602264404, 5.206604480743408, 5.177525520324707, 5.121219158172607, 4.80999231338501, 4.809993267059326, 4.809995174407959, 4.809997081756592, 6.919191837310791, 30.783794403076172, 4.311563968658447, 8.367623329162598, 4.247632026672363, 4.205920696258545, 4.105958938598633, 4.056619167327881, 9.010987281799316, 7.982873439788818, 13.481261253356934, 6.550902366638184, 19.81943130493164, 23.952510833740234, 29.68851089477539, 30.148406982421875, 7.257111072540283, 80.3035659790039, 19.573156356811523, 17.717519760131836, 10.821501731872559, 135.29483032226562, 116.49164581298828, 47.457210540771484, 463.10028076171875, 229.17674255371094, 78.2933349609375, 82.16645050048828, 24.606931686401367, 15.583434104919434, 15.110123634338379, 11.841533660888672, 9.685754776000977, 9.606746673583984, 8.54211711883545, 7.854729175567627, 7.674596786499023, 14.054235458374023, 6.6269755363464355, 6.305771350860596, 6.305771350860596, 6.185744762420654, 5.821454048156738, 15.410083770751953, 5.258112907409668, 5.256192207336426, 5.089090824127197, 4.936948299407959, 4.936948776245117, 4.936948299407959, 4.936983585357666, 4.752876281738281, 4.752877235412598, 4.722869396209717, 4.131475448608398, 3.9773902893066406, 3.947382688522339, 3.947382688522339, 9.516541481018066, 7.893152236938477, 9.335719108581543, 21.322738647460938, 16.29357147216797, 31.07845687866211, 81.92707824707031, 80.80484008789062, 73.24470520019531, 18.447738647460938, 223.00961303710938, 19.859474182128906, 183.81007385253906, 39.72393798828125, 20.045801162719727, 25.27170753479004, 677.9334716796875, 55.44021987915039, 16.149490356445312, 13.023082733154297, 12.612874031066895, 9.972209930419922, 9.889833450317383, 7.529600143432617, 6.487614154815674, 6.368063926696777, 6.143884658813477, 6.030066967010498, 5.952741622924805, 5.793033123016357, 13.144567489624023, 5.8401384353637695, 5.401344299316406, 5.384826183319092, 14.372968673706055, 16.722793579101562, 17.651161193847656, 4.210441589355469, 4.061522006988525, 4.061522006988525, 4.0321502685546875, 3.9107577800750732, 3.8244869709014893, 17.36526870727539, 9.007343292236328, 3.6590468883514404, 3.5874533653259277, 3.5101265907287598, 3.5101261138916016, 5.335472583770752, 11.746197700500488, 12.140295028686523, 12.143527030944824, 11.853574752807617, 6.003273963928223, 8.932165145874023, 8.220763206481934, 51.75214767456055, 26.328092575073242, 14.039142608642578, 30.561063766479492, 22.603593826293945, 21.951358795166016, 21.401020050048828, 65.54806518554688, 178.78334045410156, 137.09417724609375, 51.11909103393555, 25.89486312866211, 9.867696762084961, 9.667555809020996, 8.881192207336426, 7.304841041564941, 7.286929607391357, 7.157601833343506, 6.767805099487305, 6.737685203552246, 6.381722450256348, 6.339305400848389, 5.995710849761963, 5.607742786407471, 5.605930805206299, 5.538743495941162, 5.435911178588867, 5.081849098205566, 4.847875118255615, 4.4882893562316895, 4.475900650024414, 8.257591247558594, 4.144620895385742, 3.756725549697876, 3.7567272186279297, 3.742527961730957, 3.687725305557251, 3.5565850734710693, 3.4130589962005615, 3.413062810897827, 3.4130778312683105, 7.735698223114014, 8.285396575927734, 31.07845687866211, 51.11436080932617, 7.101174831390381, 16.74013328552246, 8.257040977478027, 90.83242797851562, 37.420623779296875, 27.057353973388672, 19.267507553100586, 26.3293514251709, 58.93400955200195, 103.40156555175781, 16.346132278442383, 9.337108612060547, 8.633291244506836, 7.727956295013428, 7.716899871826172, 6.682595252990723, 6.569164276123047, 6.314181804656982, 5.382315635681152, 5.168056011199951, 4.805671215057373, 4.731881141662598, 4.273690223693848, 4.248528957366943, 4.119349002838135, 4.081646919250488, 4.0816473960876465, 4.0706377029418945, 3.664536476135254, 3.5731358528137207, 3.4439544677734375, 3.431413173675537, 3.431413173675537, 3.431441068649292, 3.1259515285491943, 3.126038074493408, 2.971611499786377, 2.9229021072387695, 2.781179666519165, 2.781179428100586, 2.781179666519165, 4.879364967346191, 8.42102336883545, 30.393051147460938, 5.271457672119141, 45.403289794921875, 11.96107292175293, 9.05927848815918, 36.61267852783203, 49.840816497802734], \"Category\": [\"Default\", \"Default\", \"Default\", \"Default\", \"Default\", \"Default\", \"Default\", \"Default\", \"Default\", \"Default\", \"Default\", \"Default\", \"Default\", \"Default\", \"Default\", \"Default\", \"Default\", \"Default\", \"Default\", \"Default\", \"Default\", \"Default\", \"Default\", \"Default\", \"Default\", \"Default\", \"Default\", \"Default\", \"Default\", \"Default\", \"Topic1\", \"Topic1\", \"Topic1\", \"Topic1\", \"Topic1\", \"Topic1\", \"Topic1\", \"Topic1\", \"Topic1\", \"Topic1\", \"Topic1\", \"Topic1\", \"Topic1\", \"Topic1\", \"Topic1\", \"Topic1\", \"Topic1\", \"Topic1\", \"Topic1\", \"Topic1\", \"Topic1\", \"Topic1\", \"Topic1\", \"Topic1\", \"Topic1\", \"Topic1\", \"Topic1\", \"Topic1\", \"Topic1\", \"Topic1\", \"Topic1\", \"Topic1\", \"Topic1\", \"Topic1\", \"Topic1\", \"Topic1\", \"Topic1\", \"Topic1\", \"Topic1\", \"Topic1\", \"Topic1\", \"Topic1\", \"Topic1\", \"Topic1\", \"Topic1\", \"Topic1\", \"Topic1\", \"Topic1\", \"Topic1\", \"Topic1\", \"Topic1\", \"Topic1\", \"Topic1\", \"Topic1\", \"Topic1\", \"Topic1\", \"Topic1\", \"Topic1\", \"Topic1\", \"Topic1\", \"Topic1\", \"Topic1\", \"Topic1\", \"Topic1\", \"Topic1\", \"Topic1\", \"Topic2\", \"Topic2\", \"Topic2\", \"Topic2\", \"Topic2\", \"Topic2\", \"Topic2\", \"Topic2\", \"Topic2\", \"Topic2\", \"Topic2\", \"Topic2\", \"Topic2\", \"Topic2\", \"Topic2\", \"Topic2\", \"Topic2\", \"Topic2\", \"Topic2\", \"Topic2\", \"Topic2\", \"Topic2\", \"Topic2\", \"Topic2\", \"Topic2\", \"Topic2\", \"Topic2\", \"Topic2\", \"Topic2\", \"Topic2\", \"Topic2\", \"Topic2\", \"Topic2\", \"Topic2\", \"Topic2\", \"Topic2\", \"Topic2\", \"Topic2\", \"Topic2\", \"Topic2\", \"Topic2\", \"Topic2\", \"Topic2\", \"Topic2\", \"Topic2\", \"Topic2\", \"Topic2\", \"Topic2\", \"Topic2\", \"Topic2\", \"Topic2\", \"Topic2\", \"Topic2\", \"Topic2\", \"Topic2\", \"Topic2\", \"Topic2\", \"Topic2\", \"Topic2\", \"Topic2\", \"Topic2\", \"Topic2\", \"Topic2\", \"Topic2\", \"Topic2\", \"Topic2\", \"Topic2\", \"Topic3\", \"Topic3\", \"Topic3\", \"Topic3\", \"Topic3\", \"Topic3\", \"Topic3\", \"Topic3\", \"Topic3\", \"Topic3\", \"Topic3\", \"Topic3\", \"Topic3\", \"Topic3\", \"Topic3\", \"Topic3\", \"Topic3\", \"Topic3\", \"Topic3\", \"Topic3\", \"Topic3\", \"Topic3\", \"Topic3\", \"Topic3\", \"Topic3\", \"Topic3\", \"Topic3\", \"Topic3\", \"Topic3\", \"Topic3\", \"Topic3\", \"Topic3\", \"Topic3\", \"Topic3\", \"Topic3\", \"Topic3\", \"Topic3\", \"Topic3\", \"Topic3\", \"Topic3\", \"Topic3\", \"Topic3\", \"Topic3\", \"Topic3\", \"Topic3\", \"Topic3\", \"Topic3\", \"Topic3\", \"Topic3\", \"Topic3\", \"Topic3\", \"Topic3\", \"Topic3\", \"Topic3\", \"Topic3\", \"Topic3\", \"Topic3\", \"Topic3\", \"Topic3\", \"Topic3\", \"Topic3\", \"Topic3\", \"Topic3\", \"Topic3\", \"Topic3\", \"Topic3\", \"Topic3\", \"Topic4\", \"Topic4\", \"Topic4\", \"Topic4\", \"Topic4\", \"Topic4\", \"Topic4\", \"Topic4\", \"Topic4\", \"Topic4\", \"Topic4\", \"Topic4\", \"Topic4\", \"Topic4\", \"Topic4\", \"Topic4\", \"Topic4\", \"Topic4\", \"Topic4\", \"Topic4\", \"Topic4\", \"Topic4\", \"Topic4\", \"Topic4\", \"Topic4\", \"Topic4\", \"Topic4\", \"Topic4\", \"Topic4\", \"Topic4\", \"Topic4\", \"Topic4\", \"Topic4\", \"Topic4\", \"Topic4\", \"Topic4\", \"Topic4\", \"Topic4\", \"Topic4\", \"Topic4\", \"Topic4\", \"Topic4\", \"Topic4\", \"Topic4\", \"Topic4\", \"Topic4\", \"Topic4\", \"Topic4\", \"Topic4\", \"Topic4\", \"Topic4\", \"Topic4\", \"Topic4\", \"Topic4\", \"Topic4\", \"Topic4\", \"Topic4\", \"Topic4\", \"Topic4\", \"Topic4\", \"Topic4\", \"Topic4\", \"Topic4\", \"Topic4\", \"Topic4\", \"Topic4\", \"Topic4\", \"Topic4\", \"Topic4\", \"Topic4\", \"Topic5\", \"Topic5\", \"Topic5\", \"Topic5\", \"Topic5\", \"Topic5\", \"Topic5\", \"Topic5\", \"Topic5\", \"Topic5\", \"Topic5\", \"Topic5\", \"Topic5\", \"Topic5\", \"Topic5\", \"Topic5\", \"Topic5\", \"Topic5\", \"Topic5\", \"Topic5\", \"Topic5\", \"Topic5\", \"Topic5\", \"Topic5\", \"Topic5\", \"Topic5\", \"Topic5\", \"Topic5\", \"Topic5\", \"Topic5\", \"Topic5\", \"Topic5\", \"Topic5\", \"Topic5\", \"Topic5\", \"Topic5\", \"Topic5\", \"Topic5\", \"Topic5\", \"Topic5\", \"Topic5\", \"Topic5\", \"Topic5\", \"Topic5\", \"Topic5\", \"Topic5\", \"Topic5\", \"Topic5\", \"Topic5\", \"Topic5\", \"Topic5\", \"Topic5\", \"Topic5\", \"Topic5\", \"Topic5\", \"Topic5\", \"Topic6\", \"Topic6\", \"Topic6\", \"Topic6\", \"Topic6\", \"Topic6\", \"Topic6\", \"Topic6\", \"Topic6\", \"Topic6\", \"Topic6\", \"Topic6\", \"Topic6\", \"Topic6\", \"Topic6\", \"Topic6\", \"Topic6\", \"Topic6\", \"Topic6\", \"Topic6\", \"Topic6\", \"Topic6\", \"Topic6\", \"Topic6\", \"Topic6\", \"Topic6\", \"Topic6\", \"Topic6\", \"Topic6\", \"Topic6\", \"Topic6\", \"Topic6\", \"Topic6\", \"Topic6\", \"Topic6\", \"Topic6\", \"Topic6\", \"Topic6\", \"Topic6\", \"Topic6\", \"Topic6\", \"Topic6\", \"Topic6\", \"Topic6\", \"Topic6\", \"Topic6\", \"Topic6\", \"Topic6\", \"Topic6\", \"Topic6\", \"Topic6\", \"Topic6\", \"Topic6\", \"Topic6\", \"Topic6\", \"Topic6\", \"Topic6\", \"Topic6\", \"Topic6\", \"Topic6\", \"Topic7\", \"Topic7\", \"Topic7\", \"Topic7\", \"Topic7\", \"Topic7\", \"Topic7\", \"Topic7\", \"Topic7\", \"Topic7\", \"Topic7\", \"Topic7\", \"Topic7\", \"Topic7\", \"Topic7\", \"Topic7\", \"Topic7\", \"Topic7\", \"Topic7\", \"Topic7\", \"Topic7\", \"Topic7\", \"Topic7\", \"Topic7\", \"Topic7\", \"Topic7\", \"Topic7\", \"Topic7\", \"Topic7\", \"Topic7\", \"Topic7\", \"Topic7\", \"Topic7\", \"Topic7\", \"Topic7\", \"Topic7\", \"Topic7\", \"Topic7\", \"Topic7\", \"Topic7\", \"Topic7\", \"Topic7\", \"Topic7\", \"Topic7\", \"Topic7\", \"Topic7\", \"Topic7\", \"Topic7\", \"Topic7\", \"Topic7\", \"Topic7\", \"Topic7\", \"Topic7\", \"Topic7\", \"Topic8\", \"Topic8\", \"Topic8\", \"Topic8\", \"Topic8\", \"Topic8\", \"Topic8\", \"Topic8\", \"Topic8\", \"Topic8\", \"Topic8\", \"Topic8\", \"Topic8\", \"Topic8\", \"Topic8\", \"Topic8\", \"Topic8\", \"Topic8\", \"Topic8\", \"Topic8\", \"Topic8\", \"Topic8\", \"Topic8\", \"Topic8\", \"Topic8\", \"Topic8\", \"Topic8\", \"Topic8\", \"Topic8\", \"Topic8\", \"Topic8\", \"Topic8\", \"Topic8\", \"Topic8\", \"Topic8\", \"Topic8\", \"Topic8\", \"Topic8\", \"Topic8\", \"Topic8\", \"Topic8\", \"Topic8\", \"Topic8\", \"Topic8\", \"Topic8\", \"Topic8\", \"Topic8\", \"Topic8\", \"Topic8\", \"Topic8\", \"Topic8\", \"Topic8\", \"Topic8\", \"Topic8\", \"Topic8\", \"Topic8\", \"Topic8\", \"Topic9\", \"Topic9\", \"Topic9\", \"Topic9\", \"Topic9\", \"Topic9\", \"Topic9\", \"Topic9\", \"Topic9\", \"Topic9\", \"Topic9\", \"Topic9\", \"Topic9\", \"Topic9\", \"Topic9\", \"Topic9\", \"Topic9\", \"Topic9\", \"Topic9\", \"Topic9\", \"Topic9\", \"Topic9\", \"Topic9\", \"Topic9\", \"Topic9\", \"Topic9\", \"Topic9\", \"Topic9\", \"Topic9\", \"Topic9\", \"Topic9\", \"Topic9\", \"Topic9\", \"Topic9\", \"Topic9\", \"Topic9\", \"Topic9\", \"Topic9\", \"Topic9\", \"Topic9\", \"Topic9\", \"Topic9\", \"Topic9\", \"Topic9\", \"Topic9\", \"Topic9\", \"Topic9\", \"Topic9\", \"Topic9\", \"Topic9\", \"Topic9\", \"Topic9\", \"Topic9\", \"Topic9\", \"Topic9\", \"Topic9\", \"Topic9\", \"Topic9\", \"Topic10\", \"Topic10\", \"Topic10\", \"Topic10\", \"Topic10\", \"Topic10\", \"Topic10\", \"Topic10\", \"Topic10\", \"Topic10\", \"Topic10\", \"Topic10\", \"Topic10\", \"Topic10\", \"Topic10\", \"Topic10\", \"Topic10\", \"Topic10\", \"Topic10\", \"Topic10\", \"Topic10\", \"Topic10\", \"Topic10\", \"Topic10\", \"Topic10\", \"Topic10\", \"Topic10\", \"Topic10\", \"Topic10\", \"Topic10\", \"Topic10\", \"Topic10\", \"Topic10\", \"Topic10\", \"Topic10\", \"Topic10\", \"Topic10\", \"Topic10\", \"Topic10\", \"Topic10\", \"Topic10\", \"Topic10\", \"Topic10\", \"Topic10\", \"Topic10\", \"Topic10\", \"Topic10\", \"Topic10\", \"Topic10\", \"Topic10\", \"Topic10\", \"Topic10\", \"Topic10\", \"Topic10\", \"Topic10\", \"Topic10\", \"Topic10\", \"Topic10\", \"Topic10\", \"Topic11\", \"Topic11\", \"Topic11\", \"Topic11\", \"Topic11\", \"Topic11\", \"Topic11\", \"Topic11\", \"Topic11\", \"Topic11\", \"Topic11\", \"Topic11\", \"Topic11\", \"Topic11\", \"Topic11\", \"Topic11\", \"Topic11\", \"Topic11\", \"Topic11\", \"Topic11\", \"Topic11\", \"Topic11\", \"Topic11\", \"Topic11\", \"Topic11\", \"Topic11\", \"Topic11\", \"Topic11\", \"Topic11\", \"Topic11\", \"Topic11\", \"Topic11\", \"Topic11\", \"Topic11\", \"Topic11\", \"Topic11\", \"Topic11\", \"Topic11\", \"Topic11\", \"Topic11\", \"Topic11\", \"Topic11\", \"Topic11\", \"Topic11\", \"Topic11\", \"Topic11\", \"Topic11\", \"Topic11\", \"Topic11\", \"Topic11\", \"Topic12\", \"Topic12\", \"Topic12\", \"Topic12\", \"Topic12\", \"Topic12\", \"Topic12\", \"Topic12\", \"Topic12\", \"Topic12\", \"Topic12\", \"Topic12\", \"Topic12\", \"Topic12\", \"Topic12\", \"Topic12\", \"Topic12\", \"Topic12\", \"Topic12\", \"Topic12\", \"Topic12\", \"Topic12\", \"Topic12\", \"Topic12\", \"Topic12\", \"Topic12\", \"Topic12\", \"Topic12\", \"Topic12\", \"Topic12\", \"Topic12\", \"Topic12\", \"Topic12\", \"Topic12\", \"Topic12\", \"Topic12\", \"Topic12\", \"Topic12\", \"Topic12\", \"Topic12\", \"Topic12\", \"Topic12\", \"Topic12\", \"Topic12\", \"Topic12\", \"Topic12\", \"Topic12\", \"Topic12\", \"Topic13\", \"Topic13\", \"Topic13\", \"Topic13\", \"Topic13\", \"Topic13\", \"Topic13\", \"Topic13\", \"Topic13\", \"Topic13\", \"Topic13\", \"Topic13\", \"Topic13\", \"Topic13\", \"Topic13\", \"Topic13\", \"Topic13\", \"Topic13\", \"Topic13\", \"Topic13\", \"Topic13\", \"Topic13\", \"Topic13\", \"Topic13\", \"Topic13\", \"Topic13\", \"Topic13\", \"Topic13\", \"Topic13\", \"Topic13\", \"Topic13\", \"Topic13\", \"Topic13\", \"Topic13\", \"Topic13\", \"Topic13\", \"Topic13\", \"Topic13\", \"Topic13\", \"Topic13\", \"Topic13\", \"Topic13\", \"Topic13\", \"Topic13\", \"Topic13\", \"Topic13\", \"Topic13\", \"Topic13\", \"Topic13\", \"Topic13\", \"Topic14\", \"Topic14\", \"Topic14\", \"Topic14\", \"Topic14\", \"Topic14\", \"Topic14\", \"Topic14\", \"Topic14\", \"Topic14\", \"Topic14\", \"Topic14\", \"Topic14\", \"Topic14\", \"Topic14\", \"Topic14\", \"Topic14\", \"Topic14\", \"Topic14\", \"Topic14\", \"Topic14\", \"Topic14\", \"Topic14\", \"Topic14\", \"Topic14\", \"Topic14\", \"Topic14\", \"Topic14\", \"Topic14\", \"Topic14\", \"Topic14\", \"Topic14\", \"Topic14\", \"Topic14\", \"Topic14\", \"Topic14\", \"Topic14\", \"Topic14\", \"Topic14\", \"Topic14\", \"Topic14\", \"Topic14\", \"Topic14\", \"Topic14\", \"Topic15\", \"Topic15\", \"Topic15\", \"Topic15\", \"Topic15\", \"Topic15\", \"Topic15\", \"Topic15\", \"Topic15\", \"Topic15\", \"Topic15\", \"Topic15\", \"Topic15\", \"Topic15\", \"Topic15\", \"Topic15\", \"Topic15\", \"Topic15\", \"Topic15\", \"Topic15\", \"Topic15\", \"Topic15\", \"Topic15\", \"Topic15\", \"Topic15\", \"Topic15\", \"Topic15\", \"Topic15\", \"Topic15\", \"Topic15\", \"Topic15\", \"Topic15\", \"Topic15\", \"Topic15\", \"Topic15\", \"Topic15\", \"Topic15\", \"Topic15\", \"Topic15\", \"Topic15\"], \"logprob\": [30.0, 29.0, 28.0, 27.0, 26.0, 25.0, 24.0, 23.0, 22.0, 21.0, 20.0, 19.0, 18.0, 17.0, 16.0, 15.0, 14.0, 13.0, 12.0, 11.0, 10.0, 9.0, 8.0, 7.0, 6.0, 5.0, 4.0, 3.0, 2.0, 1.0, -5.4653000831604, -5.4390997886657715, -5.519499778747559, -5.517099857330322, -5.651400089263916, -5.698400020599365, -6.000400066375732, -6.0594000816345215, -6.2291998863220215, -6.26609992980957, -6.320799827575684, -6.329899787902832, -6.351399898529053, -6.393899917602539, -6.418300151824951, -6.40749979019165, -5.871699810028076, -6.444300174713135, -5.7118000984191895, -6.345600128173828, -5.91540002822876, -6.553599834442139, -6.251299858093262, -6.6539998054504395, -6.73390007019043, -6.738699913024902, -6.7434000968933105, -6.7571001052856445, -6.817800045013428, -5.088200092315674, -4.690999984741211, -4.635700225830078, -3.7044999599456787, -5.024700164794922, -6.307799816131592, -5.1265997886657715, -5.742700099945068, -4.402400016784668, -4.816100120544434, -4.848700046539307, -4.884300231933594, -5.568600177764893, -5.501999855041504, -4.754700183868408, -5.383999824523926, -5.508600234985352, -3.838200092315674, -5.0609002113342285, -5.3171000480651855, -4.391600131988525, -4.544400215148926, -4.53249979019165, -5.105199813842773, -4.162899971008301, -4.825300216674805, -4.519100189208984, -4.206299781799316, -5.230999946594238, -5.157700061798096, -4.932000160217285, -4.739699840545654, -5.216899871826172, -5.098800182342529, -5.143199920654297, -5.309500217437744, -5.316699981689453, -5.1234002113342285, -5.48960018157959, -5.590400218963623, -5.950399875640869, -6.042600154876709, -6.076700210571289, -6.203499794006348, -6.240600109100342, -6.286099910736084, -6.305099964141846, -5.68779993057251, -6.415900230407715, -6.450799942016602, -6.4567999839782715, -5.643799781799316, -6.484300136566162, -5.402699947357178, -6.5584001541137695, -6.564899921417236, -6.589900016784668, -6.593299865722656, -6.666200160980225, -6.6828999519348145, -6.690700054168701, -6.713399887084961, -6.609399795532227, -6.798600196838379, -6.807499885559082, -5.527400016784668, -6.813499927520752, -5.309700012207031, -5.1350998878479, -5.440100193023682, -4.982999801635742, -5.8368000984191895, -3.6807000637054443, -5.210899829864502, -6.098800182342529, -5.452899932861328, -4.946800231933594, -6.043300151824951, -6.116300106048584, -4.596499919891357, -4.427999973297119, -4.9481000900268555, -4.679800033569336, -4.9980998039245605, -5.653800010681152, -5.582399845123291, -5.32919979095459, -5.854599952697754, -5.259500026702881, -3.8443000316619873, -5.528600215911865, -4.094900131225586, -5.530099868774414, -5.2795000076293945, -4.708700180053711, -5.411099910736084, -5.2230000495910645, -5.055500030517578, -5.477399826049805, -5.192500114440918, -5.343500137329102, -5.315499782562256, -5.208199977874756, -5.098199844360352, -5.783100128173828, -5.8734002113342285, -6.041100025177002, -6.043900012969971, -6.122300148010254, -6.272200107574463, -6.293700218200684, -6.324100017547607, -6.395999908447266, -6.436500072479248, -5.027900218963623, -6.458099842071533, -6.458099842071533, -6.464000225067139, -5.893400192260742, -6.488100051879883, -6.507199764251709, -6.513000011444092, -6.622200012207031, -6.645999908447266, -6.650400161743164, -6.659900188446045, -6.666299819946289, -6.67080020904541, -6.694399833679199, -6.703800201416016, -6.744900226593018, -6.7484002113342285, -6.791999816894531, -6.860599994659424, -4.094600200653076, -5.318699836730957, -5.117400169372559, -5.959000110626221, -4.519599914550781, -5.553699970245361, -4.649899959564209, -5.057499885559082, -4.5370001792907715, -4.805699825286865, -4.469699859619141, -4.917600154876709, -2.875200033187866, -4.520299911499023, -5.86299991607666, -3.925600051879883, -5.882299900054932, -4.68179988861084, -5.828400135040283, -5.12939977645874, -4.750899791717529, -4.547999858856201, -4.875800132751465, -5.039100170135498, -5.040200233459473, -4.949999809265137, -4.884799957275391, -5.041900157928467, -4.868000030517578, -5.043000221252441, -4.364500045776367, -4.952099800109863, -4.648399829864502, -4.69950008392334, -4.865699768066406, -4.79640007019043, -5.090799808502197, -5.321499824523926, -5.712699890136719, -5.9197998046875, -5.9380998611450195, -5.994500160217285, -6.010499954223633, -6.044300079345703, -6.067299842834473, -6.099100112915039, -6.127600193023682, -6.129499912261963, -6.137599945068359, -6.206500053405762, -6.208600044250488, -6.220699787139893, -6.2382001876831055, -6.2505998611450195, -6.31279993057251, -6.3130998611450195, -6.409200191497803, -6.416100025177002, -6.423099994659424, -6.429100036621094, -6.465799808502197, -6.491600036621094, -6.501100063323975, -6.557000160217285, -6.595600128173828, -6.624599933624268, -6.625100135803223, -5.325200080871582, -4.67519998550415, -5.638199806213379, -6.093699932098389, -5.7418999671936035, -5.371500015258789, -5.100200176239014, -6.132199764251709, -4.0792999267578125, -5.4019999504089355, -4.849999904632568, -3.4519999027252197, -5.854599952697754, -5.419899940490723, -3.287899971008301, -4.996200084686279, -5.014100074768066, -4.268099784851074, -5.118100166320801, -4.759500026702881, -5.193399906158447, -4.452899932861328, -4.790599822998047, -5.523399829864502, -5.694200038909912, -4.415999889373779, -5.464000225067139, -4.256899833679199, -4.540200233459473, -4.999499797821045, -5.105999946594238, -4.9217000007629395, -4.795199871063232, -5.023900032043457, -5.14709997177124, -5.160999774932861, -5.397600173950195, -5.041600227355957, -5.225200176239014, -5.365900039672852, -4.603400230407715, -4.771399974822998, -4.839900016784668, -5.387499809265137, -4.497200012207031, -5.466599941253662, -5.499499797821045, -5.540599822998047, -5.596399784088135, -4.625699996948242, -5.8520002365112305, -5.854800224304199, -5.892600059509277, -5.902100086212158, -5.933700084686279, -5.946599960327148, -5.972599983215332, -5.976900100708008, -5.336100101470947, -5.97760009765625, -6.019000053405762, -6.0503997802734375, -6.076300144195557, -6.141200065612793, -5.7555999755859375, -5.762199878692627, -5.481200218200684, -6.383500099182129, -6.386199951171875, -6.392199993133545, -5.342100143432617, -5.819399833679199, -4.226099967956543, -5.015900135040283, -5.457799911499023, -5.238100051879883, -5.278600215911865, -3.8208999633789062, -5.117400169372559, -4.384399890899658, -4.70419979095459, -4.662399768829346, -4.9095001220703125, -3.9416000843048096, -5.5030999183654785, -4.985199928283691, -4.728000164031982, -4.934000015258789, -5.153800010681152, -5.030300140380859, -5.014200210571289, -5.291200160980225, -5.212399959564209, -5.308899879455566, -5.365799903869629, -5.384099960327148, -4.7220001220703125, -4.98330020904541, -5.018199920654297, -5.134300231933594, -5.21560001373291, -5.53439998626709, -5.538400173187256, -5.6859002113342285, -5.707200050354004, -5.711999893188477, -5.768899917602539, -5.803999900817871, -5.833099842071533, -5.833799839019775, -5.879000186920166, -5.66510009765625, -5.950200080871582, -5.9303998947143555, -5.972099781036377, -5.982699871063232, -5.957200050354004, -6.024600028991699, -6.041100025177002, -6.082499980926514, -6.118500232696533, -6.118899822235107, -6.118800163269043, -5.637599945068359, -6.132999897003174, -6.16379976272583, -5.058000087738037, -4.673600196838379, -5.551400184631348, -5.686200141906738, -5.167900085449219, -4.168600082397461, -4.876200199127197, -3.45989990234375, -4.254700183868408, -5.056000232696533, -5.521599769592285, -4.964200019836426, -3.2399001121520996, -4.796899795532227, -4.322299957275391, -4.7027997970581055, -4.944499969482422, -5.169600009918213, -5.034800052642822, -4.807199954986572, -4.9182000160217285, -5.276100158691406, -5.168099880218506, -4.8694000244140625, -5.157899856567383, -4.78000020980835, -5.257599830627441, -5.089300155639648, -5.188499927520752, -5.160399913787842, -4.614299774169922, -4.814799785614014, -4.991600036621094, -5.02810001373291, -4.3979997634887695, -5.298399925231934, -5.369800090789795, -5.447700023651123, -5.457099914550781, -5.552800178527832, -5.595900058746338, -5.663099765777588, -5.708600044250488, -5.739999771118164, -5.744500160217285, -5.763400077819824, -5.7769999504089355, -5.855599880218506, -5.86899995803833, -5.92549991607666, -5.925600051879883, -5.9558000564575195, -6.005799770355225, -6.025199890136719, -6.083099842071533, -5.050300121307373, -6.1184000968933105, -6.135799884796143, -5.688000202178955, -6.144800186157227, -4.937300205230713, -4.750899791717529, -5.610099792480469, -4.214099884033203, -2.706700086593628, -4.87939977645874, -5.3541998863220215, -4.604700088500977, -3.9642999172210693, -5.007900238037109, -4.157800197601318, -4.859000205993652, -4.489500045776367, -4.241399765014648, -4.3130998611450195, -4.904600143432617, -4.879899978637695, -4.795499801635742, -5.40310001373291, -4.944699764251709, -5.124199867248535, -5.13129997253418, -5.3394999504089355, -5.281300067901611, -4.619800090789795, -5.188799858093262, -5.235199928283691, -5.248000144958496, -5.2866997718811035, -5.3119001388549805, -5.414400100708008, -5.416299819946289, -5.452099800109863, -5.506899833679199, -5.513800144195557, -5.572800159454346, -5.574100017547607, -5.576399803161621, -5.637700080871582, -5.646200180053711, -5.646200180053711, -5.677199840545654, -5.757400035858154, -5.798799991607666, -5.808499813079834, -5.830399990081787, -5.835000038146973, -5.8383002281188965, -5.922399997711182, -5.929599761962891, -5.962399959564209, -5.979000091552734, -5.979000091552734, -6.022500038146973, -3.4363999366760254, -5.0391998291015625, -5.640200138092041, -5.1417999267578125, -5.4506001472473145, -4.981400012969971, -4.081500053405762, -5.402699947357178, -3.9870998859405518, -4.737199783325195, -5.107100009918213, -3.6117000579833984, -4.400199890136719, -4.159299850463867, -4.301499843597412, -4.58489990234375, -4.704500198364258, -4.821899890899658, -4.896999835968018, -5.025000095367432, -5.15500020980835, -4.714200019836426, -5.183899879455566, -5.281000137329102, -5.20389986038208, -5.230899810791016, -5.283400058746338, -3.8952999114990234, -5.064300060272217, -5.169000148773193, -5.217199802398682, -5.220099925994873, -5.36870002746582, -5.390699863433838, -5.411200046539307, -5.413599967956543, -5.540599822998047, -5.5802998542785645, -5.591300010681152, -5.6184000968933105, -5.727099895477295, -5.735599994659424, -5.78849983215332, -5.789100170135498, -5.800899982452393, -5.835599899291992, -5.84499979019165, -5.863500118255615, -5.914400100708008, -5.972599983215332, -5.973299980163574, -6.09660005569458, -6.125899791717529, -3.949700117111206, -4.718299865722656, -5.701000213623047, -6.257599830627441, -4.0980000495910645, -3.921099901199341, -4.912799835205078, -4.858500003814697, -4.721799850463867, -4.076099872589111, -3.344599962234497, -5.39300012588501, -4.835599899291992, -4.755000114440918, -4.340199947357178, -5.27209997177124, -4.90500020980835, -4.348899841308594, -5.269800186157227, -4.560500144958496, -3.867000102996826, -4.264900207519531, -5.015900135040283, -4.916999816894531, -4.821400165557861, -4.916299819946289, -5.076000213623047, -4.681300163269043, -5.135200023651123, -4.834700107574463, -5.19950008392334, -5.210899829864502, -4.45989990234375, -4.563600063323975, -4.6809000968933105, -4.813799858093262, -5.282400131225586, -5.355299949645996, -5.369500160217285, -5.369500160217285, -5.36959981918335, -5.375, -5.414700031280518, -5.445700168609619, -5.527100086212158, -5.596700191497803, -5.654200077056885, -5.654200077056885, -5.654200077056885, -5.654200077056885, -5.707099914550781, -5.75439977645874, -5.808300018310547, -5.256499767303467, -5.825300216674805, -5.846399784088135, -4.929100036621094, -6.009099960327148, -6.0258002281188965, -6.053699970245361, -6.053699970245361, -6.053699970245361, -5.1793999671936035, -5.185999870300293, -4.309999942779541, -5.069900035858154, -5.075900077819824, -3.9791998863220215, -4.249000072479248, -5.5229997634887695, -4.1143999099731445, -4.581299781799316, -4.2982001304626465, -4.156799793243408, -5.1682000160217285, -4.533899784088135, -5.253699779510498, -4.168000221252441, -3.9312000274658203, -4.311500072479248, -4.342899799346924, -5.02400016784668, -4.596099853515625, -4.368000030517578, -4.677499771118164, -4.955399990081787, -4.551000118255615, -4.703400135040283, -4.4882001876831055, -4.9918999671936035, -5.168600082397461, -3.8461999893188477, -4.4359002113342285, -4.555699825286865, -4.6458001136779785, -4.658100128173828, -4.797500133514404, -4.859600067138672, -4.9608001708984375, -4.9959001541137695, -5.125400066375732, -5.125400066375732, -5.24970006942749, -4.3719000816345215, -5.463799953460693, -5.464300155639648, -5.537600040435791, -5.5441999435424805, -5.55709981918335, -5.631499767303467, -5.631499767303467, -5.631499767303467, -5.631499767303467, -5.275300025939941, -3.7848000526428223, -5.763599872589111, -5.103700160980225, -5.781899929046631, -5.794000148773193, -5.823599815368652, -5.838600158691406, -5.125400066375732, -5.236000061035156, -4.85129976272583, -5.454800128936768, -4.68779993057251, -4.583600044250488, -4.628200054168701, -4.625199794769287, -5.408299922943115, -4.332799911499023, -5.065199851989746, -5.1265997886657715, -5.292500019073486, -4.747399806976318, -4.809899806976318, -5.0304999351501465, -4.677800178527832, -4.9197001457214355, -5.036799907684326, -5.035799980163574, -3.831700086593628, -4.307600021362305, -4.340099811553955, -4.5991997718811035, -4.815800189971924, -4.82480001449585, -4.9532999992370605, -5.046000003814697, -5.071800231933594, -4.4807000160217285, -5.236700057983398, -5.2932000160217285, -5.2932000160217285, -5.315100193023682, -5.385000228881836, -4.424499988555908, -5.503399848937988, -5.503900051116943, -5.541900157928467, -5.577899932861328, -5.577899932861328, -5.577899932861328, -5.577899932861328, -5.623199939727783, -5.623199939727783, -5.63070011138916, -5.793300151824951, -5.840400218963623, -5.849800109863281, -5.849800109863281, -5.045599937438965, -5.226099967956543, -5.087600231170654, -4.686200141906738, -5.015600204467773, -4.791299819946289, -4.600100040435791, -4.712200164794922, -4.751800060272217, -5.180799961090088, -4.491600036621094, -5.213500022888184, -4.754000186920166, -5.126399993896484, -5.251299858093262, -5.262800216674805, -5.182300090789795, -5.244800090789795, -4.083399772644043, -4.310800075531006, -4.344900131225586, -4.597499847412109, -4.606500148773193, -4.906400203704834, -5.07420015335083, -5.095300197601318, -5.136300086975098, -5.157800197601318, -5.172599792480469, -5.203999996185303, -4.385799884796143, -5.203499794006348, -5.285399913787842, -5.288899898529053, -4.326600074768066, -4.190899848937988, -4.143099784851074, -5.583499908447266, -5.627900123596191, -5.627900123596191, -5.636899948120117, -5.675000190734863, -5.702899932861328, -4.193399906158447, -4.85129976272583, -5.758800029754639, -5.783999919891357, -5.811999797821045, -5.811999797821045, -5.4344000816345215, -4.741600036621094, -4.802199840545654, -4.8196001052856445, -4.969900131225586, -5.404399871826172, -5.217899799346924, -5.293900012969971, -4.470600128173828, -4.986999988555908, -5.191100120544434, -5.018599987030029, -5.087299823760986, -5.120800018310547, -5.133299827575684, -5.016499996185303, -4.958700180053711, -5.034200191497803, -5.154900074005127, -3.5566999912261963, -4.573500156402588, -4.595699787139893, -4.688399791717529, -4.904900074005127, -4.907700061798096, -4.927800178527832, -4.990900039672852, -4.9959001541137695, -5.057600021362305, -5.065199851989746, -5.129199981689453, -5.206399917602539, -5.206699848175049, -5.220799922943115, -5.242599964141846, -5.321800231933594, -5.377799987792969, -5.470399856567383, -5.473700046539307, -4.874899864196777, -5.567800045013428, -5.690400123596191, -5.690400123596191, -5.695199966430664, -5.713900089263916, -5.7600998878479, -5.813199996948242, -5.813199996948242, -5.813300132751465, -5.026000022888184, -4.973499774932861, -3.748699903488159, -3.333199977874756, -5.160699844360352, -4.516900062561035, -5.106800079345703, -3.6036999225616455, -4.502099990844727, -4.737100124359131, -4.969900131225586, -5.196100234985352, -5.121300220489502, -5.088799953460693, -3.635200023651123, -4.234000205993652, -4.319900035858154, -4.442599773406982, -4.4440999031066895, -4.605800151824951, -4.625199794769287, -4.670300006866455, -4.855199813842773, -4.9028000831604, -4.989200115203857, -5.007699966430664, -5.13129997253418, -5.138500213623047, -5.176599979400635, -5.188000202178955, -5.188000202178955, -5.191299915313721, -5.323400020599365, -5.3557000160217285, -5.403200149536133, -5.407899856567383, -5.407899856567383, -5.4079999923706055, -5.530799865722656, -5.530799865722656, -5.599100112915039, -5.621699810028076, -5.690400123596191, -5.690400123596191, -5.690400123596191, -5.195499897003174, -5.04610013961792, -4.832099914550781, -5.4303998947143555, -4.912799835205078, -5.324900150299072, -5.378699779510498, -5.279699802398682, -5.404099941253662], \"loglift\": [30.0, 29.0, 28.0, 27.0, 26.0, 25.0, 24.0, 23.0, 22.0, 21.0, 20.0, 19.0, 18.0, 17.0, 16.0, 15.0, 14.0, 13.0, 12.0, 11.0, 10.0, 9.0, 8.0, 7.0, 6.0, 5.0, 4.0, 3.0, 2.0, 1.0, 1.4217000007629395, 1.4213999509811401, 1.420799970626831, 1.4204000234603882, 1.4178999662399292, 1.4170000553131104, 1.4104000329971313, 1.4086999893188477, 1.4032000303268433, 1.4020999670028687, 1.4002000093460083, 1.399899959564209, 1.3982000350952148, 1.3974000215530396, 1.396399974822998, 1.3961999416351318, 1.395900011062622, 1.395300030708313, 1.3945000171661377, 1.3930000066757202, 1.3924000263214111, 1.3905999660491943, 1.3873000144958496, 1.385699987411499, 1.381500005722046, 1.3811999559402466, 1.3809000253677368, 1.3802000284194946, 1.3767000436782837, 1.375599980354309, 1.3530000448226929, 1.3188999891281128, 1.2788000106811523, 1.3177000284194946, 1.3659000396728516, 1.3050999641418457, 1.3336999416351318, 1.2233999967575073, 1.2278000116348267, 1.2308000326156616, 1.2240999937057495, 1.2861000299453735, 1.2575000524520874, 1.1325000524520874, 1.2323999404907227, 1.2359000444412231, 0.7749999761581421, 1.024999976158142, 1.0865000486373901, 0.6704000234603882, 0.7287999987602234, 0.6389999985694885, 0.9308000206947327, 0.30239999294281006, 0.715499997138977, 0.47209998965263367, 0.025800000876188278, 0.967199981212616, 0.7430999875068665, 0.14730000495910645, -0.31940001249313354, 0.6815999746322632, 0.21780000627040863, 0.20069999992847443, 0.6496999859809875, 0.6477000117301941, 1.7383999824523926, 1.7302000522613525, 1.729200005531311, 1.718500018119812, 1.7151999473571777, 1.7138999700546265, 1.7085000276565552, 1.7067999839782715, 1.704699993133545, 1.7037999629974365, 1.7014000415802002, 1.6979999542236328, 1.6960999965667725, 1.6957000494003296, 1.6957000494003296, 1.694200038909912, 1.6917999982833862, 1.6897000074386597, 1.6885000467300415, 1.6877000331878662, 1.6875, 1.6826000213623047, 1.681399941444397, 1.680899977684021, 1.6792999505996704, 1.676300048828125, 1.672700047492981, 1.6721999645233154, 1.6720999479293823, 1.6717000007629395, 1.6685999631881714, 1.644700050354004, 1.6461999416351318, 1.6202000379562378, 1.6168999671936035, 1.4249000549316406, 1.5298999547958374, 1.6240999698638916, 1.5420000553131104, 1.4672000408172607, 1.6053999662399292, 1.6122000217437744, 1.3072999715805054, 1.2066999673843384, 1.3352999687194824, 1.263200044631958, 1.302899956703186, 1.4805999994277954, 1.4503999948501587, 1.3351999521255493, 1.529099941253662, 1.2661000490188599, 0.5759999752044678, 1.3530000448226929, 0.37040001153945923, 1.3480000495910645, 1.1227999925613403, 0.6079000234603882, 1.2391999959945679, 1.0073000192642212, 0.6875, 1.268399953842163, 0.6930999755859375, 0.946399986743927, 0.6488000154495239, 0.13570000231266022, -0.48500001430511475, 1.8934999704360962, 1.8901000022888184, 1.8832000494003296, 1.8830000162124634, 1.8792999982833862, 1.871399998664856, 1.8702000379562378, 1.868399977684021, 1.8639999628067017, 1.861199975013733, 1.8609999418258667, 1.8598999977111816, 1.8598999977111816, 1.8595000505447388, 1.858199954032898, 1.8579000234603882, 1.856600046157837, 1.8561999797821045, 1.8480000495910645, 1.8460999727249146, 1.8458000421524048, 1.8450000286102295, 1.844499945640564, 1.844099998474121, 1.8422000408172607, 1.8410999774932861, 1.8378000259399414, 1.837499976158142, 1.8336000442504883, 1.8271000385284424, 1.8209999799728394, 1.8243999481201172, 1.8170000314712524, 1.8243999481201172, 1.7687000036239624, 1.8009999990463257, 1.7484999895095825, 1.7652000188827515, 1.7223999500274658, 1.6891000270843506, 1.5973000526428223, 1.6507999897003174, 1.3568999767303467, 1.5530999898910522, 1.7509000301361084, 1.1536999940872192, 1.701300024986267, 1.267799973487854, 1.6492999792099, 1.2998000383377075, 1.1175999641418457, 1.0169999599456787, 1.1296000480651855, 1.1532000303268433, 1.1474000215530396, 1.0090999603271484, 0.9161999821662903, 1.0242999792099, 0.8518999814987183, 0.9725000262260437, 0.24869999289512634, 0.8345999717712402, 0.41359999775886536, 0.47200000286102295, 0.671500027179718, 0.47690001130104065, 0.44999998807907104, 2.4321000576019287, 2.4221999645233154, 2.408799886703491, 2.407399892807007, 2.4040000438690186, 2.402899980545044, 2.4003000259399414, 2.3984999656677246, 2.3959999084472656, 2.393699884414673, 2.3935000896453857, 2.387399911880493, 2.386899948120117, 2.386699914932251, 2.385499954223633, 2.3840999603271484, 2.3828999996185303, 2.377000093460083, 2.377000093460083, 2.3671998977661133, 2.3664000034332275, 2.3657000064849854, 2.365000009536743, 2.3610000610351562, 2.358099937438965, 2.3570001125335693, 2.3501999378204346, 2.3454999923706055, 2.3417999744415283, 2.3417999744415283, 2.34089994430542, 2.2953999042510986, 2.3104000091552734, 2.325900077819824, 2.2962000370025635, 2.2458999156951904, 2.145400047302246, 2.297499895095825, 1.7506999969482422, 2.0968000888824463, 1.937399983406067, 1.539199948310852, 2.2158000469207764, 2.053499937057495, 1.1324000358581543, 1.8487000465393066, 1.84660005569458, 1.3666000366210938, 1.766800045967102, 1.5336999893188477, 1.7802000045776367, 1.2668999433517456, 1.4594999551773071, 1.9466999769210815, 2.06820011138916, 0.900600016117096, 1.8558000326156616, 0.3562999963760376, 0.6312000155448914, 1.0738999843597412, 1.0880000591278076, 0.7576000094413757, 0.2669000029563904, 0.5134000182151794, 0.858299970626831, 0.7074999809265137, 1.4486000537872314, -0.809499979019165, 0.33980000019073486, 1.1298999786376953, 2.5664000511169434, 2.5624001026153564, 2.560699939727783, 2.5411999225616455, 2.5383999347686768, 2.537400007247925, 2.5357000827789307, 2.533600091934204, 2.530400037765503, 2.530400037765503, 2.514400005340576, 2.51419997215271, 2.5114998817443848, 2.5107998847961426, 2.5083999633789062, 2.5074000358581543, 2.5053999423980713, 2.505000114440918, 2.504499912261963, 2.502500057220459, 2.5016000270843506, 2.498199939727783, 2.4967000484466553, 2.4909000396728516, 2.486999988555908, 2.4865000247955322, 2.4691998958587646, 2.4658000469207764, 2.4655001163482666, 2.4647998809814453, 2.361799955368042, 2.394700050354004, 2.1695001125335693, 2.2709999084472656, 2.316699981689453, 2.227799892425537, 2.1552000045776367, 1.284600019454956, 1.998900055885315, 1.4459999799728394, 1.625499963760376, 1.579699993133545, 1.7089999914169312, 0.5238000154495239, 2.1059999465942383, 1.472100019454956, 1.1157000064849854, 1.3280999660491943, 1.482800006866455, 1.1617000102996826, 0.871399998664856, 1.6045000553131104, 1.1899000406265259, 1.2166999578475952, 1.3522000312805176, 0.8659999966621399, 2.9558000564575195, 2.9465999603271484, 2.944999933242798, 2.939199924468994, 2.9347000122070312, 2.9135000705718994, 2.9131999015808105, 2.9010000228881836, 2.8991000652313232, 2.898699998855591, 2.893399953842163, 2.890000104904175, 2.8870999813079834, 2.88700008392334, 2.8824000358581543, 2.876300096511841, 2.8745999336242676, 2.8729000091552734, 2.8722000122070312, 2.871000051498413, 2.870800018310547, 2.865999937057495, 2.864000082015991, 2.8589000701904297, 2.854300022125244, 2.854300022125244, 2.854099988937378, 2.8538999557495117, 2.852400064468384, 2.848299980163574, 2.839400053024292, 2.782599925994873, 2.8280999660491943, 2.8120999336242676, 2.680500030517578, 2.47979998588562, 2.444999933242798, 1.8839999437332153, 2.135999917984009, 2.4563000202178955, 2.6275999546051025, 2.280100107192993, 1.180400013923645, 2.0201001167297363, 1.6145000457763672, 1.5981999635696411, 1.7913000583648682, 1.9129999876022339, 1.5357999801635742, 1.0613000392913818, 1.273800015449524, 1.8924000263214111, 1.558500051498413, 0.6955999732017517, 1.2958999872207642, -0.5479000210762024, 1.44350004196167, 0.4478999972343445, 0.7544999718666077, -0.16920000314712524, 3.0485000610351562, 3.040600061416626, 3.0322999954223633, 3.030400037765503, 3.0227999687194824, 3.0139999389648438, 3.009200096130371, 3.0032999515533447, 3.0025999546051025, 2.9946999549865723, 2.9909000396728516, 2.9846999645233154, 2.980299949645996, 2.977099895477295, 2.9767000675201416, 2.9746999740600586, 2.973299980163574, 2.9646999835968018, 2.963200092315674, 2.9565999507904053, 2.9565000534057617, 2.9526000022888184, 2.9465999603271484, 2.944000005722046, 2.936300039291382, 2.9321999549865723, 2.9312000274658203, 2.928800106048584, 2.9286999702453613, 2.927500009536743, 2.7785000801086426, 2.7074999809265137, 2.8373000621795654, 2.346299886703491, 1.7585999965667725, 2.4072999954223633, 2.636399984359741, 2.2300000190734863, 1.8661999702453613, 2.4470999240875244, 1.954699993133545, 2.210200071334839, 1.8758000135421753, 1.6023000478744507, 1.429900050163269, 2.069200038909912, 1.7878999710083008, 1.105299949645996, 2.333400011062622, 1.0485999584197998, 1.3135000467300415, 0.669700026512146, 1.1477999687194824, -0.21930000185966492, 3.2374000549316406, 3.2051000595092773, 3.2016000747680664, 3.2005999088287354, 3.1975998878479004, 3.195499897003174, 3.1867001056671143, 3.186500072479248, 3.183199882507324, 3.177999973297119, 3.177299976348877, 3.171299934387207, 3.1712000370025635, 3.1709001064300537, 3.164400100708008, 3.1633999347686768, 3.1633999347686768, 3.159899950027466, 3.150399923324585, 3.1452999114990234, 3.1440000534057617, 3.141200065612793, 3.1405999660491943, 3.140199899673462, 3.128700017929077, 3.127700090408325, 3.1229000091552734, 3.120500087738037, 3.120500087738037, 3.1138999462127686, 3.0376999378204346, 3.0520999431610107, 3.091399908065796, 2.970599889755249, 2.9862000942230225, 2.811300039291382, 2.268399953842163, 2.901900053024292, 1.9113999605178833, 2.3231000900268555, 2.612499952316284, 0.6204000115394592, 1.3428000211715698, 0.9200000166893005, 1.0424000024795532, 1.4812999963760376, 1.5887999534606934, 1.5083999633789062, 1.5602999925613403, 1.8172999620437622, 2.050100088119507, 0.34779998660087585, 1.8747999668121338, 2.0320000648498535, 0.8014000058174133, 0.9128000140190125, 1.1543999910354614, 3.5669000148773193, 3.505000114440918, 3.4953999519348145, 3.4907000064849854, 3.4904000759124756, 3.4744999408721924, 3.47189998626709, 3.4695000648498535, 3.4691998958587646, 3.453200101852417, 3.4477999210357666, 3.4463000297546387, 3.442500114440918, 3.4261999130249023, 3.4249000549316406, 3.4163999557495117, 3.416300058364868, 3.4112000465393066, 3.4084999561309814, 3.406899929046631, 3.403700113296509, 3.3945999145507812, 3.383699893951416, 3.383500099182129, 3.3587000370025635, 3.352400064468384, 3.345599889755249, 3.3338000774383545, 3.328399896621704, 3.322499990463257, 3.2969000339508057, 3.236999988555908, 3.1953999996185303, 3.140399932861328, 3.0815999507904053, 2.6958000659942627, 2.334700107574463, 3.171099901199341, 2.8557000160217285, 2.81030011177063, 2.551800012588501, 2.9460999965667725, 2.545099973678589, 1.8932000398635864, 2.865299940109253, 1.7985999584197998, 0.5533000230789185, 1.0083999633789062, 1.9248000383377075, 1.5206999778747559, 1.115399956703186, 1.2760000228881836, 1.8395999670028687, -0.44920000433921814, 2.0355000495910645, -0.2214999943971634, 1.232300043106079, 0.6327999830245972, 3.599900007247925, 3.594099998474121, 3.586899995803833, 3.577699899673462, 3.534600019454956, 3.526099920272827, 3.524399995803833, 3.524399995803833, 3.5243000984191895, 3.523699998855591, 3.5188000202178955, 3.5148000717163086, 3.5037999153137207, 3.493799924850464, 3.485100030899048, 3.485100030899048, 3.485100030899048, 3.485100030899048, 3.476599931716919, 3.4688000679016113, 3.4595000743865967, 3.4570999145507812, 3.456399917602539, 3.4526000022888184, 3.4458000659942627, 3.4209001064300537, 3.4173998832702637, 3.411400079727173, 3.411400079727173, 3.411400079727173, 3.4093000888824463, 3.3780999183654785, 3.322999954223633, 3.3485000133514404, 3.2929000854492188, 3.097100019454956, 2.9828999042510986, 3.342400074005127, 2.522200107574463, 2.766700029373169, 2.47379994392395, 2.34060001373291, 3.050100088119507, 2.4068000316619873, 3.064199924468994, 1.6624000072479248, 1.3420000076293945, 1.6318999528884888, 1.4437999725341797, 2.7132999897003174, 1.7994999885559082, 1.1970000267028809, 1.7798000574111938, 2.4879000186920166, 1.4133000373840332, 1.382599949836731, 0.4950000047683716, 1.767699956893921, 1.6864999532699585, 3.6944000720977783, 3.6693999767303467, 3.6623001098632812, 3.6565001010894775, 3.6556999683380127, 3.6454999446868896, 3.640500068664551, 3.6317999362945557, 3.628499984741211, 3.6157000064849854, 3.6157000064849854, 3.6019999980926514, 3.57669997215271, 3.574399948120117, 3.5743000507354736, 3.5636000633239746, 3.562700033187866, 3.560699939727783, 3.5490000247955322, 3.5490000247955322, 3.5490000247955322, 3.5490000247955322, 3.5415000915527344, 3.539299964904785, 3.52620005607605, 3.523099899291992, 3.522900104522705, 3.520699977874756, 3.5151000022888184, 3.512200117111206, 3.4272000789642334, 3.4377999305725098, 3.2985999584198, 3.416800022125244, 3.07669997215271, 2.991499900817871, 2.7321999073028564, 2.7197999954223633, 3.3608999252319336, 2.032599925994873, 2.7118000984191895, 2.75, 3.0771000385284424, 1.0963000059127808, 1.18340003490448, 1.86080002784729, -0.06459999829530716, 0.3968999981880188, 1.3538999557495117, 1.3065999746322632, 3.716399908065796, 3.6972999572753906, 3.6956000328063965, 3.680299997329712, 3.664599895477295, 3.6638998985290527, 3.6528000831604004, 3.6440000534057617, 3.641400098800659, 3.627500057220459, 3.623300075531006, 3.616499900817871, 3.616499900817871, 3.6136999130249023, 3.604599952697754, 3.591599941253662, 3.587899923324585, 3.587899923324585, 3.5820999145507812, 3.5764999389648438, 3.5764999389648438, 3.5764999389648438, 3.5764999389648438, 3.569200038909912, 3.569200038909912, 3.568000078201294, 3.5392000675201416, 3.530100107192993, 3.5283000469207764, 3.5283000469207764, 3.452500104904175, 3.4591000080108643, 3.4296000003814697, 3.0051000118255615, 2.9447999000549316, 2.5232999324798584, 1.7452000379562378, 1.6469000577926636, 1.7056000232696533, 2.655400037765503, 0.8522999882698059, 2.5488998889923096, 0.7832000255584717, 1.9428000450134277, 2.501800060272217, 2.258699893951416, -0.9502000212669373, 1.4910000562667847, 3.8859000205993652, 3.8736000061035156, 3.871500015258789, 3.8538999557495117, 3.853100061416626, 3.825900077819824, 3.8071000576019287, 3.804500102996826, 3.7994000911712646, 3.796600103378296, 3.7946999073028564, 3.7904999256134033, 3.789299964904785, 3.782900094985962, 3.779099941253662, 3.778599977493286, 3.759200096130371, 3.7434000968933105, 3.7372000217437744, 3.73009991645813, 3.7216999530792236, 3.7216999530792236, 3.719899892807007, 3.712399959564209, 3.7067999839782715, 3.703200101852417, 3.7018001079559326, 3.6951000690460205, 3.68969988822937, 3.683500051498413, 3.683500051498413, 3.642400026321411, 3.5460000038146973, 3.452399969100952, 3.4347000122070312, 3.3085999488830566, 3.5543999671936035, 3.343600034713745, 3.350600004196167, 2.3341000080108643, 2.493499994277954, 2.9182000160217285, 2.3127999305725098, 2.5457000732421875, 2.5415000915527344, 2.5543999671936035, 1.551800012588501, 0.6062999963760376, 0.7962999939918518, 1.6620999574661255, 3.9403998851776123, 3.888400077819824, 3.8866000175476074, 3.8787999153137207, 3.8577001094818115, 3.8573999404907227, 3.8552000522613525, 3.848099946975708, 3.8475000858306885, 3.840100049972534, 3.839200019836426, 3.830899953842163, 3.8206000328063965, 3.8206000328063965, 3.8185999393463135, 3.815500020980835, 3.8036999702453613, 3.794800043106079, 3.7792999744415283, 3.778700113296509, 3.7651000022888184, 3.7616000175476074, 3.7372000217437744, 3.7372000217437744, 3.7362000942230225, 3.732300043106079, 3.7223000526428223, 3.7102999687194824, 3.7102999687194824, 3.710200071334839, 3.67930006980896, 3.663100004196167, 3.5659000873565674, 3.483799934387207, 3.6301000118255615, 3.4165000915527344, 3.5332999229431152, 2.638400077819824, 2.6268999576568604, 2.716099977493286, 2.8227999210357666, 2.28439998626709, 1.5534000396728516, 1.0236999988555908, 4.322000026702881, 4.283100128173828, 4.275599956512451, 4.263700008392334, 4.263599872589111, 4.245800018310547, 4.243500232696533, 4.23799991607666, 4.212800025939941, 4.2058000564575195, 4.1921000480651855, 4.1890997886657715, 4.167399883270264, 4.166100025177002, 4.158899784088135, 4.156700134277344, 4.156700134277344, 4.156000137329102, 4.129000186920166, 4.122000217437744, 4.111299991607666, 4.110199928283691, 4.110199928283691, 4.110199928283691, 4.080599784851074, 4.08050012588501, 4.062900066375732, 4.0569000244140625, 4.037899971008301, 4.037899971008301, 4.037899971008301, 3.970599889755249, 3.5743000507354736, 2.5048000812530518, 3.6584999561309814, 2.0227999687194824, 2.944499969482422, 3.1686999797821045, 1.871000051498413, 1.4381999969482422]}, \"token.table\": {\"Topic\": [13, 6, 2, 4, 5, 6, 9, 11, 11, 15, 1, 3, 5, 8, 12, 1, 1, 2, 11, 2, 10, 14, 6, 8, 11, 9, 10, 5, 1, 6, 8, 1, 3, 6, 8, 9, 12, 15, 14, 15, 1, 3, 2, 10, 9, 1, 12, 5, 1, 1, 2, 3, 4, 8, 9, 12, 2, 3, 7, 9, 15, 6, 9, 2, 11, 8, 1, 2, 6, 5, 13, 6, 1, 2, 4, 5, 6, 3, 7, 1, 2, 3, 4, 12, 15, 6, 3, 4, 8, 12, 1, 2, 3, 5, 8, 9, 12, 1, 2, 3, 5, 8, 2, 1, 3, 9, 10, 1, 9, 1, 12, 15, 7, 11, 9, 10, 11, 15, 1, 2, 3, 4, 5, 6, 9, 11, 14, 9, 6, 12, 1, 1, 2, 9, 6, 1, 12, 2, 13, 10, 13, 10, 3, 9, 3, 8, 1, 7, 11, 12, 10, 10, 9, 1, 4, 3, 5, 9, 14, 8, 1, 2, 5, 7, 10, 1, 2, 3, 5, 6, 7, 11, 12, 13, 14, 15, 15, 1, 3, 7, 13, 14, 4, 12, 14, 1, 2, 5, 8, 2, 3, 11, 1, 2, 4, 5, 12, 1, 4, 5, 8, 10, 12, 14, 12, 3, 7, 1, 2, 3, 1, 13, 2, 5, 1, 2, 3, 4, 5, 7, 8, 1, 14, 7, 1, 3, 8, 9, 2, 3, 6, 7, 9, 10, 11, 2, 10, 1, 2, 3, 4, 5, 6, 9, 11, 1, 2, 3, 10, 1, 2, 4, 5, 6, 7, 11, 14, 2, 15, 6, 2, 4, 1, 2, 5, 6, 9, 10, 13, 1, 2, 3, 4, 5, 6, 7, 8, 9, 10, 1, 2, 3, 4, 5, 6, 9, 12, 3, 12, 14, 2, 13, 9, 11, 5, 13, 11, 1, 7, 5, 8, 1, 2, 5, 14, 1, 14, 1, 2, 3, 8, 12, 9, 15, 9, 2, 1, 2, 3, 4, 7, 12, 6, 3, 2, 3, 4, 5, 7, 10, 13, 11, 8, 12, 2, 5, 3, 10, 10, 1, 2, 10, 1, 2, 4, 6, 7, 10, 11, 1, 2, 3, 1, 2, 3, 4, 6, 8, 9, 1, 3, 5, 7, 1, 10, 14, 2, 12, 5, 6, 10, 11, 5, 7, 1, 8, 6, 1, 2, 3, 4, 5, 6, 8, 1, 2, 3, 4, 5, 1, 2, 3, 4, 6, 6, 6, 13, 3, 5, 13, 7, 3, 1, 3, 8, 10, 1, 2, 4, 11, 4, 15, 4, 7, 1, 2, 3, 5, 6, 7, 13, 7, 3, 4, 13, 7, 4, 11, 4, 6, 4, 7, 7, 12, 12, 2, 10, 2, 3, 5, 13, 1, 2, 5, 6, 1, 3, 7, 8, 9, 11, 1, 2, 8, 9, 15, 5, 9, 15, 1, 2, 4, 5, 6, 7, 11, 13, 6, 14, 1, 2, 4, 11, 12, 6, 6, 9, 2, 10, 9, 5, 9, 15, 12, 9, 7, 11, 1, 3, 12, 3, 12, 2, 1, 2, 3, 8, 10, 12, 5, 1, 4, 8, 4, 12, 4, 13, 1, 2, 5, 10, 2, 11, 3, 4, 14, 1, 2, 3, 5, 7, 9, 4, 3, 7, 8, 11, 14, 2, 4, 10, 7, 8, 7, 14, 2, 12, 5, 2, 3, 6, 12, 13, 13, 3, 9, 4, 5, 4, 3, 8, 14, 4, 14, 10, 15, 10, 14, 2, 3, 11, 9, 14, 14, 10, 14, 9, 1, 2, 3, 5, 6, 8, 10, 3, 2, 3, 5, 12, 15, 14, 5, 8, 1, 2, 3, 4, 5, 6, 9, 11, 12, 15, 9, 3, 6, 9, 10, 1, 2, 3, 5, 7, 3, 8, 1, 2, 3, 4, 7, 9, 10, 1, 2, 13, 1, 5, 7, 9, 11, 12, 2, 1, 2, 3, 4, 5, 6, 7, 8, 9, 11, 13, 1, 13, 11, 5, 1, 2, 3, 4, 6, 7, 9, 12, 14, 13, 4, 11, 11, 7, 4, 5, 1, 2, 3, 4, 5, 6, 7, 10, 2, 5, 12, 13, 2, 4, 5, 11, 6, 1, 2, 3, 4, 6, 12, 8, 12, 3, 1, 9, 13, 8, 1, 2, 3, 4, 5, 6, 7, 8, 11, 12, 8, 1, 2, 3, 5, 8, 10, 12, 13, 1, 6, 7, 1, 2, 4, 6, 8, 9, 12, 10, 10, 13, 1, 3, 7, 11, 14, 7, 14, 1, 2, 3, 4, 5, 9, 10, 13, 15, 9, 1, 2, 4, 7, 6, 4, 6, 4, 6, 12, 10, 2, 12, 2, 3, 4, 2, 7, 9, 1, 2, 3, 6, 8, 12, 7, 10, 12, 13, 5, 12, 10, 13, 6, 14, 7, 9, 10, 8, 2, 3, 5, 6, 2, 4, 9, 11, 4, 4, 13, 3, 8, 8, 4, 1, 2, 3, 9, 12, 5, 1, 2, 12, 9, 12, 2, 3, 4, 5, 10, 2, 12, 1, 1, 2, 3, 5, 9, 10, 11, 15, 7, 14, 15, 1, 2, 3, 4, 6, 12, 13, 14, 1, 2, 3, 5, 6, 7, 9, 14, 4, 12, 6, 7, 10, 2, 1, 2, 3, 5, 7, 8, 15, 1, 4, 1, 4, 5, 9, 1, 2, 3, 4, 5, 1, 2, 1, 10, 2, 3, 6, 3, 9, 1, 2, 3, 4, 5, 6, 7, 8, 11, 2, 13, 13, 14, 10, 14, 4, 6, 11, 1, 2, 8, 1, 2, 4, 5, 7, 12, 14, 11, 13, 15, 3, 8, 9, 3, 13, 13, 15, 2, 14, 2, 3, 5, 6, 8, 10, 11, 1, 5, 7, 14, 4, 8, 2, 7, 10, 9, 15, 15, 7, 4, 7, 12, 1, 2, 3, 4, 5, 6, 7, 9, 10, 15, 2, 5, 13, 2, 12, 8, 12, 1, 3, 4, 5, 6, 7, 15, 5, 1, 4, 4, 15, 15, 5, 8, 1, 2, 5, 8, 9, 10, 11, 4, 8, 11, 1, 4, 15, 13, 1, 4, 5, 10, 10, 5, 4, 5, 7, 12, 5, 11, 11, 1, 5, 14, 14, 2, 4, 5, 10, 13, 3, 4, 5, 6, 11, 13, 2, 3, 1, 2, 8, 9, 10, 11, 1, 5, 12, 2, 11, 14, 13, 13, 2, 1, 2, 3, 5, 7, 12, 1, 2, 3, 6, 9, 1, 9, 3, 11, 1, 6, 1, 5, 5, 7, 10, 4, 6, 11, 15, 1, 5, 6, 9, 1, 10, 7, 2, 3, 4, 6, 14, 3, 8, 8, 1, 2, 3, 5, 6, 12, 14, 3, 2, 3, 5, 8, 15, 15, 1, 2, 5, 6, 8, 10, 2, 5, 9, 4, 7, 4, 3, 13, 1, 1, 1, 3, 5, 10, 12, 13, 6, 13, 4, 2, 4, 5, 11, 3, 9, 7, 1, 2, 5, 1, 3, 12, 10, 1, 2, 6, 4, 3, 7, 1, 2, 3, 4, 5, 6, 9, 11, 2, 5, 9, 1, 2, 6, 1, 2, 3, 4, 5, 6, 11, 3, 4, 3, 4, 6, 1, 2, 3, 4, 5, 6, 8, 12, 3, 3, 4, 9, 9, 2, 4, 5, 6, 9, 10, 12, 1, 9, 10, 14, 8, 11, 12, 13, 1, 6, 1, 2, 4, 5, 7, 8, 9, 10, 2, 13, 8, 2, 6, 9, 11, 1, 2, 5, 7, 8, 11, 6, 2, 14, 3, 2, 11, 13, 3, 4, 5, 6, 7, 8, 9, 10, 8, 1, 2, 8, 1, 5, 1, 2, 3, 4, 6, 9, 10, 13, 1, 6, 10, 12, 1, 10, 2, 3, 4, 5, 2, 10, 2, 13, 1, 2, 3, 4, 5, 6, 10, 13, 12, 11, 13, 1, 2, 3, 4, 6, 1, 5, 15, 12, 6, 11, 2, 3, 12, 10, 15, 2, 9, 2, 5, 6, 7, 10, 12, 3, 1, 2, 3, 4, 5, 6, 7, 8, 9, 10, 11, 14, 14, 3, 4, 8, 13, 4, 15, 1, 2, 3, 5, 7, 8, 10, 14, 1, 4, 8, 11, 12, 2, 6, 5, 9, 12, 11, 3, 10, 5, 3, 4, 6, 8, 14, 6, 8, 9, 1, 2, 3, 15, 2, 3, 5, 3, 4, 8, 9, 14, 1, 2, 5, 7, 12, 2, 1, 2, 9, 9, 7, 5, 1, 9, 11, 12, 4, 2, 4, 5, 11, 3, 5, 7, 8, 1, 9, 12, 12, 2, 4, 1, 2, 3, 4, 7, 8, 9, 12, 4, 11, 1, 4, 9, 14, 15, 1, 2, 13, 14, 12, 15, 13, 15, 2, 11, 8, 3, 12, 14, 8, 11, 4, 14, 1, 2, 6, 4, 1, 4, 6, 9, 12, 12, 14, 6, 2, 8, 3, 14, 13, 15, 2, 7, 13, 7, 5, 11, 2, 4, 5, 4, 7, 14, 15, 9, 1, 2, 3, 5, 6, 8, 10, 2, 13, 9, 6, 9, 12, 9, 1, 2, 3, 4, 5, 6, 8, 9, 11, 12, 13, 1, 15, 8, 2, 4, 11, 15, 1, 8, 11, 11, 2, 4, 6, 8, 12, 12, 10, 5, 13, 1, 2, 5, 10, 12, 15, 7, 6, 5, 1, 3, 7, 10, 3, 4, 1, 2, 4, 9, 10, 11, 4, 4, 2, 4, 5, 6, 11, 11, 13, 15, 5, 7, 6, 2, 4, 11, 2, 6, 1, 2, 3, 5, 6, 8, 3, 7, 12, 9, 8, 1, 2, 3, 4, 5, 6, 7, 11, 4, 5, 1, 2, 4, 8, 11, 7, 2, 5, 6, 2, 5, 2, 5, 7, 9, 11, 15, 1, 2, 3, 5, 6, 7, 8, 9, 10, 11, 1, 2, 8, 15, 8, 14, 15, 12, 4, 6, 13, 4, 6, 4, 1, 2, 3, 14, 1, 4, 5, 6, 7, 11, 14, 10, 12, 2, 5, 13, 9, 13, 3, 13, 10, 6, 1, 2, 3, 4, 5, 6, 8, 9, 10, 11, 12, 4, 11, 2, 6, 3, 11, 3, 9, 13, 14, 3, 6, 12, 5, 11, 10, 2, 10, 5, 2, 7, 3, 5, 8, 3, 8, 1, 4, 6, 12, 12, 10, 1, 2, 3, 4, 5, 8, 10, 1, 8, 9, 9, 12, 1, 2, 3, 4, 6, 7, 12, 1, 2, 3, 12, 6, 1, 4, 5, 6, 1, 5, 13, 8, 1, 2, 3, 9, 11, 4, 11], \"Freq\": [0.924839198589325, 0.964677095413208, 0.25020599365234375, 0.12510299682617188, 0.25020599365234375, 0.23233413696289062, 0.0714874267578125, 0.0714874267578125, 0.7632536292076111, 0.15265072882175446, 0.2248704731464386, 0.2891191840171814, 0.1606217622756958, 0.2891191840171814, 0.0321243517100811, 0.9818820357322693, 0.09734214097261429, 0.8760793209075928, 0.7062758803367615, 0.7216281294822693, 0.03798042610287666, 0.18990212678909302, 0.9570748805999756, 0.7962684631347656, 0.13271141052246094, 0.13034263253211975, 0.7820557951927185, 0.9611612558364868, 0.06996197253465652, 0.06996197253465652, 0.76958167552948, 0.4213414192199707, 0.18057489395141602, 0.02006387710571289, 0.2407665252685547, 0.06019163131713867, 0.02006387710571289, 0.06019163131713867, 0.8919125199317932, 0.8742753863334656, 0.8089962005615234, 0.18298722803592682, 0.39715418219566345, 0.5560158491134644, 0.9072948694229126, 0.9358197450637817, 0.7599972486495972, 0.8951901793479919, 0.9661399126052856, 0.28081855177879333, 0.026122653856873512, 0.3395945131778717, 0.30041053891181946, 0.03918398171663284, 0.013061326928436756, 0.006530663464218378, 0.6654171943664551, 0.14556001126766205, 0.08317714929580688, 0.062382861971855164, 0.02079428732395172, 0.8445989489555359, 0.902655839920044, 0.12131214886903763, 0.849185049533844, 0.8206951022148132, 0.9860255718231201, 0.9047327637672424, 0.09424299746751785, 0.2554017901420593, 0.6810714602470398, 0.8185279965400696, 0.11097630858421326, 0.32183128595352173, 0.35512420535087585, 0.17756210267543793, 0.01109763141721487, 0.9439399242401123, 0.9120551347732544, 0.19864144921302795, 0.3263395130634308, 0.14188675582408905, 0.25539615750312805, 0.0567547008395195, 0.014188675209879875, 0.8947323560714722, 0.8366215229034424, 0.11583990603685379, 0.038613300770521164, 0.936841607093811, 0.38619542121887207, 0.11410319805145264, 0.38619542121887207, 0.026331506669521332, 0.061440180987119675, 0.01755433715879917, 0.008777168579399586, 0.08280009031295776, 0.5961606502532959, 0.26496028900146484, 0.016560018062591553, 0.033120036125183105, 0.9271507263183594, 0.8919640779495239, 0.06607141345739365, 0.024776780977845192, 0.008258926682174206, 0.9846964478492737, 0.9077534079551697, 0.9754085540771484, 0.7859950065612793, 0.7191193699836731, 0.9502974152565002, 0.8316016793251038, 0.5560132265090942, 0.15886090695858002, 0.23829136788845062, 0.728270411491394, 0.2967142164707184, 0.31853145360946655, 0.1003592237830162, 0.20508189499378204, 0.01309033390134573, 0.00872688926756382, 0.021817222237586975, 0.03490755707025528, 0.00436344463378191, 0.8151674866676331, 0.8407938480377197, 0.10509923100471497, 0.952279806137085, 0.4850042462348938, 0.14760999381542206, 0.35848140716552734, 0.9472253322601318, 0.9215366244316101, 0.046076830476522446, 0.11330699175596237, 0.793148934841156, 0.8120341897010803, 0.7671147584915161, 0.79807448387146, 0.8808623552322388, 0.8625229597091675, 0.889127254486084, 0.9318444132804871, 0.15136660635471344, 0.15136660635471344, 0.504555344581604, 0.15136660635471344, 0.8679448366165161, 0.9074667096138, 0.8525986075401306, 0.944575309753418, 0.8395958542823792, 0.18715782463550568, 0.3633063733577728, 0.18715782463550568, 0.2642228305339813, 0.8609089255332947, 0.9445098042488098, 0.7207232117652893, 0.27203768491744995, 0.0070659141056239605, 0.9180917143821716, 0.13539446890354156, 0.01934206672012806, 0.1934206634759903, 0.09671033173799515, 0.09671033173799515, 0.3191440999507904, 0.048355165868997574, 0.00967103336006403, 0.03868413344025612, 0.048355165868997574, 0.8742682337760925, 0.9502418637275696, 0.24050909280776978, 0.293955534696579, 0.0801696926355362, 0.10689292848110199, 0.26723232865333557, 0.032176628708839417, 0.28958967328071594, 0.6757092475891113, 0.14246593415737152, 0.04748864471912384, 0.8073070049285889, 0.900041401386261, 0.9192083477973938, 0.9236457943916321, 0.9239364266395569, 0.13435965776443481, 0.6550033092498779, 0.050384871661663055, 0.11756470054388046, 0.033589914441108704, 0.17748723924160004, 0.02730572782456875, 0.3276687264442444, 0.17748723924160004, 0.15018150210380554, 0.12287577986717224, 0.8789768815040588, 0.7610071897506714, 0.9549401998519897, 0.8806103467941284, 0.3544733226299286, 0.18766233325004578, 0.45873016119003296, 0.16657577455043793, 0.6663030982017517, 0.3262374997138977, 0.6524749994277954, 0.17376838624477386, 0.34085339307785034, 0.08020079880952835, 0.053467195481061935, 0.006683399435132742, 0.1938185840845108, 0.14703479409217834, 0.934342622756958, 0.05496133118867874, 0.9100881218910217, 0.5572685599327087, 0.11145371198654175, 0.11145371198654175, 0.2229074239730835, 0.5690329074859619, 0.14225822687149048, 0.12193562090396881, 0.02032260224223137, 0.02032260224223137, 0.14225822687149048, 0.8978796601295471, 0.9360185861587524, 0.034667354077100754, 0.14049726724624634, 0.16604222357273102, 0.10217983275651932, 0.05108991637825966, 0.012772479094564915, 0.4214918315410614, 0.012772479094564915, 0.08940735459327698, 0.814025342464447, 0.05613967776298523, 0.12163596600294113, 0.8111066222190857, 0.3336164057254791, 0.05560273304581642, 0.08340410143136978, 0.11120546609163284, 0.3336164057254791, 0.02780136652290821, 0.02780136652290821, 0.02780136652290821, 0.9284349679946899, 0.897854745388031, 0.8553457260131836, 0.13266848027706146, 0.8623450994491577, 0.07824864983558655, 0.19562162458896637, 0.11737298220396042, 0.3716810941696167, 0.05868649110198021, 0.05868649110198021, 0.09781081229448318, 0.4859392046928406, 0.01637997291982174, 0.22931963205337524, 0.08735986053943634, 0.06551989167928696, 0.01637997291982174, 0.005459991283714771, 0.03275994583964348, 0.038219936192035675, 0.021839965134859085, 0.23829858005046844, 0.07395473122596741, 0.5176831483840942, 0.11504068970680237, 0.016434384509921074, 0.008217192254960537, 0.016434384509921074, 0.016434384509921074, 0.9255566596984863, 0.05141981318593025, 0.893674910068512, 0.3358648121356964, 0.5597746968269348, 0.6403830647468567, 0.2846146821975708, 0.9565100073814392, 0.9025080800056458, 0.9529343247413635, 0.24028649926185608, 0.7208595275878906, 0.6047384738922119, 0.3455648422241211, 0.07486005127429962, 0.11229007691144943, 0.711170494556427, 0.11229007691144943, 0.14082176983356476, 0.7041088342666626, 0.3727490305900574, 0.30060404539108276, 0.13226577639579773, 0.16833826899528503, 0.024048324674367905, 0.9069536328315735, 0.6730355024337769, 0.8583359122276306, 0.982096254825592, 0.2532377541065216, 0.3657878339290619, 0.15475639700889587, 0.056275054812431335, 0.14068762958049774, 0.014068763703107834, 0.9367238879203796, 0.9779965877532959, 0.11670809239149094, 0.07294255495071411, 0.0072942557744681835, 0.3209472596645355, 0.2990644872188568, 0.13859085738658905, 0.043765533715486526, 0.8316013216972351, 0.8921324610710144, 0.8083100914955139, 0.9565722346305847, 0.032985247671604156, 0.9654141068458557, 0.7022008299827576, 0.9366326928138733, 0.930722713470459, 0.351040244102478, 0.526560366153717, 0.14655141532421112, 0.04187183082103729, 0.48152604699134827, 0.08374366164207458, 0.1884232461452484, 0.020935915410518646, 0.04187183082103729, 0.12682674825191498, 0.011529704555869102, 0.8531981706619263, 0.38131359219551086, 0.05042162910103798, 0.12290272861719131, 0.3907676339149475, 0.04096757620573044, 0.006302703637629747, 0.006302703637629747, 0.6909325122833252, 0.016852013766765594, 0.016852013766765594, 0.2696322202682495, 0.3325875401496887, 0.03912794589996338, 0.6064831614494324, 0.9614917039871216, 0.9625605940818787, 0.8941901922225952, 0.8668473958969116, 0.76007080078125, 0.9020214080810547, 0.928851306438446, 0.8848706483840942, 0.9564536213874817, 0.9407324194908142, 0.8554812669754028, 0.15011775493621826, 0.4503532648086548, 0.11547519266605377, 0.03464255854487419, 0.057737596333026886, 0.11547519266605377, 0.06928511708974838, 0.4196449816226959, 0.15736687183380127, 0.07343786954879761, 0.251787006855011, 0.08392899483442307, 0.05226793885231018, 0.45298880338668823, 0.17422646284103394, 0.08711323142051697, 0.20907175540924072, 0.9715183973312378, 0.3649296164512634, 0.6082160472869873, 0.49376916885375977, 0.22789345681667328, 0.22789345681667328, 0.9479199051856995, 0.9593876004219055, 0.8187330365180969, 0.03638813644647598, 0.12735846638679504, 0.01819406822323799, 0.12261916697025299, 0.24523833394050598, 0.5313497185707092, 0.08174610882997513, 0.8635891675949097, 0.97882479429245, 0.12548840045928955, 0.8784187436103821, 0.13456837832927704, 0.21247640252113342, 0.3612098693847656, 0.1133207455277443, 0.05666037276387215, 0.09207310527563095, 0.028330186381936073, 0.946596622467041, 0.8708658814430237, 0.10048452764749527, 0.8546700477600098, 0.8543491959571838, 0.8909639120101929, 0.831602156162262, 0.868770182132721, 0.09144949167966843, 0.8743531107902527, 0.09715034067630768, 0.9327871799468994, 0.8102171421051025, 0.9365359544754028, 0.9194695353507996, 0.06896021217107773, 0.22904962301254272, 0.35993510484695435, 0.19632823765277863, 0.19632823765277863, 0.1020536944270134, 0.4847550392150879, 0.0510268472135067, 0.3316745162010193, 0.3310631513595581, 0.22070877254009247, 0.06130799278616905, 0.3678479492664337, 0.02452319674193859, 0.7395320534706116, 0.028838178142905235, 0.6632781028747559, 0.28838178515434265, 0.47500166296958923, 0.47500166296958923, 0.9212012887001038, 0.8902525901794434, 0.818657398223877, 0.4606766104698181, 0.035436663776636124, 0.035436663776636124, 0.283493310213089, 0.1417466551065445, 0.035436663776636124, 0.111020527780056, 0.7771437168121338, 0.8449386954307556, 0.8865503668785095, 0.06633849442005157, 0.2985232472419739, 0.09950774163007736, 0.36486172676086426, 0.13267698884010315, 0.9525431990623474, 0.8350751399993896, 0.1043843924999237, 0.9663490056991577, 0.79807448387146, 0.7440027594566345, 0.17875248193740845, 0.7150099277496338, 0.7061267495155334, 0.7261328101158142, 0.8862347602844238, 0.9809899926185608, 0.7306454181671143, 0.43804413080215454, 0.5309625864028931, 0.013274064287543297, 0.9464049935340881, 0.04981078952550888, 0.9658064842224121, 0.036963049322366714, 0.16633372008800507, 0.7207794785499573, 0.05544457584619522, 0.018481524661183357, 0.009240762330591679, 0.9672791957855225, 0.8163357973098755, 0.17607241868972778, 0.8609089255332947, 0.8431885242462158, 0.7542634010314941, 0.329393595457077, 0.5764387845993042, 0.11847976595163345, 0.08885981887578964, 0.29619941115379333, 0.503538966178894, 0.6130845546722412, 0.35763266682624817, 0.12069427967071533, 0.12069427967071533, 0.724165678024292, 0.7334036231040955, 0.01544007658958435, 0.20072099566459656, 0.023160114884376526, 0.007720038294792175, 0.007720038294792175, 0.9157313704490662, 0.9577763676643372, 0.9599507451057434, 0.11947336047887802, 0.23894672095775604, 0.5973668098449707, 0.27028098702430725, 0.7207493185997009, 0.8342811465263367, 0.9156461358070374, 0.9497469067573547, 0.8281846046447754, 0.9401850700378418, 0.9347413182258606, 0.8415956497192383, 0.9027301669120789, 0.3787863850593567, 0.19841191172599792, 0.30663660168647766, 0.10822468250989914, 0.928821861743927, 0.712514340877533, 0.9187381863594055, 0.9223269820213318, 0.8211842179298401, 0.1596747189760208, 0.9756621718406677, 0.9703622460365295, 0.6228101849555969, 0.31140509247779846, 0.9499605298042297, 0.9198089838027954, 0.9719456434249878, 0.9266454577445984, 0.79807448387146, 0.965442419052124, 0.8180323243141174, 0.1636064648628235, 0.023372352123260498, 0.2422175258398056, 0.6055437922477722, 0.9007799625396729, 0.7386896014213562, 0.18467240035533905, 0.8093749284744263, 0.4503098130226135, 0.33356282114982605, 0.033356282860040665, 0.008339070715010166, 0.05003442242741585, 0.016678141430020332, 0.10840791463851929, 0.8736086487770081, 0.04400188475847244, 0.9020386338233948, 0.02200094237923622, 0.02200094237923622, 0.6398051977157593, 0.7985674142837524, 0.19764764606952667, 0.7905905842781067, 0.17272020876407623, 0.3080473840236664, 0.01780620589852333, 0.25997060537338257, 0.026709310710430145, 0.16381710767745972, 0.04807675629854202, 0.0017806206597015262, 0.0017806206597015262, 0.0017806206597015262, 0.7435876131057739, 0.22448347508907318, 0.11224173754453659, 0.6734504103660583, 0.9445088505744934, 0.6986622214317322, 0.2458256036043167, 0.012938189320266247, 0.025876378640532494, 0.012938189320266247, 0.8246474862098694, 0.13020749390125275, 0.4930228888988495, 0.05431608110666275, 0.23397696018218994, 0.004178160335868597, 0.03760344162583351, 0.07520688325166702, 0.10027584433555603, 0.9661698937416077, 0.8875174522399902, 0.07395979017019272, 0.36112967133522034, 0.13698022067546844, 0.29886594414711, 0.012452746741473675, 0.18679121136665344, 0.9515092968940735, 0.9490088820457458, 0.4490077793598175, 0.14966925978660583, 0.12971335649490356, 0.00997795071452856, 0.04988975450396538, 0.03991180285811424, 0.03991180285811424, 0.08980155736207962, 0.029933853074908257, 0.00997795071452856, 0.8138173818588257, 0.11959724128246307, 0.8371806740760803, 0.9613268375396729, 0.9423527717590332, 0.2774603068828583, 0.1468907594680786, 0.28290072083473206, 0.14145036041736603, 0.076165571808815, 0.005440398119390011, 0.010880796238780022, 0.04896358400583267, 0.005440398119390011, 0.7844189405441284, 0.16242311894893646, 0.844600260257721, 0.713280200958252, 0.9329329133033752, 0.9512136578559875, 0.9269018769264221, 0.08376780152320862, 0.2827163338661194, 0.1361226737499237, 0.010470975190401077, 0.24083241820335388, 0.17800657451152802, 0.04188390076160431, 0.03141292557120323, 0.7523556351661682, 0.13434922695159912, 0.026869844645261765, 0.080609530210495, 0.613930344581604, 0.08770433813333511, 0.24849562346935272, 0.029234779998660088, 0.8777953386306763, 0.17959259450435638, 0.6122474670410156, 0.04897980019450188, 0.040816500782966614, 0.10612289607524872, 0.008163300342857838, 0.7669578790664673, 0.7599972486495972, 0.9401344060897827, 0.20921221375465393, 0.73224276304245, 0.03486870229244232, 0.9410848617553711, 0.2753259241580963, 0.11013036966323853, 0.46117091178894043, 0.024091018363833427, 0.013766296207904816, 0.006883148103952408, 0.003441574051976204, 0.09292249381542206, 0.003441574051976204, 0.003441574051976204, 0.954585611820221, 0.32115763425827026, 0.19548726081848145, 0.3351210057735443, 0.006981687620282173, 0.006981687620282173, 0.11170700192451477, 0.02094506286084652, 0.006981687620282173, 0.9587401747703552, 0.03195800632238388, 0.9393818378448486, 0.8127437829971313, 0.09933535009622574, 0.027091458439826965, 0.027091458439826965, 0.009030486457049847, 0.018060972914099693, 0.009030486457049847, 0.9490357637405396, 0.7078520655632019, 0.2654445171356201, 0.24218066036701202, 0.16649919748306274, 0.48436132073402405, 0.030272582545876503, 0.060545165091753006, 0.8416281342506409, 0.8382695913314819, 0.3260892927646637, 0.13796085119247437, 0.012541895732283592, 0.17558653652668, 0.006270947866141796, 0.2821926474571228, 0.012541895732283592, 0.031354740262031555, 0.8395986557006836, 0.8210157752037048, 0.9550312161445618, 0.9301108121871948, 0.753627598285675, 0.20553480088710785, 0.899425745010376, 0.09332115948200226, 0.8398904800415039, 0.47483929991722107, 0.27698957920074463, 0.23741964995861053, 0.9411215782165527, 0.9668928384780884, 0.810217022895813, 0.2631140351295471, 0.11276315897703171, 0.601403534412384, 0.1893538385629654, 0.03155897557735443, 0.7889743447303772, 0.29146724939346313, 0.19730091094970703, 0.017936445772647858, 0.33182427287101746, 0.10761868208646774, 0.05380934104323387, 0.0823703184723854, 0.0823703184723854, 0.1647406369447708, 0.5765922665596008, 0.12669210135936737, 0.7601525783538818, 0.18742482364177704, 0.7496992945671082, 0.12927080690860748, 0.7756248712539673, 0.8901488184928894, 0.09289737790822983, 0.8360763788223267, 0.9642593264579773, 0.29629915952682495, 0.19047804176807404, 0.38095608353614807, 0.1269853562116623, 0.08254139870405197, 0.19259659945964813, 0.68784499168396, 0.7725698351860046, 0.9696149826049805, 0.9247250556945801, 0.9296642541885376, 0.2597845196723938, 0.6927586793899536, 0.8494149446487427, 0.9625205397605896, 0.6002374887466431, 0.1343815177679062, 0.19709289073944092, 0.053752608597278595, 0.760729193687439, 0.9260456562042236, 0.13790000975131989, 0.7929251194000244, 0.03447500243782997, 0.46898290514945984, 0.46898290514945984, 0.08504796028137207, 0.779606282711029, 0.1275719404220581, 0.9513718485832214, 0.8004834651947021, 0.8538541793823242, 0.08987938612699509, 0.9727612137794495, 0.41648316383361816, 0.16332672536373138, 0.22049108147621155, 0.024499008432030678, 0.024499008432030678, 0.13066138327121735, 0.01633267290890217, 0.008166336454451084, 0.925825297832489, 0.8912081122398376, 0.8710916638374329, 0.15458296239376068, 0.11593721807003021, 0.3284887969493866, 0.13526009023189545, 0.03864574059844017, 0.03864574059844017, 0.19322869181632996, 0.9464759230613708, 0.03605085611343384, 0.26437294483184814, 0.04806780815124512, 0.38454246520996094, 0.10815256834030151, 0.08411866426467896, 0.060084760189056396, 0.02403390407562256, 0.6545994281768799, 0.3021228015422821, 0.8784513473510742, 0.19406476616859436, 0.7762590646743774, 0.9159795641899109, 0.5008422136306763, 0.1173848882317543, 0.10173357278108597, 0.0939079150557518, 0.1408618688583374, 0.039128296077251434, 0.007825659587979317, 0.980779767036438, 0.8960492014884949, 0.8783532381057739, 0.013308382593095303, 0.013308382593095303, 0.09315867722034454, 0.03876527398824692, 0.5297921299934387, 0.09045231342315674, 0.07753054797649384, 0.2455134093761444, 0.912836492061615, 0.07606970518827438, 0.5892277956008911, 0.39281851053237915, 0.03706883639097214, 0.14827534556388855, 0.8155144453048706, 0.9197341203689575, 0.6200780868530273, 0.44908860325813293, 0.08679863810539246, 0.23397894203662872, 0.15850186347961426, 0.018869269639253616, 0.01132156141102314, 0.0037738538812845945, 0.026416977867484093, 0.01132156141102314, 0.9049498438835144, 0.9256954789161682, 0.8561440706253052, 0.8015972375869751, 0.785742461681366, 0.11224891990423203, 0.8964818716049194, 0.9621032476425171, 0.8949888348579407, 0.24273742735385895, 0.728212296962738, 0.9133387804031372, 0.8084197640419006, 0.13077378273010254, 0.03566557914018631, 0.005944263190031052, 0.011888526380062103, 0.011888526380062103, 0.960624098777771, 0.7682549953460693, 0.9285351037979126, 0.8742753863334656, 0.9471109509468079, 0.9334471821784973, 0.8931844830513, 0.9178544878959656, 0.7386393547058105, 0.9422016143798828, 0.9638957977294922, 0.9050695896148682, 0.878972053527832, 0.6357982158660889, 0.1648365706205368, 0.07849361002445221, 0.04709616303443909, 0.015698721632361412, 0.007849360816180706, 0.04709616303443909, 0.5492003560066223, 0.06865004450082779, 0.36613357067108154, 0.9582686424255371, 0.8392593264579773, 0.8276316523551941, 0.8962644338607788, 0.05121510848402977, 0.025607554242014885, 0.9011203050613403, 0.639787495136261, 0.7019694447517395, 0.9186193943023682, 0.4415736794471741, 0.4906374216079712, 0.04906374216079712, 0.09426955133676529, 0.14664152264595032, 0.4608733654022217, 0.04189758002758026, 0.05237197503447533, 0.031423185020685196, 0.04189758002758026, 0.09426955133676529, 0.031423185020685196, 0.7191193103790283, 0.5139942169189453, 0.23363372683525085, 0.23363372683525085, 0.06489257514476776, 0.8436034321784973, 0.7145395874977112, 0.21436187624931335, 0.6216315031051636, 0.10536126792430878, 0.1896502822637558, 0.010536126792430878, 0.021072253584861755, 0.021072253584861755, 0.010536126792430878, 0.9060545563697815, 0.9931146502494812, 0.8327950835227966, 0.2049447000026703, 0.6148341298103333, 0.845329761505127, 0.9616782069206238, 0.7958090305328369, 0.0374017171561718, 0.1122051551938057, 0.05610257759690285, 0.0374017171561718, 0.4114188849925995, 0.2992137372493744, 0.0374017171561718, 0.641136109828949, 0.22628332674503326, 0.07542777806520462, 0.11038406938314438, 0.4415362775325775, 0.33115220069885254, 0.8291782140731812, 0.9623124003410339, 0.4391483664512634, 0.2195741832256317, 0.32936128973960876, 0.9250151515007019, 0.9650177359580994, 0.07552121579647064, 0.3272585868835449, 0.4279535412788391, 0.17621617019176483, 0.9840299487113953, 0.9379603862762451, 0.7810640335083008, 0.9400229454040527, 0.9235460758209229, 0.9027318358421326, 0.8339294791221619, 0.07701168209314346, 0.03850584104657173, 0.6545993089675903, 0.15402336418628693, 0.06417640298604965, 0.09495826065540314, 0.5887412428855896, 0.05697495862841606, 0.20890817046165466, 0.018991652876138687, 0.037983305752277374, 0.9258788228034973, 0.965411365032196, 0.46845725178718567, 0.18738290667533875, 0.25765150785446167, 0.031230485066771507, 0.03903810679912567, 0.015615242533385754, 0.29931455850601196, 0.3492003083229065, 0.29931455850601196, 0.917707085609436, 0.05735669285058975, 0.9309488534927368, 0.8362478017807007, 0.910025417804718, 0.9629912376403809, 0.32036352157592773, 0.2514481246471405, 0.03352641686797142, 0.12665535509586334, 0.2663487493991852, 0.8469427227973938, 0.5045797824859619, 0.061161186546087265, 0.15290296077728271, 0.22935444116592407, 0.030580593273043633, 0.6263444423675537, 0.3315941095352173, 0.5644130706787109, 0.39508914947509766, 0.9666063189506531, 0.0261244960129261, 0.9516642689704895, 0.03069884702563286, 0.764414370059967, 0.1528828740119934, 0.0509609580039978, 0.21949276328086853, 0.7133514881134033, 0.9502936005592346, 0.9071000218391418, 0.09716485440731049, 0.29149457812309265, 0.5829891562461853, 0.03238828480243683, 0.930167555809021, 0.8291410207748413, 0.9256463646888733, 0.20115575194358826, 0.16092459857463837, 0.523004949092865, 0.10057787597179413, 0.89051353931427, 0.8944944739341736, 0.08131767809391022, 0.9437315464019775, 0.4562729001045227, 0.02488761395215988, 0.3982018232345581, 0.03318348526954651, 0.03318348526954651, 0.041479356586933136, 0.016591742634773254, 0.9707574248313904, 0.2731294333934784, 0.19119060039520264, 0.35506826639175415, 0.05462588742375374, 0.08193882554769516, 0.7349974513053894, 0.07843992114067078, 0.745179295539856, 0.05229328200221062, 0.03921996057033539, 0.013073320500552654, 0.05229328200221062, 0.952250063419342, 0.9255709648132324, 0.05444535240530968, 0.9518011212348938, 0.9350977540016174, 0.8183118104934692, 0.13915009796619415, 0.8349006175994873, 0.9316603541374207, 0.9736462831497192, 0.04576794058084488, 0.7627990245819092, 0.01525598019361496, 0.03051196038722992, 0.06102392077445984, 0.09153588116168976, 0.8644540905952454, 0.1152605414390564, 0.903624951839447, 0.6193681955337524, 0.3096840977668762, 0.05465013533830643, 0.9017037749290466, 0.4385291635990143, 0.5116173624992371, 0.9021573662757874, 0.10875904560089111, 0.7975663542747498, 0.07250603288412094, 0.10508019477128983, 0.10508019477128983, 0.7355613112449646, 0.8343639969825745, 0.02999284863471985, 0.44989272952079773, 0.4798855781555176, 0.9264695048332214, 0.9583232402801514, 0.82753986120224, 0.2081100046634674, 0.3468500077724457, 0.05395444855093956, 0.11561667174100876, 0.17727889120578766, 0.05395444855093956, 0.0154155557975173, 0.0308311115950346, 0.5132662057876587, 0.4170287847518921, 0.06415827572345734, 0.9341762661933899, 0.9456150531768799, 0.8912363052368164, 0.12394867092370987, 0.1458219587802887, 0.05103768780827522, 0.4812124967575073, 0.0874931812286377, 0.09478427469730377, 0.0145821962505579, 0.9248616099357605, 0.042039163410663605, 0.8459972739219666, 0.03934871032834053, 0.09837177395820618, 0.12002691626548767, 0.20312248170375824, 0.4062449634075165, 0.027698520570993423, 0.04616419970989227, 0.009232839569449425, 0.16619111597537994, 0.009232839569449425, 0.961726725101471, 0.7575343251228333, 0.2272603064775467, 0.8521904349327087, 0.9262775182723999, 0.04427536576986313, 0.22137683629989624, 0.04427536576986313, 0.13282610476016998, 0.17710146307945251, 0.28778988122940063, 0.06641305238008499, 0.3296082019805908, 0.025354476645588875, 0.5831530094146729, 0.05070895329117775, 0.9418460726737976, 0.9222785234451294, 0.9053903818130493, 0.8198856115341187, 0.9791127443313599, 0.9335317611694336, 0.659241259098053, 0.06592412292957306, 0.05650639161467552, 0.009417732246220112, 0.018835464492440224, 0.02825319580733776, 0.05650639161467552, 0.10359504818916321, 0.871289074420929, 0.09680990129709244, 0.9467901587486267, 0.900212824344635, 0.22253111004829407, 0.07417703419923782, 0.6675933003425598, 0.25285935401916504, 0.2107161283493042, 0.12642967700958252, 0.14750128984451294, 0.1053580641746521, 0.14750128984451294, 0.8996692895889282, 0.12110069394111633, 0.8477048277854919, 0.949711263179779, 0.4986059367656708, 0.07122942060232162, 0.3561471104621887, 0.12954583764076233, 0.25909167528152466, 0.15113680064678192, 0.06477291882038116, 0.08636388927698135, 0.10795485973358154, 0.1727277785539627, 0.04318194463849068, 0.9190353751182556, 0.24121087789535522, 0.1929686963558197, 0.5306639075279236, 0.9341816306114197, 0.9628667831420898, 0.4056437313556671, 0.05679012089967728, 0.08112874627113342, 0.09735449403524399, 0.25149911642074585, 0.08112874627113342, 0.024338623508810997, 0.008112874813377857, 0.36596351861953735, 0.13307765126228333, 0.39923295378685, 0.06653882563114166, 0.8311507701873779, 0.14776013791561127, 0.14100676774978638, 0.4431641101837158, 0.3625888228416443, 0.040287647396326065, 0.9207576513290405, 0.8951429724693298, 0.7288842797279358, 0.22777633368968964, 0.17898759245872498, 0.044746898114681244, 0.4027220904827118, 0.11746060848236084, 0.03356017544865608, 0.10068052262067795, 0.08390043675899506, 0.03356017544865608, 0.8588919639587402, 0.8365577459335327, 0.11950824409723282, 0.12881699204444885, 0.10608457773923874, 0.4470707178115845, 0.16670434176921844, 0.14397193491458893, 0.39482709765434265, 0.4277293384075165, 0.1645112931728363, 0.9753349423408508, 0.3696344792842865, 0.5544517040252686, 0.12274779379367828, 0.36824339628219604, 0.4296172857284546, 0.8053244948387146, 0.11504635959863663, 0.9295762181282043, 0.05164312198758125, 0.21233652532100677, 0.3266715705394745, 0.016333580017089844, 0.04900073632597923, 0.3266715705394745, 0.04900073632597923, 0.9109609127044678, 0.4634108245372772, 0.054120972752571106, 0.21986645460128784, 0.10824194550514221, 0.020295364782214165, 0.016912804916501045, 0.03720816969871521, 0.054120972752571106, 0.016912804916501045, 0.003382560797035694, 0.006765121594071388, 0.7238297462463379, 0.9120669364929199, 0.6882094740867615, 0.24180331826210022, 0.046500638127326965, 0.009300127625465393, 0.9654489159584045, 0.7369852662086487, 0.8535087704658508, 0.009379217401146889, 0.07190733402967453, 0.009379217401146889, 0.009379217401146889, 0.003126405877992511, 0.043769679963588715, 0.003126405877992511, 0.24910490214824677, 0.37365734577178955, 0.24910490214824677, 0.07473146915435791, 0.04982098191976547, 0.9701496362686157, 0.9190613627433777, 0.884108304977417, 0.7092098593711853, 0.8102171421051025, 0.9379603862762451, 0.15171578526496887, 0.7585789561271667, 0.9305688738822937, 0.817684531211853, 0.04480463266372681, 0.08960926532745361, 0.033603474497795105, 0.011201158165931702, 0.1275666356086731, 0.19134993851184845, 0.6378331184387207, 0.6166954040527344, 0.08809934556484222, 0.17619869112968445, 0.08809934556484222, 0.6678281426429749, 0.1669570356607437, 0.1460874080657959, 0.8974868059158325, 0.015884721651673317, 0.02382708340883255, 0.055596526712179184, 0.7985677719116211, 0.21682874858379364, 0.10841437429189682, 0.10841437429189682, 0.21682874858379364, 0.32524311542510986, 0.9693880081176758, 0.08268706500530243, 0.45477885007858276, 0.45477885007858276, 0.8401562571525574, 0.8832225203514099, 0.9007331728935242, 0.8884404897689819, 0.012170417234301567, 0.08519291877746582, 0.841595470905304, 0.967905580997467, 0.6539868712425232, 0.08031417429447174, 0.18357525765895844, 0.08031417429447174, 0.219037264585495, 0.18774622678756714, 0.5006566047668457, 0.09387311339378357, 0.9754937887191772, 0.07115292549133301, 0.8538351058959961, 0.9121000170707703, 0.1742299646139145, 0.784034788608551, 0.3882637023925781, 0.026776807382702827, 0.10710722953081131, 0.026776807382702827, 0.1740492433309555, 0.12049563229084015, 0.12049563229084015, 0.013388403691351414, 0.9021045565605164, 0.8316019773483276, 0.8532409071922302, 0.0203152596950531, 0.0812610387802124, 0.0203152596950531, 0.7349973320960999, 0.5174193978309631, 0.11087558418512344, 0.03695853054523468, 0.29566824436187744, 0.9289337396621704, 0.8323498964309692, 0.8631057143211365, 0.7191193103790283, 0.12526817619800568, 0.7516090869903564, 0.9327375888824463, 0.1071154773235321, 0.7498083114624023, 0.1071154773235321, 0.8866322636604309, 0.8671532869338989, 0.9429371953010559, 0.8916243314743042, 0.1983197033405304, 0.18179306387901306, 0.5949591398239136, 0.8912360072135925, 0.5321463346481323, 0.14850595593452454, 0.02475099265575409, 0.16088144481182098, 0.12375496327877045, 0.9265311360359192, 0.8789759278297424, 0.8768519759178162, 0.9840017557144165, 0.8849160671234131, 0.9459646344184875, 0.825103759765625, 0.8399491310119629, 0.7739854454994202, 0.2962120473384857, 0.5183711051940918, 0.14810602366924286, 0.9256395101547241, 0.5009913444519043, 0.459242045879364, 0.19342893362045288, 0.6963441371917725, 0.07737157493829727, 0.31630009412765503, 0.6326001882553101, 0.7871150970458984, 0.9289681911468506, 0.8686752319335938, 0.20408284664154053, 0.2993215024471283, 0.10884418338537216, 0.16326627135276794, 0.17687179148197174, 0.040816567838191986, 0.9202245473861694, 0.07607705891132355, 0.8368476033210754, 0.8926370143890381, 0.6671707034111023, 0.14826014637947083, 0.07413007318973541, 0.9697198867797852, 0.24338671565055847, 0.01770085282623768, 0.563477098941803, 0.036876775324344635, 0.002950141904875636, 0.02950141951441765, 0.06932833790779114, 0.01770085282623768, 0.00442521320655942, 0.00885042641311884, 0.00442521320655942, 0.37940171360969543, 0.5691025257110596, 0.8469814658164978, 0.41802269220352173, 0.08360453695058823, 0.25081363320350647, 0.25081363320350647, 0.9746342301368713, 0.22195126116275787, 0.7768294215202332, 0.9476324915885925, 0.6422287821769714, 0.01167688611894846, 0.24521461129188538, 0.07006131857633591, 0.02335377223789692, 0.9291996359825134, 0.7980743050575256, 0.9336174726486206, 0.027459338307380676, 0.2557951509952545, 0.22737348079681396, 0.22737348079681396, 0.270006000995636, 0.014210842549800873, 0.014210842549800873, 0.957147479057312, 0.8741302490234375, 0.8978766798973083, 0.2190255969762802, 0.318582683801651, 0.418139785528183, 0.019911417737603188, 0.9576852917671204, 0.8379163146018982, 0.047978539019823074, 0.5757424831390381, 0.32985246181488037, 0.005997317377477884, 0.029986588284373283, 0.005997317377477884, 0.847651481628418, 0.8757902979850769, 0.8689086437225342, 0.06319335848093033, 0.015798339620232582, 0.015798339620232582, 0.031596679240465164, 0.17275862395763397, 0.8062069416046143, 0.913358211517334, 0.981867253780365, 0.8701959252357483, 0.8446362614631653, 0.5726121068000793, 0.033683065325021744, 0.3705137073993683, 0.930275559425354, 0.9231940507888794, 0.024950357154011726, 0.024950357154011726, 0.04990071430802345, 0.2994042932987213, 0.1996028572320938, 0.37425535917282104, 0.9289373159408569, 0.7990307211875916, 0.09987884014844894, 0.9243055582046509, 0.9451970458030701, 0.4463839530944824, 0.07725875824689865, 0.025752918794751167, 0.08584306389093399, 0.12876459956169128, 0.017168613150715828, 0.12876459956169128, 0.07725875824689865, 0.9366253614425659, 0.9049569368362427, 0.1390463262796402, 0.26650547981262207, 0.39396458864212036, 0.18539510667324066, 0.023174388334155083, 0.919371485710144, 0.4222002327442169, 0.5541378259658813, 0.9184727668762207, 0.06076201796531677, 0.911430299282074, 0.03715403005480766, 0.07430806010961533, 0.6687725186347961, 0.18577013909816742, 0.6889793872833252, 0.13779588043689728, 0.14782531559467316, 0.14782531559467316, 0.02956506237387657, 0.22912922501564026, 0.022173795849084854, 0.22912922501564026, 0.04434759169816971, 0.051738858222961426, 0.02956506237387657, 0.07391265779733658, 0.01388370618224144, 0.19437187910079956, 0.7774875164031982, 0.9058022499084473, 0.7669581770896912, 0.8435057401657104, 0.6842514276504517, 0.8911828398704529, 0.3921072781085968, 0.5881608724594116, 0.7440198659896851, 0.8491420149803162, 0.12130600214004517, 0.9482730627059937, 0.3223944902420044, 0.18664944171905518, 0.390267014503479, 0.08484065532684326, 0.25165078043937683, 0.5033015608787537, 0.04575468599796295, 0.06863202899694443, 0.04575468599796295, 0.04575468599796295, 0.04575468599796295, 0.8291410207748413, 0.9515092968940735, 0.1581985503435135, 0.7909927368164062, 0.8546701669692993, 0.9096366167068481, 0.921440839767456, 0.9148789048194885, 0.951408863067627, 0.9366285800933838, 0.9187144637107849, 0.5160869359970093, 0.10580861568450928, 0.18570491671562195, 0.11876477301120758, 0.0043187192641198635, 0.008637438528239727, 0.0021593596320599318, 0.021593594923615456, 0.0021593596320599318, 0.021593594923615456, 0.008637438528239727, 0.7850489020347595, 0.09813111275434494, 0.9336184859275818, 0.9027808904647827, 0.9521663784980774, 0.9680066108703613, 0.25308820605278015, 0.16872547566890717, 0.5061764121055603, 0.8135096430778503, 0.8000354170799255, 0.042107127606868744, 0.12632137537002563, 0.895776629447937, 0.9538180828094482, 0.9366327524185181, 0.9356547594070435, 0.8291410207748413, 0.9742898941040039, 0.0357828252017498, 0.9303534030914307, 0.024341121315956116, 0.9493037462234497, 0.8436022996902466, 0.9025124907493591, 0.8544085025787354, 0.129368394613266, 0.5498156547546387, 0.258736789226532, 0.064684197306633, 0.8102113008499146, 0.8672473430633545, 0.20852048695087433, 0.01737670786678791, 0.4517943859100342, 0.19983214139938354, 0.02606506086885929, 0.0868835374712944, 0.01737670786678791, 0.3147670030593872, 0.0524611696600914, 0.5770728588104248, 0.7399446368217468, 0.2018030732870102, 0.2284773588180542, 0.4787144660949707, 0.11967861652374268, 0.13055849075317383, 0.010879874229431152, 0.021759748458862305, 0.010879874229431152, 0.32956138253211975, 0.25632551312446594, 0.2807374596595764, 0.13426573574543, 0.9408207535743713, 0.5615790486335754, 0.07862106710672379, 0.2807895243167877, 0.06738948822021484, 0.2503852844238281, 0.7198576927185059, 0.7386393547058105, 0.8894718885421753, 0.921106219291687, 0.00903045292943716, 0.04515226557850838, 0.00903045292943716, 0.01806090585887432, 0.94918292760849, 0.9277375936508179], \"Term\": [\"abnormal\", \"acceptability\", \"access\", \"access\", \"access\", \"access\", \"access\", \"access\", \"accessibility\", \"accessibility\", \"accord\", \"accord\", \"accord\", \"accord\", \"accord\", \"accuracy\", \"achieve\", \"achieve\", \"acquire\", \"action\", \"action\", \"action\", \"adapt\", \"additionally\", \"additionally\", \"adequate\", \"adequate\", \"administration\", \"adolescent\", \"adolescent\", \"adolescent\", \"adult\", \"adult\", \"adult\", \"adult\", \"adult\", \"adult\", \"adult\", \"advertising\", \"aede\", \"age\", \"age\", \"agent\", \"agent\", \"agreement\", \"algorithm\", \"alteration\", \"amputation\", \"analgesic\", \"analysis\", \"analysis\", \"analysis\", \"analysis\", \"analysis\", \"analysis\", \"analysis\", \"analyze\", \"analyze\", \"analyze\", \"analyze\", \"analyze\", \"anger\", \"answer\", \"antibiotic\", \"antibiotic\", \"antifungal\", \"app\", \"application\", \"application\", \"appointment\", \"appointment\", \"appraisal\", \"approach\", \"approach\", \"approach\", \"approach\", \"approach\", \"approval\", \"ard\", \"area\", \"area\", \"area\", \"area\", \"area\", \"area\", \"arise\", \"article\", \"article\", \"article\", \"aspirin\", \"assess\", \"assess\", \"assess\", \"assess\", \"assess\", \"assess\", \"assess\", \"assessment\", \"assessment\", \"assessment\", \"assessment\", \"assessment\", \"assign\", \"associate\", \"associate\", \"associate\", \"associate\", \"asthma\", \"asymptomatic\", \"attack\", \"australian\", \"auto\", \"automatic\", \"automation\", \"availability\", \"availability\", \"availability\", \"avoid\", \"base\", \"base\", \"base\", \"base\", \"base\", \"base\", \"base\", \"base\", \"base\", \"baseline\", \"basis\", \"basis\", \"bct\", \"behavior\", \"behavior\", \"behavior\", \"behavior_change\", \"behaviour\", \"behaviour\", \"belief\", \"belief\", \"believe\", \"benign\", \"bet\", \"better\", \"binary\", \"biodiversity\", \"blind\", \"blood\", \"blood\", \"blood\", \"blood\", \"bring\", \"broadcast\", \"business\", \"campaign\", \"canadian\", \"cancer\", \"cancer\", \"cancer\", \"cancer\", \"capitalization\", \"cardiovascular\", \"care\", \"care\", \"care\", \"cart\", \"case\", \"case\", \"case\", \"case\", \"case\", \"case\", \"case\", \"case\", \"case\", \"case\", \"cash\", \"category\", \"cause\", \"cause\", \"cause\", \"cause\", \"cause\", \"cell\", \"cell\", \"cell\", \"center\", \"center\", \"center\", \"central\", \"centre\", \"cervical\", \"chain\", \"challenge\", \"challenge\", \"challenge\", \"challenge\", \"challenge\", \"change\", \"change\", \"change\", \"change\", \"change\", \"change\", \"chd\", \"checklist\", \"chemotherapy\", \"chest\", \"child\", \"child\", \"child\", \"class\", \"class\", \"clinic\", \"clinic\", \"clinical\", \"clinical\", \"clinical\", \"clinical\", \"clinical\", \"clinical\", \"clinical\", \"cluster\", \"cluster\", \"co\", \"cohort\", \"cohort\", \"cohort\", \"cohort\", \"collect\", \"collect\", \"collect\", \"collect\", \"collect\", \"collect\", \"commodity\", \"communication\", \"communication\", \"community\", \"community\", \"community\", \"community\", \"community\", \"community\", \"community\", \"community\", \"compare\", \"compare\", \"compare\", \"competition\", \"complete\", \"complete\", \"complete\", \"complete\", \"complete\", \"complete\", \"complete\", \"complete\", \"compliance\", \"comprehension\", \"concentration\", \"concept\", \"concept\", \"concern\", \"concern\", \"concern\", \"concern\", \"concern\", \"concern\", \"concern\", \"conclusion\", \"conclusion\", \"conclusion\", \"conclusion\", \"conclusion\", \"conclusion\", \"conclusion\", \"conclusion\", \"conclusion\", \"conclusion\", \"conduct\", \"conduct\", \"conduct\", \"conduct\", \"conduct\", \"conduct\", \"conduct\", \"conduct\", \"conference\", \"conference\", \"congenital\", \"connection\", \"connection\", \"consist\", \"consist\", \"consistency\", \"conspiracy\", \"consultation\", \"contact\", \"contact\", \"contain\", \"contain\", \"continue\", \"continue\", \"continue\", \"continue\", \"contrast\", \"contrast\", \"control\", \"control\", \"control\", \"control\", \"control\", \"correct\", \"correctly\", \"corticosteroid\", \"cost\", \"could\", \"could\", \"could\", \"could\", \"could\", \"could\", \"course\", \"coverage\", \"covid\", \"covid\", \"covid\", \"covid\", \"covid\", \"covid\", \"covid\", \"cphm_app\", \"crag\", \"crc\", \"create\", \"create\", \"crop\", \"cryptomarket\", \"cure\", \"curve\", \"cut\", \"cut\", \"data\", \"data\", \"data\", \"data\", \"data\", \"data\", \"data\", \"database\", \"database\", \"database\", \"datum\", \"datum\", \"datum\", \"datum\", \"datum\", \"datum\", \"datum\", \"day\", \"day\", \"day\", \"day\", \"death\", \"death\", \"death\", \"deep\", \"degree\", \"delay\", \"dementia\", \"density\", \"dental\", \"depend\", \"deploy\", \"depression\", \"depressive\", \"deprivation\", \"design\", \"design\", \"design\", \"design\", \"design\", \"design\", \"design\", \"develop\", \"develop\", \"develop\", \"develop\", \"develop\", \"development\", \"development\", \"development\", \"development\", \"development\", \"diabetes\", \"diabetic\", \"diabetic\", \"diagnostic\", \"diagnostic\", \"diagnostic\", \"die\", \"dietary\", \"difference\", \"difference\", \"difference\", \"difference\", \"digital\", \"digital\", \"digital\", \"digital\", \"disagreement\", \"disaster\", \"discharge\", \"discharge\", \"disease\", \"disease\", \"disease\", \"disease\", \"disease\", \"disease\", \"disease\", \"display\", \"dissemination\", \"dissemination\", \"disseminator\", \"distress\", \"documentation\", \"dog\", \"domain\", \"domain\", \"dose\", \"dose\", \"dot\", \"drinking_water\", \"driver\", \"drug\", \"drug\", \"due\", \"due\", \"due\", \"due\", \"education\", \"education\", \"education\", \"education\", \"effect\", \"effect\", \"effect\", \"effect\", \"effect\", \"effectively\", \"effectiveness\", \"effectiveness\", \"effectiveness\", \"eheal\", \"eheal\", \"ehr\", \"elderly\", \"electrical_cardioversion\", \"electronic\", \"electronic\", \"electronic\", \"electronic\", \"electronic\", \"electronic\", \"element\", \"element\", \"elimination\", \"email\", \"emergency\", \"emergency\", \"emergency\", \"emergency\", \"emergency\", \"emotion\", \"emotional\", \"emotional\", \"empirical\", \"endoscopic\", \"endpoint\", \"engine\", \"engine\", \"enjoy\", \"enter\", \"entry\", \"episode\", \"equip\", \"estimate\", \"estimate\", \"estimate\", \"ethic\", \"ethic\", \"evaluation\", \"evidence\", \"evidence\", \"evidence\", \"evidence\", \"evidence\", \"evidence\", \"examination\", \"examine\", \"examine\", \"excerpt\", \"explicitly\", \"exploratory\", \"expose\", \"expose\", \"face\", \"face\", \"face\", \"face\", \"facility\", \"facility\", \"fact\", \"fact\", \"fact\", \"factor\", \"factor\", \"factor\", \"factor\", \"factor\", \"factor\", \"fall\", \"fatigue\", \"fear\", \"feasibility\", \"feasibility\", \"feasibility\", \"feature\", \"feature\", \"fentanyl\", \"fever\", \"file\", \"filter\", \"firm\", \"fit\", \"fix\", \"flexibility\", \"focus\", \"focus\", \"focus\", \"focus\", \"food\", \"forum\", \"forward\", \"frame\", \"framework\", \"framework\", \"frequent\", \"full\", \"function\", \"function\", \"gain\", \"gamble\", \"gambling\", \"gamification\", \"gc\", \"gene\", \"general\", \"general\", \"general\", \"genetic\", \"genetic\", \"genome\", \"geographical\", \"geographical\", \"glucose\", \"group\", \"group\", \"group\", \"group\", \"group\", \"group\", \"group\", \"growth\", \"guideline\", \"guideline\", \"guideline\", \"guideline\", \"habitante\", \"hasp\", \"head\", \"head\", \"health\", \"health\", \"health\", \"health\", \"health\", \"health\", \"health\", \"health\", \"health\", \"health\", \"healthful\", \"healthy\", \"healthy\", \"healthy\", \"helmet\", \"help\", \"help\", \"help\", \"help\", \"help\", \"heterogeneity\", \"heterogeneity\", \"high\", \"high\", \"high\", \"high\", \"high\", \"high\", \"high\", \"history\", \"home\", \"home\", \"hospital\", \"hospital\", \"hospital\", \"hospital\", \"hospital\", \"hotspot\", \"household\", \"however\", \"however\", \"however\", \"however\", \"however\", \"however\", \"however\", \"however\", \"however\", \"however\", \"hpv\", \"hypertension\", \"hypertension\", \"iccm\", \"identification\", \"identify\", \"identify\", \"identify\", \"identify\", \"identify\", \"identify\", \"identify\", \"identify\", \"identify\", \"ill\", \"image\", \"image\", \"imaging\", \"immune\", \"immunity\", \"immunotherapy\", \"impact\", \"impact\", \"impact\", \"impact\", \"impact\", \"impact\", \"impact\", \"impact\", \"implement\", \"implement\", \"implement\", \"implement\", \"implementation\", \"implementation\", \"implementation\", \"implementation\", \"implication\", \"improve\", \"improve\", \"improve\", \"improve\", \"improve\", \"improve\", \"improvejob\", \"inadequate\", \"inception\", \"incidence\", \"incidence\", \"incidence\", \"incivility\", \"include\", \"include\", \"include\", \"include\", \"include\", \"include\", \"include\", \"include\", \"include\", \"include\", \"inconsistent\", \"increase\", \"increase\", \"increase\", \"increase\", \"increase\", \"increase\", \"increase\", \"increase\", \"index\", \"index\", \"indicator\", \"individual\", \"individual\", \"individual\", \"individual\", \"individual\", \"individual\", \"individual\", \"infant\", \"infect\", \"infect\", \"infection\", \"infection\", \"infection\", \"infection\", \"infection\", \"inflammatory\", \"infodemic\", \"information\", \"information\", \"information\", \"information\", \"information\", \"information\", \"information\", \"information\", \"informed\", \"injection\", \"injury\", \"innovation\", \"inpatient\", \"inpatient\", \"instruction\", \"insulin\", \"insulin\", \"integrate\", \"integrate\", \"integrate\", \"intensive\", \"intention\", \"intercourse\", \"interest\", \"interest\", \"interest\", \"internet\", \"internet\", \"internet\", \"intervention\", \"intervention\", \"intervention\", \"intervention\", \"intervention\", \"intervention\", \"investigation\", \"investigation\", \"investigation\", \"investigation\", \"investment\", \"investment\", \"iranian\", \"iranian\", \"iron\", \"iron\", \"isolate\", \"italian\", \"italian\", \"joint\", \"key\", \"key\", \"key\", \"key\", \"knowledge\", \"knowledge\", \"knowledge\", \"label\", \"laboratory\", \"landscape\", \"lbp\", \"leader\", \"leader\", \"leadership\", \"learn\", \"level\", \"level\", \"level\", \"level\", \"liberal\", \"line\", \"link\", \"link\", \"link\", \"literacy\", \"literacy\", \"literature\", \"literature\", \"literature\", \"liver\", \"load\", \"local\", \"local\", \"long\", \"low\", \"low\", \"low\", \"low\", \"low\", \"low\", \"low\", \"low\", \"lung\", \"lynch_syndrome\", \"machine_learning\", \"major\", \"major\", \"major\", \"major\", \"major\", \"major\", \"major\", \"malaria\", \"management\", \"management\", \"management\", \"management\", \"management\", \"management\", \"management\", \"management\", \"map\", \"map\", \"markedly\", \"mask\", \"mask\", \"maternal\", \"may\", \"may\", \"may\", \"may\", \"may\", \"may\", \"may\", \"mean\", \"meaningful\", \"measure\", \"measure\", \"measure\", \"measure\", \"medical\", \"medical\", \"medical\", \"medical\", \"medical\", \"medication\", \"medication\", \"medium\", \"medium\", \"mental\", \"mental\", \"mental\", \"met\", \"methamphetamine\", \"method\", \"method\", \"method\", \"method\", \"method\", \"method\", \"method\", \"method\", \"method\", \"mhealth\", \"microscope\", \"migraine\", \"minimize\", \"minority\", \"minority\", \"misinformation\", \"miss\", \"mixed\", \"mobile\", \"mobile\", \"mobility\", \"model\", \"model\", \"model\", \"model\", \"model\", \"model\", \"molecular\", \"monthly\", \"mos\", \"mosquito\", \"mother\", \"motion\", \"move\", \"multimorbidity\", \"multivariate\", \"musculoskeletal\", \"mutation\", \"nature\", \"necrotize\", \"need\", \"need\", \"need\", \"need\", \"need\", \"need\", \"need\", \"negative\", \"negative\", \"negative\", \"neonatal\", \"neural\", \"neurosurgical\", \"new\", \"new\", \"new\", \"news\", \"night\", \"nontelehealth\", \"normal\", \"novel\", \"novel\", \"novel\", \"number\", \"number\", \"number\", \"number\", \"number\", \"number\", \"number\", \"number\", \"number\", \"numeracy\", \"nurse\", \"nurse\", \"nurse\", \"nutrition\", \"nutrition\", \"obesity\", \"obesity\", \"objective\", \"objective\", \"objective\", \"objective\", \"objective\", \"objective\", \"objective\", \"occupational\", \"old\", \"older_adult\", \"omic\", \"omic\", \"on\", \"oncologist\", \"one\", \"online\", \"online\", \"online\", \"online\", \"online\", \"online\", \"online\", \"open\", \"open\", \"open\", \"operate\", \"operate\", \"operate\", \"ophthalmology\", \"opioid\", \"order\", \"order\", \"order\", \"organ\", \"organizational\", \"outbreak\", \"outbreak\", \"outbreak\", \"outbreak\", \"outpatient\", \"ownership\", \"paediatric\", \"pain\", \"palliative\", \"pancreatic\", \"pancreatitis\", \"pandemic\", \"pandemic\", \"pandemic\", \"pandemic\", \"pandemic\", \"paper\", \"paper\", \"paper\", \"paper\", \"paper\", \"paper\", \"parallel\", \"park\", \"participant\", \"participant\", \"participant\", \"participant\", \"participant\", \"participant\", \"participation\", \"participation\", \"participation\", \"particularly\", \"particularly\", \"pathogen\", \"pathologist\", \"pathology\", \"pathway\", \"patient\", \"patient\", \"patient\", \"patient\", \"patient\", \"peer_reviewe\", \"people\", \"people\", \"people\", \"people\", \"people\", \"perceive\", \"perceive\", \"percentage\", \"percentage\", \"period\", \"period\", \"person\", \"person\", \"personal\", \"personal\", \"personal\", \"phase\", \"phase\", \"phone\", \"phq\", \"physical\", \"physical\", \"physical\", \"physical\", \"physical_activity\", \"plasma\", \"pm\", \"policy\", \"policy\", \"policy\", \"policy\", \"polymorphism\", \"pool\", \"pool\", \"poorly\", \"population\", \"population\", \"population\", \"population\", \"population\", \"population\", \"population\", \"portal\", \"possible\", \"possible\", \"possible\", \"possible\", \"possible\", \"ppf\", \"practice\", \"practice\", \"practice\", \"practice\", \"practice\", \"practice\", \"practitioner\", \"prefer\", \"prefer\", \"preference\", \"pregnant\", \"preoperative\", \"prep\", \"prep\", \"prescribe\", \"prescription\", \"prevalence\", \"prevalence\", \"prevalence\", \"prevalence\", \"prevalence\", \"prevalence\", \"preventive\", \"preventive\", \"problem_list\", \"process\", \"process\", \"process\", \"product\", \"production\", \"production\", \"prognostic\", \"program\", \"program\", \"program\", \"programme\", \"programme\", \"programme\", \"prolong\", \"promote\", \"promote\", \"promote\", \"propagation\", \"protective\", \"protein\", \"provide\", \"provide\", \"provide\", \"provide\", \"provide\", \"provide\", \"provide\", \"provide\", \"provider\", \"provider\", \"provider\", \"psychological\", \"psychosocial\", \"psychotherapy\", \"public\", \"public\", \"public\", \"public\", \"public\", \"public\", \"public\", \"publication\", \"publication\", \"publish\", \"publish\", \"publish\", \"quality\", \"quality\", \"quality\", \"quality\", \"quality\", \"quality\", \"quality\", \"quality\", \"quantify\", \"quantitative\", \"quantitative\", \"quarantine\", \"quartile\", \"question\", \"question\", \"question\", \"question\", \"question\", \"question\", \"question\", \"questionnaire\", \"questionnaire\", \"questionnaire\", \"questionnaire\", \"quit\", \"rabie\", \"racial\", \"radiology\", \"random\", \"rare\", \"rate\", \"rate\", \"rate\", \"rate\", \"rate\", \"rate\", \"rate\", \"rate\", \"rating\", \"rating\", \"rct\", \"readiness\", \"reason\", \"reason\", \"reason\", \"receive\", \"receive\", \"receive\", \"receive\", \"receive\", \"receive\", \"recognize\", \"recruitment\", \"recruitment\", \"reference\", \"referral\", \"referral\", \"referral\", \"regard\", \"regard\", \"regard\", \"regard\", \"regard\", \"regard\", \"regard\", \"regard\", \"regardless\", \"register\", \"register\", \"register\", \"regression\", \"regular\", \"relate\", \"relate\", \"relate\", \"relate\", \"relate\", \"relate\", \"relate\", \"relate\", \"related\", \"related\", \"related\", \"related\", \"relationship\", \"relationship\", \"relevant\", \"relevant\", \"relevant\", \"relevant\", \"rely\", \"reminder\", \"remote\", \"remote\", \"report\", \"report\", \"report\", \"report\", \"report\", \"report\", \"report\", \"report\", \"reproductive\", \"requirement\", \"requirement\", \"research\", \"research\", \"research\", \"research\", \"research\", \"resident\", \"resident\", \"resident\", \"resistance\", \"resistant\", \"resistant\", \"respiratory\", \"respiratory\", \"respiratory\", \"respond\", \"respond\", \"respondent\", \"respondent\", \"response\", \"response\", \"response\", \"response\", \"response\", \"response\", \"restriction\", \"result\", \"result\", \"result\", \"result\", \"result\", \"result\", \"result\", \"result\", \"result\", \"result\", \"result\", \"retain\", \"retention\", \"review\", \"review\", \"review\", \"review\", \"reviewer\", \"rhythm\", \"risk\", \"risk\", \"risk\", \"risk\", \"risk\", \"risk\", \"risk\", \"risk\", \"role\", \"role\", \"role\", \"role\", \"role\", \"rural\", \"sadness\", \"safe\", \"sars_cov\", \"satscan\", \"scd\", \"scenario\", \"scenario\", \"schedule\", \"science\", \"science\", \"science\", \"science\", \"science\", \"scientific\", \"scientific\", \"scientific\", \"score\", \"score\", \"score\", \"score\", \"screening\", \"screening\", \"screening\", \"search\", \"search\", \"search\", \"search\", \"season\", \"secondary\", \"secondary\", \"secondary\", \"secondary\", \"secondary\", \"security\", \"seek\", \"seek\", \"seek\", \"seem\", \"segmentation\", \"selection\", \"self\", \"self\", \"self\", \"semistructure\", \"sensitivity\", \"service\", \"service\", \"service\", \"service\", \"severe\", \"severe\", \"severe\", \"severe\", \"sex\", \"sexual\", \"sexual\", \"sexual_initiation\", \"shift\", \"shift\", \"show\", \"show\", \"show\", \"show\", \"show\", \"show\", \"show\", \"show\", \"si\", \"sickle\", \"significantly\", \"significantly\", \"significantly\", \"significantly\", \"sil\", \"site\", \"site\", \"site\", \"site\", \"skill\", \"sleep\", \"slide\", \"sls\", \"smear\", \"smear\", \"smoke\", \"smoking\", \"smoking\", \"smoking\", \"smoking_cessation\", \"sms\", \"smt\", \"snps\", \"social\", \"social\", \"social\", \"social_media_platform\", \"source\", \"source\", \"source\", \"source\", \"source\", \"spatial\", \"spatially\", \"special\", \"specialist\", \"specialty\", \"specie\", \"specificity\", \"specimen\", \"spend\", \"spread\", \"spread\", \"spread\", \"srcc\", \"staff\", \"staff\", \"stakeholder\", \"stakeholder\", \"stakeholder\", \"stay\", \"stay\", \"stillbirth\", \"store\", \"strain\", \"strategy\", \"strategy\", \"strategy\", \"strategy\", \"strategy\", \"strategy\", \"stratification\", \"stress\", \"stress\", \"stroke\", \"structure\", \"structure\", \"structure\", \"student\", \"study\", \"study\", \"study\", \"study\", \"study\", \"study\", \"study\", \"study\", \"study\", \"study\", \"study\", \"subjective\", \"subjective\", \"submit\", \"successful\", \"successful\", \"successful\", \"successful\", \"suicide\", \"supervision\", \"supervision\", \"supply\", \"support\", \"support\", \"support\", \"support\", \"support\", \"supportive\", \"suppression\", \"surgical\", \"surgical\", \"survey\", \"survey\", \"survey\", \"survey\", \"survey\", \"survey\", \"survival\", \"survivor\", \"swing\", \"symptom\", \"symptom\", \"symptom\", \"symptom\", \"synthesis\", \"syrian\", \"system\", \"system\", \"system\", \"system\", \"system\", \"system\", \"tackle\", \"technological\", \"technology\", \"technology\", \"technology\", \"technology\", \"technology\", \"telehealth\", \"telehealth\", \"telehealth_user\", \"telemedicine\", \"temperature\", \"terrorist\", \"testing\", \"testing\", \"testing\", \"text\", \"therapeutic\", \"therapy\", \"therapy\", \"therapy\", \"therapy\", \"therapy\", \"therapy\", \"thesis\", \"threat\", \"threat\", \"threaten\", \"thylakoid\", \"time\", \"time\", \"time\", \"time\", \"time\", \"time\", \"time\", \"time\", \"title\", \"tobacco\", \"tool\", \"tool\", \"tool\", \"tool\", \"tool\", \"trace\", \"training\", \"training\", \"transfusion\", \"transition\", \"transition\", \"transmission\", \"transmission\", \"transmission\", \"transmission\", \"travel\", \"travel\", \"treatment\", \"treatment\", \"treatment\", \"treatment\", \"treatment\", \"treatment\", \"treatment\", \"treatment\", \"treatment\", \"treatment\", \"trial\", \"trial\", \"trial\", \"trigger\", \"trustworthiness\", \"trustworthy\", \"tube\", \"tumor\", \"tweet\", \"tweet\", \"twice\", \"twitt\", \"twitt\", \"twitter\", \"type\", \"type\", \"type\", \"type\", \"understand\", \"understand\", \"understand\", \"understand\", \"understand\", \"understand\", \"understand\", \"undetectable\", \"unimprove\", \"unit\", \"unit\", \"univariate\", \"university\", \"urban\", \"urinary\", \"urological\", \"urology\", \"usability\", \"use\", \"use\", \"use\", \"use\", \"use\", \"use\", \"use\", \"use\", \"use\", \"use\", \"use\", \"useful\", \"useful\", \"usual\", \"utilization\", \"utis\", \"vaccination\", \"vaccine\", \"vaccine\", \"vaccine\", \"variant\", \"variation\", \"variation\", \"variation\", \"variety\", \"video\", \"viraemia\", \"viral\", \"virological\", \"virtual\", \"virus\", \"virus\", \"visit\", \"visit\", \"vitamin\", \"volume\", \"walk\", \"way\", \"way\", \"way\", \"way\", \"wealth\", \"wear\", \"web\", \"web\", \"web\", \"web\", \"web\", \"web\", \"web\", \"website\", \"website\", \"website\", \"weight\", \"weight\", \"well\", \"well\", \"well\", \"well\", \"well\", \"well\", \"well\", \"woman\", \"woman\", \"woman\", \"woman\", \"word\", \"work\", \"work\", \"work\", \"work\", \"worker\", \"worker\", \"workload\", \"wrist\", \"year\", \"year\", \"year\", \"year\", \"year\", \"yet\", \"youtube\"]}, \"R\": 30, \"lambda.step\": 0.01, \"plot.opts\": {\"xlab\": \"PC1\", \"ylab\": \"PC2\"}, \"topic.order\": [11, 9, 12, 15, 8, 2, 13, 10, 3, 1, 5, 7, 6, 14, 4]};\n",
              "\n",
              "function LDAvis_load_lib(url, callback){\n",
              "  var s = document.createElement('script');\n",
              "  s.src = url;\n",
              "  s.async = true;\n",
              "  s.onreadystatechange = s.onload = callback;\n",
              "  s.onerror = function(){console.warn(\"failed to load library \" + url);};\n",
              "  document.getElementsByTagName(\"head\")[0].appendChild(s);\n",
              "}\n",
              "\n",
              "if(typeof(LDAvis) !== \"undefined\"){\n",
              "   // already loaded: just create the visualization\n",
              "   !function(LDAvis){\n",
              "       new LDAvis(\"#\" + \"ldavis_el1201403869772752404538797921\", ldavis_el1201403869772752404538797921_data);\n",
              "   }(LDAvis);\n",
              "}else if(typeof define === \"function\" && define.amd){\n",
              "   // require.js is available: use it to load d3/LDAvis\n",
              "   require.config({paths: {d3: \"https://cdnjs.cloudflare.com/ajax/libs/d3/3.5.5/d3.min\"}});\n",
              "   require([\"d3\"], function(d3){\n",
              "      window.d3 = d3;\n",
              "      LDAvis_load_lib(\"https://cdn.rawgit.com/bmabey/pyLDAvis/files/ldavis.v1.0.0.js\", function(){\n",
              "        new LDAvis(\"#\" + \"ldavis_el1201403869772752404538797921\", ldavis_el1201403869772752404538797921_data);\n",
              "      });\n",
              "    });\n",
              "}else{\n",
              "    // require.js not available: dynamically load d3 & LDAvis\n",
              "    LDAvis_load_lib(\"https://cdnjs.cloudflare.com/ajax/libs/d3/3.5.5/d3.min.js\", function(){\n",
              "         LDAvis_load_lib(\"https://cdn.rawgit.com/bmabey/pyLDAvis/files/ldavis.v1.0.0.js\", function(){\n",
              "                 new LDAvis(\"#\" + \"ldavis_el1201403869772752404538797921\", ldavis_el1201403869772752404538797921_data);\n",
              "            })\n",
              "         });\n",
              "}\n",
              "</script>"
            ],
            "text/plain": [
              "PreparedData(topic_coordinates=              x         y  topics  cluster       Freq\n",
              "topic                                                \n",
              "10     0.210316  0.011906       1        1  23.743767\n",
              "8      0.183231  0.079518       2        1  17.304630\n",
              "11     0.191083 -0.080593       3        1  14.520657\n",
              "14     0.158467 -0.088654       4        1   8.374680\n",
              "7      0.048671  0.214408       5        1   7.516237\n",
              "1      0.072648 -0.081337       6        1   5.011367\n",
              "12    -0.053926  0.235906       7        1   4.574621\n",
              "9     -0.001287 -0.095104       8        1   3.758303\n",
              "2     -0.013639 -0.055909       9        1   2.742832\n",
              "0     -0.091174  0.057249      10        1   2.588231\n",
              "4     -0.079794 -0.003029      11        1   2.407750\n",
              "6     -0.070060 -0.101639      12        1   2.354865\n",
              "5     -0.163297 -0.018674      13        1   1.953591\n",
              "13    -0.194801 -0.032928      14        1   1.885175\n",
              "3     -0.196437 -0.041123      15        1   1.263296, topic_info=              Term        Freq       Total Category  logprob  loglift\n",
              "7          patient  536.000000  536.000000  Default  30.0000  30.0000\n",
              "137         health  561.000000  561.000000  Default  29.0000  29.0000\n",
              "74           study  677.000000  677.000000  Default  28.0000  28.0000\n",
              "117           care  283.000000  283.000000  Default  27.0000  27.0000\n",
              "469   intervention  223.000000  223.000000  Default  26.0000  26.0000\n",
              "...            ...         ...         ...      ...      ...      ...\n",
              "222          score    4.335730   45.403290  Topic15  -4.9128   2.0228\n",
              "2735    successful    2.871242   11.961073  Topic15  -5.3249   2.9445\n",
              "3374       operate    2.721034    9.059278  Topic15  -5.3787   3.1687\n",
              "295       possible    3.004054   36.612679  Topic15  -5.2797   1.8710\n",
              "374          adult    2.652754   49.840816  Topic15  -5.4041   1.4382\n",
              "\n",
              "[876 rows x 6 columns], token_table=      Topic      Freq           Term\n",
              "term                                \n",
              "2861     13  0.924839       abnormal\n",
              "1143      6  0.964677  acceptability\n",
              "744       2  0.250206         access\n",
              "744       4  0.125103         access\n",
              "744       5  0.250206         access\n",
              "...     ...       ...            ...\n",
              "317       3  0.045152           year\n",
              "317       9  0.009030           year\n",
              "317      11  0.018061           year\n",
              "2566      4  0.949183            yet\n",
              "3131     11  0.927738        youtube\n",
              "\n",
              "[1682 rows x 3 columns], R=30, lambda_step=0.01, plot_opts={'xlab': 'PC1', 'ylab': 'PC2'}, topic_order=[11, 9, 12, 15, 8, 2, 13, 10, 3, 1, 5, 7, 6, 14, 4])"
            ]
          },
          "metadata": {
            "tags": []
          },
          "execution_count": 25
        }
      ]
    },
    {
      "cell_type": "markdown",
      "metadata": {
        "id": "SYEipin5OYyu",
        "colab_type": "text"
      },
      "source": [
        "# Assignment 1: how to find the optimal number of topics\n",
        "\n",
        "-  cohenrence score based\n",
        "    - LDA \n",
        "      - con: the topics are fixed for the whole corpus, and the number of topics is assumed\n",
        "to be known\n",
        "\n",
        "    - NMF ??\n",
        "\n",
        "- Bayesian nonparametric topic model\n",
        "    - HDP: https://datascience.stackexchange.com/questions/128/latent-dirichlet-allocation-vs-hierarchical-dirichlet-process\n",
        "      - pro: As far as pros and cons, HDP has the advantage that the maximum number of topics can be unbounded and learned from the data rather than specified in advance. "
      ]
    },
    {
      "cell_type": "code",
      "metadata": {
        "id": "8Ttp2HfQUDyM",
        "colab_type": "code",
        "colab": {}
      },
      "source": [
        "def plot_graph_score(coherence_values):\n",
        "  # Show graph\n",
        "  limit=100; start=2; step=6;\n",
        "  x = range(start, limit, step)\n",
        "  plt.plot(x, coherence_values)\n",
        "  plt.xlabel(\"Num Topics\")\n",
        "  plt.ylabel(\"Coherence score\")\n",
        "  plt.legend((\"coherence_values\"), loc='best')\n",
        "  plt.show()\n",
        "\n",
        "def plot_score(coherence_values):\n",
        "  # Print the coherence scores\n",
        "  for m, cv in zip(x, coherence_values):\n",
        "    print(\"Num Topics =\", m, \" has Coherence Value of\", round(cv, 4))"
      ],
      "execution_count": 43,
      "outputs": []
    },
    {
      "cell_type": "markdown",
      "metadata": {
        "id": "SqwvtFM_R00t",
        "colab_type": "text"
      },
      "source": [
        "### Using LDA"
      ]
    },
    {
      "cell_type": "code",
      "metadata": {
        "id": "12uFoS7oJ8yB",
        "colab_type": "code",
        "colab": {}
      },
      "source": [
        "def compute_coherence_values(dictionary, corpus, texts, limit, start=2, step=3):\n",
        "    \"\"\"\n",
        "    Compute c_v coherence for various number of topics\n",
        "\n",
        "    Parameters:\n",
        "    ----------\n",
        "    dictionary : Gensim dictionary\n",
        "    corpus : Gensim corpus\n",
        "    texts : List of input texts\n",
        "    limit : Max num of topics\n",
        "\n",
        "    Returns:\n",
        "    -------\n",
        "    model_list : List of LDA topic models\n",
        "    coherence_values : Coherence values corresponding to the LDA model with respective number of topics\n",
        "    \"\"\"\n",
        "    coherence_values = []\n",
        "    model_list = []\n",
        "    for num_topics in range(start, limit, step):\n",
        "        #model = gensim.models.wrappers.LdaMallet(mallet_path, corpus=corpus, num_topics=num_topics, id2word=id2word)\n",
        "        model = gensim.models.ldamodel.LdaModel(corpus=corpus,\n",
        "                                           id2word=id2word,\n",
        "                                           num_topics=num_topics, \n",
        "                                           random_state=100,\n",
        "                                           update_every=1,\n",
        "                                           chunksize=100,\n",
        "                                           passes=10,\n",
        "                                           alpha='auto',\n",
        "                                           per_word_topics=True)\n",
        "        model_list.append(model)\n",
        "        coherencemodel = CoherenceModel(model=model, texts=texts, dictionary=dictionary, coherence='c_v')\n",
        "        coherence_values.append(coherencemodel.get_coherence())\n",
        "\n",
        "    return model_list, coherence_values\n"
      ],
      "execution_count": 44,
      "outputs": []
    },
    {
      "cell_type": "code",
      "metadata": {
        "id": "lbLJHp02PC9z",
        "colab_type": "code",
        "colab": {
          "base_uri": "https://localhost:8080/",
          "height": 602
        },
        "outputId": "374ed3ee-06e3-4758-c9c4-3b6391a76c0c"
      },
      "source": [
        "# Can take a long time to run.\n",
        "model_list, coherence_values = compute_coherence_values(dictionary=id2word, corpus=corpus, texts=data_lemmatized, start=2, limit=100, step=6)\n",
        "plot_graph_score(coherence_values)\n",
        "plot_score(coherence_values)\n"
      ],
      "execution_count": 45,
      "outputs": [
        {
          "output_type": "stream",
          "text": [
            "/usr/local/lib/python3.6/dist-packages/gensim/models/ldamodel.py:1023: RuntimeWarning: divide by zero encountered in log\n",
            "  def do_mstep(self, rho, other, extra_pass=False):\n"
          ],
          "name": "stderr"
        },
        {
          "output_type": "display_data",
          "data": {
            "image/png": "[encoded data removed]",
            "text/plain": [
              "<Figure size 432x288 with 1 Axes>"
            ]
          },
          "metadata": {
            "tags": [],
            "needs_background": "light"
          }
        },
        {
          "output_type": "stream",
          "text": [
            "Num Topics = 2  has Coherence Value of 0.3126\n",
            "Num Topics = 8  has Coherence Value of 0.3389\n",
            "Num Topics = 14  has Coherence Value of 0.3654\n",
            "Num Topics = 20  has Coherence Value of 0.3755\n",
            "Num Topics = 26  has Coherence Value of 0.372\n",
            "Num Topics = 32  has Coherence Value of 0.3733\n",
            "Num Topics = 38  has Coherence Value of 0.3587\n",
            "Num Topics = 44  has Coherence Value of 0.3356\n",
            "Num Topics = 50  has Coherence Value of 0.3561\n",
            "Num Topics = 56  has Coherence Value of 0.3491\n",
            "Num Topics = 62  has Coherence Value of 0.3645\n",
            "Num Topics = 68  has Coherence Value of 0.3457\n",
            "Num Topics = 74  has Coherence Value of 0.3571\n",
            "Num Topics = 80  has Coherence Value of 0.337\n",
            "Num Topics = 86  has Coherence Value of 0.3771\n",
            "Num Topics = 92  has Coherence Value of 0.3927\n",
            "Num Topics = 98  has Coherence Value of 0.3945\n"
          ],
          "name": "stdout"
        }
      ]
    },
    {
      "cell_type": "code",
      "metadata": {
        "id": "EUFLco9yO_dC",
        "colab_type": "code",
        "colab": {}
      },
      "source": [
        "# Select the model and print the topics (Topics = 62)\n",
        "optimal_model = model_list[3]\n",
        "model_topics = optimal_model.show_topics(formatted=False)\n",
        "pprint(optimal_model.print_topics(num_words=10))"
      ],
      "execution_count": null,
      "outputs": []
    },
    {
      "cell_type": "markdown",
      "metadata": {
        "id": "bWgnOi31dc69",
        "colab_type": "text"
      },
      "source": [
        "### Using NMF"
      ]
    },
    {
      "cell_type": "code",
      "metadata": {
        "id": "NiN092mAQZwb",
        "colab_type": "code",
        "colab": {}
      },
      "source": [
        "def compute_coherence_values_nmf(dictionary, corpus, texts, limit, start=2, step=3):\n",
        "    \"\"\"\n",
        "    Compute c_v coherence for various number of topics\n",
        "\n",
        "    Parameters:\n",
        "    ----------\n",
        "    dictionary : Gensim dictionary\n",
        "    corpus : Gensim corpus\n",
        "    texts : List of input texts\n",
        "    limit : Max num of topics\n",
        "\n",
        "    Returns:\n",
        "    -------\n",
        "    model_list : List of NMF topic models\n",
        "    coherence_values : Coherence values corresponding to the LDA model with respective number of topics\n",
        "    \"\"\"\n",
        "    coherence_values = []\n",
        "    model_list = []\n",
        "    for num_topics in range(start, limit, step):\n",
        "        model = Nmf(\n",
        "        corpus=corpus,\n",
        "        num_topics=num_topics,\n",
        "        id2word=id2word,\n",
        "        chunksize=100,\n",
        "        passes=10,\n",
        "        kappa=.1,\n",
        "        minimum_probability=0.01,\n",
        "        w_max_iter=300,\n",
        "        w_stop_condition=0.0001,\n",
        "        h_max_iter=100,\n",
        "        h_stop_condition=0.001,\n",
        "        eval_every=10,\n",
        "        normalize=True,\n",
        "        random_state=42\n",
        "    )\n",
        "        model_list.append(model)\n",
        "        coherencemodel = CoherenceModel(model=model, texts=texts, dictionary=dictionary, coherence='c_v')\n",
        "        coherence_values.append(coherencemodel.get_coherence())\n",
        "\n",
        "    return model_list, coherence_values"
      ],
      "execution_count": 46,
      "outputs": []
    },
    {
      "cell_type": "code",
      "metadata": {
        "id": "00pGj4XDQMMq",
        "colab_type": "code",
        "colab": {
          "base_uri": "https://localhost:8080/",
          "height": 570
        },
        "outputId": "170b247f-72fa-415e-8270-357392fb6250"
      },
      "source": [
        "# Can take a long time to run.\n",
        "model_list_nmf, coherence_values_nmf = compute_coherence_values_nmf(dictionary=id2word, corpus=corpus, texts=data_lemmatized, start=2, limit=100, step=6)\n",
        "plot_graph_score(coherence_values_nmf)\n",
        "plot_score(coherence_values_nmf)"
      ],
      "execution_count": 47,
      "outputs": [
        {
          "output_type": "display_data",
          "data": {
            "image/png": "[encoded data removed]",
            "text/plain": [
              "<Figure size 432x288 with 1 Axes>"
            ]
          },
          "metadata": {
            "tags": [],
            "needs_background": "light"
          }
        },
        {
          "output_type": "stream",
          "text": [
            "Num Topics = 2  has Coherence Value of 0.283\n",
            "Num Topics = 8  has Coherence Value of 0.3592\n",
            "Num Topics = 14  has Coherence Value of 0.3763\n",
            "Num Topics = 20  has Coherence Value of 0.3527\n",
            "Num Topics = 26  has Coherence Value of 0.3752\n",
            "Num Topics = 32  has Coherence Value of 0.3684\n",
            "Num Topics = 38  has Coherence Value of 0.3641\n",
            "Num Topics = 44  has Coherence Value of 0.3637\n",
            "Num Topics = 50  has Coherence Value of 0.3596\n",
            "Num Topics = 56  has Coherence Value of 0.3371\n",
            "Num Topics = 62  has Coherence Value of 0.3539\n",
            "Num Topics = 68  has Coherence Value of 0.3688\n",
            "Num Topics = 74  has Coherence Value of 0.3733\n",
            "Num Topics = 80  has Coherence Value of 0.3552\n",
            "Num Topics = 86  has Coherence Value of 0.3669\n",
            "Num Topics = 92  has Coherence Value of 0.3513\n",
            "Num Topics = 98  has Coherence Value of 0.3656\n"
          ],
          "name": "stdout"
        }
      ]
    },
    {
      "cell_type": "code",
      "metadata": {
        "id": "FZwB-9bbWNeh",
        "colab_type": "code",
        "colab": {}
      },
      "source": [
        "# Select the model and print the topics \n",
        "optimal_model = model_list[2]\n",
        "model_topics = optimal_model.show_topics(formatted=False)\n",
        "pprint(optimal_model.print_topics(num_words=10))"
      ],
      "execution_count": null,
      "outputs": []
    },
    {
      "cell_type": "markdown",
      "metadata": {
        "id": "sJjAEJTGX1bq",
        "colab_type": "text"
      },
      "source": [
        "### Using HDP\n"
      ]
    },
    {
      "cell_type": "code",
      "metadata": {
        "id": "Gw1ofdQSX45e",
        "colab_type": "code",
        "colab": {}
      },
      "source": [
        "# https://radimrehurek.com/gensim/models/hdpmodel.html\n",
        "# Unlike its finite counterpart, latent Dirichlet allocation, the HDP topic model infers the number of topics from the data.\n",
        "from gensim.test.utils import common_corpus, common_dictionary\n",
        "from gensim.models import HdpModel\n",
        "hdp = HdpModel(corpus, id2word) \n"
      ],
      "execution_count": 68,
      "outputs": []
    },
    {
      "cell_type": "code",
      "metadata": {
        "id": "NTPlvGLmX4uX",
        "colab_type": "code",
        "colab": {
          "base_uri": "https://localhost:8080/",
          "height": 71
        },
        "outputId": "30d05c76-c76f-4704-9270-7575e00825fe"
      },
      "source": [
        "# Number of topics for which most probable num_words words will be fetched\n",
        "topic_info = hdp.print_topics(num_topics=-1, num_words=10)\n",
        "# topic_info = hdp.print_topics() # default by 20 topics\n",
        "print(len(topic_info))\n",
        "print(topic_info[0])\n",
        "# HDP will calculate as many topics as the assigned truncation level. However, it may be the case that many of these topics have \n",
        "# basically zero probability of occurring."
      ],
      "execution_count": 69,
      "outputs": [
        {
          "output_type": "stream",
          "text": [
            "150\n",
            "(0, '0.005*study + 0.004*health + 0.003*patient + 0.003*use + 0.003*risk + 0.003*include + 0.002*result + 0.002*factor + 0.002*individual + 0.002*method')\n"
          ],
          "name": "stdout"
        }
      ]
    },
    {
      "cell_type": "code",
      "metadata": {
        "id": "52F1Ivt2X4n7",
        "colab_type": "code",
        "colab": {
          "base_uri": "https://localhost:8080/",
          "height": 419
        },
        "outputId": "6a6f2d9e-1029-469e-cd23-054f0bb4bb3a"
      },
      "source": [
        "# a function that performs a rough estimate of the topics' probability weights(alpha values) associated with each topic. \n",
        "# Note that this is a rough metric only: it does not account for the probability associated with each word. Even so, \n",
        "# it provides a pretty good metric for which topics are meaningful and which aren't:\n",
        "\n",
        "# def topic_prob_extractor(gensim_hdp):\n",
        "#     shown_topics = gensim_hdp.show_topics(num_topics=-1, formatted=False)\n",
        "#     topics_nos = [x[0] for x in shown_topics ]\n",
        "#     weights = [ sum([item[1] for item in shown_topics[topicN][1]]) for topicN in topics_nos ]\n",
        "\n",
        "#     return pd.DataFrame({'topic_id' : topics_nos, 'weight' : weights})\n",
        "\n",
        "def topic_prob_extractor(gensim_hdp, t=-1, w=25, isSorted=True):\n",
        "    \"\"\"\n",
        "    Input the gensim model to get the rough topics' probabilities\n",
        "    \"\"\"\n",
        "    shown_topics = gensim_hdp.show_topics(num_topics=t, num_words=w ,formatted=False)\n",
        "    topics_nos = [x[0] for x in shown_topics ]\n",
        "    weights = [ sum([item[1] for item in shown_topics[topicN][1]]) for topicN in topics_nos ]\n",
        "    if (isSorted):\n",
        "        return pd.DataFrame({'topic_id' : topics_nos, 'weight' : weights}).sort_values(by = \"weight\", ascending=False);\n",
        "    else:\n",
        "        return pd.DataFrame({'topic_id' : topics_nos, 'weight' : weights});\n",
        "\n",
        "\n",
        "topic_prob_extractor(hdp)\n",
        "\n",
        "#alpha = hdp.hdp_to_lda()[0];\n"
      ],
      "execution_count": 59,
      "outputs": [
        {
          "output_type": "execute_result",
          "data": {
            "text/html": [
              "<div>\n",
              "<style scoped>\n",
              "    .dataframe tbody tr th:only-of-type {\n",
              "        vertical-align: middle;\n",
              "    }\n",
              "\n",
              "    .dataframe tbody tr th {\n",
              "        vertical-align: top;\n",
              "    }\n",
              "\n",
              "    .dataframe thead th {\n",
              "        text-align: right;\n",
              "    }\n",
              "</style>\n",
              "<table border=\"1\" class=\"dataframe\">\n",
              "  <thead>\n",
              "    <tr style=\"text-align: right;\">\n",
              "      <th></th>\n",
              "      <th>topic_id</th>\n",
              "      <th>weight</th>\n",
              "    </tr>\n",
              "  </thead>\n",
              "  <tbody>\n",
              "    <tr>\n",
              "      <th>0</th>\n",
              "      <td>0</td>\n",
              "      <td>0.072193</td>\n",
              "    </tr>\n",
              "    <tr>\n",
              "      <th>1</th>\n",
              "      <td>1</td>\n",
              "      <td>0.065176</td>\n",
              "    </tr>\n",
              "    <tr>\n",
              "      <th>2</th>\n",
              "      <td>2</td>\n",
              "      <td>0.048250</td>\n",
              "    </tr>\n",
              "    <tr>\n",
              "      <th>3</th>\n",
              "      <td>3</td>\n",
              "      <td>0.045401</td>\n",
              "    </tr>\n",
              "    <tr>\n",
              "      <th>6</th>\n",
              "      <td>6</td>\n",
              "      <td>0.042400</td>\n",
              "    </tr>\n",
              "    <tr>\n",
              "      <th>...</th>\n",
              "      <td>...</td>\n",
              "      <td>...</td>\n",
              "    </tr>\n",
              "    <tr>\n",
              "      <th>76</th>\n",
              "      <td>76</td>\n",
              "      <td>0.028655</td>\n",
              "    </tr>\n",
              "    <tr>\n",
              "      <th>82</th>\n",
              "      <td>82</td>\n",
              "      <td>0.028598</td>\n",
              "    </tr>\n",
              "    <tr>\n",
              "      <th>66</th>\n",
              "      <td>66</td>\n",
              "      <td>0.028349</td>\n",
              "    </tr>\n",
              "    <tr>\n",
              "      <th>126</th>\n",
              "      <td>126</td>\n",
              "      <td>0.028258</td>\n",
              "    </tr>\n",
              "    <tr>\n",
              "      <th>57</th>\n",
              "      <td>57</td>\n",
              "      <td>0.028142</td>\n",
              "    </tr>\n",
              "  </tbody>\n",
              "</table>\n",
              "<p>150 rows × 2 columns</p>\n",
              "</div>"
            ],
            "text/plain": [
              "     topic_id    weight\n",
              "0           0  0.072193\n",
              "1           1  0.065176\n",
              "2           2  0.048250\n",
              "3           3  0.045401\n",
              "6           6  0.042400\n",
              "..        ...       ...\n",
              "76         76  0.028655\n",
              "82         82  0.028598\n",
              "66         66  0.028349\n",
              "126       126  0.028258\n",
              "57         57  0.028142\n",
              "\n",
              "[150 rows x 2 columns]"
            ]
          },
          "metadata": {
            "tags": []
          },
          "execution_count": 59
        }
      ]
    },
    {
      "cell_type": "code",
      "metadata": {
        "id": "Ci-CQEH0X01W",
        "colab_type": "code",
        "colab": {}
      },
      "source": [
        ""
      ],
      "execution_count": null,
      "outputs": []
    },
    {
      "cell_type": "markdown",
      "metadata": {
        "id": "2aRIXs-DSX3W",
        "colab_type": "text"
      },
      "source": [
        "# Assignment 2: document-topic distribution\n"
      ]
    },
    {
      "cell_type": "code",
      "metadata": {
        "id": "VGrqxLpNSRsf",
        "colab_type": "code",
        "colab": {
          "base_uri": "https://localhost:8080/",
          "height": 419
        },
        "outputId": "c163f3c2-e549-49c5-e8ec-03a221350638"
      },
      "source": [
        "# Finding the dominant topic in each doc\n",
        "def format_topics_sentences(ldamodel=optimal_model, corpus=corpus, texts=data_lemmatized):\n",
        "    # Init output\n",
        "    sent_topics_df = pd.DataFrame()\n",
        "\n",
        "    # Get main topic in each document\n",
        "    for i, row in enumerate(ldamodel[corpus]):\n",
        "        # print(i)\n",
        "        # print(row)\n",
        "        \n",
        "        row = sorted(row[0], key=lambda x: (x[1]), reverse=True)\n",
        "        # Get the Dominant topic, Perc Contribution and Keywords for each document\n",
        "        for j, (topic_num, prop_topic) in enumerate(row):\n",
        "            if j == 0:  # => dominant topic\n",
        "                wp = ldamodel.show_topic(topic_num)\n",
        "                topic_keywords = \", \".join([word for word, prop in wp])\n",
        "                sent_topics_df = sent_topics_df.append(pd.Series([int(topic_num), round(prop_topic,4), topic_keywords]), ignore_index=True)\n",
        "            else:\n",
        "                break\n",
        "    sent_topics_df.columns = ['Dominant_Topic', 'Perc_Contribution', 'Topic_Keywords']\n",
        "\n",
        "    # Add original text to the end of the output\n",
        "    contents = pd.Series(texts)\n",
        "    sent_topics_df = pd.concat([sent_topics_df, contents], axis=1)\n",
        "    return(sent_topics_df)\n",
        "\n",
        "\n",
        "df_topic_sents_keywords = format_topics_sentences(ldamodel=optimal_model, corpus=corpus, texts=data_lemmatized)\n",
        "\n",
        "# Format\n",
        "df_dominant_topic = df_topic_sents_keywords.reset_index()\n",
        "df_dominant_topic.columns = ['Document_No', 'Dominant_Topic', 'Topic_Perc_Contrib', 'Keywords', 'Text']\n",
        "\n",
        "# Show\n",
        "df_dominant_topic.head(100)\n",
        "# Perc_Contrib: ercentage contribution of the topic in the given document"
      ],
      "execution_count": 77,
      "outputs": [
        {
          "output_type": "execute_result",
          "data": {
            "text/html": [
              "<div>\n",
              "<style scoped>\n",
              "    .dataframe tbody tr th:only-of-type {\n",
              "        vertical-align: middle;\n",
              "    }\n",
              "\n",
              "    .dataframe tbody tr th {\n",
              "        vertical-align: top;\n",
              "    }\n",
              "\n",
              "    .dataframe thead th {\n",
              "        text-align: right;\n",
              "    }\n",
              "</style>\n",
              "<table border=\"1\" class=\"dataframe\">\n",
              "  <thead>\n",
              "    <tr style=\"text-align: right;\">\n",
              "      <th></th>\n",
              "      <th>Document_No</th>\n",
              "      <th>Dominant_Topic</th>\n",
              "      <th>Topic_Perc_Contrib</th>\n",
              "      <th>Keywords</th>\n",
              "      <th>Text</th>\n",
              "    </tr>\n",
              "  </thead>\n",
              "  <tbody>\n",
              "    <tr>\n",
              "      <th>0</th>\n",
              "      <td>0</td>\n",
              "      <td>10.0</td>\n",
              "      <td>0.6185</td>\n",
              "      <td>risk, use, study, patient, datum, high, result...</td>\n",
              "      <td>[graphical, compute, video, surveillance, mobi...</td>\n",
              "    </tr>\n",
              "    <tr>\n",
              "      <th>1</th>\n",
              "      <td>1</td>\n",
              "      <td>6.0</td>\n",
              "      <td>0.3545</td>\n",
              "      <td>value, app, resistance, identify, use, analysi...</td>\n",
              "      <td>[background, common, tumor, woman, mali, world...</td>\n",
              "    </tr>\n",
              "    <tr>\n",
              "      <th>2</th>\n",
              "      <td>2</td>\n",
              "      <td>10.0</td>\n",
              "      <td>0.8669</td>\n",
              "      <td>risk, use, study, patient, datum, high, result...</td>\n",
              "      <td>[highlight, true, incidence, sars_cov, much, h...</td>\n",
              "    </tr>\n",
              "    <tr>\n",
              "      <th>3</th>\n",
              "      <td>3</td>\n",
              "      <td>8.0</td>\n",
              "      <td>0.6987</td>\n",
              "      <td>health, care, patient, system, base, need, ser...</td>\n",
              "      <td>[impact, individual, society, stratify, care, ...</td>\n",
              "    </tr>\n",
              "    <tr>\n",
              "      <th>4</th>\n",
              "      <td>4</td>\n",
              "      <td>8.0</td>\n",
              "      <td>0.7730</td>\n",
              "      <td>health, care, patient, system, base, need, ser...</td>\n",
              "      <td>[provider, concern, patient, satisfaction, pot...</td>\n",
              "    </tr>\n",
              "    <tr>\n",
              "      <th>...</th>\n",
              "      <td>...</td>\n",
              "      <td>...</td>\n",
              "      <td>...</td>\n",
              "      <td>...</td>\n",
              "      <td>...</td>\n",
              "    </tr>\n",
              "    <tr>\n",
              "      <th>95</th>\n",
              "      <td>95</td>\n",
              "      <td>8.0</td>\n",
              "      <td>0.3702</td>\n",
              "      <td>health, care, patient, system, base, need, ser...</td>\n",
              "      <td>[electronic, health, record, ehrs, widely, ado...</td>\n",
              "    </tr>\n",
              "    <tr>\n",
              "      <th>96</th>\n",
              "      <td>96</td>\n",
              "      <td>2.0</td>\n",
              "      <td>0.2988</td>\n",
              "      <td>information, health, datum, online, student, i...</td>\n",
              "      <td>[background, today, increase, methamphetamine,...</td>\n",
              "    </tr>\n",
              "    <tr>\n",
              "      <th>97</th>\n",
              "      <td>97</td>\n",
              "      <td>4.0</td>\n",
              "      <td>0.5071</td>\n",
              "      <td>public, health, open, tweet, time, vaccination...</td>\n",
              "      <td>[emergence, multidrug, resistant, bacteria, co...</td>\n",
              "    </tr>\n",
              "    <tr>\n",
              "      <th>98</th>\n",
              "      <td>98</td>\n",
              "      <td>11.0</td>\n",
              "      <td>0.8280</td>\n",
              "      <td>study, include, search, review, use, evidence,...</td>\n",
              "      <td>[met, major, global, health, problem, widely, ...</td>\n",
              "    </tr>\n",
              "    <tr>\n",
              "      <th>99</th>\n",
              "      <td>99</td>\n",
              "      <td>10.0</td>\n",
              "      <td>0.5767</td>\n",
              "      <td>risk, use, study, patient, datum, high, result...</td>\n",
              "      <td>[background, knee, osteoarthritis, oa, painful...</td>\n",
              "    </tr>\n",
              "  </tbody>\n",
              "</table>\n",
              "<p>100 rows × 5 columns</p>\n",
              "</div>"
            ],
            "text/plain": [
              "    Document_No  ...                                               Text\n",
              "0             0  ...  [graphical, compute, video, surveillance, mobi...\n",
              "1             1  ...  [background, common, tumor, woman, mali, world...\n",
              "2             2  ...  [highlight, true, incidence, sars_cov, much, h...\n",
              "3             3  ...  [impact, individual, society, stratify, care, ...\n",
              "4             4  ...  [provider, concern, patient, satisfaction, pot...\n",
              "..          ...  ...                                                ...\n",
              "95           95  ...  [electronic, health, record, ehrs, widely, ado...\n",
              "96           96  ...  [background, today, increase, methamphetamine,...\n",
              "97           97  ...  [emergence, multidrug, resistant, bacteria, co...\n",
              "98           98  ...  [met, major, global, health, problem, widely, ...\n",
              "99           99  ...  [background, knee, osteoarthritis, oa, painful...\n",
              "\n",
              "[100 rows x 5 columns]"
            ]
          },
          "metadata": {
            "tags": []
          },
          "execution_count": 77
        }
      ]
    },
    {
      "cell_type": "code",
      "metadata": {
        "id": "zkVXrVT7SRiS",
        "colab_type": "code",
        "colab": {
          "base_uri": "https://localhost:8080/",
          "height": 483
        },
        "outputId": "af7c140c-5c14-4c04-f10d-25e0ae4b6eb0"
      },
      "source": [
        "# Find the most representative document for each topic\n",
        "# to help with understanding the topic, you can find the documents a given topic has \n",
        "# contributed to the most and infer the topic by reading that document. \n",
        "\n",
        "# Group top 5 sentences under each topic\n",
        "sent_topics_sorteddf_mallet = pd.DataFrame()\n",
        "\n",
        "sent_topics_outdf_grpd = df_topic_sents_keywords.groupby('Dominant_Topic')\n",
        "\n",
        "for i, grp in sent_topics_outdf_grpd:\n",
        "    sent_topics_sorteddf_mallet = pd.concat([sent_topics_sorteddf_mallet, \n",
        "                                             grp.sort_values(['Perc_Contribution'], ascending=[0]).head(1)], \n",
        "                                            axis=0)\n",
        "\n",
        "# Reset Index    \n",
        "sent_topics_sorteddf_mallet.reset_index(drop=True, inplace=True)\n",
        "\n",
        "# Format\n",
        "sent_topics_sorteddf_mallet.columns = ['Topic_Num', \"Topic_Perc_Contrib\", \"Keywords\", \"Text\"]\n",
        "\n",
        "# Show\n",
        "sent_topics_sorteddf_mallet.head(100)"
      ],
      "execution_count": 78,
      "outputs": [
        {
          "output_type": "execute_result",
          "data": {
            "text/html": [
              "<div>\n",
              "<style scoped>\n",
              "    .dataframe tbody tr th:only-of-type {\n",
              "        vertical-align: middle;\n",
              "    }\n",
              "\n",
              "    .dataframe tbody tr th {\n",
              "        vertical-align: top;\n",
              "    }\n",
              "\n",
              "    .dataframe thead th {\n",
              "        text-align: right;\n",
              "    }\n",
              "</style>\n",
              "<table border=\"1\" class=\"dataframe\">\n",
              "  <thead>\n",
              "    <tr style=\"text-align: right;\">\n",
              "      <th></th>\n",
              "      <th>Topic_Num</th>\n",
              "      <th>Topic_Perc_Contrib</th>\n",
              "      <th>Keywords</th>\n",
              "      <th>Text</th>\n",
              "    </tr>\n",
              "  </thead>\n",
              "  <tbody>\n",
              "    <tr>\n",
              "      <th>0</th>\n",
              "      <td>0.0</td>\n",
              "      <td>0.6283</td>\n",
              "      <td>drug, group, high, face, covid, increase, infa...</td>\n",
              "      <td>[background, system, use, collect, data, sympt...</td>\n",
              "    </tr>\n",
              "    <tr>\n",
              "      <th>1</th>\n",
              "      <td>1.0</td>\n",
              "      <td>0.7657</td>\n",
              "      <td>intervention, health, study, report, outcome, ...</td>\n",
              "      <td>[background, intimate, partner, violence, key,...</td>\n",
              "    </tr>\n",
              "    <tr>\n",
              "      <th>2</th>\n",
              "      <td>2.0</td>\n",
              "      <td>0.6773</td>\n",
              "      <td>information, health, datum, online, student, i...</td>\n",
              "      <td>[introduction, cancer, lead, cause, death, las...</td>\n",
              "    </tr>\n",
              "    <tr>\n",
              "      <th>3</th>\n",
              "      <td>3.0</td>\n",
              "      <td>0.4433</td>\n",
              "      <td>disaster, mutation, screening, co, kidney, adh...</td>\n",
              "      <td>[pollution, become, serious, public, health, i...</td>\n",
              "    </tr>\n",
              "    <tr>\n",
              "      <th>4</th>\n",
              "      <td>4.0</td>\n",
              "      <td>0.8134</td>\n",
              "      <td>public, health, open, tweet, time, vaccination...</td>\n",
              "      <td>[present, framework, manage, coronavirus_disea...</td>\n",
              "    </tr>\n",
              "    <tr>\n",
              "      <th>5</th>\n",
              "      <td>5.0</td>\n",
              "      <td>0.6638</td>\n",
              "      <td>incivility, belief, measure, prep, urban, rabi...</td>\n",
              "      <td>[material, metodo, codigo, vece, habitante, ha...</td>\n",
              "    </tr>\n",
              "    <tr>\n",
              "      <th>6</th>\n",
              "      <td>6.0</td>\n",
              "      <td>0.8335</td>\n",
              "      <td>value, app, resistance, identify, use, analysi...</td>\n",
              "      <td>[mitigate, threat, resistance, african, vector...</td>\n",
              "    </tr>\n",
              "    <tr>\n",
              "      <th>7</th>\n",
              "      <td>7.0</td>\n",
              "      <td>0.6523</td>\n",
              "      <td>care, patient, cancer, implementation, visit, ...</td>\n",
              "      <td>[key, point, question, patient, characteristic...</td>\n",
              "    </tr>\n",
              "    <tr>\n",
              "      <th>8</th>\n",
              "      <td>8.0</td>\n",
              "      <td>0.9489</td>\n",
              "      <td>health, care, patient, system, base, need, ser...</td>\n",
              "      <td>[due, covid, epidemic, many, cardiac, rehabili...</td>\n",
              "    </tr>\n",
              "    <tr>\n",
              "      <th>9</th>\n",
              "      <td>9.0</td>\n",
              "      <td>0.5673</td>\n",
              "      <td>response, digital, resident, subsequent, clini...</td>\n",
              "      <td>[thousand, doctoral, student, early, career, r...</td>\n",
              "    </tr>\n",
              "    <tr>\n",
              "      <th>10</th>\n",
              "      <td>10.0</td>\n",
              "      <td>0.9856</td>\n",
              "      <td>risk, use, study, patient, datum, high, result...</td>\n",
              "      <td>[purpose, asthma, positively, associate, irreg...</td>\n",
              "    </tr>\n",
              "    <tr>\n",
              "      <th>11</th>\n",
              "      <td>11.0</td>\n",
              "      <td>0.9643</td>\n",
              "      <td>study, include, search, review, use, evidence,...</td>\n",
              "      <td>[introduction, grow, ethnic, diversity, make, ...</td>\n",
              "    </tr>\n",
              "    <tr>\n",
              "      <th>12</th>\n",
              "      <td>12.0</td>\n",
              "      <td>0.8464</td>\n",
              "      <td>patient, covid, case, infection, outbreak, ear...</td>\n",
              "      <td>[cause, efficiently, spread, person, person, c...</td>\n",
              "    </tr>\n",
              "    <tr>\n",
              "      <th>13</th>\n",
              "      <td>13.0</td>\n",
              "      <td>0.5389</td>\n",
              "      <td>death, gene, cancer, feasibility, cause, site,...</td>\n",
              "      <td>[pancreatic, cancer, fourth, lead, cause, canc...</td>\n",
              "    </tr>\n",
              "  </tbody>\n",
              "</table>\n",
              "</div>"
            ],
            "text/plain": [
              "    Topic_Num  ...                                               Text\n",
              "0         0.0  ...  [background, system, use, collect, data, sympt...\n",
              "1         1.0  ...  [background, intimate, partner, violence, key,...\n",
              "2         2.0  ...  [introduction, cancer, lead, cause, death, las...\n",
              "3         3.0  ...  [pollution, become, serious, public, health, i...\n",
              "4         4.0  ...  [present, framework, manage, coronavirus_disea...\n",
              "5         5.0  ...  [material, metodo, codigo, vece, habitante, ha...\n",
              "6         6.0  ...  [mitigate, threat, resistance, african, vector...\n",
              "7         7.0  ...  [key, point, question, patient, characteristic...\n",
              "8         8.0  ...  [due, covid, epidemic, many, cardiac, rehabili...\n",
              "9         9.0  ...  [thousand, doctoral, student, early, career, r...\n",
              "10       10.0  ...  [purpose, asthma, positively, associate, irreg...\n",
              "11       11.0  ...  [introduction, grow, ethnic, diversity, make, ...\n",
              "12       12.0  ...  [cause, efficiently, spread, person, person, c...\n",
              "13       13.0  ...  [pancreatic, cancer, fourth, lead, cause, canc...\n",
              "\n",
              "[14 rows x 4 columns]"
            ]
          },
          "metadata": {
            "tags": []
          },
          "execution_count": 78
        }
      ]
    },
    {
      "cell_type": "code",
      "metadata": {
        "id": "F9Xu54zoSRXn",
        "colab_type": "code",
        "colab": {}
      },
      "source": [
        "# Topic distribution across documents"
      ],
      "execution_count": 70,
      "outputs": []
    },
    {
      "cell_type": "code",
      "metadata": {
        "id": "thHxciqRSR0A",
        "colab_type": "code",
        "colab": {
          "base_uri": "https://localhost:8080/",
          "height": 390
        },
        "outputId": "e03c58b1-c91b-40c1-ab4b-31a2ba2f9393"
      },
      "source": [
        "# Number of Documents for Each Topic\n",
        "topic_counts = df_topic_sents_keywords['Dominant_Topic'].value_counts()\n",
        "\n",
        "# Percentage of Documents for Each Topic\n",
        "topic_contribution = round(topic_counts/topic_counts.sum(), 4)\n",
        "\n",
        "# Topic Number and Keywords\n",
        "topic_num_keywords = df_topic_sents_keywords[['Dominant_Topic', 'Topic_Keywords']]\n",
        "\n",
        "# Concatenate Column wise\n",
        "df_dominant_topics = pd.concat([topic_num_keywords, topic_counts, topic_contribution], axis=1)\n",
        "\n",
        "# Change Column names\n",
        "df_dominant_topics.columns = ['Dominant_Topic', 'Topic_Keywords', 'Num_Documents', 'Perc_Documents']\n",
        "\n",
        "# Show\n",
        "df_dominant_topics[:10]\n"
      ],
      "execution_count": 76,
      "outputs": [
        {
          "output_type": "execute_result",
          "data": {
            "text/html": [
              "<div>\n",
              "<style scoped>\n",
              "    .dataframe tbody tr th:only-of-type {\n",
              "        vertical-align: middle;\n",
              "    }\n",
              "\n",
              "    .dataframe tbody tr th {\n",
              "        vertical-align: top;\n",
              "    }\n",
              "\n",
              "    .dataframe thead th {\n",
              "        text-align: right;\n",
              "    }\n",
              "</style>\n",
              "<table border=\"1\" class=\"dataframe\">\n",
              "  <thead>\n",
              "    <tr style=\"text-align: right;\">\n",
              "      <th></th>\n",
              "      <th>Dominant_Topic</th>\n",
              "      <th>Topic_Keywords</th>\n",
              "      <th>Num_Documents</th>\n",
              "      <th>Perc_Documents</th>\n",
              "    </tr>\n",
              "  </thead>\n",
              "  <tbody>\n",
              "    <tr>\n",
              "      <th>0.0</th>\n",
              "      <td>10.0</td>\n",
              "      <td>risk, use, study, patient, datum, high, result...</td>\n",
              "      <td>7.0</td>\n",
              "      <td>0.0185</td>\n",
              "    </tr>\n",
              "    <tr>\n",
              "      <th>1.0</th>\n",
              "      <td>6.0</td>\n",
              "      <td>value, app, resistance, identify, use, analysi...</td>\n",
              "      <td>17.0</td>\n",
              "      <td>0.0450</td>\n",
              "    </tr>\n",
              "    <tr>\n",
              "      <th>2.0</th>\n",
              "      <td>10.0</td>\n",
              "      <td>risk, use, study, patient, datum, high, result...</td>\n",
              "      <td>8.0</td>\n",
              "      <td>0.0212</td>\n",
              "    </tr>\n",
              "    <tr>\n",
              "      <th>3.0</th>\n",
              "      <td>8.0</td>\n",
              "      <td>health, care, patient, system, base, need, ser...</td>\n",
              "      <td>5.0</td>\n",
              "      <td>0.0132</td>\n",
              "    </tr>\n",
              "    <tr>\n",
              "      <th>4.0</th>\n",
              "      <td>8.0</td>\n",
              "      <td>health, care, patient, system, base, need, ser...</td>\n",
              "      <td>9.0</td>\n",
              "      <td>0.0238</td>\n",
              "    </tr>\n",
              "    <tr>\n",
              "      <th>5.0</th>\n",
              "      <td>11.0</td>\n",
              "      <td>study, include, search, review, use, evidence,...</td>\n",
              "      <td>7.0</td>\n",
              "      <td>0.0185</td>\n",
              "    </tr>\n",
              "    <tr>\n",
              "      <th>6.0</th>\n",
              "      <td>8.0</td>\n",
              "      <td>health, care, patient, system, base, need, ser...</td>\n",
              "      <td>15.0</td>\n",
              "      <td>0.0397</td>\n",
              "    </tr>\n",
              "    <tr>\n",
              "      <th>7.0</th>\n",
              "      <td>10.0</td>\n",
              "      <td>risk, use, study, patient, datum, high, result...</td>\n",
              "      <td>14.0</td>\n",
              "      <td>0.0370</td>\n",
              "    </tr>\n",
              "    <tr>\n",
              "      <th>8.0</th>\n",
              "      <td>8.0</td>\n",
              "      <td>health, care, patient, system, base, need, ser...</td>\n",
              "      <td>103.0</td>\n",
              "      <td>0.2725</td>\n",
              "    </tr>\n",
              "    <tr>\n",
              "      <th>9.0</th>\n",
              "      <td>11.0</td>\n",
              "      <td>study, include, search, review, use, evidence,...</td>\n",
              "      <td>4.0</td>\n",
              "      <td>0.0106</td>\n",
              "    </tr>\n",
              "    <tr>\n",
              "      <th>10.0</th>\n",
              "      <td>8.0</td>\n",
              "      <td>health, care, patient, system, base, need, ser...</td>\n",
              "      <td>100.0</td>\n",
              "      <td>0.2646</td>\n",
              "    </tr>\n",
              "  </tbody>\n",
              "</table>\n",
              "</div>"
            ],
            "text/plain": [
              "      Dominant_Topic  ... Perc_Documents\n",
              "0.0             10.0  ...         0.0185\n",
              "1.0              6.0  ...         0.0450\n",
              "2.0             10.0  ...         0.0212\n",
              "3.0              8.0  ...         0.0132\n",
              "4.0              8.0  ...         0.0238\n",
              "5.0             11.0  ...         0.0185\n",
              "6.0              8.0  ...         0.0397\n",
              "7.0             10.0  ...         0.0370\n",
              "8.0              8.0  ...         0.2725\n",
              "9.0             11.0  ...         0.0106\n",
              "10.0             8.0  ...         0.2646\n",
              "\n",
              "[11 rows x 4 columns]"
            ]
          },
          "metadata": {
            "tags": []
          },
          "execution_count": 76
        }
      ]
    },
    {
      "cell_type": "markdown",
      "metadata": {
        "id": "g9aKJaVfcav9",
        "colab_type": "text"
      },
      "source": [
        "# Todo\n",
        "\n"
      ]
    },
    {
      "cell_type": "markdown",
      "metadata": {
        "id": "GnHRgznAjZ0O",
        "colab_type": "text"
      },
      "source": [
        "# Reference"
      ]
    },
    {
      "cell_type": "markdown",
      "metadata": {
        "id": "-1ID0auojZ0O",
        "colab_type": "text"
      },
      "source": [
        "[1]:https://www.youtube.com/watch?v=T05t-SqKArY"
      ]
    },
    {
      "cell_type": "markdown",
      "metadata": {
        "id": "kneeNng5jZ0O",
        "colab_type": "text"
      },
      "source": [
        "[1] LDA: https://www.youtube.com/watch?v=T05t-SqKArY\n",
        "\n",
        "[2] https://www.machinelearningplus.com/nlp/topic-modeling-gensim-python/\n",
        "\n",
        "[3] https://medium.com/analytics-vidhya/topic-modelling-using-latent-dirichlet-allocation-in-scikit-learn-7daf770406c4\n",
        "\n",
        "[4] https://towardsdatascience.com/topic-modeling-articles-with-nmf-8c6b2a227a45\n",
        "\n",
        "[5]https://towardsdatascience.com/unsupervised-nlp-topic-models-as-a-supervised-learning-input-cf8ee9e5cf28#:~:text=LDA%20states%20that%20each%20document,likelihood%20of%20word%20co%2Doccurrence.\n",
        "\n",
        "[6] *An overview of topic modeling and its current applications in bioinformatics*: https://www.ncbi.nlm.nih.gov/pmc/articles/PMC5028368/\n",
        "\n",
        "[7] https://www.machinelearningplus.com/nlp/topic-modeling-visualization-how-to-present-results-lda-models/\n"
      ]
    },
    {
      "cell_type": "code",
      "metadata": {
        "id": "hjCL0wR-IiKs",
        "colab_type": "code",
        "colab": {}
      },
      "source": [
        ""
      ],
      "execution_count": null,
      "outputs": []
    }
  ]
}