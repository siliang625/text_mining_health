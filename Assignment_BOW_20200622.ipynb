{
 "cells": [
  {
   "cell_type": "markdown",
   "metadata": {},
   "source": [
    "# Assignment"
   ]
  },
  {
   "cell_type": "code",
   "execution_count": 16,
   "metadata": {},
   "outputs": [
    {
     "name": "stdout",
     "output_type": "stream",
     "text": [
      "Requirement already satisfied: nltk in /home/ec2-user/anaconda3/envs/python3/lib/python3.6/site-packages (3.3)\n",
      "Requirement already satisfied: six in /home/ec2-user/anaconda3/envs/python3/lib/python3.6/site-packages (from nltk) (1.14.0)\n"
     ]
    }
   ],
   "source": [
    "#!pip install nltk"
   ]
  },
  {
   "cell_type": "code",
   "execution_count": 231,
   "metadata": {},
   "outputs": [],
   "source": [
    "import pandas as pd\n",
    "import numpy as np\n",
    "import os\n",
    "import sklearn\n",
    "np.set_printoptions(threshold=sys.maxsize)\n",
    "from sklearn.model_selection import train_test_split\n",
    "import re\n",
    "from glob import glob\n",
    "import nltk\n",
    "from nltk.corpus import stopwords \n",
    "from nltk.tokenize import word_tokenize "
   ]
  },
  {
   "cell_type": "code",
   "execution_count": 232,
   "metadata": {},
   "outputs": [
    {
     "name": "stdout",
     "output_type": "stream",
     "text": [
      "[nltk_data] Downloading package stopwords to\n",
      "[nltk_data]     /home/ec2-user/nltk_data...\n",
      "[nltk_data]   Package stopwords is already up-to-date!\n",
      "[nltk_data] Downloading package punkt to /home/ec2-user/nltk_data...\n",
      "[nltk_data]   Package punkt is already up-to-date!\n"
     ]
    },
    {
     "data": {
      "text/plain": [
       "True"
      ]
     },
     "execution_count": 232,
     "metadata": {},
     "output_type": "execute_result"
    }
   ],
   "source": [
    "nltk.download('stopwords')\n",
    "nltk.download('punkt')\n",
    "#print(stopwords.words('english'))"
   ]
  },
  {
   "cell_type": "code",
   "execution_count": 237,
   "metadata": {},
   "outputs": [],
   "source": [
    "path = \"./sample_50/\""
   ]
  },
  {
   "cell_type": "code",
   "execution_count": 233,
   "metadata": {},
   "outputs": [],
   "source": [
    "def get_authors_count(soup):\n",
    "    author_count = 0\n",
    "    \n",
    "    contrib = soup.find('contrib-group')\n",
    "    if contrib is None:\n",
    "        return author_count\n",
    "    \n",
    "    authors = contrib.find_all('contrib', **{'contrib-type':\"author\"})\n",
    "    for author in authors:\n",
    "        name = author.find('name')\n",
    "        if name is not None:\n",
    "            #author_list.append(' '.join([author.find('surname').text, author.find('given-names').text]))\n",
    "            author_count += 1\n",
    "\n",
    "    return author_count"
   ]
  },
  {
   "cell_type": "code",
   "execution_count": 101,
   "metadata": {},
   "outputs": [],
   "source": [
    "def get_abstract(soup):\n",
    "    if soup.find(\"abstract\") is None:\n",
    "        return \"NaN\"\n",
    "    \n",
    "    return soup.find('abstract').text"
   ]
  },
  {
   "cell_type": "code",
   "execution_count": 234,
   "metadata": {},
   "outputs": [],
   "source": [
    "def get_reference(soup):\n",
    "    reference_count = 0\n",
    "    \n",
    "    contrib = soup.find('ref-list')\n",
    "    if contrib is None:\n",
    "        #print(\"here\")\n",
    "        return reference_count\n",
    "    \n",
    "    reference_count = len(contrib.find_all('ref'))\n",
    "    \n",
    "    #print(reference_count)\n",
    "    return reference_count"
   ]
  },
  {
   "cell_type": "code",
   "execution_count": 235,
   "metadata": {},
   "outputs": [],
   "source": [
    "def get_section(soup):\n",
    "    reference_count = 0\n",
    "    \n",
    "    contrib = soup.find('body')\n",
    "    if contrib is None:\n",
    "        #print(\"here\")\n",
    "        return reference_count\n",
    "    \n",
    "    reference_count = len(contrib.find_all('sec'))\n",
    "    \n",
    "    #print(reference_count)\n",
    "    return reference_count"
   ]
  },
  {
   "cell_type": "code",
   "execution_count": 236,
   "metadata": {},
   "outputs": [],
   "source": [
    "from pathlib import Path\n",
    "import glob\n",
    "from bs4 import BeautifulSoup"
   ]
  },
  {
   "cell_type": "code",
   "execution_count": 238,
   "metadata": {},
   "outputs": [],
   "source": [
    "def get_sample_data(path):\n",
    "    pathlist = Path(path).glob('**/*.xml')\n",
    "    abstracts,labels = [],[]\n",
    "    for path in pathlist:\n",
    "        # because path is object not string\n",
    "        path_in_str = str(path)\n",
    "        soup = BeautifulSoup(open('./'+ path_in_str, 'r'))\n",
    "        labels.append(get_authors_count(soup))\n",
    "        abstracts.append(get_abstract(soup))\n",
    "#         reference.append(get_reference(soup))\n",
    "#         sections.append(get_section(soup))\n",
    "\n",
    "    return np.array(abstracts), np.array(labels)\n"
   ]
  },
  {
   "cell_type": "code",
   "execution_count": 246,
   "metadata": {},
   "outputs": [
    {
     "name": "stderr",
     "output_type": "stream",
     "text": [
      "/home/ec2-user/anaconda3/envs/python3/lib/python3.6/site-packages/bs4/__init__.py:181: UserWarning: No parser was explicitly specified, so I'm using the best available HTML parser for this system (\"lxml\"). This usually isn't a problem, but if you run this code on another system, or in a different virtual environment, it may use a different parser and behave differently.\n",
      "\n",
      "The code that caused this warning is on line 193 of the file /home/ec2-user/anaconda3/envs/python3/lib/python3.6/runpy.py. To get rid of this warning, change code that looks like this:\n",
      "\n",
      " BeautifulSoup(YOUR_MARKUP})\n",
      "\n",
      "to this:\n",
      "\n",
      " BeautifulSoup(YOUR_MARKUP, \"lxml\")\n",
      "\n",
      "  markup_type=markup_type))\n"
     ]
    }
   ],
   "source": [
    "X, y = get_sample_data(path)\n",
    "y = [1 if each >=5 else 0 for each in y]"
   ]
  },
  {
   "cell_type": "markdown",
   "metadata": {},
   "source": [
    "## Assignment1"
   ]
  },
  {
   "cell_type": "markdown",
   "metadata": {},
   "source": [
    "1) build classification models using Bag-Of-Words (unigram) features from abstracts only, and making the labels the # of authors (This task doesn’t make sense at all, but as a practice, just try). To make it classification (not regression), make it binary “many” (equal or more than 5 authors) and “few” (less than 5 authors). For classification algorithms, use logistic regression and SVM. "
   ]
  },
  {
   "cell_type": "code",
   "execution_count": 120,
   "metadata": {},
   "outputs": [
    {
     "data": {
      "text/plain": [
       "CountVectorizer(analyzer='word', binary=False, decode_error='strict',\n",
       "                dtype=<class 'numpy.int64'>, encoding='utf-8', input='content',\n",
       "                lowercase=True, max_df=1.0, max_features=None, min_df=1,\n",
       "                ngram_range=(1, 1), preprocessor=None, stop_words=None,\n",
       "                strip_accents=None, token_pattern='(?u)\\\\b\\\\w\\\\w+\\\\b',\n",
       "                tokenizer=None, vocabulary=None)"
      ]
     },
     "execution_count": 120,
     "metadata": {},
     "output_type": "execute_result"
    }
   ],
   "source": [
    "from sklearn.feature_extraction.text import CountVectorizer\n",
    "count_vect = CountVectorizer()\n",
    "count_vect.fit(X)"
   ]
  },
  {
   "cell_type": "code",
   "execution_count": 121,
   "metadata": {
    "collapsed": true
   },
   "outputs": [
    {
     "name": "stdout",
     "output_type": "stream",
     "text": [
      "vocab size: 2584\n",
      "vocab content:\n",
      " {'community': 548, 'acquired': 172, 'lower': 1418, 'respiratory': 2020, 'tract': 2393, 'infections': 1248, 'lrti': 1422, 'and': 266, 'pneumonia': 1763, 'cap': 430, 'are': 290, 'common': 543, 'causes': 459, 'of': 1626, 'morbidity': 1533, 'mortality': 1536, 'among': 252, 'those': 2365, 'aged': 222, '65': 112, 'years': 2579, 'growing': 1097, 'population': 1773, 'in': 1202, 'many': 1444, 'countries': 651, 'detailed': 734, 'incidence': 1207, 'estimates': 906, 'for': 1028, 'these': 2353, 'older': 1629, 'adults': 208, 'the': 2338, 'united': 2449, 'kingdom': 1340, 'uk': 2430, 'lacking': 1351, 'we': 2530, 'used': 2470, 'electronic': 848, 'general': 1068, 'practice': 1788, 'records': 1950, 'from': 1048, 'clinical': 504, 'research': 2010, 'data': 680, 'link': 1397, 'linked': 1399, 'to': 2377, 'hospital': 1145, 'episode': 899, 'statistics': 2233, 'inpatient': 1261, 'estimate': 905, 'between': 384, 'april': 288, '1997': 35, 'march': 1446, '2011': 48, 'by': 416, 'age': 221, 'sex': 2132, 'region': 1973, 'deprivation': 721, 'quintile': 1904, 'levels': 1375, 'antibiotic': 275, 'prescribing': 1813, 'were': 2542, 'also': 245, 'assessed': 311, 'increased': 1221, 'with': 2561, 'fluctuations': 1015, 'over': 1682, 'time': 2373, 'was': 2525, 'higher': 1132, 'men': 1478, 'than': 2336, 'women': 2565, '70': 121, '92': 140, '21': 51, 'episodes': 900, '1000': 9, 'person': 1738, '69': 118, '187': 30, '91': 139, '85': 133, '89': 137, 'more': 1534, 'markedly': 1447, '81': 130, 'respectively': 2019, 'both': 401, 'infection': 1247, 'groups': 1096, 'increases': 1222, 'attenuated': 331, 'after': 218, 'standardisation': 2223, 'indicating': 1233, 'that': 2337, 'rises': 2049, 'largely': 1355, 'due': 813, 'aging': 224, 'rates': 1919, 'most': 1537, 'deprived': 722, 'around': 295, 'least': 1366, 'generally': 1069, 'north': 1598, 'england': 884, 'gp': 1090, 'high': 1131, 'but': 415, 'mostly': 1538, 'immediate': 1184, 'hospitalisation': 1146, 'this': 2363, 'is': 1321, 'first': 1008, 'study': 2257, 'provide': 1874, 'long': 1415, 'term': 2326, 'individuals': 1239, 'taking': 2309, 'at': 324, 'risk': 2050, 'into': 1301, 'account': 163, 'summary': 2275, 'commonly': 544, 'presented': 1819, 'group': 1095, 'considerably': 606, 'underestimates': 2436, 'particularly': 1704, 'within': 2562, 'our': 1670, 'methodology': 1487, 'findings': 1005, 'likely': 1388, 'be': 360, 'highly': 1135, 'relevant': 1987, 'health': 1112, 'planners': 1760, 'researchers': 2011, 'other': 1668, 'populations': 1774, 'using': 2476, 'large': 1354, 'social': 2178, 'media': 1466, 'database': 681, 'yahoo': 2577, 'answers': 274, 'explored': 950, 'postings': 1784, 'an': 257, 'online': 1635, 'forum': 1035, 'which': 2550, 'posters': 1783, 'asked': 306, 'whether': 2549, 'their': 2339, 'height': 1116, 'weight': 2537, 'qualify': 1891, 'themselves': 2342, 'as': 303, 'skinny': 2165, 'thin': 2356, 'fat': 977, 'or': 1655, 'obese': 1611, 'across': 173, 'topics': 2385, 'better': 383, 'understand': 2439, 'average': 342, 'body': 395, 'mass': 1449, 'index': 1229, 'bmi': 394, 'one': 1632, 'county': 653, 'might': 1494, 'some': 2188, 'ways': 2529, 'protective': 1869, 'mental': 1479, 'physical': 1749, 'instance': 1266, 'proportions': 1861, 'people': 1721, 'predicts': 1804, 'bullying': 412, 'am': 249, 'questions': 1903, 'normal': 1597, 'relative': 1984, 'his': 1136, 'her': 1124, 'actual': 181, 'asking': 307, 'they': 2354, 'not': 1599, 'actually': 182, 'who': 2552, 'overweight': 1685, 'significantly': 2150, 'future': 1060, 'ask': 305, 'advice': 212, 'about': 151, 'thinner': 2358, 'moreover': 1535, 'mean': 1457, 'level': 1374, 'decreased': 699, 'then': 2343, 'again': 219, 'shape': 2135, 'curve': 673, 'regardless': 1972, 'where': 2547, 'lived': 1405, 'had': 1103, 'healthy': 1114, 'range': 1914, 'subsequently': 2262, 'post': 1781, 'on': 1630, 'problems': 1838, 'such': 2268, 'declined': 697, 'greatly': 1094, 'suggest': 2270, 'residing': 2014, 'counties': 650, 'may': 1456, 'have': 1109, 'living': 1407, 'measures': 1462, 'improvements': 1200, 'modest': 1524, 'purpose': 1890, 'involve': 1313, 'elderly': 844, 'during': 815, 'development': 744, 'mobile': 1514, 'interface': 1286, 'monitoring': 1530, 'system': 2298, 'provides': 1878, 'feedback': 989, 'them': 2340, 'regarding': 1971, 'changes': 474, 'functioning': 1056, 'test': 2328, 'pilot': 1754, 'methods': 1488, 'participants': 1700, 'iterative': 1326, 'user': 2473, 'centered': 465, 'process': 1841, 'consisted': 611, 'following': 1025, 'phases': 1745, 'selection': 2107, 'representatives': 2005, 'analysis': 260, 'users': 2474, 'context': 627, 'identification': 1169, 'requirements': 2009, 'evaluation': 913, 'lab': 1346, 'tested': 2329, 'five': 1011, 'patients': 1713, 'recruited': 1953, 'via': 2506, 'geriatric': 1077, 'outpatient': 1677, 'clinic': 503, 'bathroom': 358, 'scale': 2075, 'monitor': 1528, 'balance': 350, 'phone': 1747, 'activity': 180, 'daily': 677, 'basis': 357, 'six': 2160, 'weeks': 2536, 'personalized': 1740, 'provided': 1875, 'usability': 2468, 'evaluated': 911, 'modified': 1525, 'version': 2502, 'questionnaire': 1902, 'pssuq': 1883, 'scores': 2087, 'indicated': 1232, 'interviews': 1300, 'conducted': 587, 'gain': 1062, 'insight': 1264, 'experiences': 943, 'results': 2033, 'developed': 742, 'uses': 2475, 'colors': 536, 'emoticons': 858, 'written': 2574, 'spoken': 2210, 'text': 2332, 'messages': 1482, 'rated': 1918, 'score': 2085, 'standard': 2222, 'deviation': 747, '90': 138, 'revealed': 2037, 'liked': 1386, 'appreciated': 285, 'it': 1323, 'signaled': 2145, 'however': 1153, 'negatively': 1573, 'influenced': 1251, 'few': 993, 'technical': 2317, 'errors': 902, 'conclusion': 582, 'involvement': 1315, 'resulted': 2031, 'good': 1086, 'needs': 1571, 'optimized': 1651, 'before': 365, 'can': 425, 'support': 2279, 'self': 2108, 'management': 1439, 'information': 1252, 'has': 1108, 'primarily': 1829, 'focused': 1021, 'parents': 1696, 'children': 487, 'chronic': 491, 'illnesses': 1179, 'consumers': 622, 'there': 2349, 'limited': 1392, 'adolescents': 204, 'particular': 1703, 'underserved': 2438, 'communities': 547, 'primary': 1830, 'objective': 1612, 'qualitative': 1892, 'urban': 2464, 'how': 1152, 'met': 1483, 'focus': 1020, 'gather': 1065, 'sample': 2069, 'ethnically': 908, 'diverse': 801, 'analyzed': 264, 'kriekelas': 1345, 'seeking': 2102, 'behavior': 369, 'framework': 1041, 'examine': 925, 'report': 2001, 'deferred': 701, 'several': 2128, 'different': 762, 'sources': 2194, 'satisfy': 2072, 'depending': 720, 'acuity': 183, 'severity': 2131, 'congruent': 599, 'understanding': 2440, 'use': 2469, 'technology': 2320, 'meet': 1475, 'what': 2545, 'order': 1657, 'preference': 1806, 'will': 2559, 'critical': 665, 'find': 1003, 'useful': 2471, 'potential': 1785, 'decrease': 698, 'disparities': 794, 'nan': 1560, 'four': 1038, 'trial': 2409, 'widely': 2556, 'testing': 2330, 'drugs': 812, 'surgery': 2283, 'diagnosis': 752, 'western': 2544, 'medicine': 1472, 'wm': 2564, 'staged': 2218, 'helps': 1121, 'protect': 1867, 'unnecessary': 2456, 'harms': 1107, 'control': 633, 'costs': 646, 'while': 2551, 'assessing': 312, 'safety': 2065, 'efficacy': 836, 'paper': 1691, 'adapt': 186, 'phase': 1744, 'trials': 2410, 'traditional': 2394, 'chinese': 489, 'tcm': 2314, 'been': 364, 'humans': 1157, 'thousands': 2368, 'preliminary': 1811, 'evidence': 918, 'its': 1327, 'therapies': 2347, 'cases': 452, 'start': 2225, 'directly': 777, 'preclinical': 1795, 'laboratory': 1348, 'firmly': 1007, 'demonstrated': 713, 'furthermore': 1059, 'unlike': 2454, 'investigational': 1310, 'various': 2498, 'certainty': 466, 'thus': 2371, 'should': 2137, 'enter': 892, 'same': 2068, 'stage': 2217, 'clarifying': 496, 'refining': 1966, 'pico': 1753, 'intervention': 1296, 'comparator': 551, 'outcome': 1672, 'important': 1195, 'part': 1698, 'newly': 1586, 'designed': 731, 'incommensurability': 1214, 'additional': 191, 'difficulties': 766, 'defining': 703, 'choosing': 490, 'suggestions': 2272, 'made': 1425, 'observational': 1614, 'studies': 2256, 'seem': 2103, 'greater': 1093, 'role': 2054, 'although': 248, 'must': 1554, 'confirmed': 596, 'randomized': 1912, 'background': 349, 'full': 1053, 'burden': 413, 'condition': 585, 'need': 1569, 'disease': 790, 'impacts': 1188, 'individual': 1237, 'ongoing': 1634, 'revision': 2041, 'international': 1289, 'classification': 498, 'diseases': 791, 'icd': 1163, 'opportunity': 1645, 'integrate': 1275, 'through': 2370, 'disability': 779, 'icf': 1164, 'discussion': 788, 'includes': 1210, 'adding': 189, 'way': 2528, 'properties': 1859, 'capture': 437, 'impact': 1187, 'content': 626, 'model': 1516, 'structure': 2252, 'required': 2008, 'each': 819, '11': 13, 'entity': 894, 'component': 566, 'activities': 179, 'participation': 1702, 'domains': 805, 'included': 1209, 'value': 2492, 'set': 2122, 'joint': 1330, 'could': 647, 'create': 660, 'integrated': 1276, 'would': 2573, 'benefit': 381, 'implementation': 1190, 'language': 1353, 'based': 354, 'record': 1946, 'healthcare': 1113, 'care': 444, 'recognised': 1942, 'integral': 1274, 'country': 652, 'measuring': 1463, 'hospitalisations': 1147, 'potentially': 1786, 'avoided': 343, 'quality': 1893, 'accessible': 160, 'indicator': 1234, 'well': 2540, 'services': 2120, 'performing': 1729, 'review': 2038, 'interested': 1284, 'association': 322, 'related': 1981, 'resourcing': 2017, 'if': 1175, 'peer': 1720, 'reviewed': 2039, 'english': 885, 'published': 1887, '2002': 40, '2012': 49, 'modelled': 1518, 'function': 1054, 'phc': 1746, 'identified': 1170, 'type': 2428, 'diabetes': 750, 'measure': 1458, 'access': 159, 'proxy': 1882, 'predominant': 1805, 'pay': 1715, 'excluded': 932, 'eliminate': 853, 'patient': 1712, 'financial': 1002, 'barriers': 353, 'utilisation': 2478, 'articles': 302, 'systematically': 2299, 'inclusion': 1212, 'criteria': 664, 'arrive': 297, 'final': 999, 'search': 2091, 'strategy': 2244, '1778': 28, 'econlit': 826, 'medline': 1474, 'google': 1087, 'scholar': 2080, 'databases': 682, 'ten': 2324, 'subject': 2260, 'resources': 2016, 'quantified': 1895, 'workforce': 2568, 'either': 843, 'medical': 1468, 'nursing': 1608, 'numbers': 1604, 'number': 1603, 'service': 2119, 'availability': 340, 'operating': 1640, 'hours': 1151, 'size': 2163, 'single': 2158, 'practitioner': 1790, 'larger': 1356, 'disciplines': 782, 'onsite': 1638, 'incentive': 1205, 'improve': 1197, 'acsc': 174, 'mixed': 1512, 'found': 1037, 'less': 1372, 'per': 1722, 'doctor': 803, 'associated': 321, 'ambulatory': 250, 'sensitive': 2109, 'opposite': 1646, 'did': 756, 'significant': 2149, 'two': 2427, 'when': 2546, 'categorised': 454, 'gps': 1091, 'capita': 436, 'out': 1671, 'visits': 2514, 'fewer': 994, 'finding': 1004, 'remained': 1995, 'only': 1636, 'adjusted': 198, 'status': 2234, 'incentives': 1206, 'reported': 2002, 'seven': 2127, '12': 14, 'relationship': 1982, 'inverse': 1306, 'collective': 532, 'inconclusive': 1216, 'reduced': 1959, 'characteristics': 479, 'improved': 1198, 'showed': 2139, 'associations': 323, 'adjustment': 200, 'varied': 2496, 'contribute': 631, 'inconsistent': 1217, 'make': 1431, 'difficult': 765, 'interpret': 1291, 'ethnic': 907, 'minority': 1501, 'low': 1417, 'income': 1213, 'live': 1404, 'physically': 1750, 'inactive': 1203, 'majority': 1430, 'harder': 1106, 'reach': 1924, 'promotion': 1857, 'programs': 1854, 'targeting': 2312, 'recruitment': 1956, 'channels': 476, 'execution': 933, 'increase': 1220, 'receptivity': 1940, 'program': 1853, 'specific': 2202, 'key': 1336, 'figures': 998, 'ghanaian': 1080, 'antillean': 277, 'surinamese': 2285, 'mothers': 1539, 'invitation': 1312, 'exercise': 935, 'determine': 738, 'amsterdam': 256, 'netherlands': 1579, 'recruit': 1952, 'employed': 863, 'organizations': 1662, 'matched': 1451, 'recruiters': 1955, 'dutch': 816, 'educators': 830, 'measured': 1459, 'reply': 2000, 'cards': 443, 'attendance': 326, 'observations': 1615, 'interviewed': 1299, '14': 19, '32': 67, 'respond': 2021, 'channel': 475, 'recruiter': 1954, 'analyze': 263, 'successful': 2266, 'so': 2177, 'close': 512, 'knit': 1342, 'retaining': 2034, 'own': 1686, 'culture': 670, 'having': 1110, 'poorer': 1772, 'comprehension': 571, 'because': 361, 'familiar': 972, 'trusted': 2415, 'translator': 2401, 'motivator': 1540, 'enthusiastic': 893, 'encouraging': 869, 'able': 148, 'message': 1481, 'tailoring': 2306, 'expert': 947, 'preferred': 1808, 'credibility': 661, 'professionalism': 1848, 'conclusions': 583, 'seems': 2104, 'organized': 1663, 'fluency': 1016, 'local': 1410, 'enhance': 886, 'needed': 1570, 'effective': 832, 'delivery': 710, 'objectives': 1613, 'demonstrate': 712, 'survival': 2291, 'sustained': 2293, 'virological': 2511, 'response': 2025, 'svr': 2294, 'net': 1578, 'hepatitis': 1122, 'virus': 2512, 'hcv': 1111, 'therapy': 2348, 'design': 730, 'setting': 2124, 'retrospective': 2035, 'usa': 2467, '242': 56, 'receiving': 1937, '2001': 39, '2006': 43, 'secondary': 2094, 'including': 1211, 'recorded': 1947, 'univariate': 2450, 'multivariate': 1553, 'analyses': 259, 'performed': 1728, 'identify': 1172, 'predictors': 1803, 'year': 2578, 'total': 2386, 'eligible': 852, 'treated': 2404, 'treatment': 2405, 'completed': 561, '197': 33, '43': 81, 'discontinuing': 783, 'early': 821, 'adverse': 211, 'events': 916, 'non': 1593, 'compliance': 564, 'complications': 565, 'frequent': 1045, 'three': 2369, 'deaths': 691, 'achieved': 169, '83': 131, '34': 70, 'independent': 1228, 'likelihood': 1387, 'achieving': 170, 'african': 217, 'american': 251, 'race': 1906, '20': 38, '95': 142, 'ci': 492, '07': 6, '54': 96, 'genotype': 1073, '25': 58, '13': 18, '50': 89, 'presence': 1816, 'cirrhosis': 494, '26': 60, '58': 102, '98': 144, 'median': 1467, 'follow': 1024, 'up': 2461, '72': 123, 'months': 1532, '71': 122, 'responders': 2024, 'known': 1344, '36': 71, 'predictor': 1802, 'hr': 1154, '03': 1, '52': 92, 'hypoalbuminaemia': 1159, 'histological': 1138, 'develops': 746, 'combination': 540, 'careful': 445, 'outcomes': 1673, 'without': 2563, 'compromising': 574, 'endeavours': 871, 'hospitals': 1149, 'areas': 291, 'limitations': 1391, 'smoking': 2176, 'prevalence': 1823, 'major': 1429, 'public': 1886, 'concern': 577, 'disorders': 793, 'facilitated': 966, 'ehr': 840, 'held': 1117, 'structured': 2253, 'fields': 996, 'usefully': 2472, 'supplemented': 2277, 'open': 1639, 'correlates': 643, 'derived': 725, 'current': 671, 'severe': 2129, 'illness': 1178, 'investigated': 1308, 'all': 235, 'referred': 1964, '2008': 45, 'received': 1934, 'schizophreniform': 2079, 'bipolar': 389, 'disorder': 792, '15': 23, 'active': 177, '555': 99, 'cris': 663, 'ie': 1174, 'application': 282, 'architecture': 289, 'engineering': 883, 'gate': 1064, 'natural': 1562, 'processing': 1844, 'software': 2182, 'extract': 961, 'coverage': 657, 'demographic': 711, 'analysed': 258, '64': 111, 'supplementing': 2278, '59': 103, '995': 146, 'whom': 2553, 'available': 341, 'younger': 2581, 'below': 379, 'male': 1435, 'cohabiting': 522, 'substantially': 2264, 'routine': 2058, 'above': 152, 'alone': 242, 'helpful': 1119, 'improving': 1201, 'lifestyle': 1382, 'behaviour': 372, 'challenge': 470, 'abstract': 154, 'field': 995, 'behavioral': 370, 'science': 2082, 'produced': 1845, 'myriad': 1558, 'change': 473, 'strategies': 2243, 'leveraged': 1377, 'human': 1156, 'delivered': 707, 'interventions': 1297, 'unfortunately': 2445, 'heavily': 1115, 'constrained': 618, 'provider': 1876, 'ability': 147, 'intervene': 1295, 'upon': 2463, 'real': 1929, 'variable': 2494, 'adherence': 196, 'poor': 1771, 'third': 2360, 'party': 1709, 'digital': 768, 'technologies': 2319, 'phones': 1748, 'sensors': 2111, 'networks': 1581, 'being': 375, 'tools': 2383, 'recent': 1938, 'explosion': 951, 'industry': 1241, 'attention': 330, 'novel': 1601, 'exciting': 931, 'far': 974, 'outpaced': 1676, 'special': 2197, 'section': 2095, 'translational': 2400, 'smartphones': 2174, 'new': 1585, 'features': 986, 'collection': 531, 'leverage': 1376, 'propose': 1862, 'second': 2093, 'team': 2316, 'approach': 286, 'developmental': 745, 'fourth': 1039, 'scientists': 2084, 'struck': 2250, 'fast': 975, 'pace': 1689, 'innovation': 1260, 'much': 1545, 'slower': 2170, 'fifth': 997, 'informing': 1253, 'facilitating': 967, 'movement': 1543, 'differ': 759, 'reliably': 1989, 'degree': 704, 'favor': 983, 'family': 973, 'friends': 1047, 'members': 1477, 'strangers': 2242, 'outsiders': 1681, 'last': 1359, 'decade': 692, 'begun': 368, 'economic': 827, 'evolutionary': 920, 'hypotheses': 1160, 'cross': 666, 'differences': 761, 'parochialism': 1697, 'outline': 1675, 'theories': 2345, 'attempts': 325, 'discuss': 786, 'methodological': 1486, 'challenges': 471, 'prior': 1832, 'suitability': 2274, 'nlp': 1588, 'identifying': 1173, 'chest': 482, 'radiograph': 1908, 'cxr': 675, 'reports': 2003, 'evaluate': 910, 'intensive': 1279, 'unit': 2448, 'icu': 1166, '194': 32, '615': 107, 'empirically': 862, 'lexicon': 1379, 'categorize': 455, 'terms': 2327, 'uncertainty': 2433, 'profiles': 1850, 'encoded': 867, 'items': 1325, 'unique': 2447, 'queries': 1899, 'algorithm': 233, 'assign': 315, 'automated': 337, 'interpretations': 1292, 'positive': 1777, 'possible': 1780, 'negative': 1572, 'query': 1900, 'profile': 1849, 'performance': 1727, '466': 86, 'interpreted': 1293, 'physician': 1751, 'consensus': 602, 'subgroups': 2259, 'admitted': 203, 'rheumatologic': 2044, 'endocrine': 875, 'diagnoses': 751, 'deemed': 700, '51': 91, '41': 78, '105': 11, '31': 66, '534': 94, '322': 68, 'hits': 1140, 'comprised': 573, 'twenty': 2424, 'rules': 2061, 'probability': 1836, 'steps': 2236, 'assigned': 316, 'validation': 2490, 'sensitivity': 2110, 'specificity': 2203, '93': 141, 'predictive': 1800, 'differentiating': 764, 'misclassifying': 1505, 'frank': 1042, 'tool': 2382, 'demonstrates': 714, 'promise': 1855, 'assigning': 317, 'leveraging': 1378, 'interactions': 1282, 'complex': 563, 'behavioural': 373, 'actions': 176, 'mammalians': 1437, 'rodents': 2053, 'recently': 1939, 'mouse': 1541, 'models': 1519, 'increasingly': 1224, 'biological': 388, 'pathologies': 1711, 'abnormalities': 149, 'reliable': 1988, 'flexible': 1012, 'automatic': 338, 'systems': 2300, 'precisely': 1794, 'quantify': 1896, 'multiple': 1550, 'mice': 1491, 'still': 2239, 'missing': 1511, 'here': 1125, 'present': 1817, 'built': 411, 'components': 567, 'module': 1526, 'accurately': 166, 'track': 2391, 'position': 1776, 'interacting': 1281, 'videos': 2508, 'fur': 1057, 'colour': 537, 'light': 1384, 'settings': 2125, 'automatically': 339, 'characterise': 477, 'behaviours': 374, 'obtained': 1620, 'deriving': 726, 'specialised': 2198, 'spatio': 2196, 'temporal': 2323, 'tracker': 2392, 'output': 1678, 'further': 1058, 'learning': 1364, 'example': 927, 'classifier': 500, 'frame': 1040, 'cage': 419, 'learnt': 1365, 'examples': 928, 'given': 1082, 'experimenters': 946, 'validated': 2489, 'extensive': 957, 'experimental': 945, 'involving': 1317, 'arena': 292, 'compare': 552, 'graders': 1092, 'obtaining': 1621, 'comparable': 550, 'show': 2138, 'applicability': 281, 'technique': 2318, 'compared': 553, 'solution': 2184, 'proposed': 1863, 'literature': 1402, 'similarly': 2154, 'us': 2466, 'addresses': 194, 'problem': 1837, 'finally': 1000, 'differentiate': 763, 'c57b': 417, '6j': 120, 'reference': 1963, 'inbred': 1204, 'strain': 2241, 'btbr': 408, 'tf': 2335, 'autism': 336, 'spectrum': 2205, 'overall': 1683, 'validity': 2491, 'effectiveness': 834, 'machine': 1424, 'detection': 735, 'versatility': 2501, 'deal': 689, 'scenarios': 2077, 'utility': 2479, 'step': 2235, 'tuberculin': 2419, 'skin': 2164, 'tuberculosis': 2420, 'established': 904, 'proportion': 1860, 'determinants': 737, 'mm': 1513, 'initial': 1256, 'tst': 2417, 'evaluating': 912, 'boosting': 398, 'repeat': 1999, '18': 29, 'attending': 329, 'schools': 2081, 'colleges': 534, 'underwent': 2442, 'later': 1360, 'done': 806, '6608': 113, '6643': 115, '1257': 16, '19': 31, 'under': 2435, 'nutrition': 1610, 'bcg': 359, 'bacillus': 346, 'calmette': 423, 'guerin': 1099, 'scar': 2076, 'socio': 2179, 'class': 497, 'seen': 2105, '145': 20, '1098': 12, 'conservative': 603, 'cutoff': 674, '10': 7, 'increment': 1225, '47': 87, 'history': 1139, 'exposure': 953, 'tb': 2313, 'case': 451, 'enhanced': 887, 'relatively': 1985, 'result': 2030, 'alter': 246, 'positivity': 1778, 'boost': 396, 'immune': 1186, 'prevents': 1826, 'misclassified': 1504, 'converters': 639, 'surveys': 2290, 'serial': 2114, 'distinguish': 797, 'boosters': 397, 'indeed': 1227, 'attenders': 328, 'visit': 2513, 'exceptionally': 930, 'frequently': 1046, 'usually': 2477, 'transitory': 2399, 'become': 362, 'persistent': 1737, 'clinically': 505, 'prediction': 1799, 'target': 2311, 'underlying': 2437, 'scientifically': 2083, 'previously': 1828, 'predict': 1796, 'aim': 228, 'validate': 2488, 'existing': 937, 'solely': 2183, 'practitioners': 1791, 'applied': 284, '045': 3, '2003': 41, '2005': 42, '2009': 46, 'original': 1665, 'derivation': 723, 'network': 1580, '032': 2, 'another': 273, 'smile': 2175, '2007': 44, '462': 84, 'geographical': 1075, 'improvement': 1199, 'studied': 2255, 'medically': 1469, 'unexplained': 2444, 'prescriptions': 1815, 'psychoactive': 1884, 'antibiotics': 276, 'sets': 2123, 'combined': 541, '539': 95, 'expressed': 954, 'discrimination': 785, 'histograms': 1137, 'predicted': 1797, 'values': 2493, 'concordance': 584, 'statistic': 2230, 'calibration': 422, 'slope': 2168, 'ideal': 1168, 'hosmer': 1144, 'lemeshow': 1371, 'tests': 2331, '67': 116, 'discriminated': 784, 'moderately': 1520, 'percent': 1724, '62': 109, '63': 110, '99': 145, 'originally': 1666, 'slopes': 2169, '84': 132, 'importantly': 1196, 'similar': 2153, 'external': 959, 'prospectively': 1865, 'describe': 727, 'parental': 1695, 'vaccine': 2485, 'decision': 694, 'making': 1433, 'behaviors': 371, 'characterize': 480, 'trust': 2414, 'varying': 2499, 'childhood': 486, 'vaccination': 2483, 'kaiser': 1333, 'permanente': 1736, 'colorado': 535, 'plan': 1758, 'hesitant': 1127, 'survey': 2288, 'mailed': 1426, 'stratified': 2245, '854': 134, 'accepted': 158, '500': 90, 'delayed': 706, '227': 53, 'refused': 1970, '127': 17, 'vaccinations': 2484, 'chi': 483, 'square': 2213, 'multivariable': 1552, 'logistic': 1414, 'regression': 1979, 'themes': 2341, 'emerged': 854, 'begins': 367, 'prenatally': 1812, 'evolving': 921, 'pediatrician': 1719, 'lack': 1350, 'vaccines': 2486, 'rate': 1917, '443': 82, 'times': 2375, 'began': 366, 'thinking': 2357, 'child': 485, 'born': 400, 'constantly': 617, 're': 1923, 'decisions': 695, 'tended': 2325, 'trusting': 2416, 'examination': 924, 'believe': 377, 'balanced': 351, 'benefits': 382, 'risks': 2051, 'implications': 1193, 'address': 193, 'concerns': 579, 'pregnancy': 1809, 'often': 1628, 'infancy': 1243, 'cover': 656, 'profit': 1851, 'environment': 896, 'reform': 1969, 'input': 1262, 'indexes': 1230, 'effect': 831, 'include': 1208, 'sub': 2258, 'weights': 2539, 'determined': 739, 'analytic': 261, 'hierarchy': 1130, 'ahp': 225, 'entropy': 895, 'method': 1485, 'bp': 402, 'neural': 1582, 'located': 1411, 'hubei': 1155, 'province': 1880, 'stable': 2216, 'comparing': 554, 'neurons': 1583, 'hidden': 1129, 'layer': 1361, 'leave': 1367, 'reflect': 1967, 'basic': 356, 'goal': 1085, 'china': 488, 'plsr': 1762, 'effectively': 833, 'experiencing': 944, 'growth': 1098, 'expanded': 940, 'government': 1089, 'backed': 348, 'insurance': 1271, 'sector': 2097, 'spending': 2207, 'introduction': 1303, 'private': 1835, 'clinics': 508, 'incremental': 1226, 'sought': 2192, 'develop': 741, 'market': 1448, 'liberalize': 1380, 'compensation': 556, 'finance': 1001, 'continuing': 628, 'keep': 1335, 'affordable': 215, 'pays': 1716, 'pocket': 1764, 'presently': 1820, 'consideration': 607, 'policymakers': 1767, 'restructure': 2029, 'competitive': 559, 'dynamics': 817, 'industries': 1240, 'notably': 1600, 'pharmaceuticals': 1743, 'devices': 749, 'diagnostic': 753, 'article': 301, 'describes': 729, 'institutional': 1268, 'identifies': 1171, 'dilemmas': 769, 'emerging': 857, 'negotiates': 1574, 'divisions': 802, 'building': 410, 'considers': 609, 'opportunities': 1644, 'partnerships': 1707, 'integration': 1277, 'reconcile': 1945, 'otherwise': 1669, 'incommensurable': 1215, 'approaches': 287, 'rewarding': 2042, 'concludes': 581, 'significance': 2148, 'carcinogenicity': 440, 'involves': 1316, 'bioassay': 386, 'female': 991, 'rats': 1922, 'assay': 308, 'cost': 645, 'consuming': 623, 'interest': 1283, 'developing': 743, 'screening': 2090, 'prioritization': 1833, 'drug': 811, 'candidates': 429, 'evaluations': 914, 'toxicogenomics': 2390, 'investigations': 1311, 'short': 2136, 'shown': 2140, 'carcinogenic': 439, 'ensemble': 890, 'feature': 985, 'conjunction': 600, 'bootstrapping': 399, 'derive': 724, 'reproducible': 2006, 'characteristic': 478, 'multi': 1546, 'gene': 1067, 'signatures': 2147, 'microarray': 1492, 'dataset': 683, 'containing': 624, 'global': 1084, 'expression': 955, 'liver': 1406, 'samples': 2070, 'generated': 1070, 'imi': 1183, 'marcar': 1445, 'consortium': 616, 'genotoxic': 1072, 'nongenotoxic': 1596, 'hepatocarcinogens': 1123, 'cd': 463, 'days': 688, 'sexes': 2133, 'predicting': 1798, 'compounds': 570, 'predictivity': 1801, 'against': 220, 'incorporating': 1219, 'slightly': 2167, 'accuracy': 164, 'representative': 2004, 'state': 2227, 'art': 298, 'supervised': 2276, 'constructed': 619, 'cyproterone': 676, 'acetate': 167, 'cpa': 659, 'wy': 2576, '14643': 21, 'thioacetamid': 2359, 'taa': 2301, 'whose': 2554, 'mechanism': 1464, 'controversially': 636, 'discussed': 787, 'extracted': 962, 'patterns': 1714, 'compound': 569, 'contrast': 630, 'classified': 499, 'considerable': 605, 'percentage': 1725, 'flight': 1013, 'crew': 662, 'fatigued': 982, 'regularly': 1980, 'partly': 1706, 'caused': 458, 'irregular': 1318, 'working': 2569, 'crossing': 667, 'zones': 2583, 'fatigue': 981, 'lead': 1362, 'impaired': 1189, 'work': 2566, 'life': 1381, 'hypothesized': 1161, 'consisting': 614, 'tailored': 2305, 'daylight': 687, 'optimising': 1650, 'sleep': 2166, 'reduction': 1962, 'airline': 230, 'pilots': 1755, 'receives': 1936, 'minimal': 1498, 'consist': 610, 'company': 549, 'posses': 1779, 'smartphone': 2173, 'tablet': 2304, 'sick': 2142, 'moment': 1527, 'armed': 293, 'randomised': 1911, 'controlled': 634, 'allocated': 238, 'receive': 1933, 'optimise': 1649, 'website': 2534, 'participant': 1699, 'perceived': 1723, 'recovery': 1951, 'duration': 814, 'dietary': 757, 'sickness': 2143, 'absence': 153, 'baseline': 355, 'proven': 1873, 'practical': 1787, 'expected': 941, 'end': 870, '2013': 50, 'registration': 1978, 'register': 1975, 'ntr2722': 1602, 'overlap': 1684, 'exists': 938, 'psychological': 1885, 'back': 347, 'pain': 1690, 'move': 1542, 'constructs': 620, 'influence': 1250, 'routinely': 2059, 'collected': 530, 'already': 244, 'epidemiological': 897, 'endpoints': 880, 'west': 2543, 'scotland': 2088, 'coronary': 641, 'prevention': 1825, 'woscops': 2572, 'pravastatin': 1792, 'middle': 1493, 'hypercholesterolaemic': 1158, '1990s': 34, 'fatal': 978, 'date': 684, 'excellent': 929, 'matching': 1452, '97': 143, 'endpoint': 879, '80': 129, 'nonfatal': 1595, 'mismatching': 1509, 'linkage': 1398, 'myocardial': 1557, 'infarctions': 1245, 'mi': 1490, 'mis': 1503, '78': 127, 'stroke': 2247, 'tia': 2372, 'reasons': 1932, 'mismatches': 1508, 'recording': 1948, 'readmissions': 1927, 'procedures': 1840, 'previous': 1827, 'adjudication': 197, 'committee': 542, 'occurring': 1624, 'outside': 1680, 'therefore': 2351, 'missed': 1510, 'miscoding': 1506, 'cardiac': 441, 'unspecified': 2458, 'conclude': 580, 'cardiovascular': 442, 'give': 1081, 'very': 2504, 'rigorously': 2048, 'unified': 2446, 'types': 2429, 'carefully': 446, 'thought': 2367, 'involved': 1314, 'mhealth': 1489, 'analytical': 262, 'carrying': 450, 'modern': 1522, 'diagnostics': 754, 'resource': 2015, 'simple': 2155, 'portable': 1775, 'cell': 464, 'cameras': 424, 'biodetection': 387, 'limiting': 1393, 'factor': 969, 'currently': 672, 'too': 2381, 'applications': 283, 'depend': 719, 'weak': 2531, 'fluorescent': 1019, 'signals': 2146, 'capillary': 435, 'tube': 2418, 'array': 296, 'amplify': 254, 'fluorescence': 1018, 'waveguide': 2527, 'configured': 593, 'tubes': 2421, '100x': 10, 'lowering': 1419, 'limit': 1389, 'lod': 1413, 'nm': 1589, 'fluorescein': 1017, 'confirm': 595, 'amplification': 253, 'coated': 516, 'surfaces': 2282, 'capillaries': 434, 'silver': 2152, 'coating': 517, 'interfered': 1287, 'diminished': 772, 'signal': 2144, 'thereby': 2350, 'proving': 1881, 'main': 1427, 'enhancing': 888, 'optical': 1647, 'configuration': 592, 'described': 728, 'florescence': 1014, 'dimensional': 771, 'illumination': 1181, 'conventional': 637, 'angular': 269, 'laser': 1358, 'spot': 2212, 'line': 1395, 'functionally': 1055, 'illuminate': 1180, 'column': 538, 'generator': 1071, 'inherently': 1255, 'limits': 1394, 'multiplexing': 1551, 'capability': 431, 'planar': 1759, 'enables': 866, 'columns': 539, 'rows': 2060, 'addition': 190, 'propagation': 1858, 'wall': 2524, 'dimension': 770, 'along': 243, 'axis': 344, 'assays': 309, 'simultaneously': 2156, 'capable': 432, 'amplifying': 255, 'detectors': 736, 'allow': 239, 'especially': 903, 'carpal': 447, 'tunnel': 2422, 'syndrome': 2296, 'peripheral': 1734, 'nerve': 1577, 'earliest': 820, 'crucial': 668, 'left': 1370, 'untreated': 2459, 'cause': 457, 'permanent': 1735, 'damage': 679, 'reducing': 1961, 'chances': 472, 'fuzzy': 1061, 'matlab': 1455, 'cts': 669, 'conduction': 588, 'kannur': 1334, 'college': 533, 'india': 1231, 'consists': 615, 'thirteen': 2362, 'symptoms': 2295, 'gives': 1083, 'match': 1450, 'opinion': 1642, 'degrees': 705, 'since': 2157, 'quantification': 1894, 'intensity': 1278, 'electrodiagnostic': 847, 'procedure': 1839, 'prognosis': 1852, 'therapeutic': 2346, 'immense': 1185, 'regions': 1974, 'specialists': 2200, 'readily': 1925, 'prove': 1872, 'providing': 1879, 'opinions': 1643, 'add': 188, 'introduced': 1302, 'consultations': 621, 'accurate': 165, 'timely': 2374, 'manner': 1443, 'indigenous': 1236, 'australians': 335, 'experience': 942, 'disproportionate': 795, 'counterparts': 649, 'despite': 733, 'importance': 1194, 'maternal': 1454, 'infant': 1244, 'mih': 1495, 'surprisingly': 2286, 'little': 1403, 'empirical': 861, 'guide': 1100, 'redesign': 1957, 'successfully': 2267, 'indicators': 1235, 'babies': 345, 'period': 1732, '1998': 36, 'trend': 2407, 'variables': 2495, 'ethnicity': 909, 'triennia': 2411, 'cohorts': 524, '523': 93, 'births': 391, '693': 119, 'bivariate': 392, 'teenage': 2321, 'preterm': 1822, 'birth': 390, 'odds': 1625, 'ratios': 1921, 'ors': 1667, 'cis': 495, 'adjusting': 199, 'confounders': 597, 'transfers': 2398, 'statistically': 2232, 'spontaneous': 2211, 'onset': 1637, 'labour': 1349, 'instrumental': 1270, 'vaginal': 2487, 'take': 2307, 'epidurals': 898, 'relief': 1990, 'assisted': 320, 'caesarean': 418, 'sections': 2096, 'perineal': 1731, 'trauma': 2403, '37': 73, '2500': 59, 'small': 2172, 'gestational': 1078, 'perinatal': 1730, 'gap': 1063, 'consistent': 613, 'statistical': 2231, 'widening': 2557, 'demonstrating': 715, 'comprehensive': 572, 'allowed': 240, 'thorough': 2364, 'contributing': 632, 'factors': 970, 'remains': 1996, 'static': 2229, 'worsened': 2571, 'alternative': 247, 'delivering': 709, 'though': 2366, 'none': 1594, 'australia': 334, 'wide': 2555, 'recognise': 1941, 'heterogeneity': 1128, 'incorporate': 1218, 'multiagency': 1547, 'urgently': 2465, 'reasoning': 1931, 'cbr': 461, 'paradigm': 1692, 'solved': 2186, 'relying': 1994, 'every': 917, 'attributes': 333, 'inputs': 1263, 'label': 1347, 'extracting': 963, 'help': 1118, 'yet': 2580, 'viz': 2518, 'nearest': 1566, 'neighbour': 1576, 'nn': 1590, 'lr': 1421, 'transplant': 2402, 'waiting': 2522, 'list': 1400, 'standalone': 2221, 'soft': 2181, 'algorithms': 234, 'rely': 1993, 'conditions': 586, 'suggested': 2271, 'relies': 1991, 'weighted': 2538, 'efficiently': 837, 'whereas': 2548, 'suffer': 2269, 'kind': 1339, 'noisy': 1592, 'setups': 2126, 'robustness': 2052, 'suggests': 2273, 'interesting': 1285, 'perspectives': 1741, 'solving': 2187, 'implementing': 1192, 'multimodal': 1549, 'education': 828, 'nei': 1575, 'intake': 1272, 'university': 2452, 'students': 2254, 'cluster': 513, 'universities': 2451, 'east': 822, 'coast': 515, 'malaysia': 1434, '417': 79, 'participated': 1701, 'randomly': 1913, 'selected': 2106, 'arms': 294, 'ig': 1176, 'cg': 469, 'according': 162, 'week': 2535, 'modes': 1523, 'lecture': 1368, 'brochures': 407, 'any': 280, 'nutrient': 1609, 'intakes': 1273, 'servings': 2121, 'food': 1027, 'covariance': 655, 'ancova': 265, 'difference': 760, 'increasing': 1223, 'energy': 881, 'carbohydrate': 438, 'calcium': 420, 'vitamin': 2517, 'thiamine': 2355, 'fruits': 1050, '100': 8, 'fruit': 1049, 'juice': 1331, 'fish': 1009, 'egg': 839, 'milk': 1496, 'dairy': 678, 'products': 1846, 'processed': 1842, 'focusing': 1022, 'eating': 824, 'trends': 2408, 'timing': 2376, 'antiviral': 279, 'medications': 1471, 'cohort': 523, 'pregnant': 1810, 'deliveries': 708, 'viral': 2510, 'medication': 1470, '45': 83, 'meprep': 1480, 'collaborative': 528, 'administration': 201, 'eleven': 850, 'plans': 1761, 'calculated': 421, 'exposed': 952, '664': 114, '297': 64, '155': 24, 'doubled': 807, 'acyclovir': 185, '1st': 37, 'trimester': 2413, '30': 65, 'forty': 1034, 'herpes': 1126, 'highlight': 1134, 'assess': 310, 'aimed': 229, 'acceptance': 157, 'surveillance': 2287, 'priority': 1834, 'anonymous': 272, 'internet': 1290, 'conversations': 638, 'ics': 1165, 'utilized': 2481, 'unmet': 2455, 'prostate': 1866, 'cancer': 428, 'pc': 1717, 'web': 2532, 'spiders': 2208, 'mine': 1497, 'aggregate': 223, 'world': 2570, 'restricted': 2028, 'geographic': 1074, 'origin': 1664, 'perform': 1726, 'sentiment': 2112, 'scored': 2086, 'neutral': 1584, 'si': 2141, 'formula': 1032, 'towards': 2389, 'ic': 1162, '464': 85, 'driven': 809, 'emphasis': 860, 'endorsement': 878, 'national': 1561, 'quantitative': 1897, 'vs': 2520, 'treatments': 2406, 'desire': 732, 'unbiased': 2432, 'specialist': 2199, 'managed': 1438, 'communications': 546, 'preferences': 1807, 'recommend': 1943, 'multidisciplinary': 1548, 'consider': 604, 'options': 1654, 'feasibility': 984, 'acceptability': 156, 'methamphetamine': 1484, 'promote': 1856, 'antiretroviral': 278, 'hiv': 1141, 'infected': 1246, 'examined': 926, 'day': 686, 'individualized': 1238, 'texting': 2333, 'itab': 1324, 'comparison': 555, 'texts': 2334, 'additionally': 192, 'reminder': 1997, 'endorsed': 877, 'correlated': 642, 'substance': 2263, 'interview': 1298, 'covering': 658, '05': 4, 'responded': 2022, 'responses': 2026, 'standardized': 2224, 'difficulty': 767, 'satisfaction': 2071, 'beliefs': 376, 'believed': 378, 'refine': 1965, 'optimal': 1648, 'registered': 1976, 'clinicaltrials': 506, 'gov': 1088, 'nct01317277': 1565, 'stand': 2220, 'infrastructures': 1254, 'cervical': 467, 'efforts': 838, 'underway': 2441, 'saharan': 2066, 'africa': 216, 'dovetail': 808, 'vertical': 2503, 'initiatives': 1258, 'like': 1385, 'aids': 227, 'utilization': 2480, 'operations': 1641, 'zambia': 2582, 'ccppz': 462, 'largest': 1357, 'serostatus': 2117, 'contemporaneous': 625, 'modeling': 1517, 'january': 1328, '56': 100, '247': 57, 'visual': 2515, 'inspection': 1265, 'acetic': 168, 'acid': 171, 'aided': 226, 'cervicography': 468, 'accessing': 161, 'seropositive': 2116, '23': 54, '2010': 47, 'coincided': 525, 'seronegative': 2115, '22': 52, '38': 74, 'unknown': 2453, '24': 55, '39': 76, '001': 0, '17': 26, 'decline': 696, 'categories': 453, 'sexual': 2134, 'reproductive': 2007, 'twice': 2425, 'ratio': 1920, '49': 88, '76': 126, 'screen': 2089, 'demonstration': 716, 'nurse': 1606, 'led': 1369, 'expand': 939, 'serve': 2118, 'adequate': 195, 'training': 2397, 'telemedicine': 2322, 'providers': 1877, 'breathing': 406, 'effects': 835, 'alleviating': 237, 'optimizing': 1652, 'pulmonary': 1888, 'obstructive': 1619, 'copd': 640, 'drop': 810, 'tolerance': 2380, 'easy': 823, 'home': 1142, 'dyspnea': 818, 'animated': 270, 'diagram': 755, 'video': 2507, 'guided': 1101, 'instruction': 1269, 'capacity': 433, 'sixty': 2162, 'subjects': 2261, 'trained': 2395, 'discharge': 780, 'forced': 1029, 'expiratory': 948, 'volume': 2519, 'fev1': 992, 'vital': 2516, 'peak': 1718, 'minute': 1502, 'walking': 2523, 'distance': 796, 'st': 2214, 'george': 1076, 'strongly': 2249, 'recommended': 1944, 'fatalistic': 980, 'deterrent': 740, 'engaging': 882, 'rural': 2063, 'residents': 2013, 'fatalism': 979, '1482': 22, '6192': 108, 'endorse': 876, 'even': 915, 'controlling': 635, 'source': 2193, 'print': 1831, 'material': 1453, 'educational': 829, 'communicate': 545, 'reviews': 2040, 'solutions': 2185, 'prevent': 1824, 'emergency': 855, 'room': 2056, 'ready': 1928, 'hospitalized': 1148, 'acute': 184, 'exacerbation': 922, 'investigate': 1307, 'failure': 971, 'defined': 702, 'readmission': 1926, 'fulfilled': 1051, 'eligibility': 851, 'denmark': 717, 'computer': 576, 'tables': 2303, 'blocks': 393, 'conference': 589, 'touch': 2387, 'webcam': 2533, 'equipment': 901, 'spirometer': 2209, 'thermometer': 2352, 'pulse': 1889, 'oximeter': 1687, 'organizational': 1661, 'securing': 2099, '365': 72, 'oxygen': 1688, 'nebulizer': 1567, 'oral': 1656, 'parameters': 1693, 'discharged': 781, 'fulfilling': 1052, 'pre': 1793, 'specified': 2204, 'death': 690, 'prescription': 1814, 'steroids': 2237, 'intubation': 1304, 'invasive': 1305, 'ventilation': 2500, 'lung': 1423, 'bed': 363, 'enrollment': 889, 'started': 2226, 'june': 1332, 'ended': 872, 'december': 693, 'modalities': 1515, 'exacerbations': 923, 'admission': 202, 'nct01155856': 1564, 'imci': 1182, 'protocol': 1870, 'reduces': 1960, 'protocols': 1871, 'tanzania': 2310, 'districts': 800, 'site': 2159, 'observers': 1617, 'documented': 804, 'parts': 1708, 'assessment': 313, 'occurred': 1623, 'pimci': 1756, 'next': 1587, 'eimci': 842, '1221': 15, '671': 117, '550': 98, 'observed': 1616, 'ranged': 1915, '61': 106, 'completeness': 562, 'nature': 1563, 'confounding': 598, 'limitation': 1390, 'month': 1531, 'consistency': 612, 'assessments': 314, 'diploids': 774, 'carries': 448, 'fold': 1023, 'males': 1436, 'reduce': 1958, 'fitness': 1010, 'cloning': 511, 'extinction': 960, 'instead': 1267, 'widespread': 2558, 'clonal': 509, 'species': 2201, 'face': 964, 'obsolescence': 1618, 'reason': 1930, 'adaptation': 187, 'allows': 241, 'organisms': 1660, 'endless': 873, 'mutation': 1555, 'diploid': 773, 'organism': 1659, 'ascertain': 304, 'computational': 575, 'finite': 1006, 'haploid': 1105, 'host': 1150, 'endlessly': 874, 'evolution': 919, 'adoption': 206, 'advantageous': 210, 'mutations': 1556, 'allele': 236, 'space': 2195, 'outcompetes': 1674, 'complementary': 560, 'mechanisms': 1465, 'adopt': 205, 'homozygous': 1143, 'rapidly': 1916, 'ones': 1633, 'lag': 1352, 'load': 1408, 'theoretical': 2344, 'optimum': 1653, 'advantage': 209, 'offset': 1627, 'fecundity': 988, 'emerges': 856, 'polymorphic': 1769, 'polymorphism': 1770, 'runs': 2062, 'interference': 1288, 'numerous': 1605, 'lines': 1396, 'extends': 956, 'lifetime': 1383, 'abolishes': 150, 'faster': 976, 'elevating': 849, 'loci': 1412, 'circumstances': 493, 'leads': 1363, 'clones': 510, 'unable': 2431, 'co': 514, 'exist': 936, 'compete': 557, 'characterized': 481, 'pathogens': 1710, 'slowly': 2171, 'carry': 449, 'parasitic': 1694, 'loads': 1409, 'movements': 1544, 'twitter': 2426, 'structural': 2251, 'longitudinal': 1416, 'tweets': 2423, 'occupy': 1622, 'street': 2246, 'posted': 1782, 'course': 654, '16': 25, 'investigating': 1309, 'inequality': 1242, 'emotion': 859, 'stability': 2215, 'reveal': 2036, 'unequal': 2443, 'initiating': 1257, 'discussions': 789, 'receivers': 1935, 'initiators': 1259, 'moderates': 1521, 'no': 1591, 'political': 1768, 'alarms': 232, 'device': 748, 'sequential': 2113, 'organ': 1658, 'sofa': 2180, 'affects': 214, 'irrelevant': 1320, 'prospective': 1864, 'tokyo': 2379, 'japan': 1329, 'february': 987, 'alarm': 231, 'waveforms': 2526, 'recordings': 1949, 'saved': 2074, 'continuously': 629, 'annotated': 271, 'respect': 2018, 'monitored': 1529, '2697': 61, '591': 104, '740': 125, 'considered': 608, 'triggered': 2412, 'direct': 775, 'measurement': 1460, 'arterial': 299, 'pressure': 1821, '33': 69, 'saturation': 2073, 'electrocardiogram': 846, 'correlations': 644, 'severities': 2130, 'relevance': 1986, 'measurements': 1461, 'ecg': 825, 'irrelevance': 1319, 'coded': 520, 'ignoring': 1177, 'stored': 2240, 'free': 1043, 'presentation': 1818, 'rheumatoid': 2043, 'arthritis': 300, 'ra': 1905, 'exemplar': 934, 'extent': 958, 'keyword': 1337, 'ehrs': 841, '387': 75, 'listed': 1401, 'format': 1031, 'ran': 1910, 'searches': 2092, 'frequency': 1044, 'code': 519, 'keywords': 1338, 'relationships': 1983, '29': 63, 'inflammatory': 1249, 'codes': 521, 'synovitis': 2297, 'uncoded': 2434, 'gender': 1066, 'letters': 1373, 'wrongly': 2575, 'dated': 685, 'suspicions': 2292, 'confined': 594, 'registers': 1977, 'misleading': 1507, 'taken': 2308, 'facilitate': 965, 'implemented': 1191, 'toward': 2388, 'collaboration': 526, 'attitudes': 332, 'stakeholders': 2219, 'protection': 1868, 'vulnerable': 2521, 'practices': 1789, 'explore': 949, 'viewpoints': 2509, 'ph': 1742, 'canada': 426, 'attended': 327, 'meeting': 1476, 'sort': 2190, 'table': 2302, 'sorts': 2191, 'salient': 2067, 'statements': 2228, 'policy': 1766, 'makers': 1432, 'directors': 778, 'managers': 1440, 'nurses': 1607, 'physicians': 1752, 'dietitians': 758, 'named': 1559, 'distinguishing': 798, 'follows': 1026, 'collaborators': 529, 'cautious': 460, 'competent': 558, 'isolationists': 1322, 'clear': 501, 'mandate': 1442, 'top': 2384, 'enable': 865, 'rest': 2027, 'together': 2378, 'branches': 404, 'ministry': 1500, 'ministries': 1499, 'actively': 178, 'directed': 776, 'policies': 1765, 'foster': 1036, 'supported': 2280, 'idea': 1167, 'consciousness': 601, 'raising': 1909, 'collaborations': 527, 'beneficial': 380, 'reflecting': 1968, 'place': 1757, 'necessary': 1568, 'sectors': 2098, 'spend': 2206, 'ensure': 891, 'parties': 1705, 'clearly': 502, 'roles': 2055, 'workers': 2567, 'see': 2100, 'inter': 1280, 'professional': 1847, 'success': 2265, 'managing': 1441, 'assist': 319, 'processes': 1843, 'build': 409, 'maintain': 1428, 'strong': 2248, 'unplanned': 2457, 'composite': 568, 'rothman': 2057, 'ri': 2046, 'adult': 207, 'surgical': 2284, 'teaching': 2315, 'updated': 2462, 'emr': 864, 'signs': 2151, 'braden': 403, 'rhythms': 2045, 'assignment': 318, 'sixteen': 2161, '730': 124, 'highest': 1133, 'category': 456, 'lowest': 1420, '79': 128, 'medium': 1473, 'confidence': 590, 'interval': 1294, '40': 77, '57': 101, 'clinicians': 507, 'supports': 2281, 'perioperative': 1733, 'cocaine': 518, 'abusing': 155, 'scheduled': 2078, 'elective': 845, 'varies': 2497, 'anecdotes': 267, 'personal': 1739, 'chiefs': 484, 'anesthesia': 268, 'departments': 718, 'veterans': 2505, 'affairs': 213, 'va': 2482, 'surveyed': 2289, 'encounter': 868, 'respondents': 2023, 'action': 175, 'resulting': 2032, 'formal': 1030, 'guidelines': 1102, 'queried': 1898, '172': 27, 'half': 1104, 'facilities': 968, 'once': 1631, 'thirds': 2361, 'canceled': 427, 'formulate': 1033, 'burnout': 414, 'distress': 799, 'resident': 2012, 'counseling': 648, 'wellness': 2541, 'rwp': 2064, 'fellows': 990, 'willingness': 2560, '88': 136, 'trainees': 2396, 'knew': 1341, '87': 135, 'somewhat': 2189, 'seek': 2101, 'biggest': 385, 'barrier': 352, 'getting': 1079, 'racial': 1907, '28': 62, 'unwillingness': 2460, 'reluctance': 1992, 'helpfulness': 1120, 'confidentiality': 591, 'break': 405, 'stigma': 2238, '60': 105, '06': 5, '42': 80, 'concerned': 578, 'question': 1901, '55': 97, 'removed': 1998, 'knowledge': 1343, 'outreach': 1679, 'right': 2047}\n"
     ]
    }
   ],
   "source": [
    "# print(\"vocab size: {}\".format(len(count_vect.vocabulary_)))\n",
    "# print(\"vocab content:\\n {}\".format(count_vect.vocabulary_))"
   ]
  },
  {
   "cell_type": "code",
   "execution_count": 240,
   "metadata": {},
   "outputs": [],
   "source": [
    "X_trans = count_vect.transform(X)"
   ]
  },
  {
   "cell_type": "code",
   "execution_count": 241,
   "metadata": {},
   "outputs": [
    {
     "data": {
      "text/plain": [
       "(50, 2584)"
      ]
     },
     "execution_count": 241,
     "metadata": {},
     "output_type": "execute_result"
    }
   ],
   "source": [
    "X_trans.shape"
   ]
  },
  {
   "cell_type": "code",
   "execution_count": 139,
   "metadata": {
    "scrolled": true
   },
   "outputs": [],
   "source": [
    "# print(X_trans)\n",
    "# print(\"bag of words as an array: {}\".format(bag_of_words.toarray()))"
   ]
  },
  {
   "cell_type": "code",
   "execution_count": 243,
   "metadata": {},
   "outputs": [],
   "source": [
    "# count_vect.get_feature_names()"
   ]
  },
  {
   "cell_type": "markdown",
   "metadata": {},
   "source": [
    "### Train test split"
   ]
  },
  {
   "cell_type": "code",
   "execution_count": 247,
   "metadata": {},
   "outputs": [
    {
     "name": "stdout",
     "output_type": "stream",
     "text": [
      "10 10\n"
     ]
    }
   ],
   "source": [
    "X_train, X_test, y_train, y_test = train_test_split(X_trans, y, test_size = 0.2, random_state = 0)\n",
    "print(X_test.shape[0], len(y_test))  # sparse matrix"
   ]
  },
  {
   "cell_type": "markdown",
   "metadata": {},
   "source": [
    "### SVM classifier"
   ]
  },
  {
   "cell_type": "code",
   "execution_count": 220,
   "metadata": {},
   "outputs": [],
   "source": [
    "from sklearn.linear_model import SGDClassifier # by default, it fits a linear support vector machine (SVM)."
   ]
  },
  {
   "cell_type": "code",
   "execution_count": 248,
   "metadata": {},
   "outputs": [
    {
     "data": {
      "text/plain": [
       "SGDClassifier(alpha=0.001, average=False, class_weight=None,\n",
       "              early_stopping=False, epsilon=0.1, eta0=0.0, fit_intercept=True,\n",
       "              l1_ratio=0.15, learning_rate='optimal', loss='hinge',\n",
       "              max_iter=1000, n_iter_no_change=5, n_jobs=None, penalty='l2',\n",
       "              power_t=0.5, random_state=42, shuffle=True, tol=0.001,\n",
       "              validation_fraction=0.1, verbose=0, warm_start=False)"
      ]
     },
     "execution_count": 248,
     "metadata": {},
     "output_type": "execute_result"
    }
   ],
   "source": [
    "svm_model = SGDClassifier(loss='hinge', penalty='l2',alpha=1e-3, random_state=42)\n",
    "svm_model.fit(X_train, y_train)"
   ]
  },
  {
   "cell_type": "code",
   "execution_count": 251,
   "metadata": {},
   "outputs": [
    {
     "data": {
      "text/plain": [
       "0.8"
      ]
     },
     "execution_count": 251,
     "metadata": {},
     "output_type": "execute_result"
    }
   ],
   "source": [
    "pred_svm = svm_model.predict(X_test)\n",
    "np.mean(pred_svm == y_test)"
   ]
  },
  {
   "cell_type": "markdown",
   "metadata": {},
   "source": [
    "### Logistics Regression"
   ]
  },
  {
   "cell_type": "code",
   "execution_count": 129,
   "metadata": {},
   "outputs": [],
   "source": [
    "from sklearn.linear_model import LogisticRegression"
   ]
  },
  {
   "cell_type": "code",
   "execution_count": 252,
   "metadata": {},
   "outputs": [
    {
     "name": "stderr",
     "output_type": "stream",
     "text": [
      "/home/ec2-user/anaconda3/envs/python3/lib/python3.6/site-packages/sklearn/linear_model/logistic.py:432: FutureWarning: Default solver will be changed to 'lbfgs' in 0.22. Specify a solver to silence this warning.\n",
      "  FutureWarning)\n"
     ]
    },
    {
     "data": {
      "text/plain": [
       "LogisticRegression(C=100, class_weight=None, dual=False, fit_intercept=True,\n",
       "                   intercept_scaling=1, l1_ratio=None, max_iter=100,\n",
       "                   multi_class='warn', n_jobs=None, penalty='l2',\n",
       "                   random_state=0, solver='warn', tol=0.0001, verbose=0,\n",
       "                   warm_start=False)"
      ]
     },
     "execution_count": 252,
     "metadata": {},
     "output_type": "execute_result"
    }
   ],
   "source": [
    "logistic_model = LogisticRegression(C = 100,random_state = 0)\n",
    "logistic_model.fit(X_train, y_train)"
   ]
  },
  {
   "cell_type": "code",
   "execution_count": 258,
   "metadata": {
    "scrolled": true
   },
   "outputs": [
    {
     "data": {
      "text/plain": [
       "0.6"
      ]
     },
     "execution_count": 258,
     "metadata": {},
     "output_type": "execute_result"
    }
   ],
   "source": [
    "predicted_logistic = logistic_model.predict(X_test)\n",
    "np.mean(predicted_logistic == y_test)"
   ]
  },
  {
   "cell_type": "code",
   "execution_count": null,
   "metadata": {},
   "outputs": [],
   "source": []
  },
  {
   "cell_type": "markdown",
   "metadata": {},
   "source": [
    "## Assignment 2"
   ]
  },
  {
   "cell_type": "markdown",
   "metadata": {},
   "source": [
    "2) build SVM and logistic models for the same task as (1) with all features including Bag-Of-Words (unigram) \n",
    "features from the abstracts, the number of references the paper include, and the number of sections. \n",
    "make the label (classification goal) as “highly cited’ and “not cited much’. The threshold for deciding \n",
    "the two classes can be anything. Just pick an arbitrary number that can divide the articles into two classes."
   ]
  },
  {
   "cell_type": "code",
   "execution_count": 149,
   "metadata": {},
   "outputs": [],
   "source": [
    "#y_binary = [1 if each >=5 else 0 for each in y]"
   ]
  },
  {
   "cell_type": "code",
   "execution_count": 259,
   "metadata": {},
   "outputs": [],
   "source": [
    "def get_sample_data_2(path):\n",
    "    pathlist = Path(path).glob('**/*.xml')\n",
    "    reference, section = [], []\n",
    "    for path in pathlist:\n",
    "        # because path is object not string\n",
    "        path_in_str = str(path)\n",
    "        soup = BeautifulSoup(open('./'+ path_in_str, 'r'))\n",
    "        section.append(get_section(soup))\n",
    "        reference.append(get_reference(soup))\n",
    "    return np.array(reference)[..., None], np.array(section)[..., None]"
   ]
  },
  {
   "cell_type": "code",
   "execution_count": 260,
   "metadata": {},
   "outputs": [
    {
     "name": "stderr",
     "output_type": "stream",
     "text": [
      "/home/ec2-user/anaconda3/envs/python3/lib/python3.6/site-packages/bs4/__init__.py:181: UserWarning: No parser was explicitly specified, so I'm using the best available HTML parser for this system (\"lxml\"). This usually isn't a problem, but if you run this code on another system, or in a different virtual environment, it may use a different parser and behave differently.\n",
      "\n",
      "The code that caused this warning is on line 193 of the file /home/ec2-user/anaconda3/envs/python3/lib/python3.6/runpy.py. To get rid of this warning, change code that looks like this:\n",
      "\n",
      " BeautifulSoup(YOUR_MARKUP})\n",
      "\n",
      "to this:\n",
      "\n",
      " BeautifulSoup(YOUR_MARKUP, \"lxml\")\n",
      "\n",
      "  markup_type=markup_type))\n"
     ]
    }
   ],
   "source": [
    "reference_count, section_count = get_sample_data_2(path)"
   ]
  },
  {
   "cell_type": "code",
   "execution_count": 261,
   "metadata": {},
   "outputs": [
    {
     "data": {
      "text/plain": [
       "((50, 1), (50, 1))"
      ]
     },
     "execution_count": 261,
     "metadata": {},
     "output_type": "execute_result"
    }
   ],
   "source": [
    "reference_count.shape, section_count.shape"
   ]
  },
  {
   "cell_type": "code",
   "execution_count": 262,
   "metadata": {},
   "outputs": [
    {
     "data": {
      "text/plain": [
       "(50, 2584)"
      ]
     },
     "execution_count": 262,
     "metadata": {},
     "output_type": "execute_result"
    }
   ],
   "source": [
    "X_trans.shape"
   ]
  },
  {
   "cell_type": "code",
   "execution_count": 263,
   "metadata": {},
   "outputs": [],
   "source": [
    "X_trans = np.hstack([X_trans.toarray(), reference_count, section_count])"
   ]
  },
  {
   "cell_type": "markdown",
   "metadata": {},
   "source": [
    "## Train Test split"
   ]
  },
  {
   "cell_type": "code",
   "execution_count": 269,
   "metadata": {},
   "outputs": [
    {
     "name": "stdout",
     "output_type": "stream",
     "text": [
      "10 10\n"
     ]
    }
   ],
   "source": [
    "X_train, X_test, y_train, y_test = train_test_split(X_trans, y, test_size = 0.2, random_state = 0)\n",
    "print(X_test.shape[0], len(y_test))"
   ]
  },
  {
   "cell_type": "markdown",
   "metadata": {},
   "source": [
    "### SVM classifier"
   ]
  },
  {
   "cell_type": "code",
   "execution_count": 272,
   "metadata": {},
   "outputs": [
    {
     "data": {
      "text/plain": [
       "SGDClassifier(alpha=0.001, average=False, class_weight=None,\n",
       "              early_stopping=False, epsilon=0.1, eta0=0.0, fit_intercept=True,\n",
       "              l1_ratio=0.15, learning_rate='optimal', loss='hinge',\n",
       "              max_iter=1000, n_iter_no_change=5, n_jobs=None, penalty='l2',\n",
       "              power_t=0.5, random_state=42, shuffle=True, tol=0.001,\n",
       "              validation_fraction=0.1, verbose=0, warm_start=False)"
      ]
     },
     "execution_count": 272,
     "metadata": {},
     "output_type": "execute_result"
    }
   ],
   "source": [
    "svm_model = SGDClassifier(loss='hinge', penalty='l2',alpha=1e-3, random_state=42)\n",
    "svm_model.fit(X_train, y_train)\n",
    "\n",
    "# predicted_svm = text_clf_svm.predict(twenty_test.data)\n",
    "# np.mean(predicted_svm == twenty_test.target)\n"
   ]
  },
  {
   "cell_type": "code",
   "execution_count": 273,
   "metadata": {},
   "outputs": [
    {
     "data": {
      "text/plain": [
       "0.9"
      ]
     },
     "execution_count": 273,
     "metadata": {},
     "output_type": "execute_result"
    }
   ],
   "source": [
    "pred_svm = svm_model.predict(X_test)\n",
    "np.mean(pred_svm == y_test)"
   ]
  },
  {
   "cell_type": "markdown",
   "metadata": {},
   "source": [
    "### Logistic classifier"
   ]
  },
  {
   "cell_type": "code",
   "execution_count": 274,
   "metadata": {},
   "outputs": [
    {
     "name": "stderr",
     "output_type": "stream",
     "text": [
      "/home/ec2-user/anaconda3/envs/python3/lib/python3.6/site-packages/sklearn/linear_model/logistic.py:432: FutureWarning: Default solver will be changed to 'lbfgs' in 0.22. Specify a solver to silence this warning.\n",
      "  FutureWarning)\n"
     ]
    },
    {
     "data": {
      "text/plain": [
       "LogisticRegression(C=100, class_weight=None, dual=False, fit_intercept=True,\n",
       "                   intercept_scaling=1, l1_ratio=None, max_iter=100,\n",
       "                   multi_class='warn', n_jobs=None, penalty='l2',\n",
       "                   random_state=0, solver='warn', tol=0.0001, verbose=0,\n",
       "                   warm_start=False)"
      ]
     },
     "execution_count": 274,
     "metadata": {},
     "output_type": "execute_result"
    }
   ],
   "source": [
    "logistic_model = LogisticRegression(C = 100,random_state = 0)\n",
    "logistic_model.fit(X_train, y_train)"
   ]
  },
  {
   "cell_type": "code",
   "execution_count": 275,
   "metadata": {},
   "outputs": [
    {
     "data": {
      "text/plain": [
       "0.8"
      ]
     },
     "execution_count": 275,
     "metadata": {},
     "output_type": "execute_result"
    }
   ],
   "source": [
    "predicted_logistic = logistic_model.predict(X_test)\n",
    "np.mean(predicted_logistic == y_test)"
   ]
  },
  {
   "cell_type": "code",
   "execution_count": null,
   "metadata": {},
   "outputs": [],
   "source": []
  },
  {
   "cell_type": "markdown",
   "metadata": {},
   "source": [
    "# TODO"
   ]
  },
  {
   "cell_type": "markdown",
   "metadata": {},
   "source": [
    "- train-val-test: 0.8, 0.1, 0.1\n",
    "- at least 1000 data sample instead of 50"
   ]
  },
  {
   "cell_type": "code",
   "execution_count": null,
   "metadata": {},
   "outputs": [],
   "source": []
  },
  {
   "cell_type": "code",
   "execution_count": null,
   "metadata": {},
   "outputs": [],
   "source": []
  },
  {
   "cell_type": "code",
   "execution_count": null,
   "metadata": {},
   "outputs": [],
   "source": []
  },
  {
   "cell_type": "code",
   "execution_count": 268,
   "metadata": {},
   "outputs": [],
   "source": [
    "# example_sent = \"This is a sample sentence, showing off the stop words filtration.\" \n",
    "# stop_words = set(stopwords.words('english')) \n",
    "# word_tokens = word_tokenize(example_sent) \n",
    "# filtered_sentence = [w for w in word_tokens if not w in stop_words] \n",
    "# print(word_tokens) \n",
    "# print(filtered_sentence)"
   ]
  },
  {
   "cell_type": "code",
   "execution_count": null,
   "metadata": {},
   "outputs": [],
   "source": [
    "# def tokenize(sentences):\n",
    "#     words = []\n",
    "#     for sentence in sentences:\n",
    "#         w = word_extraction(sentence)\n",
    "#         words.extend(w)\n",
    "#     print(\"tokenize\")\n",
    "#     print(words)\n",
    "#     words = sorted(list(set(words)))\n",
    "#     return words\n",
    "\n",
    "# def word_extraction(sentence):\n",
    "#     ignore = ['a', \"the\", \"is\"]\n",
    "#     words = re.sub(\"[^\\w]\", \" \",  sentence).split()\n",
    "# #     print(\"word_extraction\")\n",
    "# #     print(words)\n",
    "#     cleaned_text = [w.lower() for w in words if w not in ignore]\n",
    "# #     print(\"cleaned_text\")\n",
    "# #     print(cleaned_text)\n",
    "#     return cleaned_text    \n",
    "    \n",
    "# def generate_bow(allsentences):    \n",
    "#     vocab = tokenize(allsentences)\n",
    "#     print(\"Word List for Document \\n{0} \\n\".format(vocab));\n",
    "\n",
    "#     for sentence in allsentences:\n",
    "#         words = word_extraction(sentence)\n",
    "#         bag_vector = np.zeros(len(vocab))\n",
    "#         for w in words:\n",
    "#             for i,word in enumerate(vocab):\n",
    "#                 if word == w: \n",
    "#                     bag_vector[i] += 1\n",
    "                    \n",
    "#         print(\"{0} \\n{1}\\n\".format(sentence,numpy.array(bag_vector)))\n",
    "\n",
    "# # allsentences = [\"Joe waited for the train\", \"The train was late\", \"Mary and Samantha took the bus\", \n",
    "# #             \"I looked for Mary and Samantha at the bus station\", \n",
    "# #             \"Mary and Samantha arrived at the bus station early but waited until noon for the bus\"]\n",
    "# allsentences = [\"Joe waited for the train\", \"The train was late\"]\n",
    "\n",
    "# generate_bow(allsentences)"
   ]
  }
 ],
 "metadata": {
  "kernelspec": {
   "display_name": "conda_python3",
   "language": "python",
   "name": "conda_python3"
  },
  "language_info": {
   "codemirror_mode": {
    "name": "ipython",
    "version": 3
   },
   "file_extension": ".py",
   "mimetype": "text/x-python",
   "name": "python",
   "nbconvert_exporter": "python",
   "pygments_lexer": "ipython3",
   "version": "3.6.5"
  }
 },
 "nbformat": 4,
 "nbformat_minor": 4
}
