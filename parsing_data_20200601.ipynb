{
  "nbformat": 4,
  "nbformat_minor": 0,
  "metadata": {
    "colab": {
      "name": "parsing_data_20200601.ipynb",
      "provenance": [],
      "collapsed_sections": [],
      "toc_visible": true,
      "include_colab_link": true
    },
    "kernelspec": {
      "display_name": "conda_python3",
      "language": "python",
      "name": "conda_python3"
    },
    "language_info": {
      "codemirror_mode": {
        "name": "ipython",
        "version": 3
      },
      "file_extension": ".py",
      "mimetype": "text/x-python",
      "name": "python",
      "nbconvert_exporter": "python",
      "pygments_lexer": "ipython3",
      "version": "3.6.5"
    }
  },
  "cells": [
    {
      "cell_type": "markdown",
      "metadata": {
        "id": "view-in-github",
        "colab_type": "text"
      },
      "source": [
        "<a href=\"https://colab.research.google.com/github/siliang625/text_mining_health/blob/master/parsing_data_20200601.ipynb\" target=\"_parent\"><img src=\"https://colab.research.google.com/assets/colab-badge.svg\" alt=\"Open In Colab\"/></a>"
      ]
    },
    {
      "cell_type": "code",
      "metadata": {
        "colab_type": "code",
        "id": "CO7waclD3H__",
        "outputId": "bfda2caa-ecd0-4d3b-d4b2-f0d46b5bc1f1",
        "colab": {
          "base_uri": "https://localhost:8080/",
          "height": 68
        }
      },
      "source": [
        "#!pip install BeautifulSoup4\n",
        "#!pip install lxml\n",
        "#!pip install fastprogress  #tqdm"
      ],
      "execution_count": 9,
      "outputs": [
        {
          "output_type": "stream",
          "text": [
            "Requirement already satisfied: BeautifulSoup4 in /usr/local/lib/python3.6/dist-packages (4.6.3)\n",
            "Requirement already satisfied: lxml in /usr/local/lib/python3.6/dist-packages (4.2.6)\n",
            "Requirement already satisfied: fastprogress in /usr/local/lib/python3.6/dist-packages (0.2.3)\n"
          ],
          "name": "stdout"
        }
      ]
    },
    {
      "cell_type": "code",
      "metadata": {
        "colab_type": "code",
        "id": "bM63Jrh_3IAJ",
        "colab": {}
      },
      "source": [
        "%matplotlib inline\n",
        "import os\n",
        "import numpy as np\n",
        "import pandas as pd\n",
        "import matplotlib.pyplot as plt\n",
        "import sys\n",
        "np.set_printoptions(threshold=80, edgeitems=50)\n",
        "from bs4 import BeautifulSoup\n",
        "from collections import namedtuple\n",
        "import codecs\n",
        "import re\n",
        "import time\n",
        "import json\n",
        "import requests\n",
        "from urllib.request import urlopen\n",
        "import pandas as pd\n",
        "from fastprogress.fastprogress import master_bar, progress_bar"
      ],
      "execution_count": 0,
      "outputs": []
    },
    {
      "cell_type": "code",
      "metadata": {
        "id": "KpliVpQBB_Fi",
        "colab_type": "code",
        "colab": {}
      },
      "source": [
        "import logging\n",
        "logger = logging.getLogger(\"Parsing_Data\")\n",
        "logger.setLevel(logging.DEBUG)\n"
      ],
      "execution_count": 0,
      "outputs": []
    },
    {
      "cell_type": "code",
      "metadata": {
        "id": "MDTtM4pWFQxW",
        "colab_type": "code",
        "colab": {
          "base_uri": "https://localhost:8080/",
          "height": 122
        },
        "outputId": "554ee707-8380-482d-ba43-8c6245d94c7c"
      },
      "source": [
        "# from google.colab import drive\n",
        "# drive.mount('/content/drive')"
      ],
      "execution_count": 24,
      "outputs": [
        {
          "output_type": "stream",
          "text": [
            "Go to this URL in a browser: https://accounts.google.com/o/oauth2/auth?client_id=947318989803-6bn6qk8qdgf4n4g3pfee6491hc0brc4i.apps.googleusercontent.com&redirect_uri=urn%3aietf%3awg%3aoauth%3a2.0%3aoob&response_type=code&scope=email%20https%3a%2f%2fwww.googleapis.com%2fauth%2fdocs.test%20https%3a%2f%2fwww.googleapis.com%2fauth%2fdrive%20https%3a%2f%2fwww.googleapis.com%2fauth%2fdrive.photos.readonly%20https%3a%2f%2fwww.googleapis.com%2fauth%2fpeopleapi.readonly\n",
            "\n",
            "Enter your authorization code:\n",
            "··········\n",
            "Mounted at /content/drive\n"
          ],
          "name": "stdout"
        }
      ]
    },
    {
      "cell_type": "code",
      "metadata": {
        "id": "x9tzO0w-B_Fl",
        "colab_type": "code",
        "colab": {}
      },
      "source": [
        "# global variables\n",
        "base_url = \"https://eutils.ncbi.nlm.nih.gov/entrez/eutils/\"\n",
        "search_url = \"esearch.fcgi?db=pmc\"\n",
        "fetch_url = \"efetch.fcgi?db=pmc\"\n",
        "\n",
        "return_size = 10\n",
        "\n",
        "from collections import defaultdict\n",
        "term_ids_mapping = defaultdict(list)  # {key_term: [list of article ids]}\n",
        "id_paper_mapping = {}      # {id: {abstract: abstract_text, meta: authors; text: txt_file_name}}"
      ],
      "execution_count": 0,
      "outputs": []
    },
    {
      "cell_type": "markdown",
      "metadata": {
        "colab_type": "text",
        "id": "K2rlXq6S-r5h"
      },
      "source": [
        "# key words:"
      ]
    },
    {
      "cell_type": "markdown",
      "metadata": {
        "id": "bXEUhRvoB_Fp",
        "colab_type": "text"
      },
      "source": [
        "Loading in key words"
      ]
    },
    {
      "cell_type": "code",
      "metadata": {
        "id": "KcI-IX1VB_Fq",
        "colab_type": "code",
        "colab": {
          "base_uri": "https://localhost:8080/",
          "height": 607
        },
        "outputId": "cf8e1ee5-027d-4b0c-8122-1481258f65df"
      },
      "source": [
        "path = \"./search_term_1.csv\"\n",
        "search_terms_df = pd.read_csv(path, header=None)\n",
        "search_terms_df"
      ],
      "execution_count": 40,
      "outputs": [
        {
          "output_type": "execute_result",
          "data": {
            "text/html": [
              "<div>\n",
              "<style scoped>\n",
              "    .dataframe tbody tr th:only-of-type {\n",
              "        vertical-align: middle;\n",
              "    }\n",
              "\n",
              "    .dataframe tbody tr th {\n",
              "        vertical-align: top;\n",
              "    }\n",
              "\n",
              "    .dataframe thead th {\n",
              "        text-align: right;\n",
              "    }\n",
              "</style>\n",
              "<table border=\"1\" class=\"dataframe\">\n",
              "  <thead>\n",
              "    <tr style=\"text-align: right;\">\n",
              "      <th></th>\n",
              "      <th>0</th>\n",
              "      <th>1</th>\n",
              "    </tr>\n",
              "  </thead>\n",
              "  <tbody>\n",
              "    <tr>\n",
              "      <th>0</th>\n",
              "      <td>mhealth or m-health</td>\n",
              "      <td>public health</td>\n",
              "    </tr>\n",
              "    <tr>\n",
              "      <th>1</th>\n",
              "      <td>ehealth or e-health</td>\n",
              "      <td>health promotion</td>\n",
              "    </tr>\n",
              "    <tr>\n",
              "      <th>2</th>\n",
              "      <td>virtual health</td>\n",
              "      <td>health prevention</td>\n",
              "    </tr>\n",
              "    <tr>\n",
              "      <th>3</th>\n",
              "      <td>mobile health</td>\n",
              "      <td>health protection</td>\n",
              "    </tr>\n",
              "    <tr>\n",
              "      <th>4</th>\n",
              "      <td>online health</td>\n",
              "      <td>health policy</td>\n",
              "    </tr>\n",
              "    <tr>\n",
              "      <th>5</th>\n",
              "      <td>internet-based health</td>\n",
              "      <td>health determinants</td>\n",
              "    </tr>\n",
              "    <tr>\n",
              "      <th>6</th>\n",
              "      <td>computer-based health</td>\n",
              "      <td>health evaluation</td>\n",
              "    </tr>\n",
              "    <tr>\n",
              "      <th>7</th>\n",
              "      <td>health informatics</td>\n",
              "      <td>health economics</td>\n",
              "    </tr>\n",
              "    <tr>\n",
              "      <th>8</th>\n",
              "      <td>social media</td>\n",
              "      <td>public health ethics</td>\n",
              "    </tr>\n",
              "    <tr>\n",
              "      <th>9</th>\n",
              "      <td>predictive algorithms</td>\n",
              "      <td>risk assessment</td>\n",
              "    </tr>\n",
              "    <tr>\n",
              "      <th>10</th>\n",
              "      <td>artificial intelligence</td>\n",
              "      <td>epidemiology</td>\n",
              "    </tr>\n",
              "    <tr>\n",
              "      <th>11</th>\n",
              "      <td>machine learning methods</td>\n",
              "      <td>community health</td>\n",
              "    </tr>\n",
              "    <tr>\n",
              "      <th>12</th>\n",
              "      <td>big data</td>\n",
              "      <td>emergency preparedness</td>\n",
              "    </tr>\n",
              "    <tr>\n",
              "      <th>13</th>\n",
              "      <td>electronic health</td>\n",
              "      <td>emergency response</td>\n",
              "    </tr>\n",
              "    <tr>\n",
              "      <th>14</th>\n",
              "      <td>web*</td>\n",
              "      <td>health equity</td>\n",
              "    </tr>\n",
              "    <tr>\n",
              "      <th>15</th>\n",
              "      <td>digit*</td>\n",
              "      <td>social justice</td>\n",
              "    </tr>\n",
              "    <tr>\n",
              "      <th>16</th>\n",
              "      <td>telemedicine</td>\n",
              "      <td>social determinants</td>\n",
              "    </tr>\n",
              "    <tr>\n",
              "      <th>17</th>\n",
              "      <td>NaN</td>\n",
              "      <td>surveillance</td>\n",
              "    </tr>\n",
              "  </tbody>\n",
              "</table>\n",
              "</div>"
            ],
            "text/plain": [
              "                           0                       1\n",
              "0        mhealth or m-health           public health\n",
              "1        ehealth or e-health        health promotion\n",
              "2            virtual health        health prevention\n",
              "3             mobile health        health protection\n",
              "4              online health           health policy\n",
              "5      internet-based health     health determinants\n",
              "6      computer-based health       health evaluation\n",
              "7         health informatics        health economics\n",
              "8               social media    public health ethics\n",
              "9      predictive algorithms         risk assessment\n",
              "10   artificial intelligence            epidemiology\n",
              "11  machine learning methods        community health\n",
              "12                  big data  emergency preparedness\n",
              "13         electronic health      emergency response\n",
              "14                      web*           health equity\n",
              "15                    digit*          social justice\n",
              "16              telemedicine     social determinants\n",
              "17                       NaN            surveillance"
            ]
          },
          "metadata": {
            "tags": []
          },
          "execution_count": 40
        }
      ]
    },
    {
      "cell_type": "code",
      "metadata": {
        "id": "dVketrDGB_Ft",
        "colab_type": "code",
        "colab": {}
      },
      "source": [
        "search_terms_c1 = search_terms_df.iloc[:,0]\n",
        "search_terms_c2 = search_terms_df.iloc[:,1]"
      ],
      "execution_count": 0,
      "outputs": []
    },
    {
      "cell_type": "code",
      "metadata": {
        "id": "ZMvMOZHxB_Fz",
        "colab_type": "code",
        "colab": {}
      },
      "source": [
        "def extract_ids(term, return_size):\n",
        "    '''\n",
        "    TODO: signature \n",
        "    '''\n",
        "    logger.debug(\"current term is: {}\".format(term))\n",
        "    \n",
        "    query_term = \"&term=\" + term.replace(\" \", \"+\")\n",
        "    \n",
        "    ret_max_term = \"&RetMax=\" + str(return_size)\n",
        "    \n",
        "    base_url_key_word = base_url + search_url + query_term + ret_max_term\n",
        "    # base_url_key_word\n",
        "    \n",
        "    page_kw = urlopen(base_url_key_word)\n",
        "    soup_kw = BeautifulSoup(page_kw, \"xml\")\n",
        "    \n",
        "    # get text form of everything in the xml file\n",
        "    # soup_kw.get_text()\n",
        "    \n",
        "    total_id_amount = soup_kw.find('Count').text\n",
        "    #total_id_amount\n",
        "    \n",
        "    #TODO: might be duplicate ids \n",
        "    id_list = soup_kw.find_all('Id')\n",
        "    \n",
        "    return_ids = []\n",
        "    for each_id in id_list:\n",
        "        # print(each_id.text)\n",
        "        return_ids.append(each_id.text)\n",
        "        \n",
        "    return return_ids"
      ],
      "execution_count": 0,
      "outputs": []
    },
    {
      "cell_type": "markdown",
      "metadata": {
        "id": "9tjLhXnBB_F1",
        "colab_type": "text"
      },
      "source": [
        "Lets extract all the related ids for each of the search term:"
      ]
    },
    {
      "cell_type": "code",
      "metadata": {
        "id": "91htPY7QB_F2",
        "colab_type": "code",
        "colab": {
          "base_uri": "https://localhost:8080/",
          "height": 57
        },
        "outputId": "ccfab6bc-9dbb-481d-b081-fd8eeb2d1430"
      },
      "source": [
        "from collections import defaultdict\n",
        "for cur_term in progress_bar(search_terms_c1):\n",
        "    # TODO: mhealth or m-health\n",
        "    # TODO: how to deal with regex&*\n",
        "    if cur_term is not None and not pd.isna(cur_term) and \"or\" not in cur_term and \"*\" not in cur_term:\n",
        "        id_list = extract_ids(cur_term, return_size)\n",
        "        term_ids_mapping[cur_term].extend(id_list)\n",
        "        time.sleep(1)\n",
        "        \n",
        "        \n",
        "for cur_term in progress_bar(search_terms_c2):\n",
        "    if cur_term is not None and not pd.isna(cur_term) and \"or\" not in cur_term and \"*\" not in cur_term:\n",
        "        id_list = extract_ids(cur_term, return_size)\n",
        "        term_ids_mapping[cur_term].extend(id_list)\n",
        "        time.sleep(1)\n",
        "        \n",
        "logger.debug(\"term and corresponding ids are:\")\n",
        "logger.debug(term_ids_mapping)"
      ],
      "execution_count": 70,
      "outputs": [
        {
          "output_type": "display_data",
          "data": {
            "text/html": [
              "\n",
              "    <div>\n",
              "        <style>\n",
              "            /* Turns off some styling */\n",
              "            progress {\n",
              "                /* gets rid of default border in Firefox and Opera. */\n",
              "                border: none;\n",
              "                /* Needs to be in here for Safari polyfill so background images work as expected. */\n",
              "                background-size: auto;\n",
              "            }\n",
              "            .progress-bar-interrupted, .progress-bar-interrupted::-webkit-progress-bar {\n",
              "                background: #F44336;\n",
              "            }\n",
              "        </style>\n",
              "      <progress value='18' class='' max='18' style='width:300px; height:20px; vertical-align: middle;'></progress>\n",
              "      100.00% [18/18 00:12<00:00]\n",
              "    </div>\n",
              "    "
            ],
            "text/plain": [
              "<IPython.core.display.HTML object>"
            ]
          },
          "metadata": {
            "tags": []
          }
        },
        {
          "output_type": "display_data",
          "data": {
            "text/html": [
              "\n",
              "    <div>\n",
              "        <style>\n",
              "            /* Turns off some styling */\n",
              "            progress {\n",
              "                /* gets rid of default border in Firefox and Opera. */\n",
              "                border: none;\n",
              "                /* Needs to be in here for Safari polyfill so background images work as expected. */\n",
              "                background-size: auto;\n",
              "            }\n",
              "            .progress-bar-interrupted, .progress-bar-interrupted::-webkit-progress-bar {\n",
              "                background: #F44336;\n",
              "            }\n",
              "        </style>\n",
              "      <progress value='18' class='' max='18' style='width:300px; height:20px; vertical-align: middle;'></progress>\n",
              "      100.00% [18/18 00:20<00:00]\n",
              "    </div>\n",
              "    "
            ],
            "text/plain": [
              "<IPython.core.display.HTML object>"
            ]
          },
          "metadata": {
            "tags": []
          }
        }
      ]
    },
    {
      "cell_type": "markdown",
      "metadata": {
        "id": "rP9fn69VB_F5",
        "colab_type": "text"
      },
      "source": [
        "Looks like there are overlap of related articles from some search terms"
      ]
    },
    {
      "cell_type": "markdown",
      "metadata": {
        "colab_type": "text",
        "id": "ZrfXBBNeMWnT"
      },
      "source": [
        "# article full information"
      ]
    },
    {
      "cell_type": "code",
      "metadata": {
        "id": "0JlIBEDIB_F6",
        "colab_type": "code",
        "colab": {}
      },
      "source": [
        "def get_title(soup):\n",
        "    title = soup.find('title-group')\n",
        "    article_title = title.find('article-title')\n",
        "    return article_title.text"
      ],
      "execution_count": 0,
      "outputs": []
    },
    {
      "cell_type": "code",
      "metadata": {
        "id": "_MWrgcxBB_F9",
        "colab_type": "code",
        "colab": {}
      },
      "source": [
        "def get_authors(soup):\n",
        "    author_list = []\n",
        "    \n",
        "    contrib = soup.find('contrib-group')\n",
        "    if contrib is None:\n",
        "        return author_list\n",
        "    \n",
        "    authors = contrib.find_all('contrib', **{'contrib-type':\"author\"})\n",
        "    for author in authors:\n",
        "        name = author.find('name')\n",
        "        if name is not None:\n",
        "            author_list.append(' '.join([author.find('surname').text, author.find('given-names').text]))\n",
        "\n",
        "    return author_list\n"
      ],
      "execution_count": 0,
      "outputs": []
    },
    {
      "cell_type": "code",
      "metadata": {
        "id": "_SQUI2VFB_F_",
        "colab_type": "code",
        "colab": {}
      },
      "source": [
        "def get_abstract(soup):\n",
        "    if soup.find(\"abstract\") is None:\n",
        "        return \"NaN\"\n",
        "    \n",
        "    return soup.find('abstract').text"
      ],
      "execution_count": 0,
      "outputs": []
    },
    {
      "cell_type": "code",
      "metadata": {
        "id": "mVUiMrOaB_GB",
        "colab_type": "code",
        "colab": {}
      },
      "source": [
        "def get_content(paper_id, soup):\n",
        "    '''\n",
        "    write paper content to a txt file name as id.txt\n",
        "    '''\n",
        "    if soup.find(\"body\") is not None:\n",
        "        contrib = soup.find('body')\n",
        "        paragraphs = contrib.find_all('p')\n",
        "    else:\n",
        "        paragraphs = []\n",
        "\n",
        "    #save to a txt file\n",
        "    f = open(\"./full_content/{}_paper.txt\".format(paper_id), \"w+\") \n",
        "    for p in paragraphs:\n",
        "        #print(p.text)\n",
        "        f.write(p.text)\n",
        "    f.close()"
      ],
      "execution_count": 0,
      "outputs": []
    },
    {
      "cell_type": "code",
      "metadata": {
        "id": "4V6vvmDUB_GF",
        "colab_type": "code",
        "colab": {}
      },
      "source": [
        "#!mkdir full_content"
      ],
      "execution_count": 0,
      "outputs": []
    },
    {
      "cell_type": "code",
      "metadata": {
        "id": "QqXQxLGrB_GH",
        "colab_type": "code",
        "colab": {}
      },
      "source": [
        "def extract_rich_info(paper_id):\n",
        "    \n",
        "    query_id = \"&id=\" + str(paper_id)\n",
        "    base_url_content = base_url + fetch_url + query_id\n",
        "\n",
        "    page = urlopen(base_url_content)\n",
        "    logger.debug(base_url_content)\n",
        "    soup = BeautifulSoup(page, \"xml\")\n",
        "\n",
        "    # get text form of everything in the xml file\n",
        "    #soup.get_text()\n",
        "    \n",
        "    ## extract paper title\n",
        "    title = get_title(soup)\n",
        "    id_paper_mapping[paper_id] = dict()\n",
        "    id_paper_mapping[paper_id][\"title\"] = title\n",
        "    \n",
        "\n",
        "    ## extract paper author\n",
        "    authors = get_authors(soup)\n",
        "    id_paper_mapping[paper_id][\"authors\"] = authors\n",
        "    \n",
        "    \n",
        "    ## extract paper abstract\n",
        "    abstract = get_abstract(soup)\n",
        "    id_paper_mapping[paper_id][\"abstract\"] = abstract\n",
        "    \n",
        "    \n",
        "    ## extract paper content \n",
        "    get_content(paper_id, soup)\n",
        "\n",
        "    time.sleep(1)"
      ],
      "execution_count": 0,
      "outputs": []
    },
    {
      "cell_type": "markdown",
      "metadata": {
        "id": "JJvTPCN6B_GJ",
        "colab_type": "text"
      },
      "source": [
        "Let's extract the full information of all articles"
      ]
    },
    {
      "cell_type": "code",
      "metadata": {
        "scrolled": true,
        "id": "D51UWuBaB_GK",
        "colab_type": "code",
        "colab": {
          "base_uri": "https://localhost:8080/",
          "height": 17
        },
        "outputId": "b8ff138f-6eea-4208-d5ec-8435354d4bc1"
      },
      "source": [
        "# term_ids_mapping  {key_term: [ids]}\n",
        "# for each search term, \n",
        "    # for each_id of related_ids: \n",
        "        # extrac_rich_info()\n",
        "\n",
        "mb = master_bar(term_ids_mapping.items())\n",
        "for key,value in mb:\n",
        "    for each_id in progress_bar(value, parent=mb):\n",
        "        if each_id in id_paper_mapping:\n",
        "            continue\n",
        "        logger.debug(\"########\" + each_id)\n",
        "        extract_rich_info(each_id)\n",
        "    \n",
        "#logger.debug(id_paper_mapping)\n"
      ],
      "execution_count": 71,
      "outputs": [
        {
          "output_type": "display_data",
          "data": {
            "text/html": [
              ""
            ],
            "text/plain": [
              "<IPython.core.display.HTML object>"
            ]
          },
          "metadata": {
            "tags": []
          }
        }
      ]
    },
    {
      "cell_type": "code",
      "metadata": {
        "id": "pJzhyP8EB_GM",
        "colab_type": "code",
        "colab": {
          "base_uri": "https://localhost:8080/",
          "height": 34
        },
        "outputId": "86997ef1-7a9b-4a04-edc6-3f0c9d7a5133"
      },
      "source": [
        "# test test\n",
        "id_paper_mapping[\"7255022\"][\"authors\"]"
      ],
      "execution_count": 72,
      "outputs": [
        {
          "output_type": "execute_result",
          "data": {
            "text/plain": [
              "['Zhao Shengzhe', 'Yu Xujiang', 'Qian Yuna', 'Chen Wei', 'Shen Jianliang']"
            ]
          },
          "metadata": {
            "tags": []
          },
          "execution_count": 72
        }
      ]
    },
    {
      "cell_type": "markdown",
      "metadata": {
        "colab_type": "text",
        "id": "BKjzAIDyPyKb"
      },
      "source": [
        "# Conclusion\n",
        "\n",
        "- currently returnning 10 related related article_ids\n",
        "- how to treat sesarch terms, such as :\"mhealth or m-health\" and \"web*\"\n",
        "- script could be optimized to check overlap article ids from different search terms\n",
        "- the xml are not defined well by standard, eg:\n",
        "    -xml has no 'body' tag, xml only providing abstract, currently, this script put empty text to txt file\n",
        "        - https://eutils.ncbi.nlm.nih.gov/entrez/eutils/efetch.fcgi?db=pmc&id=6494757\n",
        "    -xml has no 'author' tag, but it place the anthors under the 'body' tag...\n",
        "        - https://eutils.ncbi.nlm.nih.gov/entrez/eutils/efetch.fcgi?db=pmc&id=7256479\n",
        "        \n",
        "- adding applicaiton name and email as query search term, just in case...\n",
        "   "
      ]
    },
    {
      "cell_type": "code",
      "metadata": {
        "colab_type": "code",
        "id": "mkPmZy17Bsgc",
        "colab": {}
      },
      "source": [
        ""
      ],
      "execution_count": 0,
      "outputs": []
    }
  ]
}